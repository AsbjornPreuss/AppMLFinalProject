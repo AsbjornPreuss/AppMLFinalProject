{
 "cells": [
  {
   "cell_type": "code",
   "execution_count": 1,
   "metadata": {},
   "outputs": [],
   "source": [
    "import torch\n",
    "import torch.nn as nn\n",
    "import torch.nn.functional as F\n",
    "import torch.optim as optim\n",
    "from torch.utils.data import DataLoader, random_split, Dataset\n",
    "import numpy as np\n",
    "import pandas as pd\n",
    "from sklearn.model_selection import train_test_split\n",
    "import os\n",
    "from torchvision import transforms\n",
    "import matplotlib.pyplot as plt\n",
    "\n",
    "from sklearn.preprocessing import MinMaxScaler"
   ]
  },
  {
   "cell_type": "code",
   "execution_count": 2,
   "metadata": {},
   "outputs": [
    {
     "name": "stdout",
     "output_type": "stream",
     "text": [
      "   Unnamed: 0   cluster     y     x          E   size\n",
      "0           0  004580_A   9.0  26.0   715232.0  108.0\n",
      "1           1  011701_G  15.0  17.0  1184202.0  179.0\n",
      "2           2  003882_A   3.0   3.0    31156.0    6.0\n",
      "3           3  009717_G   7.0  62.0  1423016.0  245.0\n",
      "4           4  005590_A  32.0  31.0  1014772.0  169.0\n",
      "   Unnamed: 0   cluster     y     x          E   size\n",
      "0           0  004580_A   9.0  26.0   715232.0  108.0\n",
      "1           1  011701_G  15.0  17.0  1184202.0  179.0\n",
      "2           2  003882_A   3.0   3.0    31156.0    6.0\n",
      "3           3  009717_G   7.0  62.0  1423016.0  245.0\n",
      "4           4  005590_A  32.0  31.0  1014772.0  169.0\n"
     ]
    }
   ],
   "source": [
    "meta_data = pd.read_csv('cluster_meta.csv')\n",
    "print(meta_data.head())\n",
    "\n",
    "def load_data(folder_path,meta_data):\n",
    "    data = []\n",
    "    for file in meta_data['cluster']:\n",
    "        file = file + '.csv'\n",
    "        file_path = os.path.join(folder_path,file)\n",
    "        cluster = pd.read_csv(file_path,header=None).values\n",
    "        cluster = cluster.flatten()\n",
    "        cluster = np.append(cluster, meta_data[meta_data['cluster'] == file[:-4]][['y', 'x', 'E', 'size']].values.flatten())\n",
    "        data.append(cluster)\n",
    "    combined_array = np.stack(data,axis=0)\n",
    "    print('shape of combined array: ')\n",
    "    print(combined_array.shape)\n",
    "    return combined_array\n",
    "\n",
    "\n",
    "meta_scaler = MinMaxScaler()\n",
    "meta_data_values = meta_scaler.fit_transform(meta_data[['y', 'x', 'E', 'size']])\n",
    "print(meta_data.head())"
   ]
  },
  {
   "cell_type": "code",
   "execution_count": 3,
   "metadata": {},
   "outputs": [],
   "source": [
    "def import_and_pad_csvs(folder_path):\n",
    "    csv_files = [f for f in os.listdir(folder_path) if f.endswith('.csv')]\n",
    "    data_arrays = []\n",
    "    number_arrays = len(csv_files)\n",
    "    number_large = 0\n",
    "    for file in csv_files:\n",
    "        file_path = os.path.join(folder_path, file)\n",
    "        data = pd.read_csv(file_path).values\n",
    "        data_arrays.append(data)\n",
    "    max_rows = max(array.shape[0] for array in data_arrays)\n",
    "    max_cols = max(array.shape[1] for array in data_arrays)\n",
    "    largest_array_index = max(range(len(data_arrays)), key=lambda i: data_arrays[i].shape[0] * data_arrays[i].shape[1])\n",
    "    print(f\"Index of the largest initial array: {largest_array_index}\")\n",
    "    padded_arrays = []\n",
    "    for array in data_arrays:\n",
    "        if array.shape[0] <= 64 and array.shape[1] <= 64:\n",
    "            padded_array = np.zeros((64, 64))\n",
    "            padded_array[:array.shape[0], :array.shape[1]] = array\n",
    "            padded_arrays.append(padded_array)\n",
    "            number_large += 1\n",
    "    print(f'Number of arrays that are smaller than 64x64: {number_large}, ({number_large/number_arrays*100:.2f}%)')\n",
    "    print(f'max rows: {max_rows}, max cols:{max_cols}')\n",
    "    combined_array = np.stack(padded_arrays, axis=0)\n",
    "    return combined_array"
   ]
  },
  {
   "cell_type": "code",
   "execution_count": 4,
   "metadata": {},
   "outputs": [
    {
     "name": "stdout",
     "output_type": "stream",
     "text": [
      "shape of combined array: \n",
      "(3936, 4100)\n",
      "(3936, 4100)\n",
      "(3936, 4100)\n"
     ]
    }
   ],
   "source": [
    "class NumpyArrayDataset(Dataset):\n",
    "    def __init__(self, data, transform=None):\n",
    "        self.data = data.astype(np.float32)\n",
    "        self.transform = transform\n",
    "\n",
    "    def __len__(self):\n",
    "        return len(self.data)\n",
    "\n",
    "    def __getitem__(self, idx):\n",
    "        sample = self.data[idx]\n",
    "        if self.transform:\n",
    "            sample = self.transform(sample)\n",
    "        return sample  # Return only the sample and dummy label\n",
    "\n",
    "folder_path = 'clusters_colour_rotations_rescaled'\n",
    "combined_array = load_data(folder_path,meta_data)\n",
    "\n",
    "scalar = MinMaxScaler()\n",
    "combined_array = scalar.fit_transform(combined_array.reshape(-1, 1)).reshape(combined_array.shape)\n",
    "print(combined_array.shape)\n",
    "\n",
    "\n",
    "transform = transforms.Compose([\n",
    "    transforms.ToTensor()\n",
    "])\n",
    "#meta_data_values = NumpyArrayDataset(meta_data_values, transform=transform)\n",
    "dataset = NumpyArrayDataset(combined_array, transform=transform)\n",
    "print(combined_array.shape)\n",
    "\n",
    "# train_size = int(0.8 * len(dataset))\n",
    "# test_size = len(dataset) - train_size\n",
    "# train_dataset, test_dataset = random_split(dataset, [train_size, test_size])\n",
    "\n",
    "# print(meta_data_values.shape)\n",
    "\n",
    "\n",
    "# train_dataset, test_dataset, train_meta, test_meta = train_test_split(dataset, meta_data_values, test_size=0.2, random_state=42)\n",
    "# test_dataset = dataset\n",
    "\n",
    "# lazy, non-random split\n",
    "test_size = 0.2\n",
    "split_index = int(len(dataset) * (1 - test_size))\n",
    "train_dataset = dataset[:split_index]\n",
    "test_dataset = dataset[split_index:]\n",
    "train_meta = meta_data_values[:split_index]\n",
    "test_meta = meta_data_values[split_index:]"
   ]
  },
  {
   "cell_type": "code",
   "execution_count": 5,
   "metadata": {},
   "outputs": [
    {
     "name": "stdout",
     "output_type": "stream",
     "text": [
      "torch.Size([3148, 4100])\n"
     ]
    }
   ],
   "source": [
    "train_loader = DataLoader(train_dataset, batch_size=32, shuffle=False)\n",
    "valid_loader = DataLoader(test_dataset, batch_size=32, shuffle=False)\n",
    "test_loader = DataLoader(test_dataset, batch_size=32, shuffle=False)\n",
    "\n",
    "print(train_loader.dataset[0].shape)\n",
    "\n",
    "#train_meta = DataLoader(train_meta, batch_size=32, shuffle=False)\n",
    "#test_meta = DataLoader(test_meta, batch_size=32, shuffle=False)"
   ]
  },
  {
   "cell_type": "code",
   "execution_count": 6,
   "metadata": {},
   "outputs": [
    {
     "data": {
      "text/plain": [
       "(array([1.613412e+07, 3.920000e+02, 2.240000e+02, 2.400000e+02,\n",
       "        1.840000e+02, 1.440000e+02, 1.760000e+02, 2.160000e+02,\n",
       "        1.760000e+02, 3.040000e+02, 1.680000e+02, 1.680000e+02,\n",
       "        2.240000e+02, 1.120000e+02, 1.120000e+02, 1.120000e+02,\n",
       "        6.400000e+01, 5.600000e+01, 1.600000e+01, 2.400000e+01,\n",
       "        4.000000e+01, 6.400000e+01, 4.000000e+01, 1.600000e+01,\n",
       "        8.000000e+00, 0.000000e+00, 2.400000e+01, 2.400000e+01,\n",
       "        8.000000e+00, 8.000000e+00, 8.000000e+00, 1.600000e+01,\n",
       "        8.000000e+00, 0.000000e+00, 8.000000e+00, 8.000000e+00,\n",
       "        8.000000e+00, 0.000000e+00, 0.000000e+00, 8.000000e+00,\n",
       "        0.000000e+00, 0.000000e+00, 0.000000e+00, 1.600000e+01,\n",
       "        0.000000e+00, 0.000000e+00, 0.000000e+00, 0.000000e+00,\n",
       "        0.000000e+00, 0.000000e+00, 0.000000e+00, 1.600000e+01,\n",
       "        0.000000e+00, 0.000000e+00, 0.000000e+00, 0.000000e+00,\n",
       "        0.000000e+00, 0.000000e+00, 8.000000e+00, 8.000000e+00,\n",
       "        8.000000e+00, 0.000000e+00, 0.000000e+00, 0.000000e+00,\n",
       "        0.000000e+00, 0.000000e+00, 0.000000e+00, 0.000000e+00,\n",
       "        0.000000e+00, 0.000000e+00, 0.000000e+00, 0.000000e+00,\n",
       "        0.000000e+00, 0.000000e+00, 0.000000e+00, 0.000000e+00,\n",
       "        0.000000e+00, 0.000000e+00, 0.000000e+00, 0.000000e+00,\n",
       "        0.000000e+00, 0.000000e+00, 0.000000e+00, 0.000000e+00,\n",
       "        0.000000e+00, 0.000000e+00, 0.000000e+00, 0.000000e+00,\n",
       "        0.000000e+00, 0.000000e+00, 0.000000e+00, 0.000000e+00,\n",
       "        0.000000e+00, 0.000000e+00, 0.000000e+00, 0.000000e+00,\n",
       "        0.000000e+00, 8.000000e+00, 0.000000e+00, 8.000000e+00]),\n",
       " array([0.  , 0.01, 0.02, 0.03, 0.04, 0.05, 0.06, 0.07, 0.08, 0.09, 0.1 ,\n",
       "        0.11, 0.12, 0.13, 0.14, 0.15, 0.16, 0.17, 0.18, 0.19, 0.2 , 0.21,\n",
       "        0.22, 0.23, 0.24, 0.25, 0.26, 0.27, 0.28, 0.29, 0.3 , 0.31, 0.32,\n",
       "        0.33, 0.34, 0.35, 0.36, 0.37, 0.38, 0.39, 0.4 , 0.41, 0.42, 0.43,\n",
       "        0.44, 0.45, 0.46, 0.47, 0.48, 0.49, 0.5 , 0.51, 0.52, 0.53, 0.54,\n",
       "        0.55, 0.56, 0.57, 0.58, 0.59, 0.6 , 0.61, 0.62, 0.63, 0.64, 0.65,\n",
       "        0.66, 0.67, 0.68, 0.69, 0.7 , 0.71, 0.72, 0.73, 0.74, 0.75, 0.76,\n",
       "        0.77, 0.78, 0.79, 0.8 , 0.81, 0.82, 0.83, 0.84, 0.85, 0.86, 0.87,\n",
       "        0.88, 0.89, 0.9 , 0.91, 0.92, 0.93, 0.94, 0.95, 0.96, 0.97, 0.98,\n",
       "        0.99, 1.  ]),\n",
       " <BarContainer object of 100 artists>)"
      ]
     },
     "execution_count": 6,
     "metadata": {},
     "output_type": "execute_result"
    },
    {
     "data": {
      "image/png": "[encoded data removed]",
      "text/plain": [
       "<Figure size 1000x600 with 1 Axes>"
      ]
     },
     "metadata": {},
     "output_type": "display_data"
    }
   ],
   "source": [
    "fig, ax = plt.subplots(figsize=(10, 6))\n",
    "ax.hist(combined_array.flatten(), bins=100)"
   ]
  },
  {
   "cell_type": "code",
   "execution_count": 7,
   "metadata": {},
   "outputs": [],
   "source": [
    "# fig, ax = plt.subplots()\n",
    "# ax.imshow(combined_array[3929,:,:], cmap='gray')"
   ]
  },
  {
   "cell_type": "code",
   "execution_count": 8,
   "metadata": {},
   "outputs": [],
   "source": [
    "class Var_Encoder(nn.Module):\n",
    "    def __init__(self, encoded_space_dim):\n",
    "        super().__init__()\n",
    "        \n",
    "        ### Convolutional section:\n",
    "        self.encoder_cnn = nn.Sequential(\n",
    "            nn.Conv2d(1, 32, 3, stride=1, padding=1),  # 1x256x256 -> 32x128x128\n",
    "            nn.ReLU(True),\n",
    "            nn.Conv2d(32, 64, 3, stride=1, padding=1),  # 32x128x128 -> 64x64x64\n",
    "            nn.ReLU(True),\n",
    "            nn.MaxPool2d(2, return_indices=True)  # 64x64x64 -> 64x32x32\n",
    "        )\n",
    "        \n",
    "        # Flatten layer\n",
    "        self.flatten = nn.Flatten(start_dim=0)\n",
    " \n",
    "        # Linear section\n",
    "        self.encoder_lin = nn.Sequential(\n",
    "            nn.Linear(65536+4, 128),\n",
    "            nn.ReLU(True),\n",
    "            nn.Linear(128, encoded_space_dim)\n",
    "        )\n",
    "\n",
    "        ### Variational part\n",
    "        self.variational_mean = nn.Linear(encoded_space_dim, encoded_space_dim)\n",
    "        self.variational_var = nn.Linear(encoded_space_dim, encoded_space_dim)\n",
    "\n",
    "    def reparameterization(self, mean, var):  # Stolen from MNIST example, device must be understood\n",
    "        epsilon = torch.randn_like(var).cpu() \n",
    "        z = mean + var * epsilon\n",
    "        return z\n",
    "\n",
    "    def forward(self, x):\n",
    "        meta = x[-4:]\n",
    "        x = x[:-4].unflatten(0, (1, 1, 64, 64))\n",
    "        # print('pass to encoder:', x.shape)\n",
    "        x, indices = self.encoder_cnn(x)  # Capture indices from MaxPool2d\n",
    "        # print('encoder output:', x.shape, 'indices', indices.shape)\n",
    "        x = self.flatten(x)\n",
    "        # print('flattened:', x.shape, meta.shape)\n",
    "        y = torch.cat((x, meta), dim=0)\n",
    "        # print('concatenated:', y.shape)\n",
    "        x = self.encoder_lin(y)\n",
    "        # print('linear output:', x.shape)\n",
    "        mean = self.variational_mean(x)\n",
    "        log_var = self.variational_var(x)\n",
    "        z = self.reparameterization(mean, torch.exp(0.5 * log_var))\n",
    "        return z, mean, log_var, indices\n",
    "\n",
    "class Decoder(nn.Module):\n",
    "    def __init__(self, encoded_space_dim):\n",
    "        super(Decoder, self).__init__()\n",
    "        self.decoder_lin = nn.Sequential(\n",
    "            nn.Linear(encoded_space_dim, 128),\n",
    "            nn.ReLU(True),\n",
    "            nn.Linear(128, 65536),  # Update to match your encoder's output\n",
    "            nn.ReLU(True)\n",
    "        )\n",
    "        self.unflatten = nn.Unflatten(dim = 1, unflattened_size=(64, 32, 32))\n",
    "        self.decoder_conv = nn.Sequential(\n",
    "            nn.ConvTranspose2d(64, 64, 3, stride=1, padding=1),\n",
    "            nn.ReLU(True)\n",
    "        )\n",
    "        self.unpool = nn.MaxUnpool2d(2)\n",
    "        self.final_conv = nn.ConvTranspose2d(64, 1, 3, stride=1, padding=1)\n",
    "\n",
    "    def forward(self, x, indices):\n",
    "        # print('test0', x.shape, indices.shape)\n",
    "        x = self.decoder_lin(x).reshape((1,65536))\n",
    "        # print('test1', x.shape)\n",
    "        x = self.unflatten(x)\n",
    "        # print('test2', x.shape)\n",
    "        x = self.decoder_conv(x)\n",
    "        # print('test3', x.shape)\n",
    "        # Here we assume the output size of the unpooling layer, which is the size of the maxpool input\n",
    "        # output_size = torch.Size([1, 64, 64, 64])\n",
    "        x = self.unpool(x, indices)#, output_size=output_size)\n",
    "        x = self.final_conv(x)\n",
    "        x = torch.sigmoid(x)\n",
    "        return x"
   ]
  },
  {
   "cell_type": "code",
   "execution_count": 9,
   "metadata": {},
   "outputs": [],
   "source": [
    "# # print((train_loader.dataset[0][0]))\n",
    "# x = train_loader.dataset[0][0]\n",
    "# print(x.shape)\n",
    "# x = x[:-4].reshape((1,1,64,64))\n",
    "\n",
    "\n",
    "# # encoder:\n",
    "# A = nn.Conv2d(1, 32, 3, stride=1, padding=1)\n",
    "# B = nn.Conv2d(32, 64 , 3, stride=1, padding=1)\n",
    "# C = nn.MaxPool2d(2)\n",
    "\n",
    "# # flatten\n",
    "# D = nn.Flatten()\n",
    "\n",
    "# # linear\n",
    "# E = nn.Linear(65536, 128)\n",
    "# F = nn.Linear(128, 10)\n",
    "\n",
    "# print(f'original data: {x.shape}')\n",
    "\n",
    "# print('encoder:')\n",
    "\n",
    "# print(f'Conv1: {A(x).shape}')\n",
    "# print(f'Conv2: {B(A(x)).shape}')\n",
    "# print(f'MaxPool: {C(B(A(x))).shape}')\n",
    "# print(f'Flatten: {D(C(B(A(x)))).shape}')\n",
    "# print(f'Linear1: {E(D(C(B(A(x))))).shape}')\n",
    "# print(f'Linear2: {F(E(D(C(B(A(x)))))).shape}')\n",
    "\n",
    "\n",
    "\n",
    "# print('decoder:')\n",
    "\n",
    "\n",
    "# x = train_loader.dataset[0][0]\n",
    "# x = x[:-4].reshape((1,1,64,64))\n",
    "# x = F(E(D(C(B(A(x))))))\n",
    "# # decoder:\n",
    "# G = nn.Linear(10, 128)\n",
    "# H = nn.Linear(128, 65536)\n",
    "# I = nn.Unflatten(dim=1, \n",
    "#         unflattened_size=(64, 32, 32))\n",
    "# J = nn.ConvTranspose2d(64, 64, 3, stride=1,padding = 1)#, output_padding=0)\n",
    "# # K = nn.BatchNorm2d(64)\n",
    "# L = nn.ConvTranspose2d(64, 1, 3, stride=1, padding = 1)#, padding=1, output_padding=1)\n",
    "# # M = nn.BatchNorm2d(8)\n",
    "# # N = nn.ConvTranspose2d(8, 1, 3, stride=2, padding=1, output_padding=1)\n",
    "\n",
    "# print(f'Linear1: {G(x).shape}')\n",
    "# print(f'Linear2: {H(G(x)).shape}')\n",
    "# print(f'Unflatten: {I(H(G(x))).shape}')\n",
    "# print(f'Conv1: {J(I(H(G(x)))).shape}')\n",
    "# print(f'BatchNorm: {K(J(I(H(G(x))))).shape}')\n",
    "# print(f'Conv2: {L(K(J(I(H(G(x)))))).shape}')"
   ]
  },
  {
   "cell_type": "code",
   "execution_count": 10,
   "metadata": {},
   "outputs": [
    {
     "name": "stdout",
     "output_type": "stream",
     "text": [
      "original data: torch.Size([1, 1, 64, 64])\n",
      "encoder:\n",
      "Conv1: torch.Size([1, 32, 64, 64])\n",
      "Conv2: torch.Size([1, 64, 64, 64])\n",
      "MaxPool: torch.Size([1, 64, 32, 32])\n",
      "Flatten: torch.Size([1, 65536])\n",
      "Linear1: torch.Size([1, 128])\n",
      "Linear2: torch.Size([1, 10])\n",
      "decoder:\n",
      "Linear1: torch.Size([1, 128])\n",
      "Linear2: torch.Size([1, 65536])\n",
      "Unflatten: torch.Size([1, 64, 32, 32])\n",
      "Conv1: torch.Size([1, 64, 32, 32])\n",
      "MaxUnpool: torch.Size([1, 64, 64, 64])\n",
      "Conv2: torch.Size([1, 1, 64, 64])\n"
     ]
    }
   ],
   "source": [
    "x = train_loader.dataset[0][0]\n",
    "x = x[:-4].reshape((1, 1, 64, 64))\n",
    "\n",
    "# Encoder:\n",
    "A = nn.Conv2d(1, 32, 3, stride=1, padding=1)\n",
    "B = nn.Conv2d(32, 64, 3, stride=1, padding=1)\n",
    "C = nn.MaxPool2d(2, return_indices=True)  # Updated to return indices\n",
    "\n",
    "# Flatten\n",
    "D = nn.Flatten()\n",
    "\n",
    "# Linear\n",
    "E = nn.Linear(65536, 128)\n",
    "F = nn.Linear(128, 10)\n",
    "\n",
    "# Encoder forward pass\n",
    "conv1 = A(x)\n",
    "conv2 = B(conv1)\n",
    "maxpool, indices = C(conv2)  # Capture indices for unpooling\n",
    "# print(indices.shape)\n",
    "# print(indices)\n",
    "flattened = D(maxpool)\n",
    "linear1 = E(flattened)\n",
    "linear2 = F(linear1)\n",
    "\n",
    "print(f'original data: {x.shape}')\n",
    "\n",
    "print('encoder:')\n",
    "print(f'Conv1: {conv1.shape}')\n",
    "print(f'Conv2: {conv2.shape}')\n",
    "print(f'MaxPool: {maxpool.shape}')\n",
    "print(f'Flatten: {flattened.shape}')\n",
    "print(f'Linear1: {linear1.shape}')\n",
    "print(f'Linear2: {linear2.shape}')\n",
    "\n",
    "# Decoder:\n",
    "G = nn.Linear(10, 128)\n",
    "H = nn.Linear(128, 65536)\n",
    "I = nn.Unflatten(dim=1, unflattened_size=(64, 32, 32))\n",
    "J = nn.ConvTranspose2d(64, 64, 3, stride=1, padding=1)\n",
    "K = nn.MaxUnpool2d(2)\n",
    "L = nn.ConvTranspose2d(64, 1, 3, stride=1, padding=1)\n",
    "\n",
    "# Decoder forward pass\n",
    "x = linear2\n",
    "linear1 = G(x)\n",
    "linear2 = H(linear1)\n",
    "unflattened = I(linear2)\n",
    "conv1_trans = J(unflattened)\n",
    "unpool = K(conv1_trans, indices)  # Use indices here\n",
    "\n",
    "\n",
    "print('decoder:')\n",
    "print(f'Linear1: {linear1.shape}')\n",
    "print(f'Linear2: {linear2.shape}')\n",
    "print(f'Unflatten: {unflattened.shape}')\n",
    "print(f'Conv1: {conv1_trans.shape}')\n",
    "print(f'MaxUnpool: {unpool.shape}')\n",
    "\n",
    "conv2_trans = L(unpool)\n",
    "\n",
    "print(f'Conv2: {conv2_trans.shape}')"
   ]
  },
  {
   "cell_type": "code",
   "execution_count": 16,
   "metadata": {},
   "outputs": [],
   "source": [
    "# Define loss function and training parameters:\n",
    "def loss_fn(recon_x, x, mean, log_var):\n",
    "    #MSE = nn.MSELoss()(recon_x, x) \n",
    "    BCE = nn.BCELoss(reduction='sum')(recon_x, x)\n",
    "    KLD = - 0.5 * torch.sum(1 + log_var - mean.pow(2) - log_var.exp())\n",
    "    #print(MSE, KLD)\n",
    "    lambda_= 1\n",
    "    return BCE + lambda_ * KLD\n",
    "\n",
    "#loss_fn = nn.MSELoss()\n",
    "\n",
    "lr = 0.01\n",
    "torch.manual_seed(42)\n",
    "\n",
    "d = 28\n",
    "encoder = Var_Encoder(encoded_space_dim=d)\n",
    "# var_encoder = Var_Encoder(encoded_space_dim=d)\n",
    "decoder = Decoder(encoded_space_dim=d)\n",
    "params_to_optimize = [\n",
    "    {'params': encoder.parameters()},\n",
    "    {'params': decoder.parameters()}\n",
    "]\n",
    "\n",
    "optim = torch.optim.Adam(params_to_optimize, lr=lr, weight_decay=1e-05)\n",
    "\n",
    "def train_epoch(encoder, decoder, dataloader, loss_fn, optimizer):\n",
    "    encoder.train()\n",
    "    decoder.train()\n",
    "    train_loss = []\n",
    "    for image_batch in dataloader.dataset[0]:\n",
    "        #encoded_data = encoder(image_batch)\n",
    "        # print('hi')\n",
    "        encoded_data,mean,var, indices = encoder(image_batch) #VAE\n",
    "        # print('hello')\n",
    "        decoded_data = decoder(encoded_data, indices)\n",
    "        #loss = loss_fn(decoded_data, image_batch[:-4].reshape(decoded_data.shape))\n",
    "        # print('no error so far')\n",
    "        # print(image_batch[:-4].reshape(decoded_data.shape))\n",
    "        loss = loss_fn(decoded_data, image_batch[:-4].reshape(decoded_data.shape),mean,var) #VAE\n",
    "        optimizer.zero_grad()\n",
    "        loss.backward()\n",
    "        optimizer.step()\n",
    "        train_loss.append(loss.detach().cpu().numpy())\n",
    "    return np.mean(train_loss)\n"
   ]
  },
  {
   "cell_type": "code",
   "execution_count": 17,
   "metadata": {},
   "outputs": [],
   "source": [
    "def test_epoch(encoder, decoder, dataloader, loss_fn):\n",
    "    encoder.eval()\n",
    "    decoder.eval()\n",
    "    with torch.no_grad():\n",
    "        conc_out = []\n",
    "        conc_label = []\n",
    "        mean_out = []\n",
    "        var_out = []\n",
    "        for image_batch in dataloader.dataset[0]:\n",
    "            #encoded_data = encoder(image_batch)\n",
    "            encoded_data,mean,var, indices = var_encoder(image_batch) #VAE\n",
    "            decoded_data = decoder(encoded_data,indices)\n",
    "            conc_out.append(decoded_data.cpu())\n",
    "            conc_label.append(image_batch[:-4].reshape(decoded_data.shape).cpu())\n",
    "            mean_out.append(mean.cpu())\n",
    "            var_out.append(var.cpu())\n",
    "        conc_out = torch.cat(conc_out)\n",
    "        conc_label = torch.cat(conc_label)\n",
    "        mean = torch.cat(mean_out) #VAE\n",
    "        var = torch.cat(var_out) #VAE\n",
    "        #val_loss = loss_fn(conc_out, conc_label)\n",
    "        val_loss = loss_fn(conc_out, conc_label,mean,var) #VAE\n",
    "    return val_loss.data\n",
    "\n"
   ]
  },
  {
   "cell_type": "code",
   "execution_count": 18,
   "metadata": {},
   "outputs": [],
   "source": [
    "import time"
   ]
  },
  {
   "cell_type": "code",
   "execution_count": 19,
   "metadata": {},
   "outputs": [],
   "source": [
    "diz_loss = {'train_loss': [], 'val_loss': []}"
   ]
  },
  {
   "cell_type": "code",
   "execution_count": 20,
   "metadata": {},
   "outputs": [
    {
     "ename": "KeyboardInterrupt",
     "evalue": "",
     "output_type": "error",
     "traceback": [
      "\u001b[1;31m---------------------------------------------------------------------------\u001b[0m",
      "\u001b[1;31mKeyboardInterrupt\u001b[0m                         Traceback (most recent call last)",
      "Cell \u001b[1;32mIn[20], line 4\u001b[0m\n\u001b[0;32m      2\u001b[0m \u001b[38;5;28;01mfor\u001b[39;00m epoch \u001b[38;5;129;01min\u001b[39;00m \u001b[38;5;28mrange\u001b[39m(num_epochs):\n\u001b[0;32m      3\u001b[0m     start_time \u001b[38;5;241m=\u001b[39m time\u001b[38;5;241m.\u001b[39mtime()\n\u001b[1;32m----> 4\u001b[0m     train_loss \u001b[38;5;241m=\u001b[39m \u001b[43mtrain_epoch\u001b[49m\u001b[43m(\u001b[49m\u001b[43mencoder\u001b[49m\u001b[43m,\u001b[49m\u001b[43m \u001b[49m\u001b[43mdecoder\u001b[49m\u001b[43m,\u001b[49m\u001b[43m \u001b[49m\u001b[43mtrain_loader\u001b[49m\u001b[43m,\u001b[49m\u001b[43m \u001b[49m\u001b[43mloss_fn\u001b[49m\u001b[43m,\u001b[49m\u001b[43m \u001b[49m\u001b[43moptim\u001b[49m\u001b[43m)\u001b[49m\n\u001b[0;32m      5\u001b[0m     val_loss \u001b[38;5;241m=\u001b[39m test_epoch(encoder, decoder, test_loader, loss_fn)\n\u001b[0;32m      6\u001b[0m     elapsed_time \u001b[38;5;241m=\u001b[39m time\u001b[38;5;241m.\u001b[39mtime() \u001b[38;5;241m-\u001b[39m start_time\n",
      "Cell \u001b[1;32mIn[16], line 42\u001b[0m, in \u001b[0;36mtrain_epoch\u001b[1;34m(encoder, decoder, dataloader, loss_fn, optimizer)\u001b[0m\n\u001b[0;32m     40\u001b[0m     optimizer\u001b[38;5;241m.\u001b[39mzero_grad()\n\u001b[0;32m     41\u001b[0m     loss\u001b[38;5;241m.\u001b[39mbackward()\n\u001b[1;32m---> 42\u001b[0m     \u001b[43moptimizer\u001b[49m\u001b[38;5;241;43m.\u001b[39;49m\u001b[43mstep\u001b[49m\u001b[43m(\u001b[49m\u001b[43m)\u001b[49m\n\u001b[0;32m     43\u001b[0m     train_loss\u001b[38;5;241m.\u001b[39mappend(loss\u001b[38;5;241m.\u001b[39mdetach()\u001b[38;5;241m.\u001b[39mcpu()\u001b[38;5;241m.\u001b[39mnumpy())\n\u001b[0;32m     44\u001b[0m \u001b[38;5;28;01mreturn\u001b[39;00m np\u001b[38;5;241m.\u001b[39mmean(train_loss)\n",
      "File \u001b[1;32mc:\\Users\\Ambrusius\\Anaconda3\\envs\\appmlenv\\Lib\\site-packages\\torch\\optim\\optimizer.py:385\u001b[0m, in \u001b[0;36mOptimizer.profile_hook_step.<locals>.wrapper\u001b[1;34m(*args, **kwargs)\u001b[0m\n\u001b[0;32m    380\u001b[0m         \u001b[38;5;28;01melse\u001b[39;00m:\n\u001b[0;32m    381\u001b[0m             \u001b[38;5;28;01mraise\u001b[39;00m \u001b[38;5;167;01mRuntimeError\u001b[39;00m(\n\u001b[0;32m    382\u001b[0m                 \u001b[38;5;124mf\u001b[39m\u001b[38;5;124m\"\u001b[39m\u001b[38;5;132;01m{\u001b[39;00mfunc\u001b[38;5;132;01m}\u001b[39;00m\u001b[38;5;124m must return None or a tuple of (new_args, new_kwargs), but got \u001b[39m\u001b[38;5;132;01m{\u001b[39;00mresult\u001b[38;5;132;01m}\u001b[39;00m\u001b[38;5;124m.\u001b[39m\u001b[38;5;124m\"\u001b[39m\n\u001b[0;32m    383\u001b[0m             )\n\u001b[1;32m--> 385\u001b[0m out \u001b[38;5;241m=\u001b[39m \u001b[43mfunc\u001b[49m\u001b[43m(\u001b[49m\u001b[38;5;241;43m*\u001b[39;49m\u001b[43margs\u001b[49m\u001b[43m,\u001b[49m\u001b[43m \u001b[49m\u001b[38;5;241;43m*\u001b[39;49m\u001b[38;5;241;43m*\u001b[39;49m\u001b[43mkwargs\u001b[49m\u001b[43m)\u001b[49m\n\u001b[0;32m    386\u001b[0m \u001b[38;5;28mself\u001b[39m\u001b[38;5;241m.\u001b[39m_optimizer_step_code()\n\u001b[0;32m    388\u001b[0m \u001b[38;5;66;03m# call optimizer step post hooks\u001b[39;00m\n",
      "File \u001b[1;32mc:\\Users\\Ambrusius\\Anaconda3\\envs\\appmlenv\\Lib\\site-packages\\torch\\optim\\optimizer.py:76\u001b[0m, in \u001b[0;36m_use_grad_for_differentiable.<locals>._use_grad\u001b[1;34m(self, *args, **kwargs)\u001b[0m\n\u001b[0;32m     74\u001b[0m     torch\u001b[38;5;241m.\u001b[39mset_grad_enabled(\u001b[38;5;28mself\u001b[39m\u001b[38;5;241m.\u001b[39mdefaults[\u001b[38;5;124m'\u001b[39m\u001b[38;5;124mdifferentiable\u001b[39m\u001b[38;5;124m'\u001b[39m])\n\u001b[0;32m     75\u001b[0m     torch\u001b[38;5;241m.\u001b[39m_dynamo\u001b[38;5;241m.\u001b[39mgraph_break()\n\u001b[1;32m---> 76\u001b[0m     ret \u001b[38;5;241m=\u001b[39m \u001b[43mfunc\u001b[49m\u001b[43m(\u001b[49m\u001b[38;5;28;43mself\u001b[39;49m\u001b[43m,\u001b[49m\u001b[43m \u001b[49m\u001b[38;5;241;43m*\u001b[39;49m\u001b[43margs\u001b[49m\u001b[43m,\u001b[49m\u001b[43m \u001b[49m\u001b[38;5;241;43m*\u001b[39;49m\u001b[38;5;241;43m*\u001b[39;49m\u001b[43mkwargs\u001b[49m\u001b[43m)\u001b[49m\n\u001b[0;32m     77\u001b[0m \u001b[38;5;28;01mfinally\u001b[39;00m:\n\u001b[0;32m     78\u001b[0m     torch\u001b[38;5;241m.\u001b[39m_dynamo\u001b[38;5;241m.\u001b[39mgraph_break()\n",
      "File \u001b[1;32mc:\\Users\\Ambrusius\\Anaconda3\\envs\\appmlenv\\Lib\\site-packages\\torch\\optim\\adam.py:166\u001b[0m, in \u001b[0;36mAdam.step\u001b[1;34m(self, closure)\u001b[0m\n\u001b[0;32m    155\u001b[0m     beta1, beta2 \u001b[38;5;241m=\u001b[39m group[\u001b[38;5;124m'\u001b[39m\u001b[38;5;124mbetas\u001b[39m\u001b[38;5;124m'\u001b[39m]\n\u001b[0;32m    157\u001b[0m     has_complex \u001b[38;5;241m=\u001b[39m \u001b[38;5;28mself\u001b[39m\u001b[38;5;241m.\u001b[39m_init_group(\n\u001b[0;32m    158\u001b[0m         group,\n\u001b[0;32m    159\u001b[0m         params_with_grad,\n\u001b[1;32m   (...)\u001b[0m\n\u001b[0;32m    163\u001b[0m         max_exp_avg_sqs,\n\u001b[0;32m    164\u001b[0m         state_steps)\n\u001b[1;32m--> 166\u001b[0m     \u001b[43madam\u001b[49m\u001b[43m(\u001b[49m\n\u001b[0;32m    167\u001b[0m \u001b[43m        \u001b[49m\u001b[43mparams_with_grad\u001b[49m\u001b[43m,\u001b[49m\n\u001b[0;32m    168\u001b[0m \u001b[43m        \u001b[49m\u001b[43mgrads\u001b[49m\u001b[43m,\u001b[49m\n\u001b[0;32m    169\u001b[0m \u001b[43m        \u001b[49m\u001b[43mexp_avgs\u001b[49m\u001b[43m,\u001b[49m\n\u001b[0;32m    170\u001b[0m \u001b[43m        \u001b[49m\u001b[43mexp_avg_sqs\u001b[49m\u001b[43m,\u001b[49m\n\u001b[0;32m    171\u001b[0m \u001b[43m        \u001b[49m\u001b[43mmax_exp_avg_sqs\u001b[49m\u001b[43m,\u001b[49m\n\u001b[0;32m    172\u001b[0m \u001b[43m        \u001b[49m\u001b[43mstate_steps\u001b[49m\u001b[43m,\u001b[49m\n\u001b[0;32m    173\u001b[0m \u001b[43m        \u001b[49m\u001b[43mamsgrad\u001b[49m\u001b[38;5;241;43m=\u001b[39;49m\u001b[43mgroup\u001b[49m\u001b[43m[\u001b[49m\u001b[38;5;124;43m'\u001b[39;49m\u001b[38;5;124;43mamsgrad\u001b[39;49m\u001b[38;5;124;43m'\u001b[39;49m\u001b[43m]\u001b[49m\u001b[43m,\u001b[49m\n\u001b[0;32m    174\u001b[0m \u001b[43m        \u001b[49m\u001b[43mhas_complex\u001b[49m\u001b[38;5;241;43m=\u001b[39;49m\u001b[43mhas_complex\u001b[49m\u001b[43m,\u001b[49m\n\u001b[0;32m    175\u001b[0m \u001b[43m        \u001b[49m\u001b[43mbeta1\u001b[49m\u001b[38;5;241;43m=\u001b[39;49m\u001b[43mbeta1\u001b[49m\u001b[43m,\u001b[49m\n\u001b[0;32m    176\u001b[0m \u001b[43m        \u001b[49m\u001b[43mbeta2\u001b[49m\u001b[38;5;241;43m=\u001b[39;49m\u001b[43mbeta2\u001b[49m\u001b[43m,\u001b[49m\n\u001b[0;32m    177\u001b[0m \u001b[43m        \u001b[49m\u001b[43mlr\u001b[49m\u001b[38;5;241;43m=\u001b[39;49m\u001b[43mgroup\u001b[49m\u001b[43m[\u001b[49m\u001b[38;5;124;43m'\u001b[39;49m\u001b[38;5;124;43mlr\u001b[39;49m\u001b[38;5;124;43m'\u001b[39;49m\u001b[43m]\u001b[49m\u001b[43m,\u001b[49m\n\u001b[0;32m    178\u001b[0m \u001b[43m        \u001b[49m\u001b[43mweight_decay\u001b[49m\u001b[38;5;241;43m=\u001b[39;49m\u001b[43mgroup\u001b[49m\u001b[43m[\u001b[49m\u001b[38;5;124;43m'\u001b[39;49m\u001b[38;5;124;43mweight_decay\u001b[39;49m\u001b[38;5;124;43m'\u001b[39;49m\u001b[43m]\u001b[49m\u001b[43m,\u001b[49m\n\u001b[0;32m    179\u001b[0m \u001b[43m        \u001b[49m\u001b[43meps\u001b[49m\u001b[38;5;241;43m=\u001b[39;49m\u001b[43mgroup\u001b[49m\u001b[43m[\u001b[49m\u001b[38;5;124;43m'\u001b[39;49m\u001b[38;5;124;43meps\u001b[39;49m\u001b[38;5;124;43m'\u001b[39;49m\u001b[43m]\u001b[49m\u001b[43m,\u001b[49m\n\u001b[0;32m    180\u001b[0m \u001b[43m        \u001b[49m\u001b[43mmaximize\u001b[49m\u001b[38;5;241;43m=\u001b[39;49m\u001b[43mgroup\u001b[49m\u001b[43m[\u001b[49m\u001b[38;5;124;43m'\u001b[39;49m\u001b[38;5;124;43mmaximize\u001b[39;49m\u001b[38;5;124;43m'\u001b[39;49m\u001b[43m]\u001b[49m\u001b[43m,\u001b[49m\n\u001b[0;32m    181\u001b[0m \u001b[43m        \u001b[49m\u001b[43mforeach\u001b[49m\u001b[38;5;241;43m=\u001b[39;49m\u001b[43mgroup\u001b[49m\u001b[43m[\u001b[49m\u001b[38;5;124;43m'\u001b[39;49m\u001b[38;5;124;43mforeach\u001b[39;49m\u001b[38;5;124;43m'\u001b[39;49m\u001b[43m]\u001b[49m\u001b[43m,\u001b[49m\n\u001b[0;32m    182\u001b[0m \u001b[43m        \u001b[49m\u001b[43mcapturable\u001b[49m\u001b[38;5;241;43m=\u001b[39;49m\u001b[43mgroup\u001b[49m\u001b[43m[\u001b[49m\u001b[38;5;124;43m'\u001b[39;49m\u001b[38;5;124;43mcapturable\u001b[39;49m\u001b[38;5;124;43m'\u001b[39;49m\u001b[43m]\u001b[49m\u001b[43m,\u001b[49m\n\u001b[0;32m    183\u001b[0m \u001b[43m        \u001b[49m\u001b[43mdifferentiable\u001b[49m\u001b[38;5;241;43m=\u001b[39;49m\u001b[43mgroup\u001b[49m\u001b[43m[\u001b[49m\u001b[38;5;124;43m'\u001b[39;49m\u001b[38;5;124;43mdifferentiable\u001b[39;49m\u001b[38;5;124;43m'\u001b[39;49m\u001b[43m]\u001b[49m\u001b[43m,\u001b[49m\n\u001b[0;32m    184\u001b[0m \u001b[43m        \u001b[49m\u001b[43mfused\u001b[49m\u001b[38;5;241;43m=\u001b[39;49m\u001b[43mgroup\u001b[49m\u001b[43m[\u001b[49m\u001b[38;5;124;43m'\u001b[39;49m\u001b[38;5;124;43mfused\u001b[39;49m\u001b[38;5;124;43m'\u001b[39;49m\u001b[43m]\u001b[49m\u001b[43m,\u001b[49m\n\u001b[0;32m    185\u001b[0m \u001b[43m        \u001b[49m\u001b[43mgrad_scale\u001b[49m\u001b[38;5;241;43m=\u001b[39;49m\u001b[38;5;28;43mgetattr\u001b[39;49m\u001b[43m(\u001b[49m\u001b[38;5;28;43mself\u001b[39;49m\u001b[43m,\u001b[49m\u001b[43m \u001b[49m\u001b[38;5;124;43m\"\u001b[39;49m\u001b[38;5;124;43mgrad_scale\u001b[39;49m\u001b[38;5;124;43m\"\u001b[39;49m\u001b[43m,\u001b[49m\u001b[43m \u001b[49m\u001b[38;5;28;43;01mNone\u001b[39;49;00m\u001b[43m)\u001b[49m\u001b[43m,\u001b[49m\n\u001b[0;32m    186\u001b[0m \u001b[43m        \u001b[49m\u001b[43mfound_inf\u001b[49m\u001b[38;5;241;43m=\u001b[39;49m\u001b[38;5;28;43mgetattr\u001b[39;49m\u001b[43m(\u001b[49m\u001b[38;5;28;43mself\u001b[39;49m\u001b[43m,\u001b[49m\u001b[43m \u001b[49m\u001b[38;5;124;43m\"\u001b[39;49m\u001b[38;5;124;43mfound_inf\u001b[39;49m\u001b[38;5;124;43m\"\u001b[39;49m\u001b[43m,\u001b[49m\u001b[43m \u001b[49m\u001b[38;5;28;43;01mNone\u001b[39;49;00m\u001b[43m)\u001b[49m\u001b[43m,\u001b[49m\n\u001b[0;32m    187\u001b[0m \u001b[43m    \u001b[49m\u001b[43m)\u001b[49m\n\u001b[0;32m    189\u001b[0m \u001b[38;5;28;01mreturn\u001b[39;00m loss\n",
      "File \u001b[1;32mc:\\Users\\Ambrusius\\Anaconda3\\envs\\appmlenv\\Lib\\site-packages\\torch\\optim\\adam.py:316\u001b[0m, in \u001b[0;36madam\u001b[1;34m(params, grads, exp_avgs, exp_avg_sqs, max_exp_avg_sqs, state_steps, foreach, capturable, differentiable, fused, grad_scale, found_inf, has_complex, amsgrad, beta1, beta2, lr, weight_decay, eps, maximize)\u001b[0m\n\u001b[0;32m    313\u001b[0m \u001b[38;5;28;01melse\u001b[39;00m:\n\u001b[0;32m    314\u001b[0m     func \u001b[38;5;241m=\u001b[39m _single_tensor_adam\n\u001b[1;32m--> 316\u001b[0m \u001b[43mfunc\u001b[49m\u001b[43m(\u001b[49m\u001b[43mparams\u001b[49m\u001b[43m,\u001b[49m\n\u001b[0;32m    317\u001b[0m \u001b[43m     \u001b[49m\u001b[43mgrads\u001b[49m\u001b[43m,\u001b[49m\n\u001b[0;32m    318\u001b[0m \u001b[43m     \u001b[49m\u001b[43mexp_avgs\u001b[49m\u001b[43m,\u001b[49m\n\u001b[0;32m    319\u001b[0m \u001b[43m     \u001b[49m\u001b[43mexp_avg_sqs\u001b[49m\u001b[43m,\u001b[49m\n\u001b[0;32m    320\u001b[0m \u001b[43m     \u001b[49m\u001b[43mmax_exp_avg_sqs\u001b[49m\u001b[43m,\u001b[49m\n\u001b[0;32m    321\u001b[0m \u001b[43m     \u001b[49m\u001b[43mstate_steps\u001b[49m\u001b[43m,\u001b[49m\n\u001b[0;32m    322\u001b[0m \u001b[43m     \u001b[49m\u001b[43mamsgrad\u001b[49m\u001b[38;5;241;43m=\u001b[39;49m\u001b[43mamsgrad\u001b[49m\u001b[43m,\u001b[49m\n\u001b[0;32m    323\u001b[0m \u001b[43m     \u001b[49m\u001b[43mhas_complex\u001b[49m\u001b[38;5;241;43m=\u001b[39;49m\u001b[43mhas_complex\u001b[49m\u001b[43m,\u001b[49m\n\u001b[0;32m    324\u001b[0m \u001b[43m     \u001b[49m\u001b[43mbeta1\u001b[49m\u001b[38;5;241;43m=\u001b[39;49m\u001b[43mbeta1\u001b[49m\u001b[43m,\u001b[49m\n\u001b[0;32m    325\u001b[0m \u001b[43m     \u001b[49m\u001b[43mbeta2\u001b[49m\u001b[38;5;241;43m=\u001b[39;49m\u001b[43mbeta2\u001b[49m\u001b[43m,\u001b[49m\n\u001b[0;32m    326\u001b[0m \u001b[43m     \u001b[49m\u001b[43mlr\u001b[49m\u001b[38;5;241;43m=\u001b[39;49m\u001b[43mlr\u001b[49m\u001b[43m,\u001b[49m\n\u001b[0;32m    327\u001b[0m \u001b[43m     \u001b[49m\u001b[43mweight_decay\u001b[49m\u001b[38;5;241;43m=\u001b[39;49m\u001b[43mweight_decay\u001b[49m\u001b[43m,\u001b[49m\n\u001b[0;32m    328\u001b[0m \u001b[43m     \u001b[49m\u001b[43meps\u001b[49m\u001b[38;5;241;43m=\u001b[39;49m\u001b[43meps\u001b[49m\u001b[43m,\u001b[49m\n\u001b[0;32m    329\u001b[0m \u001b[43m     \u001b[49m\u001b[43mmaximize\u001b[49m\u001b[38;5;241;43m=\u001b[39;49m\u001b[43mmaximize\u001b[49m\u001b[43m,\u001b[49m\n\u001b[0;32m    330\u001b[0m \u001b[43m     \u001b[49m\u001b[43mcapturable\u001b[49m\u001b[38;5;241;43m=\u001b[39;49m\u001b[43mcapturable\u001b[49m\u001b[43m,\u001b[49m\n\u001b[0;32m    331\u001b[0m \u001b[43m     \u001b[49m\u001b[43mdifferentiable\u001b[49m\u001b[38;5;241;43m=\u001b[39;49m\u001b[43mdifferentiable\u001b[49m\u001b[43m,\u001b[49m\n\u001b[0;32m    332\u001b[0m \u001b[43m     \u001b[49m\u001b[43mgrad_scale\u001b[49m\u001b[38;5;241;43m=\u001b[39;49m\u001b[43mgrad_scale\u001b[49m\u001b[43m,\u001b[49m\n\u001b[0;32m    333\u001b[0m \u001b[43m     \u001b[49m\u001b[43mfound_inf\u001b[49m\u001b[38;5;241;43m=\u001b[39;49m\u001b[43mfound_inf\u001b[49m\u001b[43m)\u001b[49m\n",
      "File \u001b[1;32mc:\\Users\\Ambrusius\\Anaconda3\\envs\\appmlenv\\Lib\\site-packages\\torch\\optim\\adam.py:439\u001b[0m, in \u001b[0;36m_single_tensor_adam\u001b[1;34m(params, grads, exp_avgs, exp_avg_sqs, max_exp_avg_sqs, state_steps, grad_scale, found_inf, amsgrad, has_complex, beta1, beta2, lr, weight_decay, eps, maximize, capturable, differentiable)\u001b[0m\n\u001b[0;32m    437\u001b[0m         denom \u001b[38;5;241m=\u001b[39m (max_exp_avg_sqs[i]\u001b[38;5;241m.\u001b[39msqrt() \u001b[38;5;241m/\u001b[39m bias_correction2_sqrt)\u001b[38;5;241m.\u001b[39madd_(eps)\n\u001b[0;32m    438\u001b[0m     \u001b[38;5;28;01melse\u001b[39;00m:\n\u001b[1;32m--> 439\u001b[0m         denom \u001b[38;5;241m=\u001b[39m (\u001b[43mexp_avg_sq\u001b[49m\u001b[38;5;241;43m.\u001b[39;49m\u001b[43msqrt\u001b[49m\u001b[43m(\u001b[49m\u001b[43m)\u001b[49m \u001b[38;5;241m/\u001b[39m bias_correction2_sqrt)\u001b[38;5;241m.\u001b[39madd_(eps)\n\u001b[0;32m    441\u001b[0m     param\u001b[38;5;241m.\u001b[39maddcdiv_(exp_avg, denom, value\u001b[38;5;241m=\u001b[39m\u001b[38;5;241m-\u001b[39mstep_size)\n\u001b[0;32m    443\u001b[0m \u001b[38;5;66;03m# Lastly, switch back to complex view\u001b[39;00m\n",
      "\u001b[1;31mKeyboardInterrupt\u001b[0m: "
     ]
    }
   ],
   "source": [
    "num_epochs = 100\n",
    "for epoch in range(num_epochs):\n",
    "    start_time = time.time()\n",
    "    train_loss = train_epoch(encoder, decoder, train_loader, loss_fn, optim)\n",
    "    val_loss = test_epoch(encoder, decoder, test_loader, loss_fn)\n",
    "    elapsed_time = time.time() - start_time\n",
    "    if epoch != 0:\n",
    "        print(f'Epoch {epoch + 1}/{num_epochs} \\t train loss: {train_loss:.2e} \\t Delta: {diz_loss['train_loss'][-1]-train_loss:.5e} \\t val loss: {val_loss:.5e} \\t Delta: {diz_loss['val_loss'][-1]-val_loss:.2e} \\t time: {elapsed_time}')\n",
    "    else:\n",
    "        print(f'Epoch {epoch + 1}/{num_epochs} \\t train loss: {train_loss:.5e} \\t val loss: {val_loss:.5e} \\t time: {elapsed_time}')\n",
    "    print(f'Elapsed time: {elapsed_time}')\n",
    "    diz_loss['train_loss'].append(train_loss)\n",
    "    diz_loss['val_loss'].append(val_loss)\n",
    "    #plot_ae_outputs(encoder, decoder, n=10)\n"
   ]
  },
  {
   "cell_type": "code",
   "execution_count": null,
   "metadata": {},
   "outputs": [
    {
     "ename": "NameError",
     "evalue": "name 'plt' is not defined",
     "output_type": "error",
     "traceback": [
      "\u001b[1;31m---------------------------------------------------------------------------\u001b[0m",
      "\u001b[1;31mNameError\u001b[0m                                 Traceback (most recent call last)",
      "Cell \u001b[1;32mIn[1], line 1\u001b[0m\n\u001b[1;32m----> 1\u001b[0m fig, ax \u001b[38;5;241m=\u001b[39m \u001b[43mplt\u001b[49m\u001b[38;5;241m.\u001b[39msubplots()\n\u001b[0;32m      2\u001b[0m ax\u001b[38;5;241m.\u001b[39mset_yscale(\u001b[38;5;124m'\u001b[39m\u001b[38;5;124mlog\u001b[39m\u001b[38;5;124m'\u001b[39m)\n\u001b[0;32m      3\u001b[0m \u001b[38;5;66;03m# ax.set_xscale('log')\u001b[39;00m\n",
      "\u001b[1;31mNameError\u001b[0m: name 'plt' is not defined"
     ]
    }
   ],
   "source": [
    "fig, ax = plt.subplots()\n",
    "ax.set_yscale('log')\n",
    "# ax.set_xscale('log')\n",
    "ax.plot(diz_loss['train_loss'], label='train loss')\n",
    "# ax.plot(diz_loss['val_loss'], label='val loss')\n",
    "ax.legend()\n",
    "# ax.set_xlim(0, 50)\n",
    "\n",
    "\n",
    "ax.set_xlabel('Epoch')\n",
    "ax.set_ylabel('Loss')\n",
    "fig.tight_layout()"
   ]
  },
  {
   "cell_type": "code",
   "execution_count": null,
   "metadata": {},
   "outputs": [
    {
     "data": {
      "text/plain": [
       "Decoder(\n",
       "  (decoder_lin): Sequential(\n",
       "    (0): Linear(in_features=28, out_features=128, bias=True)\n",
       "    (1): ReLU(inplace=True)\n",
       "    (2): Linear(in_features=128, out_features=1296, bias=True)\n",
       "    (3): ReLU(inplace=True)\n",
       "  )\n",
       "  (unflatten): Unflatten(dim=1, unflattened_size=(16, 9, 9))\n",
       "  (decoder_conv): Sequential(\n",
       "    (0): ConvTranspose2d(16, 16, kernel_size=(16, 16), stride=(2, 2), padding=(1, 1))\n",
       "    (1): BatchNorm2d(16, eps=1e-05, momentum=0.1, affine=True, track_running_stats=True)\n",
       "    (2): ReLU(inplace=True)\n",
       "    (3): ConvTranspose2d(16, 1, kernel_size=(8, 8), stride=(2, 2), padding=(1, 1))\n",
       "  )\n",
       ")"
      ]
     },
     "execution_count": 16,
     "metadata": {},
     "output_type": "execute_result"
    }
   ],
   "source": [
    "encoder.eval()\n",
    "decoder.eval()"
   ]
  },
  {
   "cell_type": "code",
   "execution_count": null,
   "metadata": {},
   "outputs": [],
   "source": [
    "# sumf = 0\n",
    "# for i in range(6400):\n",
    "#     img = test_dataset[i][0].unsqueeze(0).numpy()\n",
    "#     suming = np.sum(img)\n",
    "#     if suming>sumf:\n",
    "#         sumf = sumimg\n",
    "#         idx = i\n",
    "# print(i)\n",
    "# print(sumf)"
   ]
  },
  {
   "cell_type": "code",
   "execution_count": null,
   "metadata": {},
   "outputs": [
    {
     "data": {
      "image/png": "[encoded data removed]",
      "text/plain": [
       "<Figure size 640x480 with 2 Axes>"
      ]
     },
     "metadata": {},
     "output_type": "display_data"
    }
   ],
   "source": [
    "# evaluate model on radoom image\n",
    "img = test_dataset[0][3]\n",
    "with torch.no_grad():\n",
    "    rec_img = decoder(encoder(img))\n",
    "    rec_img = rec_img.squeeze().numpy()\n",
    "    img = img[:-4].squeeze().numpy().reshape(64,64)\n",
    "    fig, ax = plt.subplots(1, 2)\n",
    "    ax[0].imshow(img, cmap='gray')\n",
    "    ax[0].set_title('Original image')\n",
    "    ax[1].imshow(rec_img, cmap='gray')\n",
    "    ax[1].set_title('Reconstructed image')"
   ]
  },
  {
   "cell_type": "code",
   "execution_count": null,
   "metadata": {},
   "outputs": [],
   "source": [
    "save = False\n",
    "if save:\n",
    "    # Function to save the model\n",
    "    model_name = '64x64_MinMaxScaler'\n",
    "    def save_model(encoder, decoder, encoder_path=\"encoder.pth\", decoder_path=\"decoder.pth\"):\n",
    "        torch.save(encoder.state_dict(), encoder_path)\n",
    "        torch.save(decoder.state_dict(), decoder_path)\n",
    "        print(\"Models saved to {} and {}\".format(encoder_path, decoder_path))\n",
    "    enc = 'training_results/' + model_name + '/encoder.pth'\n",
    "    dec = 'training_results/' + model_name + '/decoder.pth'\n",
    "    save_model(encoder, decoder, encoder_path=enc, decoder_path=dec)\n",
    "    np.savetxt('training_results/' + model_name + '/train_loss.txt', diz_loss['train_loss'])\n",
    "    np.savetxt('training_results/' + model_name + '/val_loss.txt', diz_loss['val_loss'])"
   ]
  },
  {
   "cell_type": "code",
   "execution_count": null,
   "metadata": {},
   "outputs": [
    {
     "data": {
      "image/png": "[encoded data removed]",
      "text/plain": [
       "<Figure size 1500x1500 with 8 Axes>"
      ]
     },
     "metadata": {},
     "output_type": "display_data"
    }
   ],
   "source": [
    "def plot_initial_convolutions(encoder, num_filters=8, figsize=(15, 15)):\n",
    "    \"\"\"\n",
    "    Plots the initial convolutional filters of the encoder.\n",
    "    \n",
    "    Parameters:\n",
    "    - encoder: The trained encoder model.\n",
    "    - num_filters: Number of filters to plot. Default is 16.\n",
    "    - figsize: Size of the plot. Default is (15, 15).\n",
    "    \"\"\"\n",
    "    # Extract the weights from the first convolutional layer\n",
    "    conv1_weights = encoder.encoder_cnn[0].weight.data.cpu().numpy()\n",
    "    \n",
    "    # Create a figure to plot the filters\n",
    "    fig, axes = plt.subplots(1, num_filters, figsize=figsize)\n",
    "    \n",
    "    for i in range(num_filters):\n",
    "        ax = axes[i]\n",
    "        # Get the filter\n",
    "        filt = conv1_weights[i, 0, :, :]\n",
    "        # Plot the filter\n",
    "        ax.imshow(filt, cmap='gray')\n",
    "        ax.axis('off')\n",
    "        ax.set_title(f'Filter {i+1}')\n",
    "    \n",
    "    plt.show()\n",
    "\n",
    "# Usage example\n",
    "plot_initial_convolutions(encoder)\n"
   ]
  },
  {
   "cell_type": "code",
   "execution_count": null,
   "metadata": {},
   "outputs": [],
   "source": [
    "# Function to plot the latent space\n"
   ]
  }
 ],
 "metadata": {
  "kernelspec": {
   "display_name": "appmlenv",
   "language": "python",
   "name": "python3"
  },
  "language_info": {
   "codemirror_mode": {
    "name": "ipython",
    "version": 3
   },
   "file_extension": ".py",
   "mimetype": "text/x-python",
   "name": "python",
   "nbconvert_exporter": "python",
   "pygments_lexer": "ipython3",
   "version": "3.12.0"
  }
 },
 "nbformat": 4,
 "nbformat_minor": 2
}
