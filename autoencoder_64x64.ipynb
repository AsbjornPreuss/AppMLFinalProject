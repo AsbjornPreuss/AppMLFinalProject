{
 "cells": [
  {
   "cell_type": "code",
   "execution_count": 16,
   "metadata": {},
   "outputs": [],
   "source": [
    "import torch\n",
    "import torch.nn as nn\n",
    "import torch.nn.functional as F\n",
    "import torch.optim as optim\n",
    "from torch.utils.data import DataLoader, random_split, Dataset\n",
    "import numpy as np\n",
    "import pandas as pd\n",
    "import os\n",
    "from torchvision import transforms\n",
    "import matplotlib.pyplot as plt\n",
    "\n",
    "from sklearn.preprocessing import MinMaxScaler"
   ]
  },
  {
   "cell_type": "code",
   "execution_count": 17,
   "metadata": {},
   "outputs": [],
   "source": [
    "def import_and_pad_csvs(folder_path):\n",
    "    csv_files = [f for f in os.listdir(folder_path) if f.endswith('.csv')]\n",
    "    data_arrays = []\n",
    "    number_arrays = len(csv_files)\n",
    "    number_large = 0\n",
    "    for file in csv_files:\n",
    "        file_path = os.path.join(folder_path, file)\n",
    "        data = pd.read_csv(file_path).values\n",
    "        data_arrays.append(data)\n",
    "    max_rows = max(array.shape[0] for array in data_arrays)\n",
    "    max_cols = max(array.shape[1] for array in data_arrays)\n",
    "    largest_array_index = max(range(len(data_arrays)), key=lambda i: data_arrays[i].shape[0] * data_arrays[i].shape[1])\n",
    "    print(f\"Index of the largest initial array: {largest_array_index}\")\n",
    "    padded_arrays = []\n",
    "    for array in data_arrays:\n",
    "        if array.shape[0] <= 64 and array.shape[1] <= 64:\n",
    "            padded_array = np.zeros((64, 64))\n",
    "            padded_array[:array.shape[0], :array.shape[1]] = array\n",
    "            padded_arrays.append(padded_array)\n",
    "            number_large += 1\n",
    "    print(f'Number of arrays that are smaller than 64x64: {number_large}, ({number_large/number_arrays*100:.2f}%)')\n",
    "    print(f'max rows: {max_rows}, max cols:{max_cols}')\n",
    "    combined_array = np.stack(padded_arrays, axis=0)\n",
    "    print('shape of combined array: ')\n",
    "    print(combined_array.shape)\n",
    "    return combined_array"
   ]
  },
  {
   "cell_type": "code",
   "execution_count": 18,
   "metadata": {},
   "outputs": [
    {
     "name": "stdout",
     "output_type": "stream",
     "text": [
      "   Unnamed: 0   cluster     y     x          E   size\n",
      "0           0  004580_A   9.0  26.0   715232.0  108.0\n",
      "1           1  011701_G  15.0  17.0  1184202.0  179.0\n",
      "2           2  003882_A   3.0   3.0    31156.0    6.0\n",
      "3           3  009717_G   7.0  62.0  1423016.0  245.0\n",
      "4           4  005590_A  32.0  31.0  1014772.0  169.0\n"
     ]
    }
   ],
   "source": [
    "meta_data = pd.read_csv('cluster_meta.csv')\n",
    "print(meta_data.head())\n",
    "\n",
    "def load_data(folder_path,meta_data):\n",
    "    data = []\n",
    "    for file in meta_data['cluster']:\n",
    "        file = file + '.csv'\n",
    "        file_path = os.path.join(folder_path,file)\n",
    "        cluster = pd.read_csv(file_path,header=None).values\n",
    "        # cluster_pad = np.zeros((64,64))\n",
    "        # cluster_pad[0,:] = cluster[0,:]\n",
    "        # cluster_pad[1:,:] = cluster\n",
    "        data.append(cluster)\n",
    "    combined_array = np.stack(data,axis=0)\n",
    "    print('shape of combined array: ')\n",
    "    print(combined_array.shape)\n",
    "    return combined_array"
   ]
  },
  {
   "cell_type": "code",
   "execution_count": 33,
   "metadata": {},
   "outputs": [
    {
     "name": "stdout",
     "output_type": "stream",
     "text": [
      "shape of combined array: \n",
      "(3936, 64, 64)\n",
      "(3936, 64, 64)\n",
      "(3936, 64, 64)\n"
     ]
    }
   ],
   "source": [
    "class NumpyArrayDataset(Dataset):\n",
    "    def __init__(self, data, transform=None):\n",
    "        self.data = data.astype(np.float32)\n",
    "        self.transform = transform\n",
    "\n",
    "    def __len__(self):\n",
    "        return len(self.data)\n",
    "\n",
    "    def __getitem__(self, idx):\n",
    "        sample = self.data[idx]\n",
    "        if self.transform:\n",
    "            sample = self.transform(sample)\n",
    "        return sample,0  # Return only the sample and dummy label\n",
    "\n",
    "folder_path = 'clusters_colour_rotations_rescaled'\n",
    "combined_array = load_data(folder_path,meta_data)\n",
    "\n",
    "scalar = MinMaxScaler()\n",
    "combined_array = scalar.fit_transform(combined_array.reshape(-1, 1)).reshape(combined_array.shape)\n",
    "print(combined_array.shape)\n",
    "\n",
    "\n",
    "transform = transforms.Compose([\n",
    "    transforms.ToTensor()\n",
    "])\n",
    "\n",
    "dataset = NumpyArrayDataset(combined_array, transform=transform)\n",
    "print(combined_array.shape)"
   ]
  },
  {
   "cell_type": "code",
   "execution_count": 34,
   "metadata": {},
   "outputs": [
    {
     "name": "stdout",
     "output_type": "stream",
     "text": [
      "3936\n",
      "3148\n"
     ]
    }
   ],
   "source": [
    "train_size = int(0.8 * len(dataset))\n",
    "test_size = len(dataset) - train_size\n",
    "train_dataset, test_dataset = random_split(dataset, [train_size, test_size])\n",
    "print(len(train_dataset.dataset))\n",
    "test_dataset = dataset\n",
    "\n",
    "train_loader = DataLoader(train_dataset, batch_size=32, shuffle=False)\n",
    "valid_loader = DataLoader(test_dataset, batch_size=32, shuffle=False)\n",
    "test_loader = DataLoader(test_dataset, batch_size=32, shuffle=False)\n",
    "print(len(train_loader.dataset))"
   ]
  },
  {
   "cell_type": "code",
   "execution_count": 40,
   "metadata": {},
   "outputs": [
    {
     "data": {
      "text/plain": [
       "torch.Size([1, 64, 64])"
      ]
     },
     "execution_count": 40,
     "metadata": {},
     "output_type": "execute_result"
    }
   ],
   "source": [
    "train_loader.dataset[0].shape"
   ]
  },
  {
   "cell_type": "code",
   "execution_count": 41,
   "metadata": {},
   "outputs": [
    {
     "data": {
      "text/plain": [
       "(array([1.5788248e+07, 8.7096000e+04, 4.6564000e+04, 3.3780000e+04,\n",
       "        2.6128000e+04, 2.0860000e+04, 1.5688000e+04, 1.1788000e+04,\n",
       "        9.9280000e+03, 7.6320000e+03, 3.8760000e+04, 4.9680000e+03,\n",
       "        4.0400000e+03, 3.8080000e+03, 3.1120000e+03, 2.4240000e+03,\n",
       "        2.1360000e+03, 2.0480000e+03, 1.4880000e+03, 1.2400000e+03,\n",
       "        1.1600000e+03, 1.0880000e+03, 6.7200000e+02, 6.4000000e+02,\n",
       "        6.5600000e+02, 5.2800000e+02, 4.1600000e+02, 4.8000000e+02,\n",
       "        3.2000000e+02, 4.0800000e+02, 2.4800000e+02, 2.3200000e+02,\n",
       "        2.9600000e+02, 2.7200000e+02, 1.6000000e+02, 1.5200000e+02,\n",
       "        2.4800000e+02, 4.0000000e+01, 1.2000000e+02, 1.1200000e+02,\n",
       "        1.7600000e+02, 1.0400000e+02, 1.0400000e+02, 1.1200000e+02,\n",
       "        8.8000000e+01, 1.1200000e+02, 5.6000000e+01, 7.2000000e+01,\n",
       "        7.2000000e+01, 5.6000000e+01, 5.6000000e+01, 2.4000000e+01,\n",
       "        5.6000000e+01, 4.8000000e+01, 7.2000000e+01, 5.6000000e+01,\n",
       "        2.4000000e+01, 4.8000000e+01, 1.6000000e+01, 4.8000000e+01,\n",
       "        3.2000000e+01, 8.0000000e+00, 4.0000000e+01, 8.0000000e+00,\n",
       "        1.6000000e+01, 0.0000000e+00, 2.4000000e+01, 3.2000000e+01,\n",
       "        0.0000000e+00, 1.6000000e+01, 8.0000000e+00, 0.0000000e+00,\n",
       "        2.4000000e+01, 1.6000000e+01, 0.0000000e+00, 1.6000000e+01,\n",
       "        2.4000000e+01, 2.4000000e+01, 1.6000000e+01, 0.0000000e+00,\n",
       "        0.0000000e+00, 8.0000000e+00, 8.0000000e+00, 8.0000000e+00,\n",
       "        8.0000000e+00, 8.0000000e+00, 0.0000000e+00, 8.0000000e+00,\n",
       "        0.0000000e+00, 8.0000000e+00, 8.0000000e+00, 8.0000000e+00,\n",
       "        8.0000000e+00, 0.0000000e+00, 8.0000000e+00, 0.0000000e+00,\n",
       "        0.0000000e+00, 8.0000000e+00, 0.0000000e+00, 7.2000000e+01]),\n",
       " array([0.  , 0.01, 0.02, 0.03, 0.04, 0.05, 0.06, 0.07, 0.08, 0.09, 0.1 ,\n",
       "        0.11, 0.12, 0.13, 0.14, 0.15, 0.16, 0.17, 0.18, 0.19, 0.2 , 0.21,\n",
       "        0.22, 0.23, 0.24, 0.25, 0.26, 0.27, 0.28, 0.29, 0.3 , 0.31, 0.32,\n",
       "        0.33, 0.34, 0.35, 0.36, 0.37, 0.38, 0.39, 0.4 , 0.41, 0.42, 0.43,\n",
       "        0.44, 0.45, 0.46, 0.47, 0.48, 0.49, 0.5 , 0.51, 0.52, 0.53, 0.54,\n",
       "        0.55, 0.56, 0.57, 0.58, 0.59, 0.6 , 0.61, 0.62, 0.63, 0.64, 0.65,\n",
       "        0.66, 0.67, 0.68, 0.69, 0.7 , 0.71, 0.72, 0.73, 0.74, 0.75, 0.76,\n",
       "        0.77, 0.78, 0.79, 0.8 , 0.81, 0.82, 0.83, 0.84, 0.85, 0.86, 0.87,\n",
       "        0.88, 0.89, 0.9 , 0.91, 0.92, 0.93, 0.94, 0.95, 0.96, 0.97, 0.98,\n",
       "        0.99, 1.  ]),\n",
       " <BarContainer object of 100 artists>)"
      ]
     },
     "execution_count": 41,
     "metadata": {},
     "output_type": "execute_result"
    },
    {
     "data": {
      "image/png": "[encoded data removed]",
      "text/plain": [
       "<Figure size 1000x600 with 1 Axes>"
      ]
     },
     "metadata": {},
     "output_type": "display_data"
    }
   ],
   "source": [
    "fig, ax = plt.subplots(figsize=(10, 6))\n",
    "ax.hist(combined_array.flatten(), bins=100)"
   ]
  },
  {
   "cell_type": "code",
   "execution_count": 42,
   "metadata": {},
   "outputs": [],
   "source": [
    "# fig, ax = plt.subplots()\n",
    "# ax.imshow(combined_array[3929,:,:], cmap='gray')"
   ]
  },
  {
   "cell_type": "code",
   "execution_count": 43,
   "metadata": {},
   "outputs": [],
   "source": [
    "# class Encoder(nn.Module):\n",
    "#     def __init__(self, encoded_space_dim):\n",
    "#         super().__init__()\n",
    "#         self.encoder_cnn = nn.Sequential(\n",
    "#             nn.Conv2d(1, 16, 3, stride=2, padding=1),  # 1x211x211 -> 16x106x106\n",
    "#             nn.ReLU(True),\n",
    "#             nn.Conv2d(16, 32, 3, stride=2, padding=1),  # 16x106x106 -> 32x53x53\n",
    "#             nn.ReLU(True),\n",
    "#             nn.Conv2d(32, 64, 3, stride=2, padding=1),  # 32x53x53 -> 64x27x27\n",
    "#             nn.ReLU(True),\n",
    "#             nn.Conv2d(64, 128, 3, stride=2, padding=1),  # 64x27x27 -> 128x14x14\n",
    "#             nn.ReLU(True),\n",
    "#             nn.Conv2d(128, 256, 3, stride=2, padding=1),  # 128x14x14 -> 256x7x7\n",
    "#             nn.ReLU(True),\n",
    "#             nn.Conv2d(256, 512, 3, stride=2, padding=1),  # 256x7x7 -> 512x4x4\n",
    "#             nn.ReLU(True),\n",
    "#         )\n",
    "#         self.flatten = nn.Flatten(start_dim=1)\n",
    "#         self.encoder_lin = nn.Sequential(\n",
    "#             nn.Linear(512 * 4 * 4, 1024),\n",
    "#             nn.ReLU(True),\n",
    "#             nn.Linear(1024, encoded_space_dim)\n",
    "#         )\n",
    "\n",
    "#     def forward(self, x):\n",
    "#         x = self.encoder_cnn(x)\n",
    "#         x = self.flatten(x)\n",
    "#         x = self.encoder_lin(x)\n",
    "#         return x\n",
    "\n",
    "# class Decoder(nn.Module):\n",
    "#     def __init__(self, encoded_space_dim):\n",
    "#         super().__init__()\n",
    "#         self.decoder_lin = nn.Sequential(\n",
    "#             nn.Linear(encoded_space_dim, 1024),\n",
    "#             nn.ReLU(True),\n",
    "#             nn.Linear(1024, 512 * 4 * 4),\n",
    "#             nn.ReLU(True)\n",
    "#         )\n",
    "#         self.unflatten = nn.Unflatten(dim=1, unflattened_size=(512, 4, 4))\n",
    "#         self.decoder_conv = nn.Sequential(\n",
    "#             nn.ConvTranspose2d(512, 256, 3, stride=2, padding=1, output_padding=1),  # 512x4x4 -> 256x8x8\n",
    "#             nn.ReLU(True),\n",
    "#             nn.ConvTranspose2d(256, 128, 3, stride=2, padding=1, output_padding=1),  # 256x8x8 -> 128x16x16\n",
    "#             nn.ReLU(True),\n",
    "#             nn.ConvTranspose2d(128, 64, 3, stride=2, padding=1, output_padding=1),  # 128x16x16 -> 64x32x32\n",
    "#             nn.ReLU(True),\n",
    "#             nn.ConvTranspose2d(64, 32, 3, stride=2, padding=1, output_padding=1),  # 64x32x32 -> 32x64x64\n",
    "#             nn.ReLU(True),\n",
    "#             nn.ConvTranspose2d(32, 16, 3, stride=2, padding=1, output_padding=1),  # 32x64x64 -> 16x128x128\n",
    "#             nn.ReLU(True),\n",
    "#             nn.ConvTranspose2d(16, 1, 3, stride=2, padding=2, output_padding=1),  # 16x128x128 -> 1x211x211\n",
    "#             nn.Sigmoid()\n",
    "#         )\n",
    "\n",
    "#     def forward(self, x):\n",
    "#         x = self.decoder_lin(x)\n",
    "#         x = self.unflatten(x)\n",
    "#         x = self.decoder_conv(x)\n",
    "#         return x\n",
    "\n",
    "\n",
    "class Encoder(nn.Module):\n",
    "    def __init__(self, encoded_space_dim):\n",
    "        super().__init__()\n",
    "        self.encoder_cnn = nn.Sequential(\n",
    "            # Keep 3D structure\n",
    "            nn.Conv2d(1, 8, 8, stride=2, padding=1),  # 1x256x256 -> 8, 122, 122\n",
    "            nn.ReLU(True),\n",
    "            nn.Conv2d(8, 16 , 16, stride=2, padding=1),  # 8, 122, 122 -> [16, 47, 47]\n",
    "            nn.BatchNorm2d(16),\n",
    "            nn.ReLU(True),    \n",
    "            )\n",
    "        \n",
    "        # Flatten layer\n",
    "        self.flatten = nn.Flatten()\n",
    " \n",
    "        # Linear section\n",
    "        self.encoder_lin = nn.Sequential(\n",
    "            nn.Linear(1296, 128),\n",
    "            nn.ReLU(True),\n",
    "            # nn.Linear(128, 128),\n",
    "            # nn.ReLU(True),\n",
    "            nn.Linear(128, encoded_space_dim),\n",
    "            nn.ReLU(True)\n",
    "        )\n",
    "   \n",
    "    def forward(self, x):\n",
    "        # print('Forward pass in Encoder')\n",
    "        print(x.shape)\n",
    "        x = self.encoder_cnn(x)\n",
    "        # print(\"Encoder shape:\", x.shape) \n",
    "        x = self.flatten(x)\n",
    "        # print(x.shape) #torch.Size([32, 35344])\n",
    "        x = self.encoder_lin(x)\n",
    "        # print(x.shape)\n",
    "        return x # shape: [32, 10]\n",
    "\n",
    "class Decoder(nn.Module):\n",
    "    \n",
    "    def __init__(self, encoded_space_dim):\n",
    "        super().__init__()\n",
    "        self.decoder_lin = nn.Sequential(\n",
    "            nn.Linear(encoded_space_dim, 128),\n",
    "            nn.ReLU(True),\n",
    "            # nn.Linear(128, 128),\n",
    "            # nn.ReLU(True),\n",
    "            nn.Linear(128, 1296),\n",
    "            nn.ReLU(True)\n",
    "        )\n",
    "\n",
    "        ### The decoder does the exact opposite, reconstructing the images from the latent space values.\n",
    "        self.unflatten = nn.Unflatten(dim=1, \n",
    "        unflattened_size=(16, 9, 9))\n",
    "\n",
    "        # self.decoder_conv = nn.Sequential(\n",
    "        #     nn.ConvTranspose2d(32, 16, 3, stride=2, output_padding=0),\n",
    "        #     nn.BatchNorm2d(16),\n",
    "        #     nn.ReLU(True),\n",
    "        #     nn.ConvTranspose2d(16, 8, 3, stride=2, padding=1, output_padding=1),\n",
    "        #     nn.BatchNorm2d(8),\n",
    "        #     nn.ReLU(True),\n",
    "        #     nn.ConvTranspose2d(8, 1, 3, stride=2, padding=1, output_padding=1)\n",
    "        # )\n",
    "        self.decoder_conv = nn.Sequential(\n",
    "            nn.ConvTranspose2d(16,16,16, stride=2, padding=1),\n",
    "            nn.BatchNorm2d(16),\n",
    "            nn.ReLU(True),\n",
    "            nn.ConvTranspose2d(16,1,8, stride=2, padding=1)\n",
    "        )\n",
    "        \n",
    "    def forward(self, x):\n",
    "        # print('Forward pass in Decoder')\n",
    "        x = self.decoder_lin(x)\n",
    "        # print(\"LinNN\",x.shape)\n",
    "        x = self.unflatten(x)\n",
    "        # print(\"Unflatten\",x.shape)\n",
    "        x = self.decoder_conv(x)\n",
    "        # print(\"Conv\",x.shape)\n",
    "        x = torch.sigmoid(x)\n",
    "        return x"
   ]
  },
  {
   "cell_type": "code",
   "execution_count": 44,
   "metadata": {},
   "outputs": [
    {
     "name": "stdout",
     "output_type": "stream",
     "text": [
      "original data: torch.Size([1, 64, 64])\n",
      "encoder:\n",
      "Conv1: torch.Size([8, 30, 30])\n",
      "Conv2: torch.Size([16, 9, 9])\n"
     ]
    },
    {
     "ename": "ValueError",
     "evalue": "expected 4D input (got 3D input)",
     "output_type": "error",
     "traceback": [
      "\u001b[1;31m---------------------------------------------------------------------------\u001b[0m",
      "\u001b[1;31mValueError\u001b[0m                                Traceback (most recent call last)",
      "Cell \u001b[1;32mIn[44], line 22\u001b[0m\n\u001b[0;32m     20\u001b[0m \u001b[38;5;28mprint\u001b[39m(\u001b[38;5;124mf\u001b[39m\u001b[38;5;124m'\u001b[39m\u001b[38;5;124mConv1: \u001b[39m\u001b[38;5;132;01m{\u001b[39;00mA(x)\u001b[38;5;241m.\u001b[39mshape\u001b[38;5;132;01m}\u001b[39;00m\u001b[38;5;124m'\u001b[39m)\n\u001b[0;32m     21\u001b[0m \u001b[38;5;28mprint\u001b[39m(\u001b[38;5;124mf\u001b[39m\u001b[38;5;124m'\u001b[39m\u001b[38;5;124mConv2: \u001b[39m\u001b[38;5;132;01m{\u001b[39;00mB(A(x))\u001b[38;5;241m.\u001b[39mshape\u001b[38;5;132;01m}\u001b[39;00m\u001b[38;5;124m'\u001b[39m)\n\u001b[1;32m---> 22\u001b[0m \u001b[38;5;28mprint\u001b[39m(\u001b[38;5;124mf\u001b[39m\u001b[38;5;124m'\u001b[39m\u001b[38;5;124mBatchNorm: \u001b[39m\u001b[38;5;132;01m{\u001b[39;00m\u001b[43mC\u001b[49m\u001b[43m(\u001b[49m\u001b[43mB\u001b[49m\u001b[43m(\u001b[49m\u001b[43mA\u001b[49m\u001b[43m(\u001b[49m\u001b[43mx\u001b[49m\u001b[43m)\u001b[49m\u001b[43m)\u001b[49m\u001b[43m)\u001b[49m\u001b[38;5;241m.\u001b[39mshape\u001b[38;5;132;01m}\u001b[39;00m\u001b[38;5;124m'\u001b[39m)\n\u001b[0;32m     23\u001b[0m \u001b[38;5;28mprint\u001b[39m(\u001b[38;5;124mf\u001b[39m\u001b[38;5;124m'\u001b[39m\u001b[38;5;124mFlatten: \u001b[39m\u001b[38;5;132;01m{\u001b[39;00mD(C(B(A(x))))\u001b[38;5;241m.\u001b[39mshape\u001b[38;5;132;01m}\u001b[39;00m\u001b[38;5;124m'\u001b[39m)\n\u001b[0;32m     24\u001b[0m \u001b[38;5;28mprint\u001b[39m(\u001b[38;5;124mf\u001b[39m\u001b[38;5;124m'\u001b[39m\u001b[38;5;124mLinear1: \u001b[39m\u001b[38;5;132;01m{\u001b[39;00mE(D(C(B(A(x)))))\u001b[38;5;241m.\u001b[39mshape\u001b[38;5;132;01m}\u001b[39;00m\u001b[38;5;124m'\u001b[39m)\n",
      "File \u001b[1;32mc:\\Users\\Jens\\anaconda3\\envs\\appmlenv\\Lib\\site-packages\\torch\\nn\\modules\\module.py:1511\u001b[0m, in \u001b[0;36mModule._wrapped_call_impl\u001b[1;34m(self, *args, **kwargs)\u001b[0m\n\u001b[0;32m   1509\u001b[0m     \u001b[38;5;28;01mreturn\u001b[39;00m \u001b[38;5;28mself\u001b[39m\u001b[38;5;241m.\u001b[39m_compiled_call_impl(\u001b[38;5;241m*\u001b[39margs, \u001b[38;5;241m*\u001b[39m\u001b[38;5;241m*\u001b[39mkwargs)  \u001b[38;5;66;03m# type: ignore[misc]\u001b[39;00m\n\u001b[0;32m   1510\u001b[0m \u001b[38;5;28;01melse\u001b[39;00m:\n\u001b[1;32m-> 1511\u001b[0m     \u001b[38;5;28;01mreturn\u001b[39;00m \u001b[38;5;28;43mself\u001b[39;49m\u001b[38;5;241;43m.\u001b[39;49m\u001b[43m_call_impl\u001b[49m\u001b[43m(\u001b[49m\u001b[38;5;241;43m*\u001b[39;49m\u001b[43margs\u001b[49m\u001b[43m,\u001b[49m\u001b[43m \u001b[49m\u001b[38;5;241;43m*\u001b[39;49m\u001b[38;5;241;43m*\u001b[39;49m\u001b[43mkwargs\u001b[49m\u001b[43m)\u001b[49m\n",
      "File \u001b[1;32mc:\\Users\\Jens\\anaconda3\\envs\\appmlenv\\Lib\\site-packages\\torch\\nn\\modules\\module.py:1520\u001b[0m, in \u001b[0;36mModule._call_impl\u001b[1;34m(self, *args, **kwargs)\u001b[0m\n\u001b[0;32m   1515\u001b[0m \u001b[38;5;66;03m# If we don't have any hooks, we want to skip the rest of the logic in\u001b[39;00m\n\u001b[0;32m   1516\u001b[0m \u001b[38;5;66;03m# this function, and just call forward.\u001b[39;00m\n\u001b[0;32m   1517\u001b[0m \u001b[38;5;28;01mif\u001b[39;00m \u001b[38;5;129;01mnot\u001b[39;00m (\u001b[38;5;28mself\u001b[39m\u001b[38;5;241m.\u001b[39m_backward_hooks \u001b[38;5;129;01mor\u001b[39;00m \u001b[38;5;28mself\u001b[39m\u001b[38;5;241m.\u001b[39m_backward_pre_hooks \u001b[38;5;129;01mor\u001b[39;00m \u001b[38;5;28mself\u001b[39m\u001b[38;5;241m.\u001b[39m_forward_hooks \u001b[38;5;129;01mor\u001b[39;00m \u001b[38;5;28mself\u001b[39m\u001b[38;5;241m.\u001b[39m_forward_pre_hooks\n\u001b[0;32m   1518\u001b[0m         \u001b[38;5;129;01mor\u001b[39;00m _global_backward_pre_hooks \u001b[38;5;129;01mor\u001b[39;00m _global_backward_hooks\n\u001b[0;32m   1519\u001b[0m         \u001b[38;5;129;01mor\u001b[39;00m _global_forward_hooks \u001b[38;5;129;01mor\u001b[39;00m _global_forward_pre_hooks):\n\u001b[1;32m-> 1520\u001b[0m     \u001b[38;5;28;01mreturn\u001b[39;00m \u001b[43mforward_call\u001b[49m\u001b[43m(\u001b[49m\u001b[38;5;241;43m*\u001b[39;49m\u001b[43margs\u001b[49m\u001b[43m,\u001b[49m\u001b[43m \u001b[49m\u001b[38;5;241;43m*\u001b[39;49m\u001b[38;5;241;43m*\u001b[39;49m\u001b[43mkwargs\u001b[49m\u001b[43m)\u001b[49m\n\u001b[0;32m   1522\u001b[0m \u001b[38;5;28;01mtry\u001b[39;00m:\n\u001b[0;32m   1523\u001b[0m     result \u001b[38;5;241m=\u001b[39m \u001b[38;5;28;01mNone\u001b[39;00m\n",
      "File \u001b[1;32mc:\\Users\\Jens\\anaconda3\\envs\\appmlenv\\Lib\\site-packages\\torch\\nn\\modules\\batchnorm.py:142\u001b[0m, in \u001b[0;36m_BatchNorm.forward\u001b[1;34m(self, input)\u001b[0m\n\u001b[0;32m    141\u001b[0m \u001b[38;5;28;01mdef\u001b[39;00m \u001b[38;5;21mforward\u001b[39m(\u001b[38;5;28mself\u001b[39m, \u001b[38;5;28minput\u001b[39m: Tensor) \u001b[38;5;241m-\u001b[39m\u001b[38;5;241m>\u001b[39m Tensor:\n\u001b[1;32m--> 142\u001b[0m     \u001b[38;5;28;43mself\u001b[39;49m\u001b[38;5;241;43m.\u001b[39;49m\u001b[43m_check_input_dim\u001b[49m\u001b[43m(\u001b[49m\u001b[38;5;28;43minput\u001b[39;49m\u001b[43m)\u001b[49m\n\u001b[0;32m    144\u001b[0m     \u001b[38;5;66;03m# exponential_average_factor is set to self.momentum\u001b[39;00m\n\u001b[0;32m    145\u001b[0m     \u001b[38;5;66;03m# (when it is available) only so that it gets updated\u001b[39;00m\n\u001b[0;32m    146\u001b[0m     \u001b[38;5;66;03m# in ONNX graph when this node is exported to ONNX.\u001b[39;00m\n\u001b[0;32m    147\u001b[0m     \u001b[38;5;28;01mif\u001b[39;00m \u001b[38;5;28mself\u001b[39m\u001b[38;5;241m.\u001b[39mmomentum \u001b[38;5;129;01mis\u001b[39;00m \u001b[38;5;28;01mNone\u001b[39;00m:\n",
      "File \u001b[1;32mc:\\Users\\Jens\\anaconda3\\envs\\appmlenv\\Lib\\site-packages\\torch\\nn\\modules\\batchnorm.py:420\u001b[0m, in \u001b[0;36mBatchNorm2d._check_input_dim\u001b[1;34m(self, input)\u001b[0m\n\u001b[0;32m    418\u001b[0m \u001b[38;5;28;01mdef\u001b[39;00m \u001b[38;5;21m_check_input_dim\u001b[39m(\u001b[38;5;28mself\u001b[39m, \u001b[38;5;28minput\u001b[39m):\n\u001b[0;32m    419\u001b[0m     \u001b[38;5;28;01mif\u001b[39;00m \u001b[38;5;28minput\u001b[39m\u001b[38;5;241m.\u001b[39mdim() \u001b[38;5;241m!=\u001b[39m \u001b[38;5;241m4\u001b[39m:\n\u001b[1;32m--> 420\u001b[0m         \u001b[38;5;28;01mraise\u001b[39;00m \u001b[38;5;167;01mValueError\u001b[39;00m(\u001b[38;5;124mf\u001b[39m\u001b[38;5;124m\"\u001b[39m\u001b[38;5;124mexpected 4D input (got \u001b[39m\u001b[38;5;132;01m{\u001b[39;00m\u001b[38;5;28minput\u001b[39m\u001b[38;5;241m.\u001b[39mdim()\u001b[38;5;132;01m}\u001b[39;00m\u001b[38;5;124mD input)\u001b[39m\u001b[38;5;124m\"\u001b[39m)\n",
      "\u001b[1;31mValueError\u001b[0m: expected 4D input (got 3D input)"
     ]
    }
   ],
   "source": [
    "# print((train_loader.dataset[0][0]))\n",
    "x = train_loader.dataset[0][0].unsqueeze(0)\n",
    "\n",
    "# encoder:\n",
    "A = nn.Conv2d(1, 8, 8, stride=2, padding=1)\n",
    "B = nn.Conv2d(8, 16 , 16, stride=2, padding=1)\n",
    "C = nn.BatchNorm2d(16)\n",
    "\n",
    "# flatten\n",
    "D = nn.Flatten()\n",
    "\n",
    "# linear\n",
    "E = nn.Linear(1296, 128)\n",
    "F = nn.Linear(128, 10)\n",
    "\n",
    "print(f'original data: {x.shape}')\n",
    "\n",
    "print('encoder:')\n",
    "\n",
    "print(f'Conv1: {A(x).shape}')\n",
    "print(f'Conv2: {B(A(x)).shape}')\n",
    "print(f'BatchNorm: {C(B(A(x))).shape}')\n",
    "print(f'Flatten: {D(C(B(A(x)))).shape}')\n",
    "print(f'Linear1: {E(D(C(B(A(x))))).shape}')\n",
    "print(f'Linear2: {F(E(D(C(B(A(x)))))).shape}')\n",
    "\n",
    "\n",
    "\n",
    "print('decoder:')\n",
    "\n",
    "\n",
    "x = train_loader.dataset[0][0].unsqueeze(0)\n",
    "x = F(E(D(C(B(A(x))))))\n",
    "# decoder:\n",
    "G = nn.Linear(10, 128)\n",
    "H = nn.Linear(128, 1296)\n",
    "I = nn.Unflatten(dim=1, \n",
    "        unflattened_size=(16, 9, 9))\n",
    "J = nn.ConvTranspose2d(16, 16, 16, stride=2,padding = 1)#, output_padding=0)\n",
    "K = nn.BatchNorm2d(16)\n",
    "L = nn.ConvTranspose2d(16, 1, 8, stride=2, padding = 1)#, padding=1, output_padding=1)\n",
    "# M = nn.BatchNorm2d(8)\n",
    "# N = nn.ConvTranspose2d(8, 1, 3, stride=2, padding=1, output_padding=1)\n",
    "\n",
    "print(f'Linear1: {G(x).shape}')\n",
    "print(f'Linear2: {H(G(x)).shape}')\n",
    "print(f'Unflatten: {I(H(G(x))).shape}')\n",
    "print(f'Conv1: {J(I(H(G(x)))).shape}')\n",
    "print(f'BatchNorm: {K(J(I(H(G(x))))).shape}')\n",
    "print(f'Conv2: {L(K(J(I(H(G(x)))))).shape}')"
   ]
  },
  {
   "cell_type": "code",
   "execution_count": 52,
   "metadata": {},
   "outputs": [],
   "source": [
    "# print(typetrain_loader)"
   ]
  },
  {
   "cell_type": "code",
   "execution_count": 46,
   "metadata": {},
   "outputs": [],
   "source": [
    "loss_fn = nn.MSELoss()\n",
    "lr = 0.001\n",
    "torch.manual_seed(42)\n",
    "\n",
    "d = 64\n",
    "encoder = Encoder(encoded_space_dim=d)\n",
    "decoder = Decoder(encoded_space_dim=d)\n",
    "params_to_optimize = [\n",
    "    {'params': encoder.parameters()},\n",
    "    {'params': decoder.parameters()}\n",
    "]\n",
    "\n",
    "optim = torch.optim.Adam(params_to_optimize, lr=lr, weight_decay=1e-05)\n",
    "\n",
    "def train_epoch(encoder, decoder, dataloader, loss_fn, optimizer):\n",
    "    encoder.train()\n",
    "    decoder.train()\n",
    "    train_loss = []\n",
    "    for image_batch, _ in dataloader:\n",
    "        encoded_data = encoder(image_batch)\n",
    "        decoded_data = decoder(encoded_data)\n",
    "        loss = loss_fn(decoded_data, image_batch)\n",
    "        optimizer.zero_grad()\n",
    "        loss.backward()\n",
    "        optimizer.step()\n",
    "        train_loss.append(loss.detach().cpu().numpy())\n",
    "    return np.mean(train_loss)\n"
   ]
  },
  {
   "cell_type": "code",
   "execution_count": 47,
   "metadata": {},
   "outputs": [],
   "source": [
    "def test_epoch(encoder, decoder, dataloader, loss_fn):\n",
    "    encoder.eval()\n",
    "    decoder.eval()\n",
    "    with torch.no_grad():\n",
    "        conc_out = []\n",
    "        conc_label = []\n",
    "        for image_batch, _ in dataloader:\n",
    "            encoded_data = encoder(image_batch)\n",
    "            decoded_data = decoder(encoded_data)\n",
    "            conc_out.append(decoded_data.cpu())\n",
    "            conc_label.append(image_batch.cpu())\n",
    "        conc_out = torch.cat(conc_out)\n",
    "        conc_label = torch.cat(conc_label)\n",
    "        val_loss = loss_fn(conc_out, conc_label)\n",
    "    return val_loss.data\n",
    "\n"
   ]
  },
  {
   "cell_type": "code",
   "execution_count": 48,
   "metadata": {},
   "outputs": [],
   "source": [
    "def plot_ae_outputs(encoder, decoder, n=10):\n",
    "    plt.figure(figsize=(16, 4.5))\n",
    "    targets = np.zeros(len(test_dataset))  # Dummy targets since we don't have real labels\n",
    "    t_idx = {i: np.where(targets == i)[0][0] for i in range(n)}\n",
    "    for i in range(n):\n",
    "        ax = plt.subplot(2, n, i + 1)\n",
    "        img = test_dataset[t_idx[i]][0].unsqueeze(0)\n",
    "        encoder.eval()\n",
    "        decoder.eval()\n",
    "        with torch.no_grad():\n",
    "            rec_img = decoder(encoder(img))\n",
    "        plt.imshow(img.cpu().squeeze().numpy(), cmap='gist_gray')\n",
    "        ax.get_xaxis().set_visible(False)\n",
    "        ax.get_yaxis().set_visible(False)\n",
    "        if i == n // 2:\n",
    "            ax.set_title('Original images')\n",
    "        ax = plt.subplot(2, n, i + 1 + n)\n",
    "        plt.imshow(rec_img.cpu().squeeze().numpy(), cmap='gist_gray')\n",
    "        ax.get_xaxis().set_visible(False)\n",
    "        ax.get_yaxis().set_visible(False)\n",
    "        if i == n // 2:\n",
    "            ax.set_title('Reconstructed images')\n",
    "    plt.show()\n"
   ]
  },
  {
   "cell_type": "code",
   "execution_count": 49,
   "metadata": {},
   "outputs": [],
   "source": [
    "import time"
   ]
  },
  {
   "cell_type": "code",
   "execution_count": 50,
   "metadata": {},
   "outputs": [],
   "source": [
    "diz_loss = {'train_loss': [], 'val_loss': []}"
   ]
  },
  {
   "cell_type": "code",
   "execution_count": 51,
   "metadata": {},
   "outputs": [
    {
     "ename": "ValueError",
     "evalue": "too many values to unpack (expected 2)",
     "output_type": "error",
     "traceback": [
      "\u001b[1;31m---------------------------------------------------------------------------\u001b[0m",
      "\u001b[1;31mValueError\u001b[0m                                Traceback (most recent call last)",
      "Cell \u001b[1;32mIn[51], line 5\u001b[0m\n\u001b[0;32m      2\u001b[0m \u001b[38;5;28;01mfor\u001b[39;00m epoch \u001b[38;5;129;01min\u001b[39;00m \u001b[38;5;28mrange\u001b[39m(num_epochs):\n\u001b[0;32m      3\u001b[0m     \u001b[38;5;66;03m# print(train_loader.dataset)\u001b[39;00m\n\u001b[0;32m      4\u001b[0m     start_time \u001b[38;5;241m=\u001b[39m time\u001b[38;5;241m.\u001b[39mtime()\n\u001b[1;32m----> 5\u001b[0m     train_loss \u001b[38;5;241m=\u001b[39m \u001b[43mtrain_epoch\u001b[49m\u001b[43m(\u001b[49m\u001b[43mencoder\u001b[49m\u001b[43m,\u001b[49m\u001b[43m \u001b[49m\u001b[43mdecoder\u001b[49m\u001b[43m,\u001b[49m\u001b[43m \u001b[49m\u001b[43mtrain_loader\u001b[49m\u001b[43m,\u001b[49m\u001b[43m \u001b[49m\u001b[43mloss_fn\u001b[49m\u001b[43m,\u001b[49m\u001b[43m \u001b[49m\u001b[43moptim\u001b[49m\u001b[43m)\u001b[49m\n\u001b[0;32m      6\u001b[0m     val_loss \u001b[38;5;241m=\u001b[39m test_epoch(encoder, decoder, test_loader, loss_fn)\n\u001b[0;32m      7\u001b[0m     elapsed_time \u001b[38;5;241m=\u001b[39m time\u001b[38;5;241m.\u001b[39mtime() \u001b[38;5;241m-\u001b[39m start_time\n",
      "Cell \u001b[1;32mIn[46], line 19\u001b[0m, in \u001b[0;36mtrain_epoch\u001b[1;34m(encoder, decoder, dataloader, loss_fn, optimizer)\u001b[0m\n\u001b[0;32m     17\u001b[0m decoder\u001b[38;5;241m.\u001b[39mtrain()\n\u001b[0;32m     18\u001b[0m train_loss \u001b[38;5;241m=\u001b[39m []\n\u001b[1;32m---> 19\u001b[0m \u001b[38;5;28;01mfor\u001b[39;00m image_batch, _ \u001b[38;5;129;01min\u001b[39;00m dataloader:\n\u001b[0;32m     20\u001b[0m     encoded_data \u001b[38;5;241m=\u001b[39m encoder(image_batch)\n\u001b[0;32m     21\u001b[0m     decoded_data \u001b[38;5;241m=\u001b[39m decoder(encoded_data)\n",
      "\u001b[1;31mValueError\u001b[0m: too many values to unpack (expected 2)"
     ]
    }
   ],
   "source": [
    "num_epochs = 300\n",
    "for epoch in range(num_epochs):\n",
    "    # print(train_loader.dataset)\n",
    "    start_time = time.time()\n",
    "    train_loss = train_epoch(encoder, decoder, train_loader, loss_fn, optim)\n",
    "    val_loss = test_epoch(encoder, decoder, test_loader, loss_fn)\n",
    "    elapsed_time = time.time() - start_time\n",
    "    if epoch != 0:\n",
    "        print(f'Epoch {epoch + 1}/{num_epochs} \\t train loss: {train_loss:.2e} \\t Delta: {diz_loss['train_loss'][-1]-train_loss:.5e} \\t val loss: {val_loss:.5e} \\t Delta: {diz_loss['val_loss'][-1]-val_loss:.2e} \\t time: {elapsed_time}')\n",
    "    else:\n",
    "        print(f'Epoch {epoch + 1}/{num_epochs} \\t train loss: {train_loss:.5e} \\t val loss: {val_loss:.5e} \\t time: {elapsed_time}')\n",
    "    print(f'Elapsed time: {elapsed_time}')\n",
    "    diz_loss['train_loss'].append(train_loss)\n",
    "    diz_loss['val_loss'].append(val_loss)\n"
   ]
  },
  {
   "cell_type": "code",
   "execution_count": null,
   "metadata": {},
   "outputs": [
    {
     "data": {
      "image/png": "[encoded data removed]",
      "text/plain": [
       "<Figure size 640x480 with 1 Axes>"
      ]
     },
     "metadata": {},
     "output_type": "display_data"
    }
   ],
   "source": [
    "fig, ax = plt.subplots()\n",
    "ax.set_yscale('log')\n",
    "# ax.set_xscale('log')\n",
    "ax.plot(diz_loss['train_loss'], label='train loss')\n",
    "ax.plot(diz_loss['val_loss'], label='val loss')\n",
    "ax.legend()\n",
    "# ax.set_xlim(0, 50)\n",
    "\n",
    "\n",
    "ax.set_xlabel('Epoch')\n",
    "ax.set_ylabel('Loss')\n",
    "fig.tight_layout()"
   ]
  },
  {
   "cell_type": "code",
   "execution_count": null,
   "metadata": {},
   "outputs": [
    {
     "data": {
      "text/plain": [
       "Decoder(\n",
       "  (decoder_lin): Sequential(\n",
       "    (0): Linear(in_features=64, out_features=128, bias=True)\n",
       "    (1): ReLU(inplace=True)\n",
       "    (2): Linear(in_features=128, out_features=128, bias=True)\n",
       "    (3): ReLU(inplace=True)\n",
       "    (4): Linear(in_features=128, out_features=1296, bias=True)\n",
       "    (5): ReLU(inplace=True)\n",
       "  )\n",
       "  (unflatten): Unflatten(dim=1, unflattened_size=(16, 9, 9))\n",
       "  (decoder_conv): Sequential(\n",
       "    (0): ConvTranspose2d(16, 16, kernel_size=(16, 16), stride=(2, 2), padding=(1, 1))\n",
       "    (1): BatchNorm2d(16, eps=1e-05, momentum=0.1, affine=True, track_running_stats=True)\n",
       "    (2): ReLU(inplace=True)\n",
       "    (3): ConvTranspose2d(16, 1, kernel_size=(8, 8), stride=(2, 2), padding=(1, 1))\n",
       "  )\n",
       ")"
      ]
     },
     "execution_count": 24,
     "metadata": {},
     "output_type": "execute_result"
    }
   ],
   "source": [
    "encoder.eval()\n",
    "decoder.eval()"
   ]
  },
  {
   "cell_type": "code",
   "execution_count": null,
   "metadata": {},
   "outputs": [],
   "source": [
    "# sumf = 0\n",
    "# for i in range(6400):\n",
    "#     img = test_dataset[i][0].unsqueeze(0).numpy()\n",
    "#     suming = np.sum(img)\n",
    "#     if suming>sumf:\n",
    "#         sumf = sumimg\n",
    "#         idx = i\n",
    "# print(i)\n",
    "# print(sumf)"
   ]
  },
  {
   "cell_type": "code",
   "execution_count": null,
   "metadata": {},
   "outputs": [
    {
     "data": {
      "image/png": "[encoded data removed]",
      "text/plain": [
       "<Figure size 640x480 with 2 Axes>"
      ]
     },
     "metadata": {},
     "output_type": "display_data"
    }
   ],
   "source": [
    "# evaluate model on radoom image\n",
    "img = test_dataset[99][0].unsqueeze(0)\n",
    "with torch.no_grad():\n",
    "    rec_img = decoder(encoder(img))\n",
    "    rec_img = rec_img.squeeze().numpy()\n",
    "    img = img.squeeze().numpy()\n",
    "    fig, ax = plt.subplots(1, 2)\n",
    "    ax[0].imshow(img, cmap='gray')\n",
    "    ax[0].set_title('Original image')\n",
    "    ax[1].imshow(rec_img, cmap='gray')\n",
    "    ax[1].set_title('Reconstructed image')"
   ]
  },
  {
   "cell_type": "code",
   "execution_count": null,
   "metadata": {},
   "outputs": [
    {
     "name": "stdout",
     "output_type": "stream",
     "text": [
      "Models saved to training_results/64x64_MinMaxScaler_correct_data_d64_extralayer_300epochs_encoder.pth and training_results/64x64_MinMaxScaler_correct_data_d64_extralayer_300epochs_decoder.pth\n"
     ]
    }
   ],
   "source": [
    "Save = False\n",
    "if Save == True:\n",
    "    # Function to save the model\n",
    "    model_name = '64x64_MinMaxScaler_correct_data_d64_extralayer_300epochs'\n",
    "    def save_model(encoder, decoder, encoder_path=\"encoder.pth\", decoder_path=\"decoder.pth\"):\n",
    "        torch.save(encoder.state_dict(), encoder_path)\n",
    "        torch.save(decoder.state_dict(), decoder_path)\n",
    "        print(\"Models saved to {} and {}\".format(encoder_path, decoder_path))\n",
    "    enc = 'training_results/' + model_name + '_encoder.pth'\n",
    "    dec = 'training_results/' + model_name + '_decoder.pth'\n",
    "    save_model(encoder, decoder, encoder_path=enc, decoder_path=dec)\n",
    "    np.savetxt('training_results/' + model_name + '_train_loss.txt', diz_loss['train_loss'])\n",
    "    np.savetxt('training_results/' + model_name + '_val_loss.txt', diz_loss['val_loss'])"
   ]
  },
  {
   "cell_type": "code",
   "execution_count": null,
   "metadata": {},
   "outputs": [
    {
     "data": {
      "image/png": "[encoded data removed]",
      "text/plain": [
       "<Figure size 1500x1500 with 8 Axes>"
      ]
     },
     "metadata": {},
     "output_type": "display_data"
    }
   ],
   "source": [
    "def plot_initial_convolutions(encoder, num_filters=8, figsize=(15, 15)):\n",
    "    \"\"\"\n",
    "    Plots the initial convolutional filters of the encoder.\n",
    "    \n",
    "    Parameters:\n",
    "    - encoder: The trained encoder model.\n",
    "    - num_filters: Number of filters to plot. Default is 16.\n",
    "    - figsize: Size of the plot. Default is (15, 15).\n",
    "    \"\"\"\n",
    "    # Extract the weights from the first convolutional layer\n",
    "    conv1_weights = encoder.encoder_cnn[0].weight.data.cpu().numpy()\n",
    "    \n",
    "    # Create a figure to plot the filters\n",
    "    fig, axes = plt.subplots(1, num_filters, figsize=figsize)\n",
    "    \n",
    "    for i in range(num_filters):\n",
    "        ax = axes[i]\n",
    "        # Get the filter\n",
    "        filt = conv1_weights[i, 0, :, :]\n",
    "        # Plot the filter\n",
    "        ax.imshow(filt, cmap='gray')\n",
    "        ax.axis('off')\n",
    "        ax.set_title(f'Filter {i+1}')\n",
    "    \n",
    "    plt.show()\n",
    "\n",
    "# Usage example\n",
    "plot_initial_convolutions(encoder)\n"
   ]
  },
  {
   "cell_type": "code",
   "execution_count": null,
   "metadata": {},
   "outputs": [],
   "source": [
    "# Function to plot the latent space\n"
   ]
  }
 ],
 "metadata": {
  "kernelspec": {
   "display_name": "appmlenv",
   "language": "python",
   "name": "python3"
  },
  "language_info": {
   "codemirror_mode": {
    "name": "ipython",
    "version": 3
   },
   "file_extension": ".py",
   "mimetype": "text/x-python",
   "name": "python",
   "nbconvert_exporter": "python",
   "pygments_lexer": "ipython3",
   "version": "3.12.0"
  }
 },
 "nbformat": 4,
 "nbformat_minor": 2
}
