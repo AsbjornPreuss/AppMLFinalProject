{
 "cells": [
  {
   "cell_type": "code",
   "execution_count": 11,
   "metadata": {},
   "outputs": [],
   "source": [
    "import torch\n",
    "import torch.nn as nn\n",
    "import torch.nn.functional as F\n",
    "import torch.optim as optim\n",
    "from torch.utils.data import DataLoader, random_split, Dataset\n",
    "import numpy as np\n",
    "import pandas as pd\n",
    "from sklearn.model_selection import train_test_split\n",
    "import os\n",
    "from torchvision import transforms\n",
    "import matplotlib.pyplot as plt\n",
    "\n",
    "from sklearn.preprocessing import RobustScaler, QuantileTransformer, MinMaxScaler\n",
    "\n",
    "from umap import UMAP\n",
    "from sklearn.cluster import DBSCAN\n",
    "import time\n",
    "from tensorflow.keras.losses import CategoricalCrossentropy\n",
    "import pickle"
   ]
  },
  {
   "cell_type": "markdown",
   "metadata": {},
   "source": [
    "# Add labels to meta data"
   ]
  },
  {
   "cell_type": "code",
   "execution_count": 2,
   "metadata": {},
   "outputs": [],
   "source": [
    "labels_raw = [np.load('./labels/'+x) for x in os.listdir('./labels/') if x.endswith('.npy')]\n",
    "\n",
    "label_dict = {}\n",
    "value_array = []\n",
    "for values in labels_raw:\n",
    "    for value,ind in zip(values[0],values[1]):\n",
    "        value_array.append(value)\n",
    "        #print(value)\n",
    "        label_dict[value] = ind\n",
    "\n",
    "meta_data = pd.read_csv('cluster_meta.csv')\n",
    "file_index = meta_data['cluster'].values\n",
    "\n",
    "label_list = [label_dict[int(x[:-2])] for x in file_index]\n",
    "\n",
    "meta_data.insert(6,'label',label_list)\n",
    "\n",
    "meta_data = meta_data.drop(meta_data[meta_data['label'] == 4].index)\n",
    "meta_data = meta_data.drop(meta_data[meta_data['label'] == 0].index)\n",
    "meta_data['label'] = meta_data['label'] - 1\n",
    "\n",
    "\n",
    "\n",
    "meta_data = meta_data.to_csv('cluster_meta_labels.csv', index = False)"
   ]
  },
  {
   "cell_type": "markdown",
   "metadata": {},
   "source": [
    "# Import Data"
   ]
  },
  {
   "cell_type": "code",
   "execution_count": 3,
   "metadata": {},
   "outputs": [
    {
     "name": "stdout",
     "output_type": "stream",
     "text": [
      "   Unnamed: 0   cluster     y     x          E   size  label\n",
      "0           0  004580_A   9.0  26.0   715232.0  108.0      2\n",
      "1           2  003882_A   3.0   3.0    31156.0    6.0      0\n",
      "2           3  009717_G   7.0  62.0  1423016.0  245.0      2\n",
      "3           4  005590_A  32.0  31.0  1014772.0  169.0      2\n",
      "4           5  008859_G  13.0   9.0   397825.0   63.0      2\n"
     ]
    }
   ],
   "source": [
    "\n",
    "\n",
    "meta_data = pd.read_csv('cluster_meta_labels.csv')\n",
    "print(meta_data.head())\n",
    "\n",
    "def load_data_with_label(folder_path, meta_data):\n",
    "    data = []\n",
    "    for file in meta_data['cluster']:\n",
    "        file = file + '.csv'\n",
    "        file_path = os.path.join(folder_path,file)\n",
    "        cluster = pd.read_csv(file_path,header=None).values\n",
    "        cluster = cluster.flatten()\n",
    "        # cluster = np.append(cluster, meta_data[meta_data['cluster'] == file[:-4]][['y', 'x', 'E', 'size']].values.flatten())\n",
    "        data.append(cluster)\n",
    "    combined_array = np.stack(data,axis=0)\n",
    "    print('shape of combined array: ')\n",
    "    print(combined_array.shape)\n",
    "    return combined_array, meta_data[['y', 'x', 'E', 'size']].values, meta_data['label'].values\n",
    "\n",
    "\n",
    "\n",
    "\n",
    "meta_scaler = RobustScaler()\n",
    "meta_data_values = meta_scaler.fit_transform(meta_data[['y', 'x', 'E', 'size']])\n",
    "\n"
   ]
  },
  {
   "cell_type": "code",
   "execution_count": 4,
   "metadata": {},
   "outputs": [
    {
     "name": "stdout",
     "output_type": "stream",
     "text": [
      "shape of combined array: \n",
      "(3112, 4096)\n"
     ]
    }
   ],
   "source": [
    "class NumpyArrayDataset(Dataset):\n",
    "    def __init__(self, data, transform=None):\n",
    "        self.data = data.astype(np.float32)\n",
    "        self.transform = transform\n",
    "\n",
    "    def __len__(self):\n",
    "        return len(self.data)\n",
    "\n",
    "    def __getitem__(self, idx):\n",
    "        sample = self.data[idx]\n",
    "        if self.transform:\n",
    "            sample = self.transform(sample)\n",
    "        return sample  # Return only the sample and dummy label\n",
    "\n",
    "\n",
    "\n",
    "\n",
    "\n",
    "folder_path = 'clusters_colour_rotations_rescaled'\n",
    "combined_array, meta_data_values, meta_data_labels = load_data_with_label(folder_path, meta_data)\n",
    "\n",
    "meta_data_labels = meta_data_labels.astype(int)\n",
    "\n",
    "\n",
    "\n",
    "\n",
    "\n"
   ]
  },
  {
   "cell_type": "markdown",
   "metadata": {},
   "source": [
    "# Normelize Data"
   ]
  },
  {
   "cell_type": "code",
   "execution_count": 21,
   "metadata": {},
   "outputs": [
    {
     "name": "stdout",
     "output_type": "stream",
     "text": [
      "(3112, 4096)\n",
      "(3112, 4101)\n",
      "torch.Size([2489, 4101])\n"
     ]
    }
   ],
   "source": [
    "scaler = MinMaxScaler()\n",
    "combined_array_scaled = scaler.fit_transform(np.log(combined_array))\n",
    "print(combined_array.shape)\n",
    "\n",
    "meta_scaler = QuantileTransformer()\n",
    "meta_data_values = meta_scaler.fit_transform(meta_data_values)\n",
    "\n",
    "combined_array_scaled = np.append(combined_array_scaled, meta_data_values, axis=1)\n",
    "\n",
    "combined_array_scaled = np.append(combined_array_scaled, meta_data_labels[:,None], axis=1)\n",
    "#print(combined_array_scaled.T[-5:])\n",
    "\n",
    "transform = transforms.Compose([\n",
    "    transforms.ToTensor()\n",
    "])\n",
    "\n",
    "np.random.shuffle(combined_array_scaled)\n",
    "\n",
    "#meta_data_values = NumpyArrayDataset(meta_data_values, transform=transform)\n",
    "dataset = NumpyArrayDataset(combined_array_scaled, transform=transform)\n",
    "print(combined_array_scaled.shape)\n",
    "\n",
    "# lazy, non-random split\n",
    "test_size = 0.2\n",
    "split_index = int(len(dataset) * (1 - test_size))\n",
    "train_dataset = dataset[:split_index]\n",
    "test_dataset = dataset[split_index:]\n",
    "#train_meta = meta_data_values[:split_index]\n",
    "#test_meta = meta_data_values[split_index:]\n",
    "#train_labels = meta_data_labels[:split_index]\n",
    "#test_labels = meta_data_labels[split_index:]\n",
    "\n",
    "\n",
    "train_loader = DataLoader(train_dataset, batch_size=32, shuffle=False)\n",
    "valid_loader = DataLoader(test_dataset, batch_size=32, shuffle=False)\n",
    "test_loader = DataLoader(test_dataset, batch_size=32, shuffle=False)\n",
    "\n",
    "\n",
    "print(train_loader.dataset[0].shape)\n",
    "\n",
    "\n",
    "\n",
    "\n"
   ]
  },
  {
   "cell_type": "markdown",
   "metadata": {},
   "source": [
    "# Chosse device"
   ]
  },
  {
   "cell_type": "code",
   "execution_count": 6,
   "metadata": {},
   "outputs": [
    {
     "data": {
      "text/plain": [
       "device(type='cuda', index=0)"
      ]
     },
     "execution_count": 6,
     "metadata": {},
     "output_type": "execute_result"
    }
   ],
   "source": [
    "device = torch.device(\"cuda:0\" if torch.cuda.is_available() else \"cpu\")\n",
    "#device = torch.device(\"cpu\")\n",
    "device"
   ]
  },
  {
   "cell_type": "markdown",
   "metadata": {},
   "source": [
    "# Create Model"
   ]
  },
  {
   "cell_type": "code",
   "execution_count": 15,
   "metadata": {},
   "outputs": [],
   "source": [
    "\n",
    "\n",
    "\n",
    "def create_torch_model_CNN_HPO(trial):\n",
    "    N_conv_layers = trial.suggest_int('N_conv_layers', 1, 3)\n",
    "    N_dense_layers = trial.suggest_int('N_dense_layers', 1, 3)\n",
    "    dropout_rate = trial.suggest_float('dropout_rate', 0.0, 0.5)\n",
    "    num_classes = 3\n",
    "    class torch_CNN_HPO(nn.Module):\n",
    "        def __init__(self):\n",
    "            super().__init__()\n",
    "\n",
    "\n",
    "            ### Flattening:\n",
    "            self.flatten = nn.Flatten(start_dim=0)\n",
    "\n",
    "            self.peram_to_optimize = []\n",
    "            ### dropout\n",
    "            self.dropout = nn.Dropout(dropout_rate, inplace=True)\n",
    "\n",
    "            self.compile_model()\n",
    "        \n",
    "        def create_CNN_layer(self, size_in, filters_in, layer_number):\n",
    "            filters_out = trial.suggest_int('filters_layer'+str(layer_number), 8, 64)\n",
    "            filter_size = trial.suggest_int('filter_size_layer'+str(layer_number), 3, 7)\n",
    "            stride_cnn = trial.suggest_int('stride_layer'+str(layer_number), 1, 3)\n",
    "            padding = trial.suggest_int('padding_layer'+str(layer_number), 1, 3)\n",
    "            pool_size = 3\n",
    "            pool_stride = 1\n",
    "            pool_padding = 1\n",
    "            cnn_layer = nn.Sequential(\n",
    "                nn.Conv2d(filters_in, filters_out, filter_size, stride=stride_cnn, padding=padding),  # 1x256x256 -> 32x128x128\n",
    "                nn.ReLU(True),\n",
    "                nn.MaxPool2d(pool_size, stride=pool_stride, padding=pool_padding)  # 64x64x64 -> 64x32x32\n",
    "            ).to(device)\n",
    "            size_out = (size_in - filter_size + 2*padding) // stride_cnn + 1\n",
    "            return cnn_layer, filters_out, size_out\n",
    "        \n",
    "        def create_liniar_layer(self, input_size, layer_number):\n",
    "            output_size = trial.suggest_int('dense_layer'+str(layer_number), 8, 128)\n",
    "            liniar_layer = nn.Sequential(\n",
    "                nn.Linear(input_size, output_size),\n",
    "                nn.ReLU(True)\n",
    "            ).to(device)\n",
    "            return liniar_layer, output_size\n",
    "        \n",
    "        def create_output_layer(self, input_size, output_size):\n",
    "            output_layer = nn.Sequential(\n",
    "                nn.Linear(input_size, output_size),\n",
    "                nn.ReLU()\n",
    "            ).to(device)\n",
    "            return output_layer\n",
    "        \n",
    "        def compile_model(self):\n",
    "            #print('Model compiled')\n",
    "            model_layers_cnn = []\n",
    "            model_layers_dense = []\n",
    "            size_in = 64\n",
    "            for i in range(N_conv_layers):\n",
    "                if i == 0:\n",
    "                    cnn_layer, filters_out, size_out = self.create_CNN_layer(size_in, 1, i)\n",
    "                else:\n",
    "                    cnn_layer, filters_out, size_out = self.create_CNN_layer(size_out, filters_out, i)\n",
    "                self.peram_to_optimize.append({'params': cnn_layer.parameters()})\n",
    "                model_layers_cnn.append(cnn_layer)\n",
    "\n",
    "            output_size = size_out ** 2 * filters_out\n",
    "            for i in range(N_dense_layers):\n",
    "                if i == 0:\n",
    "                    liniar_layer, output_size = self.create_liniar_layer(output_size, i)\n",
    "                else:\n",
    "                    liniar_layer, output_size = self.create_liniar_layer(output_size, i)\n",
    "                self.peram_to_optimize.append({'params': liniar_layer.parameters()})\n",
    "                model_layers_dense.append(liniar_layer)\n",
    "            \n",
    "            output_layer = self.create_output_layer(output_size + 4, num_classes)\n",
    "            self.peram_to_optimize.append({'params': output_layer.parameters()})\n",
    "        \n",
    "    \n",
    "            \n",
    "            def model_compiled_v2(x, meta):\n",
    "                for layer in model_layers_cnn:\n",
    "                    x = layer(x)\n",
    "                #print(x.shape)\n",
    "                x = self.flatten(x)\n",
    "                x = self.dropout(x)\n",
    "                for layer in model_layers_dense:\n",
    "                    x = layer(x)\n",
    "                y = torch.cat((x, meta), dim=0)\n",
    "                x = output_layer(y)\n",
    "                return x\n",
    "            self.model_compiled = model_compiled_v2\n",
    "\n",
    "\n",
    "        def forward(self, x):\n",
    "            \n",
    "            meta = x[-5:-1]\n",
    "            label = x[-1]\n",
    "            x = x[:-5].unflatten(0, (1, 1, 64, 64))\n",
    "\n",
    "            x = self.model_compiled(x, meta)\n",
    "            #print(label.type(), x.type())\n",
    "            return x, label#.type(torch.cuda.ByteTensor)\n",
    "    return torch_CNN_HPO().to(device)\n",
    "\n",
    "\n",
    "def create_torch_model_CNN_dict(trial):\n",
    "    N_conv_layers = trial['N_conv_layers']\n",
    "    N_dense_layers = trial['N_dense_layers']\n",
    "    dropout_rate = trial['dropout_rate']\n",
    "    num_classes = 3\n",
    "    class torch_CNN_HPO(nn.Module):\n",
    "        def __init__(self):\n",
    "            super().__init__()\n",
    "\n",
    "\n",
    "            ### Flattening:\n",
    "            self.flatten = nn.Flatten(start_dim=0)\n",
    "\n",
    "            self.peram_to_optimize = []\n",
    "            ### dropout\n",
    "            self.dropout = nn.Dropout(dropout_rate, inplace=True)\n",
    "\n",
    "            self.compile_model()\n",
    "        \n",
    "        def create_CNN_layer(self, size_in, filters_in, layer_number):\n",
    "            filters_out = trial['filters_layer'+str(layer_number)]\n",
    "            filter_size = trial['filter_size_layer'+str(layer_number)]\n",
    "            stride_cnn = trial['stride_layer'+str(layer_number)]\n",
    "            padding = trial['padding_layer'+str(layer_number)]\n",
    "            pool_size = 3\n",
    "            pool_stride = 1\n",
    "            pool_padding = 1\n",
    "            cnn_layer = nn.Sequential(\n",
    "                nn.Conv2d(filters_in, filters_out, filter_size, stride=stride_cnn, padding=padding),  # 1x256x256 -> 32x128x128\n",
    "                nn.ReLU(True),\n",
    "                nn.MaxPool2d(pool_size, stride=pool_stride, padding=pool_padding)  # 64x64x64 -> 64x32x32\n",
    "            ).to(device)\n",
    "            size_out = (size_in - filter_size + 2*padding) // stride_cnn + 1\n",
    "            return cnn_layer, filters_out, size_out\n",
    "        \n",
    "        def create_liniar_layer(self, input_size, layer_number):\n",
    "            output_size = trial['dense_layer'+str(layer_number)]\n",
    "            liniar_layer = nn.Sequential(\n",
    "                nn.Linear(input_size, output_size),\n",
    "                nn.ReLU(True)\n",
    "            ).to(device)\n",
    "            return liniar_layer, output_size\n",
    "        \n",
    "        def create_output_layer(self, input_size, output_size):\n",
    "            output_layer = nn.Sequential(\n",
    "                nn.Linear(input_size, output_size),\n",
    "                nn.ReLU()\n",
    "            ).to(device)\n",
    "            return output_layer\n",
    "        \n",
    "        def compile_model(self):\n",
    "            #print('Model compiled')\n",
    "            model_layers_cnn = []\n",
    "            model_layers_dense = []\n",
    "            size_in = 64\n",
    "            for i in range(N_conv_layers):\n",
    "                if i == 0:\n",
    "                    cnn_layer, filters_out, size_out = self.create_CNN_layer(size_in, 1, i)\n",
    "                else:\n",
    "                    cnn_layer, filters_out, size_out = self.create_CNN_layer(size_out, filters_out, i)\n",
    "                self.peram_to_optimize.append({'params': cnn_layer.parameters()})\n",
    "                model_layers_cnn.append(cnn_layer)\n",
    "\n",
    "            output_size = size_out ** 2 * filters_out\n",
    "            for i in range(N_dense_layers):\n",
    "                if i == 0:\n",
    "                    liniar_layer, output_size = self.create_liniar_layer(output_size, i)\n",
    "                else:\n",
    "                    liniar_layer, output_size = self.create_liniar_layer(output_size, i)\n",
    "                self.peram_to_optimize.append({'params': liniar_layer.parameters()})\n",
    "                model_layers_dense.append(liniar_layer)\n",
    "            \n",
    "            output_layer = self.create_output_layer(output_size + 4, num_classes)\n",
    "            self.peram_to_optimize.append({'params': output_layer.parameters()})\n",
    "        \n",
    "    \n",
    "            \n",
    "            def model_compiled_v2(x, meta):\n",
    "                for layer in model_layers_cnn:\n",
    "                    x = layer(x)\n",
    "                #print(x.shape)\n",
    "                x = self.flatten(x)\n",
    "                x = self.dropout(x)\n",
    "                for layer in model_layers_dense:\n",
    "                    x = layer(x)\n",
    "                y = torch.cat((x, meta), dim=0)\n",
    "                x = output_layer(y)\n",
    "                return x\n",
    "            self.model_compiled = model_compiled_v2\n",
    "\n",
    "\n",
    "        def forward(self, x):\n",
    "            \n",
    "            meta = x[-5:-1]\n",
    "            label = x[-1]\n",
    "            x = x[:-5].unflatten(0, (1, 1, 64, 64))\n",
    "\n",
    "            x = self.model_compiled(x, meta)\n",
    "            #print(label.type(), x.type())\n",
    "            return x, label#.type(torch.cuda.ByteTensor)\n",
    "    return torch_CNN_HPO().to(device)\n",
    "\n",
    "\n",
    "\n",
    "def create_torch_model_CNN():\n",
    "    N_conv_layers = 1\n",
    "    N_dense_layers = 1\n",
    "    dropout_rate = 0.4\n",
    "    num_classes = 3\n",
    "    \n",
    "    \n",
    "\n",
    "    class torch_CNN(nn.Module):\n",
    "        def __init__(self):\n",
    "            super().__init__()\n",
    "\n",
    "\n",
    "            ### Flattening:\n",
    "            self.flatten = nn.Flatten(start_dim=0)\n",
    "            self.peram_to_optimize = []\n",
    "\n",
    "            ### dropout\n",
    "            self.dropout = nn.Dropout(dropout_rate, inplace=True)\n",
    "\n",
    "            self.compile_model()\n",
    "\n",
    "        \n",
    "        def create_CNN_layer(self, size_in, filters_in):\n",
    "            filters_out = 8\n",
    "            filter_size = 3\n",
    "            stride_cnn = 1\n",
    "            padding = 1\n",
    "            pool_size = 3\n",
    "            pool_stride = 1\n",
    "            pool_padding = 1\n",
    "            cnn_layer = nn.Sequential(\n",
    "                nn.Conv2d(filters_in, filters_out, filter_size, stride=stride_cnn, padding=padding),  # 1x256x256 -> 32x128x128\n",
    "                nn.ReLU(True),\n",
    "                nn.MaxPool2d(pool_size, stride=pool_stride, padding=pool_padding)  # 64x64x64 -> 64x32x32\n",
    "            ).to(device)\n",
    "            size_out = (size_in - filter_size + 2*padding) // stride_cnn + 1\n",
    "            return cnn_layer, filters_out, size_out\n",
    "        \n",
    "        def create_liniar_layer(self, input_size):\n",
    "            output_size = 32\n",
    "            liniar_layer = nn.Sequential(\n",
    "                nn.Linear(input_size, output_size),\n",
    "                nn.ReLU(True)\n",
    "            ).to(device)\n",
    "            return liniar_layer, output_size\n",
    "        \n",
    "        def create_output_layer(self, input_size, output_size):\n",
    "            output_layer = nn.Sequential(\n",
    "                nn.Linear(input_size, output_size),\n",
    "                nn.ReLU()\n",
    "            ).to(device)\n",
    "            return output_layer\n",
    "        \n",
    "        \n",
    "        \n",
    "        def compile_model(self):\n",
    "            model_layers_cnn = []\n",
    "            model_layers_dense = []\n",
    "            size_in = 32\n",
    "            for i in range(N_conv_layers):\n",
    "                if i == 0:\n",
    "                    cnn_layer, filters_out, size_out = self.create_CNN_layer(size_in, 1)\n",
    "                else:\n",
    "                    cnn_layer, filters_out, size_out = self.create_CNN_layer(size_out, filters_out)\n",
    "\n",
    "                self.peram_to_optimize.append({'params': cnn_layer.parameters()})\n",
    "                model_layers_cnn.append(cnn_layer)\n",
    "\n",
    "            #output_size = size_out ** 2 * filters_out\n",
    "            output_size = filters_out\n",
    "            for i in range(N_dense_layers):\n",
    "                if i == 0:\n",
    "                    liniar_layer, output_size = self.create_liniar_layer(output_size)\n",
    "                else:\n",
    "                    liniar_layer, output_size = self.create_liniar_layer(output_size)\n",
    "                self.peram_to_optimize.append({'params': liniar_layer.parameters()})\n",
    "                model_layers_dense.append(liniar_layer)\n",
    "            \n",
    "            output_layer = self.create_output_layer(output_size + 4, num_classes)\n",
    "            self.peram_to_optimize.append({'params': output_layer.parameters()})\n",
    "            \n",
    "            \n",
    "            def model_compiled_v2(x, meta):\n",
    "                for layer in model_layers_cnn:\n",
    "                    x = layer(x)\n",
    "                   \n",
    "                #print(x.shape)\n",
    "                x = torch.mean(x, dim=3)\n",
    "                #print(x.shape)\n",
    "                x = torch.mean(x, dim=2)\n",
    "                #print(x.shape)\n",
    "                x = self.flatten(x)\n",
    "                x = self.dropout(x)\n",
    "                for layer in model_layers_dense:\n",
    "                    x = layer(x)\n",
    "                    \n",
    "                y = torch.cat((x, meta), dim=0)\n",
    "                x = output_layer(y)\n",
    "                \n",
    "                return x\n",
    "            self.model_compiled = model_compiled_v2\n",
    "\n",
    "\n",
    "        def forward(self, x):\n",
    "            \n",
    "            meta = x[-5:-1]\n",
    "            label = x[-1]\n",
    "            x = x[:-5].unflatten(0, (1, 1, 64, 64))\n",
    "\n",
    "            x = self.model_compiled(x, meta)\n",
    "            return x, label#.type(torch.cuda.ByteTensor)\n",
    "    return torch_CNN().to(device)\n",
    "\n",
    "\n",
    "\n",
    "\n",
    "def objective(trial, dataset_train, dataset_val, num_epochs=30):\n",
    "    # Build model and optimizer.\n",
    "    model = create_torch_model_CNN_HPO(trial)\n",
    "    learning_rate = trial.suggest_float(\"adam_learning_rate\", 1e-7, 1e-1, log=True)\n",
    "    torch.manual_seed(42)\n",
    "    peram_to_optimize = model.peram_to_optimize\n",
    "    \n",
    "    \n",
    "    optimizer = optim.Adam(peram_to_optimize, lr=learning_rate)\n",
    "    \n",
    "    model.train()\n",
    "    # Fit the model to the data\n",
    "    train_losses, valid_losses, train_accuracy, valid_accuracy = train_model(model, num_epochs, dataset_train, dataset_val, optimizer, loss_function)\n",
    "    #model.fit(x=X_train, y = Y_train, epochs=30, validation_data=(X_test, Y_test), verbose=0)\n",
    "    # Find the accuracy\n",
    "    #cce = CategoricalCrossentropy()\n",
    "    #accuracy = cce(Y_test, model(X_test))\n",
    "    #Return accuracy\n",
    "    return valid_losses[-1]\n",
    "\n",
    "\n",
    "\n",
    "\n",
    "\n",
    "def loss_function(output, target):\n",
    "    try:\n",
    "        target = target.type(torch.cuda.ByteTensor)\n",
    "    except:\n",
    "        target = target.type(torch.ByteTensor)\n",
    "    #plt.plot(target.cpu().detach().numpy())\n",
    "    #plt.show()\n",
    "    #print(output, target)\n",
    "    #loss = F.cross_entropy(output, target)\n",
    "    \n",
    "\n",
    "    #cce = CategoricalCrossentropy()\n",
    "    #loss = cce(y_true, output.detach().numpy())\n",
    "\n",
    "    loss = nn.CrossEntropyLoss(reduction='sum')(output, target)\n",
    "    return loss\n",
    "\n",
    "\n",
    "\n",
    "\n",
    "\n",
    "def train_epoch(dataset_train, model, optimizer, loss_function):\n",
    "    running_loss = 0\n",
    "    accuracy = 0\n",
    "    \n",
    "    for batch in dataset_train:\n",
    "        optimizer.zero_grad()\n",
    "        #print(next(model.parameters()).device, batch, model.device)\n",
    "        output, label_train = model(batch)\n",
    "        #print(label_train, output)\n",
    "        loss = loss_function(output, label_train)\n",
    "        loss.backward()\n",
    "        optimizer.step()\n",
    "        #print(loss.item())\n",
    "        running_loss += loss.item()\n",
    "        output_max = output.argmax()\n",
    "        accuracy += output_max == label_train\n",
    "    return running_loss / len(dataset_train), accuracy / len(dataset_train)\n",
    "\n",
    "def validate_epoch(dataset_val, model, loss_function):\n",
    "    running_loss = 0\n",
    "    accuracy = 0\n",
    "    with torch.no_grad():\n",
    "        for batch in dataset_val:\n",
    "            output, label_val = model(batch)\n",
    "            loss = loss_function(output, label_val)\n",
    "            running_loss += loss.item()\n",
    "            output_max = output.argmax()\n",
    "            accuracy += output_max == label_val\n",
    "\n",
    "    return running_loss / len(dataset_val), accuracy / len(dataset_val)\n",
    "\n",
    "def train_model(model, num_epochs, dataset_train, dataset_val, optimizer, loss_function):\n",
    "    \n",
    "\n",
    "    train_losses = []\n",
    "    train_accuracys = []\n",
    "    valid_losses = []\n",
    "    validate_accuracys = []\n",
    "\n",
    "    for epoch in range(num_epochs):\n",
    "        start_time = time.time()\n",
    "        train_loss, train_accuracy = train_epoch(dataset_train, model, optimizer, loss_function)\n",
    "        valid_loss, validate_accuracy = validate_epoch(dataset_val, model, loss_function)\n",
    "        train_losses.append(train_loss)\n",
    "        train_accuracys.append(train_accuracy)\n",
    "        valid_losses.append(valid_loss)\n",
    "        validate_accuracys.append(validate_accuracy)\n",
    "        end_time = time.time()\n",
    "        print(f\"Epoch: {epoch+1}/{num_epochs}, Train Loss: {train_loss:.4f}, Valid Loss: {valid_loss:.4f}, Train Accuracy: {train_accuracy}, Valid Accuracy: {validate_accuracy}, Duration: {end_time - start_time:.2f} sec\")\n",
    "    return train_losses, valid_losses, train_accuracys, validate_accuracys\n",
    "\n",
    "def plot_losses(train_losses, valid_losses, train_accuracys, validate_accuracys):\n",
    "    fig, ax = plt.subplots(nrows=2, sharex=True)\n",
    "    ax[0].plot(train_losses, label='Train Loss')\n",
    "    ax[0].plot(valid_losses, label='Valid Loss')\n",
    "    ax[0].set_xlabel('Epoch')\n",
    "    ax[0].set_ylabel('Loss')\n",
    "    ax[0].set_yscale('log')\n",
    "    ax[1].plot(train_accuracys, label='Train Accuracy')\n",
    "    ax[1].plot(validate_accuracys, label='Valid Accuracy')\n",
    "    ax[1].set_ylabel('Accuracy')\n",
    "    plt.legend()\n",
    "    plt.show()"
   ]
  },
  {
   "cell_type": "code",
   "execution_count": null,
   "metadata": {},
   "outputs": [],
   "source": []
  },
  {
   "cell_type": "markdown",
   "metadata": {},
   "source": [
    "# Load data to gpu"
   ]
  },
  {
   "cell_type": "code",
   "execution_count": 8,
   "metadata": {},
   "outputs": [],
   "source": [
    "dataset_train = train_loader.dataset[0]\n",
    "dataset_train = dataset_train.to(device)\n",
    "dataset_val = valid_loader.dataset[0]\n",
    "dataset_val = dataset_val.to(device)"
   ]
  },
  {
   "cell_type": "markdown",
   "metadata": {},
   "source": [
    "# Normal Training"
   ]
  },
  {
   "cell_type": "code",
   "execution_count": 10,
   "metadata": {},
   "outputs": [
    {
     "name": "stdout",
     "output_type": "stream",
     "text": [
      "Epoch: 1/30, Train Loss: 0.8804, Valid Loss: 0.6413, Duration: 11.45 sec\n",
      "Epoch: 2/30, Train Loss: 0.6006, Valid Loss: 0.5429, Duration: 11.34 sec\n",
      "Epoch: 3/30, Train Loss: 0.5604, Valid Loss: 0.5159, Duration: 12.16 sec\n",
      "Epoch: 4/30, Train Loss: 0.5361, Valid Loss: 0.5056, Duration: 11.77 sec\n",
      "Epoch: 5/30, Train Loss: 0.5216, Valid Loss: 0.5113, Duration: 12.49 sec\n",
      "Epoch: 6/30, Train Loss: 0.5168, Valid Loss: 0.4921, Duration: 11.44 sec\n",
      "Epoch: 7/30, Train Loss: 0.5136, Valid Loss: 0.4945, Duration: 11.85 sec\n",
      "Epoch: 8/30, Train Loss: 0.5086, Valid Loss: 0.4831, Duration: 12.50 sec\n",
      "Epoch: 9/30, Train Loss: 0.5040, Valid Loss: 0.4881, Duration: 12.21 sec\n",
      "Epoch: 10/30, Train Loss: 0.4974, Valid Loss: 0.4926, Duration: 12.05 sec\n",
      "Epoch: 11/30, Train Loss: 0.5014, Valid Loss: 0.4793, Duration: 11.42 sec\n",
      "Epoch: 12/30, Train Loss: 0.4998, Valid Loss: 0.4709, Duration: 11.31 sec\n",
      "Epoch: 13/30, Train Loss: 0.4982, Valid Loss: 0.4749, Duration: 11.38 sec\n",
      "Epoch: 14/30, Train Loss: 0.4935, Valid Loss: 0.4820, Duration: 11.22 sec\n",
      "Epoch: 15/30, Train Loss: 0.4925, Valid Loss: 0.4721, Duration: 11.37 sec\n",
      "Epoch: 16/30, Train Loss: 0.4862, Valid Loss: 0.4665, Duration: 11.26 sec\n",
      "Epoch: 17/30, Train Loss: 0.4900, Valid Loss: 0.4718, Duration: 11.21 sec\n",
      "Epoch: 18/30, Train Loss: 0.4872, Valid Loss: 0.4666, Duration: 11.19 sec\n",
      "Epoch: 19/30, Train Loss: 0.4843, Valid Loss: 0.4551, Duration: 11.25 sec\n",
      "Epoch: 20/30, Train Loss: 0.4788, Valid Loss: 0.4683, Duration: 11.25 sec\n",
      "Epoch: 21/30, Train Loss: 0.4828, Valid Loss: 0.4599, Duration: 11.30 sec\n",
      "Epoch: 22/30, Train Loss: 0.4777, Valid Loss: 0.4721, Duration: 11.29 sec\n",
      "Epoch: 23/30, Train Loss: 0.4834, Valid Loss: 0.4599, Duration: 11.26 sec\n",
      "Epoch: 24/30, Train Loss: 0.4786, Valid Loss: 0.4569, Duration: 11.29 sec\n",
      "Epoch: 25/30, Train Loss: 0.4790, Valid Loss: 0.4552, Duration: 11.23 sec\n",
      "Epoch: 26/30, Train Loss: 0.4692, Valid Loss: 0.4605, Duration: 11.24 sec\n",
      "Epoch: 27/30, Train Loss: 0.4715, Valid Loss: 0.4530, Duration: 11.22 sec\n",
      "Epoch: 28/30, Train Loss: 0.4754, Valid Loss: 0.4504, Duration: 11.29 sec\n",
      "Epoch: 29/30, Train Loss: 0.4720, Valid Loss: 0.4567, Duration: 11.22 sec\n",
      "Epoch: 30/30, Train Loss: 0.4706, Valid Loss: 0.4517, Duration: 11.32 sec\n"
     ]
    }
   ],
   "source": [
    "num_epochs = 30\n",
    "model = create_torch_model_CNN()\n",
    "\n",
    "learning_rate = 0.001\n",
    "torch.manual_seed(42)\n",
    "\n",
    "#print(peram_to_optimize)\n",
    "peram_to_optimize = model.peram_to_optimize\n",
    "\n",
    "\n",
    "optimizer = optim.Adam(peram_to_optimize, lr=learning_rate)\n",
    "model.train()\n",
    "\n",
    "train_losses, valid_losses, train_accuracys, validate_accuracys = train_model(model, num_epochs, dataset_train, dataset_val, optimizer, loss_function)"
   ]
  },
  {
   "cell_type": "code",
   "execution_count": 11,
   "metadata": {},
   "outputs": [
    {
     "data": {
      "image/png": "[encoded data removed]",
      "text/plain": [
       "<Figure size 640x480 with 2 Axes>"
      ]
     },
     "metadata": {},
     "output_type": "display_data"
    }
   ],
   "source": [
    "plot_losses(train_losses, valid_losses, train_accuracys, validate_accuracys)"
   ]
  },
  {
   "cell_type": "markdown",
   "metadata": {},
   "source": [
    "# HPO"
   ]
  },
  {
   "cell_type": "code",
   "execution_count": 29,
   "metadata": {},
   "outputs": [
    {
     "name": "stderr",
     "output_type": "stream",
     "text": [
      "[I 2024-06-10 16:51:14,575] A new study created in memory with name: no-name-432c630d-9ce7-47bf-98b6-1804df1f3a6d\n"
     ]
    },
    {
     "name": "stdout",
     "output_type": "stream",
     "text": [
      "Epoch: 1/10, Train Loss: 0.9911, Valid Loss: 0.9696, Train Accuracy: 1.0, Valid Accuracy: 1.0, Duration: 41.68 sec\n",
      "Epoch: 2/10, Train Loss: 0.9466, Valid Loss: 0.9637, Train Accuracy: 1.0, Valid Accuracy: 1.0, Duration: 42.30 sec\n",
      "Epoch: 3/10, Train Loss: 0.9423, Valid Loss: 0.9620, Train Accuracy: 1.0, Valid Accuracy: 1.0, Duration: 41.55 sec\n",
      "Epoch: 4/10, Train Loss: 0.9409, Valid Loss: 0.9618, Train Accuracy: 1.0, Valid Accuracy: 1.0, Duration: 41.32 sec\n",
      "Epoch: 5/10, Train Loss: 0.9401, Valid Loss: 0.9613, Train Accuracy: 1.0, Valid Accuracy: 1.0, Duration: 41.48 sec\n",
      "Epoch: 6/10, Train Loss: 0.9397, Valid Loss: 0.9609, Train Accuracy: 1.0, Valid Accuracy: 1.0, Duration: 39.26 sec\n",
      "Epoch: 7/10, Train Loss: 0.9390, Valid Loss: 0.9608, Train Accuracy: 1.0, Valid Accuracy: 1.0, Duration: 38.94 sec\n",
      "Epoch: 8/10, Train Loss: 0.9386, Valid Loss: 0.9608, Train Accuracy: 1.0, Valid Accuracy: 1.0, Duration: 39.01 sec\n",
      "Epoch: 9/10, Train Loss: 0.9384, Valid Loss: 0.9609, Train Accuracy: 1.0, Valid Accuracy: 1.0, Duration: 38.89 sec\n"
     ]
    },
    {
     "name": "stderr",
     "output_type": "stream",
     "text": [
      "[I 2024-06-10 16:57:57,993] Trial 0 finished with value: 0.9608807717098662 and parameters: {'N_conv_layers': 3, 'N_dense_layers': 3, 'dropout_rate': 0.3999299806504355, 'filters_layer0': 50, 'filter_size_layer0': 5, 'stride_layer0': 1, 'padding_layer0': 2, 'filters_layer1': 60, 'filter_size_layer1': 7, 'stride_layer1': 1, 'padding_layer1': 2, 'filters_layer2': 25, 'filter_size_layer2': 6, 'stride_layer2': 1, 'padding_layer2': 3, 'dense_layer0': 106, 'dense_layer1': 87, 'dense_layer2': 63, 'adam_learning_rate': 0.0017882696824408188}. Best is trial 0 with value: 0.9608807717098662.\n"
     ]
    },
    {
     "name": "stdout",
     "output_type": "stream",
     "text": [
      "Epoch: 10/10, Train Loss: 0.9382, Valid Loss: 0.9609, Train Accuracy: 1.0, Valid Accuracy: 1.0, Duration: 38.88 sec\n",
      "Epoch: 1/10, Train Loss: 0.5518, Valid Loss: 0.4182, Train Accuracy: 1.0, Valid Accuracy: 1.0, Duration: 25.54 sec\n",
      "Epoch: 2/10, Train Loss: 0.3971, Valid Loss: 0.3914, Train Accuracy: 1.0, Valid Accuracy: 1.0, Duration: 25.28 sec\n",
      "Epoch: 3/10, Train Loss: 0.3662, Valid Loss: 0.4423, Train Accuracy: 1.0, Valid Accuracy: 1.0, Duration: 25.21 sec\n",
      "Epoch: 4/10, Train Loss: 0.3391, Valid Loss: 0.4149, Train Accuracy: 1.0, Valid Accuracy: 1.0, Duration: 25.12 sec\n",
      "Epoch: 5/10, Train Loss: 0.3198, Valid Loss: 0.4542, Train Accuracy: 1.0, Valid Accuracy: 1.0, Duration: 25.29 sec\n",
      "Epoch: 6/10, Train Loss: 0.3092, Valid Loss: 0.4153, Train Accuracy: 1.0, Valid Accuracy: 1.0, Duration: 24.95 sec\n",
      "Epoch: 7/10, Train Loss: 0.3039, Valid Loss: 0.3565, Train Accuracy: 1.0, Valid Accuracy: 1.0, Duration: 25.10 sec\n",
      "Epoch: 8/10, Train Loss: 0.2568, Valid Loss: 0.3172, Train Accuracy: 1.0, Valid Accuracy: 1.0, Duration: 25.02 sec\n",
      "Epoch: 9/10, Train Loss: 0.2109, Valid Loss: 0.2613, Train Accuracy: 1.0, Valid Accuracy: 1.0, Duration: 24.98 sec\n"
     ]
    },
    {
     "name": "stderr",
     "output_type": "stream",
     "text": [
      "[I 2024-06-10 17:02:09,564] Trial 1 finished with value: 0.27099792782424326 and parameters: {'N_conv_layers': 3, 'N_dense_layers': 3, 'dropout_rate': 0.31094456253392155, 'filters_layer0': 30, 'filter_size_layer0': 5, 'stride_layer0': 1, 'padding_layer0': 3, 'filters_layer1': 57, 'filter_size_layer1': 4, 'stride_layer1': 1, 'padding_layer1': 2, 'filters_layer2': 21, 'filter_size_layer2': 6, 'stride_layer2': 1, 'padding_layer2': 3, 'dense_layer0': 41, 'dense_layer1': 48, 'dense_layer2': 59, 'adam_learning_rate': 4.711210871206942e-05}. Best is trial 1 with value: 0.27099792782424326.\n"
     ]
    },
    {
     "name": "stdout",
     "output_type": "stream",
     "text": [
      "Epoch: 10/10, Train Loss: 0.1906, Valid Loss: 0.2710, Train Accuracy: 1.0, Valid Accuracy: 1.0, Duration: 25.03 sec\n",
      "Epoch: 1/10, Train Loss: 0.6032, Valid Loss: 0.3961, Train Accuracy: 1.0, Valid Accuracy: 1.0, Duration: 24.49 sec\n",
      "Epoch: 2/10, Train Loss: 0.3298, Valid Loss: 0.3755, Train Accuracy: 1.0, Valid Accuracy: 1.0, Duration: 24.46 sec\n",
      "Epoch: 3/10, Train Loss: 0.2592, Valid Loss: 0.3658, Train Accuracy: 1.0, Valid Accuracy: 1.0, Duration: 23.93 sec\n",
      "Epoch: 4/10, Train Loss: 0.2118, Valid Loss: 0.2896, Train Accuracy: 1.0, Valid Accuracy: 1.0, Duration: 24.08 sec\n",
      "Epoch: 5/10, Train Loss: 0.1791, Valid Loss: 0.2896, Train Accuracy: 1.0, Valid Accuracy: 1.0, Duration: 24.03 sec\n",
      "Epoch: 6/10, Train Loss: 0.2050, Valid Loss: 0.2645, Train Accuracy: 1.0, Valid Accuracy: 1.0, Duration: 24.15 sec\n",
      "Epoch: 7/10, Train Loss: 0.1284, Valid Loss: 0.2595, Train Accuracy: 1.0, Valid Accuracy: 1.0, Duration: 24.05 sec\n",
      "Epoch: 8/10, Train Loss: 0.1130, Valid Loss: 0.2935, Train Accuracy: 1.0, Valid Accuracy: 1.0, Duration: 24.07 sec\n",
      "Epoch: 9/10, Train Loss: 0.1018, Valid Loss: 0.2382, Train Accuracy: 1.0, Valid Accuracy: 1.0, Duration: 23.99 sec\n"
     ]
    },
    {
     "name": "stderr",
     "output_type": "stream",
     "text": [
      "[I 2024-06-10 17:06:10,857] Trial 2 finished with value: 0.26752053555249083 and parameters: {'N_conv_layers': 1, 'N_dense_layers': 3, 'dropout_rate': 0.24951561117437754, 'filters_layer0': 16, 'filter_size_layer0': 4, 'stride_layer0': 1, 'padding_layer0': 3, 'dense_layer0': 109, 'dense_layer1': 29, 'dense_layer2': 123, 'adam_learning_rate': 0.00035418813358637695}. Best is trial 2 with value: 0.26752053555249083.\n"
     ]
    },
    {
     "name": "stdout",
     "output_type": "stream",
     "text": [
      "Epoch: 10/10, Train Loss: 0.0843, Valid Loss: 0.2675, Train Accuracy: 1.0, Valid Accuracy: 1.0, Duration: 23.94 sec\n",
      "Epoch: 1/10, Train Loss: 0.9383, Valid Loss: 0.9016, Train Accuracy: 1.0, Valid Accuracy: 1.0, Duration: 13.27 sec\n",
      "Epoch: 2/10, Train Loss: 0.8323, Valid Loss: 0.8234, Train Accuracy: 1.0, Valid Accuracy: 1.0, Duration: 12.20 sec\n",
      "Epoch: 3/10, Train Loss: 0.7666, Valid Loss: 0.8010, Train Accuracy: 1.0, Valid Accuracy: 1.0, Duration: 11.79 sec\n",
      "Epoch: 4/10, Train Loss: 0.7313, Valid Loss: 0.7818, Train Accuracy: 1.0, Valid Accuracy: 1.0, Duration: 12.01 sec\n",
      "Epoch: 5/10, Train Loss: 0.7120, Valid Loss: 0.7656, Train Accuracy: 1.0, Valid Accuracy: 1.0, Duration: 14.24 sec\n",
      "Epoch: 6/10, Train Loss: 0.7061, Valid Loss: 0.7634, Train Accuracy: 1.0, Valid Accuracy: 1.0, Duration: 14.48 sec\n",
      "Epoch: 7/10, Train Loss: 0.6941, Valid Loss: 0.7472, Train Accuracy: 1.0, Valid Accuracy: 1.0, Duration: 14.65 sec\n",
      "Epoch: 8/10, Train Loss: 0.6875, Valid Loss: 0.7672, Train Accuracy: 1.0, Valid Accuracy: 1.0, Duration: 14.57 sec\n",
      "Epoch: 9/10, Train Loss: 0.6540, Valid Loss: 0.6569, Train Accuracy: 1.0, Valid Accuracy: 1.0, Duration: 14.49 sec\n"
     ]
    },
    {
     "name": "stderr",
     "output_type": "stream",
     "text": [
      "[I 2024-06-10 17:08:27,093] Trial 3 finished with value: 0.6855377538165943 and parameters: {'N_conv_layers': 1, 'N_dense_layers': 1, 'dropout_rate': 0.4936386377552212, 'filters_layer0': 52, 'filter_size_layer0': 6, 'stride_layer0': 3, 'padding_layer0': 2, 'dense_layer0': 25, 'adam_learning_rate': 0.00033680180853251635}. Best is trial 2 with value: 0.26752053555249083.\n"
     ]
    },
    {
     "name": "stdout",
     "output_type": "stream",
     "text": [
      "Epoch: 10/10, Train Loss: 0.5680, Valid Loss: 0.6855, Train Accuracy: 1.0, Valid Accuracy: 1.0, Duration: 14.52 sec\n",
      "Epoch: 1/10, Train Loss: 1.0986, Valid Loss: 1.0986, Train Accuracy: 1.0, Valid Accuracy: 1.0, Duration: 19.75 sec\n",
      "Epoch: 2/10, Train Loss: 1.0986, Valid Loss: 1.0986, Train Accuracy: 1.0, Valid Accuracy: 1.0, Duration: 19.26 sec\n",
      "Epoch: 3/10, Train Loss: 1.0986, Valid Loss: 1.0986, Train Accuracy: 1.0, Valid Accuracy: 1.0, Duration: 19.45 sec\n",
      "Epoch: 4/10, Train Loss: 1.0986, Valid Loss: 1.0986, Train Accuracy: 1.0, Valid Accuracy: 1.0, Duration: 19.19 sec\n",
      "Epoch: 5/10, Train Loss: 1.0986, Valid Loss: 1.0986, Train Accuracy: 1.0, Valid Accuracy: 1.0, Duration: 19.33 sec\n",
      "Epoch: 6/10, Train Loss: 1.0986, Valid Loss: 1.0986, Train Accuracy: 1.0, Valid Accuracy: 1.0, Duration: 19.37 sec\n",
      "Epoch: 7/10, Train Loss: 1.0986, Valid Loss: 1.0986, Train Accuracy: 1.0, Valid Accuracy: 1.0, Duration: 19.52 sec\n",
      "Epoch: 8/10, Train Loss: 1.0986, Valid Loss: 1.0986, Train Accuracy: 1.0, Valid Accuracy: 1.0, Duration: 19.12 sec\n",
      "Epoch: 9/10, Train Loss: 1.0986, Valid Loss: 1.0986, Train Accuracy: 1.0, Valid Accuracy: 1.0, Duration: 19.17 sec\n"
     ]
    },
    {
     "name": "stderr",
     "output_type": "stream",
     "text": [
      "[I 2024-06-10 17:11:39,965] Trial 4 finished with value: 1.0986123085021973 and parameters: {'N_conv_layers': 2, 'N_dense_layers': 3, 'dropout_rate': 0.1408390266597383, 'filters_layer0': 48, 'filter_size_layer0': 5, 'stride_layer0': 3, 'padding_layer0': 1, 'filters_layer1': 57, 'filter_size_layer1': 7, 'stride_layer1': 2, 'padding_layer1': 2, 'dense_layer0': 17, 'dense_layer1': 57, 'dense_layer2': 43, 'adam_learning_rate': 0.0005220817794896793}. Best is trial 2 with value: 0.26752053555249083.\n"
     ]
    },
    {
     "name": "stdout",
     "output_type": "stream",
     "text": [
      "Epoch: 10/10, Train Loss: 1.0986, Valid Loss: 1.0986, Train Accuracy: 1.0, Valid Accuracy: 1.0, Duration: 18.69 sec\n",
      "Epoch: 1/10, Train Loss: 1.0986, Valid Loss: 1.0986, Train Accuracy: 1.0, Valid Accuracy: 1.0, Duration: 15.00 sec\n",
      "Epoch: 2/10, Train Loss: 1.0986, Valid Loss: 1.0986, Train Accuracy: 1.0, Valid Accuracy: 1.0, Duration: 14.74 sec\n",
      "Epoch: 3/10, Train Loss: 1.0986, Valid Loss: 1.0986, Train Accuracy: 1.0, Valid Accuracy: 1.0, Duration: 14.75 sec\n",
      "Epoch: 4/10, Train Loss: 1.0986, Valid Loss: 1.0986, Train Accuracy: 1.0, Valid Accuracy: 1.0, Duration: 14.75 sec\n",
      "Epoch: 5/10, Train Loss: 1.0986, Valid Loss: 1.0986, Train Accuracy: 1.0, Valid Accuracy: 1.0, Duration: 14.45 sec\n",
      "Epoch: 6/10, Train Loss: 1.0986, Valid Loss: 1.0986, Train Accuracy: 1.0, Valid Accuracy: 1.0, Duration: 14.50 sec\n",
      "Epoch: 7/10, Train Loss: 1.0986, Valid Loss: 1.0986, Train Accuracy: 1.0, Valid Accuracy: 1.0, Duration: 14.71 sec\n",
      "Epoch: 8/10, Train Loss: 1.0986, Valid Loss: 1.0986, Train Accuracy: 1.0, Valid Accuracy: 1.0, Duration: 14.60 sec\n",
      "Epoch: 9/10, Train Loss: 1.0986, Valid Loss: 1.0986, Train Accuracy: 1.0, Valid Accuracy: 1.0, Duration: 14.60 sec\n"
     ]
    },
    {
     "name": "stderr",
     "output_type": "stream",
     "text": [
      "[I 2024-06-10 17:14:06,786] Trial 5 finished with value: 1.0986123085021973 and parameters: {'N_conv_layers': 1, 'N_dense_layers': 2, 'dropout_rate': 0.07871222268874223, 'filters_layer0': 53, 'filter_size_layer0': 6, 'stride_layer0': 3, 'padding_layer0': 2, 'dense_layer0': 16, 'dense_layer1': 114, 'adam_learning_rate': 7.645454414017538e-05}. Best is trial 2 with value: 0.26752053555249083.\n"
     ]
    },
    {
     "name": "stdout",
     "output_type": "stream",
     "text": [
      "Epoch: 10/10, Train Loss: 1.0986, Valid Loss: 1.0986, Train Accuracy: 1.0, Valid Accuracy: 1.0, Duration: 14.71 sec\n",
      "Epoch: 1/10, Train Loss: 0.8849, Valid Loss: 0.6453, Train Accuracy: 1.0, Valid Accuracy: 1.0, Duration: 16.83 sec\n",
      "Epoch: 2/10, Train Loss: 0.5415, Valid Loss: 0.5055, Train Accuracy: 1.0, Valid Accuracy: 1.0, Duration: 16.30 sec\n",
      "Epoch: 3/10, Train Loss: 0.4660, Valid Loss: 0.4674, Train Accuracy: 1.0, Valid Accuracy: 1.0, Duration: 16.49 sec\n",
      "Epoch: 4/10, Train Loss: 0.4290, Valid Loss: 0.4516, Train Accuracy: 1.0, Valid Accuracy: 1.0, Duration: 16.32 sec\n",
      "Epoch: 5/10, Train Loss: 0.4090, Valid Loss: 0.4381, Train Accuracy: 1.0, Valid Accuracy: 1.0, Duration: 16.30 sec\n",
      "Epoch: 6/10, Train Loss: 0.3978, Valid Loss: 0.4343, Train Accuracy: 1.0, Valid Accuracy: 1.0, Duration: 16.41 sec\n",
      "Epoch: 7/10, Train Loss: 0.3872, Valid Loss: 0.4212, Train Accuracy: 1.0, Valid Accuracy: 1.0, Duration: 16.21 sec\n",
      "Epoch: 8/10, Train Loss: 0.3801, Valid Loss: 0.4160, Train Accuracy: 1.0, Valid Accuracy: 1.0, Duration: 16.14 sec\n",
      "Epoch: 9/10, Train Loss: 0.3706, Valid Loss: 0.4132, Train Accuracy: 1.0, Valid Accuracy: 1.0, Duration: 16.10 sec\n"
     ]
    },
    {
     "name": "stderr",
     "output_type": "stream",
     "text": [
      "[I 2024-06-10 17:16:50,233] Trial 6 finished with value: 0.40207897961351957 and parameters: {'N_conv_layers': 1, 'N_dense_layers': 3, 'dropout_rate': 0.19734008299672728, 'filters_layer0': 46, 'filter_size_layer0': 4, 'stride_layer0': 3, 'padding_layer0': 1, 'dense_layer0': 117, 'dense_layer1': 126, 'dense_layer2': 123, 'adam_learning_rate': 1.8733243751021864e-05}. Best is trial 2 with value: 0.26752053555249083.\n"
     ]
    },
    {
     "name": "stdout",
     "output_type": "stream",
     "text": [
      "Epoch: 10/10, Train Loss: 0.3641, Valid Loss: 0.4021, Train Accuracy: 1.0, Valid Accuracy: 1.0, Duration: 16.30 sec\n",
      "Epoch: 1/10, Train Loss: 1.0725, Valid Loss: 1.0986, Train Accuracy: 1.0, Valid Accuracy: 1.0, Duration: 19.50 sec\n",
      "Epoch: 2/10, Train Loss: 1.0986, Valid Loss: 1.0986, Train Accuracy: 1.0, Valid Accuracy: 1.0, Duration: 18.37 sec\n",
      "Epoch: 3/10, Train Loss: 1.0986, Valid Loss: 1.0986, Train Accuracy: 1.0, Valid Accuracy: 1.0, Duration: 18.82 sec\n",
      "Epoch: 4/10, Train Loss: 1.0986, Valid Loss: 1.0986, Train Accuracy: 1.0, Valid Accuracy: 1.0, Duration: 19.00 sec\n",
      "Epoch: 5/10, Train Loss: 1.0986, Valid Loss: 1.0986, Train Accuracy: 1.0, Valid Accuracy: 1.0, Duration: 18.37 sec\n",
      "Epoch: 6/10, Train Loss: 1.0986, Valid Loss: 1.0986, Train Accuracy: 1.0, Valid Accuracy: 1.0, Duration: 19.55 sec\n",
      "Epoch: 7/10, Train Loss: 1.0986, Valid Loss: 1.0986, Train Accuracy: 1.0, Valid Accuracy: 1.0, Duration: 18.78 sec\n",
      "Epoch: 8/10, Train Loss: 1.0986, Valid Loss: 1.0986, Train Accuracy: 1.0, Valid Accuracy: 1.0, Duration: 18.37 sec\n",
      "Epoch: 9/10, Train Loss: 1.0986, Valid Loss: 1.0986, Train Accuracy: 1.0, Valid Accuracy: 1.0, Duration: 19.13 sec\n"
     ]
    },
    {
     "name": "stderr",
     "output_type": "stream",
     "text": [
      "[I 2024-06-10 17:19:59,101] Trial 7 finished with value: 1.0986123085021973 and parameters: {'N_conv_layers': 3, 'N_dense_layers': 2, 'dropout_rate': 0.4772190816353226, 'filters_layer0': 49, 'filter_size_layer0': 5, 'stride_layer0': 2, 'padding_layer0': 3, 'filters_layer1': 60, 'filter_size_layer1': 7, 'stride_layer1': 2, 'padding_layer1': 1, 'filters_layer2': 35, 'filter_size_layer2': 3, 'stride_layer2': 2, 'padding_layer2': 1, 'dense_layer0': 45, 'dense_layer1': 66, 'adam_learning_rate': 0.0013196362292351058}. Best is trial 2 with value: 0.26752053555249083.\n"
     ]
    },
    {
     "name": "stdout",
     "output_type": "stream",
     "text": [
      "Epoch: 10/10, Train Loss: 1.0986, Valid Loss: 1.0986, Train Accuracy: 1.0, Valid Accuracy: 1.0, Duration: 18.97 sec\n",
      "Epoch: 1/10, Train Loss: 1.0986, Valid Loss: 1.0986, Train Accuracy: 1.0, Valid Accuracy: 1.0, Duration: 15.52 sec\n",
      "Epoch: 2/10, Train Loss: 1.0986, Valid Loss: 1.0986, Train Accuracy: 1.0, Valid Accuracy: 1.0, Duration: 15.24 sec\n",
      "Epoch: 3/10, Train Loss: 1.0986, Valid Loss: 1.0986, Train Accuracy: 1.0, Valid Accuracy: 1.0, Duration: 15.19 sec\n",
      "Epoch: 4/10, Train Loss: 1.0986, Valid Loss: 1.0986, Train Accuracy: 1.0, Valid Accuracy: 1.0, Duration: 15.06 sec\n",
      "Epoch: 5/10, Train Loss: 1.0986, Valid Loss: 1.0986, Train Accuracy: 1.0, Valid Accuracy: 1.0, Duration: 15.04 sec\n",
      "Epoch: 6/10, Train Loss: 1.0986, Valid Loss: 1.0986, Train Accuracy: 1.0, Valid Accuracy: 1.0, Duration: 15.11 sec\n",
      "Epoch: 7/10, Train Loss: 1.0986, Valid Loss: 1.0986, Train Accuracy: 1.0, Valid Accuracy: 1.0, Duration: 15.01 sec\n",
      "Epoch: 8/10, Train Loss: 1.0986, Valid Loss: 1.0986, Train Accuracy: 1.0, Valid Accuracy: 1.0, Duration: 15.11 sec\n",
      "Epoch: 9/10, Train Loss: 1.0986, Valid Loss: 1.0986, Train Accuracy: 1.0, Valid Accuracy: 1.0, Duration: 14.96 sec\n"
     ]
    },
    {
     "name": "stderr",
     "output_type": "stream",
     "text": [
      "[I 2024-06-10 17:22:30,710] Trial 8 finished with value: 1.0986123085021973 and parameters: {'N_conv_layers': 2, 'N_dense_layers': 1, 'dropout_rate': 0.20900634711584914, 'filters_layer0': 21, 'filter_size_layer0': 5, 'stride_layer0': 3, 'padding_layer0': 3, 'filters_layer1': 38, 'filter_size_layer1': 5, 'stride_layer1': 1, 'padding_layer1': 2, 'dense_layer0': 95, 'adam_learning_rate': 3.1725449069002554e-07}. Best is trial 2 with value: 0.26752053555249083.\n"
     ]
    },
    {
     "name": "stdout",
     "output_type": "stream",
     "text": [
      "Epoch: 10/10, Train Loss: 1.0986, Valid Loss: 1.0986, Train Accuracy: 1.0, Valid Accuracy: 1.0, Duration: 15.33 sec\n",
      "Epoch: 1/10, Train Loss: 1.0990, Valid Loss: 1.0975, Train Accuracy: 1.0, Valid Accuracy: 1.0, Duration: 16.16 sec\n",
      "Epoch: 2/10, Train Loss: 1.0983, Valid Loss: 1.0986, Train Accuracy: 1.0, Valid Accuracy: 1.0, Duration: 16.40 sec\n",
      "Epoch: 3/10, Train Loss: 1.0984, Valid Loss: 1.0986, Train Accuracy: 1.0, Valid Accuracy: 1.0, Duration: 16.58 sec\n",
      "Epoch: 4/10, Train Loss: 1.0986, Valid Loss: 1.0986, Train Accuracy: 1.0, Valid Accuracy: 1.0, Duration: 16.21 sec\n",
      "Epoch: 5/10, Train Loss: 1.0986, Valid Loss: 1.0986, Train Accuracy: 1.0, Valid Accuracy: 1.0, Duration: 15.84 sec\n",
      "Epoch: 6/10, Train Loss: 1.0986, Valid Loss: 1.0986, Train Accuracy: 1.0, Valid Accuracy: 1.0, Duration: 16.27 sec\n",
      "Epoch: 7/10, Train Loss: 1.0986, Valid Loss: 1.0986, Train Accuracy: 1.0, Valid Accuracy: 1.0, Duration: 15.77 sec\n",
      "Epoch: 8/10, Train Loss: 1.0986, Valid Loss: 1.0986, Train Accuracy: 1.0, Valid Accuracy: 1.0, Duration: 15.95 sec\n",
      "Epoch: 9/10, Train Loss: 1.0986, Valid Loss: 1.0986, Train Accuracy: 1.0, Valid Accuracy: 1.0, Duration: 15.97 sec\n"
     ]
    },
    {
     "name": "stderr",
     "output_type": "stream",
     "text": [
      "[I 2024-06-10 17:25:11,619] Trial 9 finished with value: 1.0986123085021973 and parameters: {'N_conv_layers': 3, 'N_dense_layers': 1, 'dropout_rate': 0.16147752071647348, 'filters_layer0': 43, 'filter_size_layer0': 7, 'stride_layer0': 1, 'padding_layer0': 3, 'filters_layer1': 52, 'filter_size_layer1': 3, 'stride_layer1': 1, 'padding_layer1': 3, 'filters_layer2': 36, 'filter_size_layer2': 7, 'stride_layer2': 3, 'padding_layer2': 1, 'dense_layer0': 37, 'adam_learning_rate': 2.4020364706111696e-05}. Best is trial 2 with value: 0.26752053555249083.\n"
     ]
    },
    {
     "name": "stdout",
     "output_type": "stream",
     "text": [
      "Epoch: 10/10, Train Loss: 1.0986, Valid Loss: 1.0986, Train Accuracy: 1.0, Valid Accuracy: 1.0, Duration: 15.73 sec\n",
      "Epoch: 1/10, Train Loss: 0.6483, Valid Loss: 0.5610, Train Accuracy: 1.0, Valid Accuracy: 1.0, Duration: 13.78 sec\n",
      "Epoch: 2/10, Train Loss: 0.5284, Valid Loss: 0.5368, Train Accuracy: 1.0, Valid Accuracy: 1.0, Duration: 13.20 sec\n",
      "Epoch: 3/10, Train Loss: 0.5129, Valid Loss: 0.5256, Train Accuracy: 1.0, Valid Accuracy: 1.0, Duration: 13.63 sec\n",
      "Epoch: 4/10, Train Loss: 0.5044, Valid Loss: 0.5160, Train Accuracy: 1.0, Valid Accuracy: 1.0, Duration: 14.34 sec\n",
      "Epoch: 5/10, Train Loss: 0.4986, Valid Loss: 0.5095, Train Accuracy: 1.0, Valid Accuracy: 1.0, Duration: 13.54 sec\n",
      "Epoch: 6/10, Train Loss: 0.4943, Valid Loss: 0.5052, Train Accuracy: 1.0, Valid Accuracy: 1.0, Duration: 13.49 sec\n",
      "Epoch: 7/10, Train Loss: 0.4911, Valid Loss: 0.4956, Train Accuracy: 1.0, Valid Accuracy: 1.0, Duration: 13.79 sec\n",
      "Epoch: 8/10, Train Loss: 0.4884, Valid Loss: 0.4923, Train Accuracy: 1.0, Valid Accuracy: 1.0, Duration: 13.84 sec\n",
      "Epoch: 9/10, Train Loss: 0.4862, Valid Loss: 0.4894, Train Accuracy: 1.0, Valid Accuracy: 1.0, Duration: 13.53 sec\n"
     ]
    },
    {
     "name": "stderr",
     "output_type": "stream",
     "text": [
      "[I 2024-06-10 17:27:28,105] Trial 10 finished with value: 0.4869643356719039 and parameters: {'N_conv_layers': 1, 'N_dense_layers': 2, 'dropout_rate': 0.30798646657979944, 'filters_layer0': 9, 'filter_size_layer0': 3, 'stride_layer0': 2, 'padding_layer0': 3, 'dense_layer0': 78, 'dense_layer1': 8, 'adam_learning_rate': 0.01611024465381059}. Best is trial 2 with value: 0.26752053555249083.\n"
     ]
    },
    {
     "name": "stdout",
     "output_type": "stream",
     "text": [
      "Epoch: 10/10, Train Loss: 0.4843, Valid Loss: 0.4870, Train Accuracy: 1.0, Valid Accuracy: 1.0, Duration: 13.27 sec\n",
      "Epoch: 1/10, Train Loss: 1.0499, Valid Loss: 1.0413, Train Accuracy: 1.0, Valid Accuracy: 1.0, Duration: 19.03 sec\n",
      "Epoch: 2/10, Train Loss: 1.0255, Valid Loss: 1.0185, Train Accuracy: 1.0, Valid Accuracy: 1.0, Duration: 19.23 sec\n",
      "Epoch: 3/10, Train Loss: 1.0014, Valid Loss: 0.9923, Train Accuracy: 1.0, Valid Accuracy: 1.0, Duration: 18.91 sec\n",
      "Epoch: 4/10, Train Loss: 0.9751, Valid Loss: 0.9642, Train Accuracy: 1.0, Valid Accuracy: 1.0, Duration: 18.93 sec\n",
      "Epoch: 5/10, Train Loss: 0.9483, Valid Loss: 0.9385, Train Accuracy: 1.0, Valid Accuracy: 1.0, Duration: 19.57 sec\n",
      "Epoch: 6/10, Train Loss: 0.9212, Valid Loss: 0.9110, Train Accuracy: 1.0, Valid Accuracy: 1.0, Duration: 19.02 sec\n",
      "Epoch: 7/10, Train Loss: 0.8907, Valid Loss: 0.8791, Train Accuracy: 1.0, Valid Accuracy: 1.0, Duration: 19.18 sec\n",
      "Epoch: 8/10, Train Loss: 0.8543, Valid Loss: 0.8403, Train Accuracy: 1.0, Valid Accuracy: 1.0, Duration: 19.39 sec\n",
      "Epoch: 9/10, Train Loss: 0.8125, Valid Loss: 0.7966, Train Accuracy: 1.0, Valid Accuracy: 1.0, Duration: 19.42 sec\n"
     ]
    },
    {
     "name": "stderr",
     "output_type": "stream",
     "text": [
      "[I 2024-06-10 17:30:40,087] Trial 11 finished with value: 0.7511925217523621 and parameters: {'N_conv_layers': 2, 'N_dense_layers': 3, 'dropout_rate': 0.31567993505956676, 'filters_layer0': 26, 'filter_size_layer0': 3, 'stride_layer0': 1, 'padding_layer0': 3, 'filters_layer1': 10, 'filter_size_layer1': 3, 'stride_layer1': 3, 'padding_layer1': 1, 'dense_layer0': 62, 'dense_layer1': 26, 'dense_layer2': 120, 'adam_learning_rate': 2.2006332235492167e-06}. Best is trial 2 with value: 0.26752053555249083.\n"
     ]
    },
    {
     "name": "stdout",
     "output_type": "stream",
     "text": [
      "Epoch: 10/10, Train Loss: 0.7651, Valid Loss: 0.7512, Train Accuracy: 1.0, Valid Accuracy: 1.0, Duration: 19.20 sec\n",
      "Epoch: 1/10, Train Loss: 1.3256, Valid Loss: 1.0986, Train Accuracy: 1.0, Valid Accuracy: 1.0, Duration: 20.68 sec\n",
      "Epoch: 2/10, Train Loss: 1.0986, Valid Loss: 1.0986, Train Accuracy: 1.0, Valid Accuracy: 1.0, Duration: 20.32 sec\n",
      "Epoch: 3/10, Train Loss: 1.0986, Valid Loss: 1.0986, Train Accuracy: 1.0, Valid Accuracy: 1.0, Duration: 20.53 sec\n",
      "Epoch: 4/10, Train Loss: 1.0986, Valid Loss: 1.0986, Train Accuracy: 1.0, Valid Accuracy: 1.0, Duration: 20.45 sec\n",
      "Epoch: 5/10, Train Loss: 1.0986, Valid Loss: 1.0986, Train Accuracy: 1.0, Valid Accuracy: 1.0, Duration: 19.95 sec\n",
      "Epoch: 6/10, Train Loss: 1.0986, Valid Loss: 1.0986, Train Accuracy: 1.0, Valid Accuracy: 1.0, Duration: 20.27 sec\n",
      "Epoch: 7/10, Train Loss: 1.0986, Valid Loss: 1.0986, Train Accuracy: 1.0, Valid Accuracy: 1.0, Duration: 20.27 sec\n",
      "Epoch: 8/10, Train Loss: 1.0986, Valid Loss: 1.0986, Train Accuracy: 1.0, Valid Accuracy: 1.0, Duration: 20.22 sec\n",
      "Epoch: 9/10, Train Loss: 1.0986, Valid Loss: 1.0986, Train Accuracy: 1.0, Valid Accuracy: 1.0, Duration: 20.11 sec\n"
     ]
    },
    {
     "name": "stderr",
     "output_type": "stream",
     "text": [
      "[I 2024-06-10 17:34:02,716] Trial 12 finished with value: 1.0986123085021973 and parameters: {'N_conv_layers': 3, 'N_dense_layers': 3, 'dropout_rate': 0.2995302452994059, 'filters_layer0': 28, 'filter_size_layer0': 4, 'stride_layer0': 1, 'padding_layer0': 3, 'filters_layer1': 39, 'filter_size_layer1': 5, 'stride_layer1': 3, 'padding_layer1': 3, 'filters_layer2': 9, 'filter_size_layer2': 4, 'stride_layer2': 1, 'padding_layer2': 3, 'dense_layer0': 68, 'dense_layer1': 40, 'dense_layer2': 14, 'adam_learning_rate': 0.04222556709698781}. Best is trial 2 with value: 0.26752053555249083.\n"
     ]
    },
    {
     "name": "stdout",
     "output_type": "stream",
     "text": [
      "Epoch: 10/10, Train Loss: 1.0986, Valid Loss: 1.0986, Train Accuracy: 1.0, Valid Accuracy: 1.0, Duration: 19.73 sec\n",
      "Epoch: 1/10, Train Loss: 1.0663, Valid Loss: 1.0621, Train Accuracy: 1.0, Valid Accuracy: 1.0, Duration: 19.57 sec\n",
      "Epoch: 2/10, Train Loss: 1.0463, Valid Loss: 1.0419, Train Accuracy: 1.0, Valid Accuracy: 1.0, Duration: 19.35 sec\n",
      "Epoch: 3/10, Train Loss: 1.0161, Valid Loss: 1.0024, Train Accuracy: 1.0, Valid Accuracy: 1.0, Duration: 19.52 sec\n",
      "Epoch: 4/10, Train Loss: 0.9717, Valid Loss: 0.9638, Train Accuracy: 1.0, Valid Accuracy: 1.0, Duration: 19.29 sec\n",
      "Epoch: 5/10, Train Loss: 0.9396, Valid Loss: 0.9427, Train Accuracy: 1.0, Valid Accuracy: 1.0, Duration: 19.30 sec\n",
      "Epoch: 6/10, Train Loss: 0.9211, Valid Loss: 0.9282, Train Accuracy: 1.0, Valid Accuracy: 1.0, Duration: 19.54 sec\n",
      "Epoch: 7/10, Train Loss: 0.9089, Valid Loss: 0.9198, Train Accuracy: 1.0, Valid Accuracy: 1.0, Duration: 19.45 sec\n",
      "Epoch: 8/10, Train Loss: 0.9003, Valid Loss: 0.9131, Train Accuracy: 1.0, Valid Accuracy: 1.0, Duration: 19.39 sec\n",
      "Epoch: 9/10, Train Loss: 0.8928, Valid Loss: 0.9074, Train Accuracy: 1.0, Valid Accuracy: 1.0, Duration: 19.54 sec\n"
     ]
    },
    {
     "name": "stderr",
     "output_type": "stream",
     "text": [
      "[I 2024-06-10 17:37:17,081] Trial 13 finished with value: 0.9028636451995966 and parameters: {'N_conv_layers': 2, 'N_dense_layers': 3, 'dropout_rate': 0.3838555642418755, 'filters_layer0': 12, 'filter_size_layer0': 4, 'stride_layer0': 2, 'padding_layer0': 2, 'filters_layer1': 20, 'filter_size_layer1': 4, 'stride_layer1': 1, 'padding_layer1': 3, 'dense_layer0': 124, 'dense_layer1': 40, 'dense_layer2': 88, 'adam_learning_rate': 3.7149469240647783e-06}. Best is trial 2 with value: 0.26752053555249083.\n"
     ]
    },
    {
     "name": "stdout",
     "output_type": "stream",
     "text": [
      "Epoch: 10/10, Train Loss: 0.8856, Valid Loss: 0.9029, Train Accuracy: 1.0, Valid Accuracy: 1.0, Duration: 19.30 sec\n",
      "Epoch: 1/10, Train Loss: 1.0989, Valid Loss: 1.0986, Train Accuracy: 1.0, Valid Accuracy: 1.0, Duration: 19.87 sec\n",
      "Epoch: 2/10, Train Loss: 1.0986, Valid Loss: 1.0986, Train Accuracy: 1.0, Valid Accuracy: 1.0, Duration: 19.42 sec\n",
      "Epoch: 3/10, Train Loss: 1.0986, Valid Loss: 1.0986, Train Accuracy: 1.0, Valid Accuracy: 1.0, Duration: 19.68 sec\n",
      "Epoch: 4/10, Train Loss: 1.0986, Valid Loss: 1.0986, Train Accuracy: 1.0, Valid Accuracy: 1.0, Duration: 19.60 sec\n",
      "Epoch: 5/10, Train Loss: 1.0986, Valid Loss: 1.0986, Train Accuracy: 1.0, Valid Accuracy: 1.0, Duration: 19.51 sec\n",
      "Epoch: 6/10, Train Loss: 1.0986, Valid Loss: 1.0986, Train Accuracy: 1.0, Valid Accuracy: 1.0, Duration: 19.57 sec\n",
      "Epoch: 7/10, Train Loss: 1.0986, Valid Loss: 1.0986, Train Accuracy: 1.0, Valid Accuracy: 1.0, Duration: 19.41 sec\n",
      "Epoch: 8/10, Train Loss: 1.0986, Valid Loss: 1.0986, Train Accuracy: 1.0, Valid Accuracy: 1.0, Duration: 19.57 sec\n",
      "Epoch: 9/10, Train Loss: 1.0986, Valid Loss: 1.0986, Train Accuracy: 1.0, Valid Accuracy: 1.0, Duration: 19.28 sec\n"
     ]
    },
    {
     "name": "stderr",
     "output_type": "stream",
     "text": [
      "[I 2024-06-10 17:40:32,652] Trial 14 finished with value: 1.0986123085021973 and parameters: {'N_conv_layers': 2, 'N_dense_layers': 2, 'dropout_rate': 0.013345029758136007, 'filters_layer0': 63, 'filter_size_layer0': 6, 'stride_layer0': 1, 'padding_layer0': 3, 'filters_layer1': 46, 'filter_size_layer1': 4, 'stride_layer1': 2, 'padding_layer1': 1, 'dense_layer0': 85, 'dense_layer1': 17, 'adam_learning_rate': 0.008151660223489744}. Best is trial 2 with value: 0.26752053555249083.\n"
     ]
    },
    {
     "name": "stdout",
     "output_type": "stream",
     "text": [
      "Epoch: 10/10, Train Loss: 1.0986, Valid Loss: 1.0986, Train Accuracy: 1.0, Valid Accuracy: 1.0, Duration: 19.53 sec\n",
      "Epoch: 1/10, Train Loss: 0.9322, Valid Loss: 0.8745, Train Accuracy: 1.0, Valid Accuracy: 1.0, Duration: 38.64 sec\n",
      "Epoch: 2/10, Train Loss: 0.8273, Valid Loss: 0.8283, Train Accuracy: 1.0, Valid Accuracy: 1.0, Duration: 38.46 sec\n",
      "Epoch: 3/10, Train Loss: 0.7840, Valid Loss: 0.8160, Train Accuracy: 1.0, Valid Accuracy: 1.0, Duration: 38.52 sec\n",
      "Epoch: 4/10, Train Loss: 0.7044, Valid Loss: 0.7135, Train Accuracy: 1.0, Valid Accuracy: 1.0, Duration: 38.42 sec\n",
      "Epoch: 5/10, Train Loss: 0.6370, Valid Loss: 0.7086, Train Accuracy: 1.0, Valid Accuracy: 1.0, Duration: 38.36 sec\n",
      "Epoch: 6/10, Train Loss: 0.6141, Valid Loss: 0.6943, Train Accuracy: 1.0, Valid Accuracy: 1.0, Duration: 38.46 sec\n",
      "Epoch: 7/10, Train Loss: 0.5934, Valid Loss: 0.7131, Train Accuracy: 1.0, Valid Accuracy: 1.0, Duration: 38.53 sec\n",
      "Epoch: 8/10, Train Loss: 0.5807, Valid Loss: 0.7246, Train Accuracy: 1.0, Valid Accuracy: 1.0, Duration: 38.41 sec\n",
      "Epoch: 9/10, Train Loss: 0.5680, Valid Loss: 0.7306, Train Accuracy: 1.0, Valid Accuracy: 1.0, Duration: 38.40 sec\n"
     ]
    },
    {
     "name": "stderr",
     "output_type": "stream",
     "text": [
      "[I 2024-06-10 17:46:58,707] Trial 15 finished with value: 0.7069214112044245 and parameters: {'N_conv_layers': 3, 'N_dense_layers': 3, 'dropout_rate': 0.25633495321133903, 'filters_layer0': 18, 'filter_size_layer0': 4, 'stride_layer0': 1, 'padding_layer0': 2, 'filters_layer1': 33, 'filter_size_layer1': 6, 'stride_layer1': 1, 'padding_layer1': 2, 'filters_layer2': 64, 'filter_size_layer2': 5, 'stride_layer2': 1, 'padding_layer2': 3, 'dense_layer0': 52, 'dense_layer1': 45, 'dense_layer2': 83, 'adam_learning_rate': 0.00010198584859240814}. Best is trial 2 with value: 0.26752053555249083.\n"
     ]
    },
    {
     "name": "stdout",
     "output_type": "stream",
     "text": [
      "Epoch: 10/10, Train Loss: 0.5652, Valid Loss: 0.7069, Train Accuracy: 1.0, Valid Accuracy: 1.0, Duration: 39.57 sec\n",
      "Epoch: 1/10, Train Loss: 1.0801, Valid Loss: 1.0830, Train Accuracy: 1.0, Valid Accuracy: 1.0, Duration: 16.27 sec\n",
      "Epoch: 2/10, Train Loss: 1.0788, Valid Loss: 1.0823, Train Accuracy: 1.0, Valid Accuracy: 1.0, Duration: 15.28 sec\n",
      "Epoch: 3/10, Train Loss: 1.0775, Valid Loss: 1.0813, Train Accuracy: 1.0, Valid Accuracy: 1.0, Duration: 16.92 sec\n",
      "Epoch: 4/10, Train Loss: 1.0764, Valid Loss: 1.0802, Train Accuracy: 1.0, Valid Accuracy: 1.0, Duration: 14.01 sec\n",
      "Epoch: 5/10, Train Loss: 1.0754, Valid Loss: 1.0799, Train Accuracy: 1.0, Valid Accuracy: 1.0, Duration: 13.98 sec\n",
      "Epoch: 6/10, Train Loss: 1.0747, Valid Loss: 1.0796, Train Accuracy: 1.0, Valid Accuracy: 1.0, Duration: 13.79 sec\n",
      "Epoch: 7/10, Train Loss: 1.0738, Valid Loss: 1.0787, Train Accuracy: 1.0, Valid Accuracy: 1.0, Duration: 14.02 sec\n",
      "Epoch: 8/10, Train Loss: 1.0731, Valid Loss: 1.0782, Train Accuracy: 1.0, Valid Accuracy: 1.0, Duration: 13.64 sec\n",
      "Epoch: 9/10, Train Loss: 1.0723, Valid Loss: 1.0779, Train Accuracy: 1.0, Valid Accuracy: 1.0, Duration: 14.30 sec\n"
     ]
    },
    {
     "name": "stderr",
     "output_type": "stream",
     "text": [
      "[I 2024-06-10 17:49:24,847] Trial 16 finished with value: 1.0781165584323877 and parameters: {'N_conv_layers': 1, 'N_dense_layers': 2, 'dropout_rate': 0.37538345462494405, 'filters_layer0': 35, 'filter_size_layer0': 3, 'stride_layer0': 2, 'padding_layer0': 3, 'dense_layer0': 33, 'dense_layer1': 74, 'adam_learning_rate': 1.1507646664251044e-07}. Best is trial 2 with value: 0.26752053555249083.\n"
     ]
    },
    {
     "name": "stdout",
     "output_type": "stream",
     "text": [
      "Epoch: 10/10, Train Loss: 1.0720, Valid Loss: 1.0781, Train Accuracy: 1.0, Valid Accuracy: 1.0, Duration: 13.82 sec\n",
      "Epoch: 1/10, Train Loss: 1.0571, Valid Loss: 0.9956, Train Accuracy: 1.0, Valid Accuracy: 1.0, Duration: 19.62 sec\n",
      "Epoch: 2/10, Train Loss: 0.9117, Valid Loss: 0.8384, Train Accuracy: 1.0, Valid Accuracy: 1.0, Duration: 19.80 sec\n",
      "Epoch: 3/10, Train Loss: 0.7910, Valid Loss: 0.7615, Train Accuracy: 1.0, Valid Accuracy: 1.0, Duration: 19.70 sec\n",
      "Epoch: 4/10, Train Loss: 0.7368, Valid Loss: 0.7257, Train Accuracy: 1.0, Valid Accuracy: 1.0, Duration: 20.06 sec\n",
      "Epoch: 5/10, Train Loss: 0.7075, Valid Loss: 0.7034, Train Accuracy: 1.0, Valid Accuracy: 1.0, Duration: 19.83 sec\n",
      "Epoch: 6/10, Train Loss: 0.6891, Valid Loss: 0.6884, Train Accuracy: 1.0, Valid Accuracy: 1.0, Duration: 19.64 sec\n",
      "Epoch: 7/10, Train Loss: 0.6771, Valid Loss: 0.6773, Train Accuracy: 1.0, Valid Accuracy: 1.0, Duration: 19.83 sec\n",
      "Epoch: 8/10, Train Loss: 0.6679, Valid Loss: 0.6714, Train Accuracy: 1.0, Valid Accuracy: 1.0, Duration: 19.83 sec\n",
      "Epoch: 9/10, Train Loss: 0.6607, Valid Loss: 0.6670, Train Accuracy: 1.0, Valid Accuracy: 1.0, Duration: 19.78 sec\n"
     ]
    },
    {
     "name": "stderr",
     "output_type": "stream",
     "text": [
      "[I 2024-06-10 17:52:42,717] Trial 17 finished with value: 0.6606769179611394 and parameters: {'N_conv_layers': 2, 'N_dense_layers': 3, 'dropout_rate': 0.25272883287286313, 'filters_layer0': 32, 'filter_size_layer0': 7, 'stride_layer0': 1, 'padding_layer0': 1, 'filters_layer1': 27, 'filter_size_layer1': 4, 'stride_layer1': 2, 'padding_layer1': 3, 'dense_layer0': 102, 'dense_layer1': 28, 'dense_layer2': 47, 'adam_learning_rate': 3.4357653796555778e-06}. Best is trial 2 with value: 0.26752053555249083.\n"
     ]
    },
    {
     "name": "stdout",
     "output_type": "stream",
     "text": [
      "Epoch: 10/10, Train Loss: 0.6544, Valid Loss: 0.6607, Train Accuracy: 1.0, Valid Accuracy: 1.0, Duration: 19.67 sec\n",
      "Epoch: 1/10, Train Loss: 0.9630, Valid Loss: 0.9638, Train Accuracy: 1.0, Valid Accuracy: 1.0, Duration: 17.06 sec\n",
      "Epoch: 2/10, Train Loss: 0.9417, Valid Loss: 0.9626, Train Accuracy: 1.0, Valid Accuracy: 1.0, Duration: 17.22 sec\n",
      "Epoch: 3/10, Train Loss: 0.9405, Valid Loss: 0.9621, Train Accuracy: 1.0, Valid Accuracy: 1.0, Duration: 17.31 sec\n",
      "Epoch: 4/10, Train Loss: 0.9401, Valid Loss: 0.9621, Train Accuracy: 1.0, Valid Accuracy: 1.0, Duration: 17.23 sec\n",
      "Epoch: 5/10, Train Loss: 0.9398, Valid Loss: 0.9617, Train Accuracy: 1.0, Valid Accuracy: 1.0, Duration: 18.10 sec\n",
      "Epoch: 6/10, Train Loss: 0.9394, Valid Loss: 0.9615, Train Accuracy: 1.0, Valid Accuracy: 1.0, Duration: 17.79 sec\n",
      "Epoch: 7/10, Train Loss: 0.9391, Valid Loss: 0.9615, Train Accuracy: 1.0, Valid Accuracy: 1.0, Duration: 17.32 sec\n",
      "Epoch: 8/10, Train Loss: 0.9387, Valid Loss: 0.9612, Train Accuracy: 1.0, Valid Accuracy: 1.0, Duration: 17.61 sec\n",
      "Epoch: 9/10, Train Loss: 0.9382, Valid Loss: 0.9611, Train Accuracy: 1.0, Valid Accuracy: 1.0, Duration: 17.39 sec\n"
     ]
    },
    {
     "name": "stderr",
     "output_type": "stream",
     "text": [
      "[I 2024-06-10 17:55:36,852] Trial 18 finished with value: 0.9610476174524852 and parameters: {'N_conv_layers': 2, 'N_dense_layers': 2, 'dropout_rate': 0.34395373256266804, 'filters_layer0': 19, 'filter_size_layer0': 4, 'stride_layer0': 2, 'padding_layer0': 2, 'filters_layer1': 47, 'filter_size_layer1': 6, 'stride_layer1': 3, 'padding_layer1': 1, 'dense_layer0': 56, 'dense_layer1': 86, 'adam_learning_rate': 0.004124684424915245}. Best is trial 2 with value: 0.26752053555249083.\n"
     ]
    },
    {
     "name": "stdout",
     "output_type": "stream",
     "text": [
      "Epoch: 10/10, Train Loss: 0.9377, Valid Loss: 0.9610, Train Accuracy: 1.0, Valid Accuracy: 1.0, Duration: 17.03 sec\n",
      "Epoch: 1/10, Train Loss: 0.6819, Valid Loss: 0.4863, Train Accuracy: 1.0, Valid Accuracy: 1.0, Duration: 19.79 sec\n",
      "Epoch: 2/10, Train Loss: 0.4067, Valid Loss: 0.3545, Train Accuracy: 1.0, Valid Accuracy: 1.0, Duration: 19.76 sec\n",
      "Epoch: 3/10, Train Loss: 0.3149, Valid Loss: 0.2982, Train Accuracy: 1.0, Valid Accuracy: 1.0, Duration: 19.28 sec\n",
      "Epoch: 4/10, Train Loss: 0.2700, Valid Loss: 0.2680, Train Accuracy: 1.0, Valid Accuracy: 1.0, Duration: 19.63 sec\n",
      "Epoch: 5/10, Train Loss: 0.2306, Valid Loss: 0.2482, Train Accuracy: 1.0, Valid Accuracy: 1.0, Duration: 19.30 sec\n",
      "Epoch: 6/10, Train Loss: 0.2156, Valid Loss: 0.2341, Train Accuracy: 1.0, Valid Accuracy: 1.0, Duration: 19.60 sec\n",
      "Epoch: 7/10, Train Loss: 0.1948, Valid Loss: 0.2175, Train Accuracy: 1.0, Valid Accuracy: 1.0, Duration: 20.00 sec\n",
      "Epoch: 8/10, Train Loss: 0.1687, Valid Loss: 0.1918, Train Accuracy: 1.0, Valid Accuracy: 1.0, Duration: 19.65 sec\n",
      "Epoch: 9/10, Train Loss: 0.1592, Valid Loss: 0.2553, Train Accuracy: 1.0, Valid Accuracy: 1.0, Duration: 19.85 sec\n"
     ]
    },
    {
     "name": "stderr",
     "output_type": "stream",
     "text": [
      "[I 2024-06-10 17:58:53,248] Trial 19 finished with value: 0.2169726493408221 and parameters: {'N_conv_layers': 3, 'N_dense_layers': 3, 'dropout_rate': 0.4274955946547482, 'filters_layer0': 41, 'filter_size_layer0': 6, 'stride_layer0': 1, 'padding_layer0': 3, 'filters_layer1': 49, 'filter_size_layer1': 3, 'stride_layer1': 1, 'padding_layer1': 2, 'filters_layer2': 9, 'filter_size_layer2': 7, 'stride_layer2': 2, 'padding_layer2': 2, 'dense_layer0': 84, 'dense_layer1': 55, 'dense_layer2': 99, 'adam_learning_rate': 0.00011811448485959384}. Best is trial 19 with value: 0.2169726493408221.\n"
     ]
    },
    {
     "name": "stdout",
     "output_type": "stream",
     "text": [
      "Epoch: 10/10, Train Loss: 0.1508, Valid Loss: 0.2170, Train Accuracy: 1.0, Valid Accuracy: 1.0, Duration: 19.42 sec\n",
      "Epoch: 1/10, Train Loss: 1.0986, Valid Loss: 1.0986, Train Accuracy: 1.0, Valid Accuracy: 1.0, Duration: 31.05 sec\n",
      "Epoch: 2/10, Train Loss: 1.0986, Valid Loss: 1.0986, Train Accuracy: 1.0, Valid Accuracy: 1.0, Duration: 30.79 sec\n",
      "Epoch: 3/10, Train Loss: 1.0986, Valid Loss: 1.0986, Train Accuracy: 1.0, Valid Accuracy: 1.0, Duration: 30.70 sec\n",
      "Epoch: 4/10, Train Loss: 1.0986, Valid Loss: 1.0986, Train Accuracy: 1.0, Valid Accuracy: 1.0, Duration: 30.73 sec\n",
      "Epoch: 5/10, Train Loss: 1.0986, Valid Loss: 1.0986, Train Accuracy: 1.0, Valid Accuracy: 1.0, Duration: 30.72 sec\n",
      "Epoch: 6/10, Train Loss: 1.0986, Valid Loss: 1.0986, Train Accuracy: 1.0, Valid Accuracy: 1.0, Duration: 30.63 sec\n",
      "Epoch: 7/10, Train Loss: 1.0986, Valid Loss: 1.0986, Train Accuracy: 1.0, Valid Accuracy: 1.0, Duration: 30.70 sec\n",
      "Epoch: 8/10, Train Loss: 1.0986, Valid Loss: 1.0986, Train Accuracy: 1.0, Valid Accuracy: 1.0, Duration: 30.66 sec\n",
      "Epoch: 9/10, Train Loss: 1.0986, Valid Loss: 1.0986, Train Accuracy: 1.0, Valid Accuracy: 1.0, Duration: 30.67 sec\n"
     ]
    },
    {
     "name": "stderr",
     "output_type": "stream",
     "text": [
      "[I 2024-06-10 18:04:00,731] Trial 20 finished with value: 1.0986123085021973 and parameters: {'N_conv_layers': 1, 'N_dense_layers': 2, 'dropout_rate': 0.44217543338543047, 'filters_layer0': 40, 'filter_size_layer0': 6, 'stride_layer0': 1, 'padding_layer0': 2, 'dense_layer0': 84, 'dense_layer1': 97, 'adam_learning_rate': 0.00026904609977300496}. Best is trial 19 with value: 0.2169726493408221.\n"
     ]
    },
    {
     "name": "stdout",
     "output_type": "stream",
     "text": [
      "Epoch: 10/10, Train Loss: 1.0986, Valid Loss: 1.0986, Train Accuracy: 1.0, Valid Accuracy: 1.0, Duration: 30.63 sec\n",
      "Epoch: 1/10, Train Loss: 0.7735, Valid Loss: 0.5449, Train Accuracy: 1.0, Valid Accuracy: 1.0, Duration: 20.22 sec\n",
      "Epoch: 2/10, Train Loss: 0.5071, Valid Loss: 0.4606, Train Accuracy: 1.0, Valid Accuracy: 1.0, Duration: 19.97 sec\n",
      "Epoch: 3/10, Train Loss: 0.4356, Valid Loss: 0.4221, Train Accuracy: 1.0, Valid Accuracy: 1.0, Duration: 19.68 sec\n",
      "Epoch: 4/10, Train Loss: 0.4002, Valid Loss: 0.4166, Train Accuracy: 1.0, Valid Accuracy: 1.0, Duration: 19.56 sec\n",
      "Epoch: 5/10, Train Loss: 0.3815, Valid Loss: 0.3833, Train Accuracy: 1.0, Valid Accuracy: 1.0, Duration: 20.55 sec\n",
      "Epoch: 6/10, Train Loss: 0.3741, Valid Loss: 0.3908, Train Accuracy: 1.0, Valid Accuracy: 1.0, Duration: 19.82 sec\n",
      "Epoch: 7/10, Train Loss: 0.3575, Valid Loss: 0.3827, Train Accuracy: 1.0, Valid Accuracy: 1.0, Duration: 19.18 sec\n",
      "Epoch: 8/10, Train Loss: 0.3539, Valid Loss: 0.3879, Train Accuracy: 1.0, Valid Accuracy: 1.0, Duration: 19.78 sec\n",
      "Epoch: 9/10, Train Loss: 0.3463, Valid Loss: 0.3936, Train Accuracy: 1.0, Valid Accuracy: 1.0, Duration: 19.49 sec\n"
     ]
    },
    {
     "name": "stderr",
     "output_type": "stream",
     "text": [
      "[I 2024-06-10 18:07:18,285] Trial 21 finished with value: 0.3676612381042276 and parameters: {'N_conv_layers': 3, 'N_dense_layers': 3, 'dropout_rate': 0.4271198204942821, 'filters_layer0': 38, 'filter_size_layer0': 6, 'stride_layer0': 1, 'padding_layer0': 3, 'filters_layer1': 49, 'filter_size_layer1': 3, 'stride_layer1': 1, 'padding_layer1': 2, 'filters_layer2': 8, 'filter_size_layer2': 7, 'stride_layer2': 2, 'padding_layer2': 2, 'dense_layer0': 112, 'dense_layer1': 54, 'dense_layer2': 109, 'adam_learning_rate': 2.2949922197300647e-05}. Best is trial 19 with value: 0.2169726493408221.\n"
     ]
    },
    {
     "name": "stdout",
     "output_type": "stream",
     "text": [
      "Epoch: 10/10, Train Loss: 0.3380, Valid Loss: 0.3677, Train Accuracy: 1.0, Valid Accuracy: 1.0, Duration: 19.18 sec\n",
      "Epoch: 1/10, Train Loss: 0.7527, Valid Loss: 0.4751, Train Accuracy: 1.0, Valid Accuracy: 1.0, Duration: 19.09 sec\n",
      "Epoch: 2/10, Train Loss: 0.4531, Valid Loss: 0.4393, Train Accuracy: 1.0, Valid Accuracy: 1.0, Duration: 19.35 sec\n",
      "Epoch: 3/10, Train Loss: 0.4100, Valid Loss: 0.4134, Train Accuracy: 1.0, Valid Accuracy: 1.0, Duration: 19.03 sec\n",
      "Epoch: 4/10, Train Loss: 0.3836, Valid Loss: 0.4274, Train Accuracy: 1.0, Valid Accuracy: 1.0, Duration: 19.21 sec\n",
      "Epoch: 5/10, Train Loss: 0.3524, Valid Loss: 0.3816, Train Accuracy: 1.0, Valid Accuracy: 1.0, Duration: 19.89 sec\n",
      "Epoch: 6/10, Train Loss: 0.3352, Valid Loss: 0.3792, Train Accuracy: 1.0, Valid Accuracy: 1.0, Duration: 22.11 sec\n",
      "Epoch: 7/10, Train Loss: 0.3254, Valid Loss: 0.4011, Train Accuracy: 1.0, Valid Accuracy: 1.0, Duration: 20.53 sec\n",
      "Epoch: 8/10, Train Loss: 0.3073, Valid Loss: 0.4134, Train Accuracy: 1.0, Valid Accuracy: 1.0, Duration: 19.87 sec\n",
      "Epoch: 9/10, Train Loss: 0.3049, Valid Loss: 0.3752, Train Accuracy: 1.0, Valid Accuracy: 1.0, Duration: 20.41 sec\n"
     ]
    },
    {
     "name": "stderr",
     "output_type": "stream",
     "text": [
      "[I 2024-06-10 18:10:37,861] Trial 22 finished with value: 0.32681009042972586 and parameters: {'N_conv_layers': 3, 'N_dense_layers': 3, 'dropout_rate': 0.2732067556469327, 'filters_layer0': 28, 'filter_size_layer0': 5, 'stride_layer0': 1, 'padding_layer0': 3, 'filters_layer1': 64, 'filter_size_layer1': 4, 'stride_layer1': 1, 'padding_layer1': 2, 'filters_layer2': 19, 'filter_size_layer2': 6, 'stride_layer2': 3, 'padding_layer2': 2, 'dense_layer0': 94, 'dense_layer1': 33, 'dense_layer2': 99, 'adam_learning_rate': 0.00012052210578143784}. Best is trial 19 with value: 0.2169726493408221.\n"
     ]
    },
    {
     "name": "stdout",
     "output_type": "stream",
     "text": [
      "Epoch: 10/10, Train Loss: 0.2847, Valid Loss: 0.3268, Train Accuracy: 1.0, Valid Accuracy: 1.0, Duration: 19.96 sec\n",
      "Epoch: 1/10, Train Loss: 0.9589, Valid Loss: 0.7893, Train Accuracy: 1.0, Valid Accuracy: 1.0, Duration: 20.66 sec\n",
      "Epoch: 2/10, Train Loss: 0.6522, Valid Loss: 0.5986, Train Accuracy: 1.0, Valid Accuracy: 1.0, Duration: 20.56 sec\n",
      "Epoch: 3/10, Train Loss: 0.5582, Valid Loss: 0.5365, Train Accuracy: 1.0, Valid Accuracy: 1.0, Duration: 20.57 sec\n",
      "Epoch: 4/10, Train Loss: 0.5085, Valid Loss: 0.4844, Train Accuracy: 1.0, Valid Accuracy: 1.0, Duration: 20.45 sec\n",
      "Epoch: 5/10, Train Loss: 0.4786, Valid Loss: 0.4780, Train Accuracy: 1.0, Valid Accuracy: 1.0, Duration: 20.22 sec\n",
      "Epoch: 6/10, Train Loss: 0.4596, Valid Loss: 0.4621, Train Accuracy: 1.0, Valid Accuracy: 1.0, Duration: 20.49 sec\n",
      "Epoch: 7/10, Train Loss: 0.4510, Valid Loss: 0.4716, Train Accuracy: 1.0, Valid Accuracy: 1.0, Duration: 20.75 sec\n",
      "Epoch: 8/10, Train Loss: 0.4360, Valid Loss: 0.4496, Train Accuracy: 1.0, Valid Accuracy: 1.0, Duration: 21.10 sec\n",
      "Epoch: 9/10, Train Loss: 0.4271, Valid Loss: 0.4456, Train Accuracy: 1.0, Valid Accuracy: 1.0, Duration: 20.14 sec\n"
     ]
    },
    {
     "name": "stderr",
     "output_type": "stream",
     "text": [
      "[I 2024-06-10 18:14:03,781] Trial 23 finished with value: 0.4372802546530376 and parameters: {'N_conv_layers': 3, 'N_dense_layers': 3, 'dropout_rate': 0.3515968577599985, 'filters_layer0': 23, 'filter_size_layer0': 7, 'stride_layer0': 1, 'padding_layer0': 3, 'filters_layer1': 53, 'filter_size_layer1': 3, 'stride_layer1': 2, 'padding_layer1': 2, 'filters_layer2': 21, 'filter_size_layer2': 6, 'stride_layer2': 2, 'padding_layer2': 2, 'dense_layer0': 76, 'dense_layer1': 54, 'dense_layer2': 69, 'adam_learning_rate': 9.452032952467327e-06}. Best is trial 19 with value: 0.2169726493408221.\n"
     ]
    },
    {
     "name": "stdout",
     "output_type": "stream",
     "text": [
      "Epoch: 10/10, Train Loss: 0.4202, Valid Loss: 0.4373, Train Accuracy: 1.0, Valid Accuracy: 1.0, Duration: 20.82 sec\n",
      "Epoch: 1/10, Train Loss: 1.0030, Valid Loss: 0.9835, Train Accuracy: 1.0, Valid Accuracy: 1.0, Duration: 30.73 sec\n",
      "Epoch: 2/10, Train Loss: 0.9577, Valid Loss: 0.9683, Train Accuracy: 1.0, Valid Accuracy: 1.0, Duration: 30.69 sec\n",
      "Epoch: 3/10, Train Loss: 0.9468, Valid Loss: 0.9633, Train Accuracy: 1.0, Valid Accuracy: 1.0, Duration: 30.67 sec\n",
      "Epoch: 4/10, Train Loss: 0.9428, Valid Loss: 0.9615, Train Accuracy: 1.0, Valid Accuracy: 1.0, Duration: 30.55 sec\n",
      "Epoch: 5/10, Train Loss: 0.9410, Valid Loss: 0.9609, Train Accuracy: 1.0, Valid Accuracy: 1.0, Duration: 30.15 sec\n",
      "Epoch: 6/10, Train Loss: 0.9400, Valid Loss: 0.9605, Train Accuracy: 1.0, Valid Accuracy: 1.0, Duration: 30.48 sec\n",
      "Epoch: 7/10, Train Loss: 0.9394, Valid Loss: 0.9603, Train Accuracy: 1.0, Valid Accuracy: 1.0, Duration: 30.37 sec\n",
      "Epoch: 8/10, Train Loss: 0.9390, Valid Loss: 0.9603, Train Accuracy: 1.0, Valid Accuracy: 1.0, Duration: 30.25 sec\n",
      "Epoch: 9/10, Train Loss: 0.9387, Valid Loss: 0.9603, Train Accuracy: 1.0, Valid Accuracy: 1.0, Duration: 30.30 sec\n"
     ]
    },
    {
     "name": "stderr",
     "output_type": "stream",
     "text": [
      "[I 2024-06-10 18:19:08,996] Trial 24 finished with value: 0.9604115514847096 and parameters: {'N_conv_layers': 3, 'N_dense_layers': 3, 'dropout_rate': 0.21058478919757184, 'filters_layer0': 14, 'filter_size_layer0': 4, 'stride_layer0': 2, 'padding_layer0': 3, 'filters_layer1': 43, 'filter_size_layer1': 4, 'stride_layer1': 1, 'padding_layer1': 3, 'filters_layer2': 53, 'filter_size_layer2': 7, 'stride_layer2': 1, 'padding_layer2': 2, 'dense_layer0': 128, 'dense_layer1': 67, 'dense_layer2': 107, 'adam_learning_rate': 0.0008815047659962179}. Best is trial 19 with value: 0.2169726493408221.\n"
     ]
    },
    {
     "name": "stdout",
     "output_type": "stream",
     "text": [
      "Epoch: 10/10, Train Loss: 0.9385, Valid Loss: 0.9604, Train Accuracy: 1.0, Valid Accuracy: 1.0, Duration: 30.82 sec\n",
      "Epoch: 1/10, Train Loss: 1.0986, Valid Loss: 1.0986, Train Accuracy: 1.0, Valid Accuracy: 1.0, Duration: 29.51 sec\n",
      "Epoch: 2/10, Train Loss: 1.0986, Valid Loss: 1.0986, Train Accuracy: 1.0, Valid Accuracy: 1.0, Duration: 29.64 sec\n",
      "Epoch: 3/10, Train Loss: 1.0986, Valid Loss: 1.0986, Train Accuracy: 1.0, Valid Accuracy: 1.0, Duration: 29.51 sec\n",
      "Epoch: 4/10, Train Loss: 1.0986, Valid Loss: 1.0986, Train Accuracy: 1.0, Valid Accuracy: 1.0, Duration: 29.48 sec\n",
      "Epoch: 5/10, Train Loss: 1.0986, Valid Loss: 1.0986, Train Accuracy: 1.0, Valid Accuracy: 1.0, Duration: 29.51 sec\n",
      "Epoch: 6/10, Train Loss: 1.0986, Valid Loss: 1.0986, Train Accuracy: 1.0, Valid Accuracy: 1.0, Duration: 29.38 sec\n",
      "Epoch: 7/10, Train Loss: 1.0986, Valid Loss: 1.0986, Train Accuracy: 1.0, Valid Accuracy: 1.0, Duration: 29.52 sec\n",
      "Epoch: 8/10, Train Loss: 1.0986, Valid Loss: 1.0986, Train Accuracy: 1.0, Valid Accuracy: 1.0, Duration: 29.45 sec\n",
      "Epoch: 9/10, Train Loss: 1.0986, Valid Loss: 1.0986, Train Accuracy: 1.0, Valid Accuracy: 1.0, Duration: 29.38 sec\n"
     ]
    },
    {
     "name": "stderr",
     "output_type": "stream",
     "text": [
      "[I 2024-06-10 18:24:04,175] Trial 25 finished with value: 1.0986123085021973 and parameters: {'N_conv_layers': 2, 'N_dense_layers': 3, 'dropout_rate': 0.4433076420025495, 'filters_layer0': 32, 'filter_size_layer0': 6, 'stride_layer0': 1, 'padding_layer0': 3, 'filters_layer1': 55, 'filter_size_layer1': 5, 'stride_layer1': 1, 'padding_layer1': 1, 'dense_layer0': 44, 'dense_layer1': 18, 'dense_layer2': 128, 'adam_learning_rate': 6.766435390167018e-05}. Best is trial 19 with value: 0.2169726493408221.\n"
     ]
    },
    {
     "name": "stdout",
     "output_type": "stream",
     "text": [
      "Epoch: 10/10, Train Loss: 1.0986, Valid Loss: 1.0986, Train Accuracy: 1.0, Valid Accuracy: 1.0, Duration: 29.59 sec\n",
      "Epoch: 1/10, Train Loss: 1.0993, Valid Loss: 1.0987, Train Accuracy: 1.0, Valid Accuracy: 1.0, Duration: 20.84 sec\n",
      "Epoch: 2/10, Train Loss: 1.0986, Valid Loss: 1.0986, Train Accuracy: 1.0, Valid Accuracy: 1.0, Duration: 21.11 sec\n",
      "Epoch: 3/10, Train Loss: 1.0986, Valid Loss: 1.0986, Train Accuracy: 1.0, Valid Accuracy: 1.0, Duration: 21.20 sec\n",
      "Epoch: 4/10, Train Loss: 1.0986, Valid Loss: 1.0986, Train Accuracy: 1.0, Valid Accuracy: 1.0, Duration: 20.81 sec\n",
      "Epoch: 5/10, Train Loss: 1.0986, Valid Loss: 1.0986, Train Accuracy: 1.0, Valid Accuracy: 1.0, Duration: 20.20 sec\n",
      "Epoch: 6/10, Train Loss: 1.0986, Valid Loss: 1.0986, Train Accuracy: 1.0, Valid Accuracy: 1.0, Duration: 20.17 sec\n",
      "Epoch: 7/10, Train Loss: 1.0986, Valid Loss: 1.0986, Train Accuracy: 1.0, Valid Accuracy: 1.0, Duration: 20.64 sec\n",
      "Epoch: 8/10, Train Loss: 1.0986, Valid Loss: 1.0986, Train Accuracy: 1.0, Valid Accuracy: 1.0, Duration: 20.84 sec\n",
      "Epoch: 9/10, Train Loss: 1.0986, Valid Loss: 1.0986, Train Accuracy: 1.0, Valid Accuracy: 1.0, Duration: 20.49 sec\n"
     ]
    },
    {
     "name": "stderr",
     "output_type": "stream",
     "text": [
      "[I 2024-06-10 18:27:30,976] Trial 26 finished with value: 1.0986123085021973 and parameters: {'N_conv_layers': 3, 'N_dense_layers': 3, 'dropout_rate': 0.13388759160790534, 'filters_layer0': 57, 'filter_size_layer0': 5, 'stride_layer0': 1, 'padding_layer0': 3, 'filters_layer1': 33, 'filter_size_layer1': 3, 'stride_layer1': 2, 'padding_layer1': 2, 'filters_layer2': 16, 'filter_size_layer2': 5, 'stride_layer2': 2, 'padding_layer2': 3, 'dense_layer0': 96, 'dense_layer1': 44, 'dense_layer2': 67, 'adam_learning_rate': 1.1445435052547665e-06}. Best is trial 19 with value: 0.2169726493408221.\n"
     ]
    },
    {
     "name": "stdout",
     "output_type": "stream",
     "text": [
      "Epoch: 10/10, Train Loss: 1.0986, Valid Loss: 1.0986, Train Accuracy: 1.0, Valid Accuracy: 1.0, Duration: 20.36 sec\n",
      "Epoch: 1/10, Train Loss: 0.5518, Valid Loss: 0.4487, Train Accuracy: 1.0, Valid Accuracy: 1.0, Duration: 20.69 sec\n",
      "Epoch: 2/10, Train Loss: 0.4111, Valid Loss: 0.4255, Train Accuracy: 1.0, Valid Accuracy: 1.0, Duration: 20.65 sec\n",
      "Epoch: 3/10, Train Loss: 0.3665, Valid Loss: 0.3970, Train Accuracy: 1.0, Valid Accuracy: 1.0, Duration: 21.00 sec\n",
      "Epoch: 4/10, Train Loss: 0.3349, Valid Loss: 0.3645, Train Accuracy: 1.0, Valid Accuracy: 1.0, Duration: 21.00 sec\n",
      "Epoch: 5/10, Train Loss: 0.3046, Valid Loss: 0.3353, Train Accuracy: 1.0, Valid Accuracy: 1.0, Duration: 20.65 sec\n",
      "Epoch: 6/10, Train Loss: 0.2909, Valid Loss: 0.3245, Train Accuracy: 1.0, Valid Accuracy: 1.0, Duration: 20.65 sec\n",
      "Epoch: 7/10, Train Loss: 0.2758, Valid Loss: 0.3481, Train Accuracy: 1.0, Valid Accuracy: 1.0, Duration: 20.79 sec\n",
      "Epoch: 8/10, Train Loss: 0.2564, Valid Loss: 0.3268, Train Accuracy: 1.0, Valid Accuracy: 1.0, Duration: 20.91 sec\n",
      "Epoch: 9/10, Train Loss: 0.2536, Valid Loss: 0.3472, Train Accuracy: 1.0, Valid Accuracy: 1.0, Duration: 20.72 sec\n"
     ]
    },
    {
     "name": "stderr",
     "output_type": "stream",
     "text": [
      "[I 2024-06-10 18:30:58,733] Trial 27 finished with value: 0.2994371126238285 and parameters: {'N_conv_layers': 2, 'N_dense_layers': 2, 'dropout_rate': 0.3396216567941902, 'filters_layer0': 34, 'filter_size_layer0': 5, 'stride_layer0': 2, 'padding_layer0': 2, 'filters_layer1': 63, 'filter_size_layer1': 4, 'stride_layer1': 1, 'padding_layer1': 2, 'dense_layer0': 67, 'dense_layer1': 58, 'adam_learning_rate': 0.00019801216259610446}. Best is trial 19 with value: 0.2169726493408221.\n"
     ]
    },
    {
     "name": "stdout",
     "output_type": "stream",
     "text": [
      "Epoch: 10/10, Train Loss: 0.2423, Valid Loss: 0.2994, Train Accuracy: 1.0, Valid Accuracy: 1.0, Duration: 20.57 sec\n",
      "Epoch: 1/10, Train Loss: 0.6568, Valid Loss: 0.4712, Train Accuracy: 1.0, Valid Accuracy: 1.0, Duration: 21.07 sec\n",
      "Epoch: 2/10, Train Loss: 0.4608, Valid Loss: 0.4511, Train Accuracy: 1.0, Valid Accuracy: 1.0, Duration: 21.07 sec\n",
      "Epoch: 3/10, Train Loss: 0.4314, Valid Loss: 0.4212, Train Accuracy: 1.0, Valid Accuracy: 1.0, Duration: 21.22 sec\n",
      "Epoch: 4/10, Train Loss: 0.4088, Valid Loss: 0.4194, Train Accuracy: 1.0, Valid Accuracy: 1.0, Duration: 20.83 sec\n",
      "Epoch: 5/10, Train Loss: 0.3912, Valid Loss: 0.4234, Train Accuracy: 1.0, Valid Accuracy: 1.0, Duration: 20.29 sec\n",
      "Epoch: 6/10, Train Loss: 0.3823, Valid Loss: 0.3992, Train Accuracy: 1.0, Valid Accuracy: 1.0, Duration: 20.93 sec\n",
      "Epoch: 7/10, Train Loss: 0.3651, Valid Loss: 0.4042, Train Accuracy: 1.0, Valid Accuracy: 1.0, Duration: 20.71 sec\n",
      "Epoch: 8/10, Train Loss: 0.3546, Valid Loss: 0.3885, Train Accuracy: 1.0, Valid Accuracy: 1.0, Duration: 20.63 sec\n",
      "Epoch: 9/10, Train Loss: 0.3445, Valid Loss: 0.4071, Train Accuracy: 1.0, Valid Accuracy: 1.0, Duration: 21.03 sec\n"
     ]
    },
    {
     "name": "stderr",
     "output_type": "stream",
     "text": [
      "[I 2024-06-10 18:34:27,792] Trial 28 finished with value: 0.4041253427480769 and parameters: {'N_conv_layers': 3, 'N_dense_layers': 3, 'dropout_rate': 0.2835918356903765, 'filters_layer0': 41, 'filter_size_layer0': 5, 'stride_layer0': 1, 'padding_layer0': 3, 'filters_layer1': 42, 'filter_size_layer1': 6, 'stride_layer1': 2, 'padding_layer1': 3, 'filters_layer2': 29, 'filter_size_layer2': 6, 'stride_layer2': 3, 'padding_layer2': 1, 'dense_layer0': 116, 'dense_layer1': 77, 'dense_layer2': 91, 'adam_learning_rate': 4.2076497462924025e-05}. Best is trial 19 with value: 0.2169726493408221.\n"
     ]
    },
    {
     "name": "stdout",
     "output_type": "stream",
     "text": [
      "Epoch: 10/10, Train Loss: 0.3300, Valid Loss: 0.4041, Train Accuracy: 1.0, Valid Accuracy: 1.0, Duration: 21.15 sec\n",
      "Epoch: 1/10, Train Loss: 1.0987, Valid Loss: 1.0986, Train Accuracy: 1.0, Valid Accuracy: 1.0, Duration: 49.57 sec\n",
      "Epoch: 2/10, Train Loss: 1.0986, Valid Loss: 1.0986, Train Accuracy: 1.0, Valid Accuracy: 1.0, Duration: 49.48 sec\n",
      "Epoch: 3/10, Train Loss: 1.0986, Valid Loss: 1.0986, Train Accuracy: 1.0, Valid Accuracy: 1.0, Duration: 49.52 sec\n",
      "Epoch: 4/10, Train Loss: 1.0986, Valid Loss: 1.0986, Train Accuracy: 1.0, Valid Accuracy: 1.0, Duration: 49.56 sec\n",
      "Epoch: 5/10, Train Loss: 1.0986, Valid Loss: 1.0986, Train Accuracy: 1.0, Valid Accuracy: 1.0, Duration: 49.49 sec\n",
      "Epoch: 6/10, Train Loss: 1.0986, Valid Loss: 1.0986, Train Accuracy: 1.0, Valid Accuracy: 1.0, Duration: 49.55 sec\n",
      "Epoch: 7/10, Train Loss: 1.0986, Valid Loss: 1.0986, Train Accuracy: 1.0, Valid Accuracy: 1.0, Duration: 49.62 sec\n",
      "Epoch: 8/10, Train Loss: 1.0986, Valid Loss: 1.0986, Train Accuracy: 1.0, Valid Accuracy: 1.0, Duration: 49.50 sec\n",
      "Epoch: 9/10, Train Loss: 1.0986, Valid Loss: 1.0986, Train Accuracy: 1.0, Valid Accuracy: 1.0, Duration: 49.52 sec\n"
     ]
    },
    {
     "name": "stderr",
     "output_type": "stream",
     "text": [
      "[I 2024-06-10 18:42:43,480] Trial 29 finished with value: 1.0986123085021973 and parameters: {'N_conv_layers': 3, 'N_dense_layers': 3, 'dropout_rate': 0.41398885803815366, 'filters_layer0': 15, 'filter_size_layer0': 4, 'stride_layer0': 1, 'padding_layer0': 3, 'filters_layer1': 50, 'filter_size_layer1': 5, 'stride_layer1': 1, 'padding_layer1': 2, 'filters_layer2': 46, 'filter_size_layer2': 7, 'stride_layer2': 1, 'padding_layer2': 2, 'dense_layer0': 106, 'dense_layer1': 31, 'dense_layer2': 44, 'adam_learning_rate': 0.002553522293912029}. Best is trial 19 with value: 0.2169726493408221.\n"
     ]
    },
    {
     "name": "stdout",
     "output_type": "stream",
     "text": [
      "Epoch: 10/10, Train Loss: 1.0986, Valid Loss: 1.0986, Train Accuracy: 1.0, Valid Accuracy: 1.0, Duration: 49.54 sec\n"
     ]
    }
   ],
   "source": [
    "import optuna\n",
    "num_epochs = 10\n",
    "study = optuna.create_study(direction='minimize')\n",
    "study.optimize(lambda trial: objective(trial, dataset_train, dataset_val, num_epochs), n_trials=30)\n",
    "\n",
    "\n"
   ]
  },
  {
   "cell_type": "code",
   "execution_count": 35,
   "metadata": {},
   "outputs": [
    {
     "name": "stdout",
     "output_type": "stream",
     "text": [
      "<class 'dict'>\n"
     ]
    }
   ],
   "source": [
    "\n",
    "best_perams = study.best_params\n",
    "print(type(best_perams))\n",
    "save = False\n",
    "if save:\n",
    "    with open('best_perams.pkl', 'wb') as f:\n",
    "        pickle.dump(best_perams, f)\n",
    "\n",
    "    with open('best_perams.pkl', 'rb') as f:\n",
    "        best_perams = pickle.load(f)\n",
    "\n"
   ]
  },
  {
   "cell_type": "markdown",
   "metadata": {},
   "source": [
    "# Train best model"
   ]
  },
  {
   "cell_type": "code",
   "execution_count": 16,
   "metadata": {},
   "outputs": [
    {
     "name": "stdout",
     "output_type": "stream",
     "text": [
      "Epoch: 1/30, Train Loss: 0.9506, Valid Loss: 0.8949, Train Accuracy: 0.7199678421020508, Valid Accuracy: 0.8459069132804871, Duration: 26.26 sec\n",
      "Epoch: 2/30, Train Loss: 0.8507, Valid Loss: 0.8117, Train Accuracy: 0.8304539918899536, Valid Accuracy: 0.8571428656578064, Duration: 23.85 sec\n",
      "Epoch: 3/30, Train Loss: 0.7587, Valid Loss: 0.7301, Train Accuracy: 0.8561671376228333, Valid Accuracy: 0.8924558758735657, Duration: 28.77 sec\n",
      "Epoch: 4/30, Train Loss: 0.7063, Valid Loss: 0.7175, Train Accuracy: 0.886299729347229, Valid Accuracy: 0.9020866751670837, Duration: 26.31 sec\n",
      "Epoch: 5/30, Train Loss: 0.6731, Valid Loss: 0.6879, Train Accuracy: 0.8955404162406921, Valid Accuracy: 0.8956661224365234, Duration: 23.07 sec\n",
      "Epoch: 6/30, Train Loss: 0.6591, Valid Loss: 0.6767, Train Accuracy: 0.9087987542152405, Valid Accuracy: 0.9133226275444031, Duration: 22.35 sec\n",
      "Epoch: 7/30, Train Loss: 0.6408, Valid Loss: 0.6546, Train Accuracy: 0.9120128750801086, Valid Accuracy: 0.9133226275444031, Duration: 28.16 sec\n",
      "Epoch: 8/30, Train Loss: 0.6302, Valid Loss: 0.6467, Train Accuracy: 0.9220570921897888, Valid Accuracy: 0.932584285736084, Duration: 24.31 sec\n",
      "Epoch: 9/30, Train Loss: 0.6112, Valid Loss: 0.6681, Train Accuracy: 0.9296906590461731, Valid Accuracy: 0.9149277806282043, Duration: 22.99 sec\n",
      "Epoch: 10/30, Train Loss: 0.5897, Valid Loss: 0.6844, Train Accuracy: 0.9373242259025574, Valid Accuracy: 0.9069020748138428, Duration: 22.47 sec\n",
      "Epoch: 11/30, Train Loss: 0.6035, Valid Loss: 0.6853, Train Accuracy: 0.9365206956863403, Valid Accuracy: 0.9357945322990417, Duration: 22.40 sec\n",
      "Epoch: 12/30, Train Loss: 0.5825, Valid Loss: 0.6835, Train Accuracy: 0.9437525272369385, Valid Accuracy: 0.9357945322990417, Duration: 22.95 sec\n",
      "Epoch: 13/30, Train Loss: 0.5696, Valid Loss: 0.7249, Train Accuracy: 0.9461631178855896, Valid Accuracy: 0.9101123809814453, Duration: 52.35 sec\n",
      "Epoch: 14/30, Train Loss: 0.5688, Valid Loss: 0.6358, Train Accuracy: 0.9481719732284546, Valid Accuracy: 0.9357945322990417, Duration: 55.43 sec\n",
      "Epoch: 15/30, Train Loss: 0.5669, Valid Loss: 0.7270, Train Accuracy: 0.9461631178855896, Valid Accuracy: 0.9341893792152405, Duration: 48.39 sec\n",
      "Epoch: 16/30, Train Loss: 0.5696, Valid Loss: 0.6426, Train Accuracy: 0.9469666481018066, Valid Accuracy: 0.9470304846763611, Duration: 24.30 sec\n",
      "Epoch: 17/30, Train Loss: 0.5577, Valid Loss: 0.7260, Train Accuracy: 0.9550020098686218, Valid Accuracy: 0.9341893792152405, Duration: 25.31 sec\n",
      "Epoch: 18/30, Train Loss: 0.5617, Valid Loss: 0.6514, Train Accuracy: 0.9461631178855896, Valid Accuracy: 0.937399685382843, Duration: 25.64 sec\n",
      "Epoch: 19/30, Train Loss: 0.5523, Valid Loss: 0.7106, Train Accuracy: 0.9513860940933228, Valid Accuracy: 0.9357945322990417, Duration: 25.59 sec\n",
      "Epoch: 20/30, Train Loss: 0.5479, Valid Loss: 0.8305, Train Accuracy: 0.9570108652114868, Valid Accuracy: 0.9309791326522827, Duration: 23.43 sec\n",
      "Epoch: 21/30, Train Loss: 0.5420, Valid Loss: 0.8084, Train Accuracy: 0.963840901851654, Valid Accuracy: 0.8892455697059631, Duration: 25.03 sec\n",
      "Epoch: 22/30, Train Loss: 0.5478, Valid Loss: 0.6392, Train Accuracy: 0.9586179256439209, Valid Accuracy: 0.9390048384666443, Duration: 27.84 sec\n",
      "Epoch: 23/30, Train Loss: 0.5466, Valid Loss: 0.9251, Train Accuracy: 0.960224986076355, Valid Accuracy: 0.927768886089325, Duration: 26.67 sec\n",
      "Epoch: 24/30, Train Loss: 0.5540, Valid Loss: 0.6903, Train Accuracy: 0.9594214558601379, Valid Accuracy: 0.927768886089325, Duration: 25.61 sec\n",
      "Epoch: 25/30, Train Loss: 0.5322, Valid Loss: 0.7505, Train Accuracy: 0.96223384141922, Valid Accuracy: 0.9357945322990417, Duration: 23.49 sec\n",
      "Epoch: 26/30, Train Loss: 0.5384, Valid Loss: 0.6756, Train Accuracy: 0.9614303112030029, Valid Accuracy: 0.9454253315925598, Duration: 23.53 sec\n",
      "Epoch: 27/30, Train Loss: 0.5341, Valid Loss: 0.9159, Train Accuracy: 0.963037371635437, Valid Accuracy: 0.927768886089325, Duration: 23.32 sec\n",
      "Epoch: 28/30, Train Loss: 0.5361, Valid Loss: 0.6907, Train Accuracy: 0.9606267809867859, Valid Accuracy: 0.9390048384666443, Duration: 24.19 sec\n",
      "Epoch: 29/30, Train Loss: 0.5358, Valid Loss: 0.8002, Train Accuracy: 0.9634391665458679, Valid Accuracy: 0.9406099319458008, Duration: 24.34 sec\n",
      "Epoch: 30/30, Train Loss: 0.5390, Valid Loss: 0.7479, Train Accuracy: 0.9626356363296509, Valid Accuracy: 0.932584285736084, Duration: 23.24 sec\n"
     ]
    }
   ],
   "source": [
    "with open('best_perams.pkl', 'rb') as f:\n",
    "    best_perams = pickle.load(f)\n",
    "best_model = create_torch_model_CNN_dict(best_perams)\n",
    "\n",
    "torch.manual_seed(42)\n",
    "num_epochs = 30\n",
    "\n",
    "#print(peram_to_optimize)\n",
    "peram_to_optimize = best_model.peram_to_optimize\n",
    "learning_rate = best_perams['adam_learning_rate']\n",
    "\n",
    "optimizer = optim.Adam(peram_to_optimize, lr=learning_rate)\n",
    "best_model.train()\n",
    "\n",
    "train_losses, valid_losses, train_accuracys, validate_accuracys = train_model(best_model, num_epochs, dataset_train, dataset_val, optimizer, loss_function)"
   ]
  },
  {
   "cell_type": "code",
   "execution_count": 17,
   "metadata": {},
   "outputs": [
    {
     "ename": "TypeError",
     "evalue": "can't convert cuda:0 device type tensor to numpy. Use Tensor.cpu() to copy the tensor to host memory first.",
     "output_type": "error",
     "traceback": [
      "\u001b[0;31m---------------------------------------------------------------------------\u001b[0m",
      "\u001b[0;31mTypeError\u001b[0m                                 Traceback (most recent call last)",
      "Cell \u001b[0;32mIn[17], line 1\u001b[0m\n\u001b[0;32m----> 1\u001b[0m plot_losses(train_losses, valid_losses, train_accuracys, validate_accuracys)\n",
      "Cell \u001b[0;32mIn[15], line 428\u001b[0m, in \u001b[0;36mplot_losses\u001b[0;34m(train_losses, valid_losses, train_accuracys, validate_accuracys)\u001b[0m\n\u001b[1;32m    426\u001b[0m ax[\u001b[38;5;241m0\u001b[39m]\u001b[38;5;241m.\u001b[39mset_ylabel(\u001b[38;5;124m'\u001b[39m\u001b[38;5;124mLoss\u001b[39m\u001b[38;5;124m'\u001b[39m)\n\u001b[1;32m    427\u001b[0m ax[\u001b[38;5;241m0\u001b[39m]\u001b[38;5;241m.\u001b[39mset_yscale(\u001b[38;5;124m'\u001b[39m\u001b[38;5;124mlog\u001b[39m\u001b[38;5;124m'\u001b[39m)\n\u001b[0;32m--> 428\u001b[0m ax[\u001b[38;5;241m1\u001b[39m]\u001b[38;5;241m.\u001b[39mplot(train_accuracys, label\u001b[38;5;241m=\u001b[39m\u001b[38;5;124m'\u001b[39m\u001b[38;5;124mTrain Accuracy\u001b[39m\u001b[38;5;124m'\u001b[39m)\n\u001b[1;32m    429\u001b[0m ax[\u001b[38;5;241m1\u001b[39m]\u001b[38;5;241m.\u001b[39mplot(validate_accuracys, label\u001b[38;5;241m=\u001b[39m\u001b[38;5;124m'\u001b[39m\u001b[38;5;124mValid Accuracy\u001b[39m\u001b[38;5;124m'\u001b[39m)\n\u001b[1;32m    430\u001b[0m ax[\u001b[38;5;241m1\u001b[39m]\u001b[38;5;241m.\u001b[39mset_ylabel(\u001b[38;5;124m'\u001b[39m\u001b[38;5;124mAccuracy\u001b[39m\u001b[38;5;124m'\u001b[39m)\n",
      "File \u001b[0;32m~/anaconda3/lib/python3.11/site-packages/matplotlib/axes/_axes.py:1724\u001b[0m, in \u001b[0;36mAxes.plot\u001b[0;34m(self, scalex, scaley, data, *args, **kwargs)\u001b[0m\n\u001b[1;32m   1481\u001b[0m \u001b[38;5;250m\u001b[39m\u001b[38;5;124;03m\"\"\"\u001b[39;00m\n\u001b[1;32m   1482\u001b[0m \u001b[38;5;124;03mPlot y versus x as lines and/or markers.\u001b[39;00m\n\u001b[1;32m   1483\u001b[0m \n\u001b[0;32m   (...)\u001b[0m\n\u001b[1;32m   1721\u001b[0m \u001b[38;5;124;03m(``'green'``) or hex strings (``'#008000'``).\u001b[39;00m\n\u001b[1;32m   1722\u001b[0m \u001b[38;5;124;03m\"\"\"\u001b[39;00m\n\u001b[1;32m   1723\u001b[0m kwargs \u001b[38;5;241m=\u001b[39m cbook\u001b[38;5;241m.\u001b[39mnormalize_kwargs(kwargs, mlines\u001b[38;5;241m.\u001b[39mLine2D)\n\u001b[0;32m-> 1724\u001b[0m lines \u001b[38;5;241m=\u001b[39m [\u001b[38;5;241m*\u001b[39m\u001b[38;5;28mself\u001b[39m\u001b[38;5;241m.\u001b[39m_get_lines(\u001b[38;5;28mself\u001b[39m, \u001b[38;5;241m*\u001b[39margs, data\u001b[38;5;241m=\u001b[39mdata, \u001b[38;5;241m*\u001b[39m\u001b[38;5;241m*\u001b[39mkwargs)]\n\u001b[1;32m   1725\u001b[0m \u001b[38;5;28;01mfor\u001b[39;00m line \u001b[38;5;129;01min\u001b[39;00m lines:\n\u001b[1;32m   1726\u001b[0m     \u001b[38;5;28mself\u001b[39m\u001b[38;5;241m.\u001b[39madd_line(line)\n",
      "File \u001b[0;32m~/anaconda3/lib/python3.11/site-packages/matplotlib/axes/_base.py:303\u001b[0m, in \u001b[0;36m_process_plot_var_args.__call__\u001b[0;34m(self, axes, data, *args, **kwargs)\u001b[0m\n\u001b[1;32m    301\u001b[0m     this \u001b[38;5;241m+\u001b[39m\u001b[38;5;241m=\u001b[39m args[\u001b[38;5;241m0\u001b[39m],\n\u001b[1;32m    302\u001b[0m     args \u001b[38;5;241m=\u001b[39m args[\u001b[38;5;241m1\u001b[39m:]\n\u001b[0;32m--> 303\u001b[0m \u001b[38;5;28;01myield from\u001b[39;00m \u001b[38;5;28mself\u001b[39m\u001b[38;5;241m.\u001b[39m_plot_args(\n\u001b[1;32m    304\u001b[0m     axes, this, kwargs, ambiguous_fmt_datakey\u001b[38;5;241m=\u001b[39mambiguous_fmt_datakey)\n",
      "File \u001b[0;32m~/anaconda3/lib/python3.11/site-packages/matplotlib/axes/_base.py:491\u001b[0m, in \u001b[0;36m_process_plot_var_args._plot_args\u001b[0;34m(self, axes, tup, kwargs, return_kwargs, ambiguous_fmt_datakey)\u001b[0m\n\u001b[1;32m    489\u001b[0m     y \u001b[38;5;241m=\u001b[39m _check_1d(xy[\u001b[38;5;241m1\u001b[39m])\n\u001b[1;32m    490\u001b[0m \u001b[38;5;28;01melse\u001b[39;00m:\n\u001b[0;32m--> 491\u001b[0m     x, y \u001b[38;5;241m=\u001b[39m index_of(xy[\u001b[38;5;241m-\u001b[39m\u001b[38;5;241m1\u001b[39m])\n\u001b[1;32m    493\u001b[0m \u001b[38;5;28;01mif\u001b[39;00m axes\u001b[38;5;241m.\u001b[39mxaxis \u001b[38;5;129;01mis\u001b[39;00m \u001b[38;5;129;01mnot\u001b[39;00m \u001b[38;5;28;01mNone\u001b[39;00m:\n\u001b[1;32m    494\u001b[0m     axes\u001b[38;5;241m.\u001b[39mxaxis\u001b[38;5;241m.\u001b[39mupdate_units(x)\n",
      "File \u001b[0;32m~/anaconda3/lib/python3.11/site-packages/matplotlib/cbook.py:1666\u001b[0m, in \u001b[0;36mindex_of\u001b[0;34m(y)\u001b[0m\n\u001b[1;32m   1664\u001b[0m     \u001b[38;5;28;01mpass\u001b[39;00m\n\u001b[1;32m   1665\u001b[0m \u001b[38;5;28;01mtry\u001b[39;00m:\n\u001b[0;32m-> 1666\u001b[0m     y \u001b[38;5;241m=\u001b[39m _check_1d(y)\n\u001b[1;32m   1667\u001b[0m \u001b[38;5;28;01mexcept\u001b[39;00m (VisibleDeprecationWarning, \u001b[38;5;167;01mValueError\u001b[39;00m):\n\u001b[1;32m   1668\u001b[0m     \u001b[38;5;66;03m# NumPy 1.19 will warn on ragged input, and we can't actually use it.\u001b[39;00m\n\u001b[1;32m   1669\u001b[0m     \u001b[38;5;28;01mpass\u001b[39;00m\n",
      "File \u001b[0;32m~/anaconda3/lib/python3.11/site-packages/matplotlib/cbook.py:1358\u001b[0m, in \u001b[0;36m_check_1d\u001b[0;34m(x)\u001b[0m\n\u001b[1;32m   1352\u001b[0m \u001b[38;5;66;03m# plot requires `shape` and `ndim`.  If passed an\u001b[39;00m\n\u001b[1;32m   1353\u001b[0m \u001b[38;5;66;03m# object that doesn't provide them, then force to numpy array.\u001b[39;00m\n\u001b[1;32m   1354\u001b[0m \u001b[38;5;66;03m# Note this will strip unit information.\u001b[39;00m\n\u001b[1;32m   1355\u001b[0m \u001b[38;5;28;01mif\u001b[39;00m (\u001b[38;5;129;01mnot\u001b[39;00m \u001b[38;5;28mhasattr\u001b[39m(x, \u001b[38;5;124m'\u001b[39m\u001b[38;5;124mshape\u001b[39m\u001b[38;5;124m'\u001b[39m) \u001b[38;5;129;01mor\u001b[39;00m\n\u001b[1;32m   1356\u001b[0m         \u001b[38;5;129;01mnot\u001b[39;00m \u001b[38;5;28mhasattr\u001b[39m(x, \u001b[38;5;124m'\u001b[39m\u001b[38;5;124mndim\u001b[39m\u001b[38;5;124m'\u001b[39m) \u001b[38;5;129;01mor\u001b[39;00m\n\u001b[1;32m   1357\u001b[0m         \u001b[38;5;28mlen\u001b[39m(x\u001b[38;5;241m.\u001b[39mshape) \u001b[38;5;241m<\u001b[39m \u001b[38;5;241m1\u001b[39m):\n\u001b[0;32m-> 1358\u001b[0m     \u001b[38;5;28;01mreturn\u001b[39;00m np\u001b[38;5;241m.\u001b[39matleast_1d(x)\n\u001b[1;32m   1359\u001b[0m \u001b[38;5;28;01melse\u001b[39;00m:\n\u001b[1;32m   1360\u001b[0m     \u001b[38;5;28;01mreturn\u001b[39;00m x\n",
      "File \u001b[0;32m~/anaconda3/lib/python3.11/site-packages/numpy/core/shape_base.py:65\u001b[0m, in \u001b[0;36matleast_1d\u001b[0;34m(*arys)\u001b[0m\n\u001b[1;32m     63\u001b[0m res \u001b[38;5;241m=\u001b[39m []\n\u001b[1;32m     64\u001b[0m \u001b[38;5;28;01mfor\u001b[39;00m ary \u001b[38;5;129;01min\u001b[39;00m arys:\n\u001b[0;32m---> 65\u001b[0m     ary \u001b[38;5;241m=\u001b[39m asanyarray(ary)\n\u001b[1;32m     66\u001b[0m     \u001b[38;5;28;01mif\u001b[39;00m ary\u001b[38;5;241m.\u001b[39mndim \u001b[38;5;241m==\u001b[39m \u001b[38;5;241m0\u001b[39m:\n\u001b[1;32m     67\u001b[0m         result \u001b[38;5;241m=\u001b[39m ary\u001b[38;5;241m.\u001b[39mreshape(\u001b[38;5;241m1\u001b[39m)\n",
      "File \u001b[0;32m~/anaconda3/lib/python3.11/site-packages/torch/_tensor.py:1087\u001b[0m, in \u001b[0;36mTensor.__array__\u001b[0;34m(self, dtype)\u001b[0m\n\u001b[1;32m   1085\u001b[0m     \u001b[38;5;28;01mreturn\u001b[39;00m handle_torch_function(Tensor\u001b[38;5;241m.\u001b[39m__array__, (\u001b[38;5;28mself\u001b[39m,), \u001b[38;5;28mself\u001b[39m, dtype\u001b[38;5;241m=\u001b[39mdtype)\n\u001b[1;32m   1086\u001b[0m \u001b[38;5;28;01mif\u001b[39;00m dtype \u001b[38;5;129;01mis\u001b[39;00m \u001b[38;5;28;01mNone\u001b[39;00m:\n\u001b[0;32m-> 1087\u001b[0m     \u001b[38;5;28;01mreturn\u001b[39;00m \u001b[38;5;28mself\u001b[39m\u001b[38;5;241m.\u001b[39mnumpy()\n\u001b[1;32m   1088\u001b[0m \u001b[38;5;28;01melse\u001b[39;00m:\n\u001b[1;32m   1089\u001b[0m     \u001b[38;5;28;01mreturn\u001b[39;00m \u001b[38;5;28mself\u001b[39m\u001b[38;5;241m.\u001b[39mnumpy()\u001b[38;5;241m.\u001b[39mastype(dtype, copy\u001b[38;5;241m=\u001b[39m\u001b[38;5;28;01mFalse\u001b[39;00m)\n",
      "\u001b[0;31mTypeError\u001b[0m: can't convert cuda:0 device type tensor to numpy. Use Tensor.cpu() to copy the tensor to host memory first."
     ]
    },
    {
     "data": {
      "image/png": "[encoded data removed]",
      "text/plain": [
       "<Figure size 640x480 with 2 Axes>"
      ]
     },
     "metadata": {},
     "output_type": "display_data"
    }
   ],
   "source": [
    "plot_losses(train_losses, valid_losses, train_accuracys, validate_accuracys)"
   ]
  },
  {
   "cell_type": "markdown",
   "metadata": {},
   "source": [
    "# Run model"
   ]
  },
  {
   "cell_type": "code",
   "execution_count": null,
   "metadata": {},
   "outputs": [
    {
     "name": "stderr",
     "output_type": "stream",
     "text": [
      "/home/sk0rt3/anaconda3/lib/python3.11/site-packages/torch/nn/modules/module.py:1532: UserWarning: Implicit dimension choice for softmax has been deprecated. Change the call to include dim=X as an argument.\n",
      "  return self._call_impl(*args, **kwargs)\n"
     ]
    }
   ],
   "source": [
    "def test_func(model, dataset):\n",
    "    output = np.zeros(len(dataset))\n",
    "    label = np.zeros(len(dataset))\n",
    "    for batch in dataset:\n",
    "        model(batch)\n",
    "        \n",
    "for i in range(10):\n",
    "    test_func(model, dataset_train)"
   ]
  },
  {
   "cell_type": "code",
   "execution_count": null,
   "metadata": {},
   "outputs": [
    {
     "name": "stdout",
     "output_type": "stream",
     "text": [
      "\n"
     ]
    }
   ],
   "source": [
    "print()"
   ]
  },
  {
   "cell_type": "markdown",
   "metadata": {},
   "source": [
    "# CPU test"
   ]
  },
  {
   "cell_type": "code",
   "execution_count": null,
   "metadata": {},
   "outputs": [],
   "source": []
  },
  {
   "cell_type": "code",
   "execution_count": null,
   "metadata": {},
   "outputs": [],
   "source": []
  },
  {
   "cell_type": "code",
   "execution_count": null,
   "metadata": {},
   "outputs": [],
   "source": []
  },
  {
   "cell_type": "markdown",
   "metadata": {},
   "source": [
    "# Train model"
   ]
  },
  {
   "cell_type": "code",
   "execution_count": null,
   "metadata": {},
   "outputs": [
    {
     "name": "stdout",
     "output_type": "stream",
     "text": [
      "cpu False\n",
      "torch.cuda.ByteTensor torch.FloatTensor\n"
     ]
    },
    {
     "ename": "RuntimeError",
     "evalue": "Expected all tensors to be on the same device, but found at least two devices, cpu and cuda:0! (when checking argument for argument target in method wrapper_CUDA_nll_loss_forward)",
     "output_type": "error",
     "traceback": [
      "\u001b[0;31m---------------------------------------------------------------------------\u001b[0m",
      "\u001b[0;31mRuntimeError\u001b[0m                              Traceback (most recent call last)",
      "Cell \u001b[0;32mIn[12], line 31\u001b[0m\n\u001b[1;32m     24\u001b[0m num_epochs \u001b[38;5;241m=\u001b[39m \u001b[38;5;241m10\u001b[39m\n\u001b[1;32m     28\u001b[0m \u001b[38;5;28mprint\u001b[39m(\u001b[38;5;28mnext\u001b[39m(model\u001b[38;5;241m.\u001b[39mparameters())\u001b[38;5;241m.\u001b[39mdevice, dataset_train\u001b[38;5;241m.\u001b[39mis_cuda)\n\u001b[0;32m---> 31\u001b[0m train_losses, valid_losses \u001b[38;5;241m=\u001b[39m train_model(model, num_epochs, dataset_train, dataset_val, optimizer, loss_function)\n\u001b[1;32m     33\u001b[0m plot_losses(train_losses, valid_losses)\n",
      "Cell \u001b[0;32mIn[7], line 168\u001b[0m, in \u001b[0;36mtrain_model\u001b[0;34m(model, num_epochs, dataset_train, dataset_val, optimizer, loss_function)\u001b[0m\n\u001b[1;32m    166\u001b[0m \u001b[38;5;28;01mfor\u001b[39;00m epoch \u001b[38;5;129;01min\u001b[39;00m \u001b[38;5;28mrange\u001b[39m(num_epochs):\n\u001b[1;32m    167\u001b[0m     start_time \u001b[38;5;241m=\u001b[39m time\u001b[38;5;241m.\u001b[39mtime()\n\u001b[0;32m--> 168\u001b[0m     train_loss \u001b[38;5;241m=\u001b[39m train_epoch(dataset_train, model, optimizer, loss_function)\n\u001b[1;32m    169\u001b[0m     valid_loss \u001b[38;5;241m=\u001b[39m validate_epoch(dataset_val, model, loss_function)\n\u001b[1;32m    170\u001b[0m     train_losses\u001b[38;5;241m.\u001b[39mappend(train_loss)\n",
      "Cell \u001b[0;32mIn[7], line 146\u001b[0m, in \u001b[0;36mtrain_epoch\u001b[0;34m(dataset_train, model, optimizer, loss_function)\u001b[0m\n\u001b[1;32m    144\u001b[0m output, label_train \u001b[38;5;241m=\u001b[39m model(batch)\n\u001b[1;32m    145\u001b[0m \u001b[38;5;28mprint\u001b[39m(label_train\u001b[38;5;241m.\u001b[39mtype(), output\u001b[38;5;241m.\u001b[39mtype())\n\u001b[0;32m--> 146\u001b[0m loss \u001b[38;5;241m=\u001b[39m loss_function(output, label_train)\n\u001b[1;32m    147\u001b[0m loss\u001b[38;5;241m.\u001b[39mbackward()\n\u001b[1;32m    148\u001b[0m optimizer\u001b[38;5;241m.\u001b[39mstep()\n",
      "Cell \u001b[0;32mIn[7], line 131\u001b[0m, in \u001b[0;36mloss_function\u001b[0;34m(output, target)\u001b[0m\n\u001b[1;32m    130\u001b[0m \u001b[38;5;28;01mdef\u001b[39;00m \u001b[38;5;21mloss_function\u001b[39m(output, target):\n\u001b[0;32m--> 131\u001b[0m     \u001b[38;5;28;01mreturn\u001b[39;00m F\u001b[38;5;241m.\u001b[39mcross_entropy(output, target)\n",
      "File \u001b[0;32m~/anaconda3/lib/python3.11/site-packages/torch/nn/functional.py:3086\u001b[0m, in \u001b[0;36mcross_entropy\u001b[0;34m(input, target, weight, size_average, ignore_index, reduce, reduction, label_smoothing)\u001b[0m\n\u001b[1;32m   3084\u001b[0m \u001b[38;5;28;01mif\u001b[39;00m size_average \u001b[38;5;129;01mis\u001b[39;00m \u001b[38;5;129;01mnot\u001b[39;00m \u001b[38;5;28;01mNone\u001b[39;00m \u001b[38;5;129;01mor\u001b[39;00m reduce \u001b[38;5;129;01mis\u001b[39;00m \u001b[38;5;129;01mnot\u001b[39;00m \u001b[38;5;28;01mNone\u001b[39;00m:\n\u001b[1;32m   3085\u001b[0m     reduction \u001b[38;5;241m=\u001b[39m _Reduction\u001b[38;5;241m.\u001b[39mlegacy_get_string(size_average, reduce)\n\u001b[0;32m-> 3086\u001b[0m \u001b[38;5;28;01mreturn\u001b[39;00m torch\u001b[38;5;241m.\u001b[39m_C\u001b[38;5;241m.\u001b[39m_nn\u001b[38;5;241m.\u001b[39mcross_entropy_loss(\u001b[38;5;28minput\u001b[39m, target, weight, _Reduction\u001b[38;5;241m.\u001b[39mget_enum(reduction), ignore_index, label_smoothing)\n",
      "\u001b[0;31mRuntimeError\u001b[0m: Expected all tensors to be on the same device, but found at least two devices, cpu and cuda:0! (when checking argument for argument target in method wrapper_CUDA_nll_loss_forward)"
     ]
    }
   ],
   "source": [
    "model = create_torch_model_CNN(3).to(device)\n",
    "model = model.to(device)\n",
    "\n",
    "\n",
    "dataset_train = train_loader.dataset[0]\n",
    "dataset_val = valid_loader.dataset[0]\n",
    "\n",
    "\n",
    "dataset_train = dataset_train.to(device)\n",
    "dataset_val = dataset_val.to(device)\n",
    "\n",
    "learning_rate = 0.001\n",
    "torch.manual_seed(42)\n",
    "peram_to_optimize = model.parameters()\n",
    "\n",
    "\n",
    "\n",
    "optimizer = optim.Adam(peram_to_optimize, lr=learning_rate)\n",
    "\n",
    "model = model.to(device)\n",
    "\n",
    "model.train()\n",
    "\n",
    "num_epochs = 10\n",
    "\n",
    "\n",
    "\n",
    "print(next(model.parameters()).device, dataset_train.is_cuda)\n",
    "\n",
    "\n",
    "train_losses, valid_losses = train_model(model, num_epochs, dataset_train, dataset_val, optimizer, loss_function)\n",
    "\n",
    "plot_losses(train_losses, valid_losses)\n"
   ]
  },
  {
   "cell_type": "markdown",
   "metadata": {},
   "source": []
  },
  {
   "cell_type": "markdown",
   "metadata": {},
   "source": []
  }
 ],
 "metadata": {
  "kernelspec": {
   "display_name": "base",
   "language": "python",
   "name": "python3"
  },
  "language_info": {
   "codemirror_mode": {
    "name": "ipython",
    "version": 3
   },
   "file_extension": ".py",
   "mimetype": "text/x-python",
   "name": "python",
   "nbconvert_exporter": "python",
   "pygments_lexer": "ipython3",
   "version": "3.11.7"
  }
 },
 "nbformat": 4,
 "nbformat_minor": 2
}
