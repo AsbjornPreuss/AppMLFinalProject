{
 "cells": [
  {
   "cell_type": "code",
   "execution_count": 4,
   "metadata": {},
   "outputs": [],
   "source": [
    "import torch\n",
    "import torch.nn as nn\n",
    "import torch.nn.functional as F\n",
    "import torch.optim as optim\n",
    "from torch.utils.data import DataLoader, random_split, Dataset\n",
    "import numpy as np\n",
    "import pandas as pd\n",
    "from sklearn.model_selection import train_test_split\n",
    "import os\n",
    "from torchvision import transforms\n",
    "import matplotlib.pyplot as plt\n",
    "\n",
    "from sklearn.preprocessing import RobustScaler\n",
    "\n",
    "from umap import UMAP\n",
    "from sklearn.cluster import DBSCAN"
   ]
  },
  {
   "cell_type": "markdown",
   "metadata": {},
   "source": [
    "# Import Data"
   ]
  },
  {
   "cell_type": "code",
   "execution_count": 5,
   "metadata": {},
   "outputs": [],
   "source": [
    "def import_rescaled_csv(folder_path):\n",
    "    # List all CSV files in the given folder\n",
    "    csv_files = [f for f in os.listdir(folder_path) if f.endswith('.csv')]\n",
    "    csv_files_sorted = np.sort(np.array(csv_files))\n",
    "    #print(csv_files_sorted)\n",
    "    # Initialize an empty list to store the data arrays\n",
    "    data_arrays = []\n",
    "\n",
    "    indecies = np.zeros_like(csv_files_sorted, dtype=int)\n",
    "    for i in range(len(csv_files_sorted)):\n",
    "        indecies[i] = int(csv_files_sorted[i][:-6])\n",
    "        #print(type(indecies[i]))\n",
    "    #print(csv_files_sorted, indecies)\n",
    "        \n",
    "    \n",
    "    # Iterate over the CSV files and read them into numpy arrays\n",
    "    for file in csv_files_sorted:\n",
    "        file_path = os.path.join(folder_path, file)\n",
    "        data = pd.read_csv(file_path, header=None).values\n",
    "        data_arrays.append(data)\n",
    "\n",
    "    return data_arrays, indecies"
   ]
  },
  {
   "cell_type": "code",
   "execution_count": 6,
   "metadata": {},
   "outputs": [
    {
     "name": "stdout",
     "output_type": "stream",
     "text": [
      "119 119\n"
     ]
    }
   ],
   "source": [
    "data_raw, index = import_rescaled_csv('clusters_colour_rotations_rescaled/')\n",
    "\n",
    "labels_raw = [np.load('./labels/'+x) for x in os.listdir('./labels/') if x.endswith('.npy')]\n",
    "print(len(labels_raw[8][0]), len(labels_raw[8][1]))\n",
    "\n",
    "\n",
    "label_dict = {}\n",
    "value_array = []\n",
    "for values in labels_raw:\n",
    "    for value,ind in zip(values[0],values[1]):\n",
    "        value_array.append(value)\n",
    "        #print(value)\n",
    "        label_dict[value] = ind\n",
    "\n",
    "label = [label_dict[i_] for i_ in index]\n",
    "label = np.array(label, dtype=int)\n",
    "\n",
    "data_raw = np.array(data_raw)\n",
    "data_raw = data_raw[(label != 4) * (label != 0)]\n",
    "label = label[(label != 4) * (label != 0)] - 1\n",
    "\n",
    "\n",
    "\n",
    "train_images, testval_images, train_labels, testval_labels = train_test_split(data_raw, label, test_size=0.2, random_state=13052020)\n",
    "\n",
    "# further split testval set into specific test and validation set\n",
    "# the test set is NOT used during any part but inference\n",
    "val_images, test_images, val_labels, test_labels = train_test_split(testval_images, testval_labels, test_size=0.5, random_state=13052020)\n",
    "\n",
    "\n"
   ]
  },
  {
   "cell_type": "markdown",
   "metadata": {},
   "source": [
    "# Normelize Data"
   ]
  },
  {
   "cell_type": "code",
   "execution_count": 8,
   "metadata": {},
   "outputs": [
    {
     "data": {
      "image/png": "[encoded data removed]",
      "text/plain": [
       "<Figure size 640x480 with 1 Axes>"
      ]
     },
     "metadata": {},
     "output_type": "display_data"
    },
    {
     "data": {
      "text/plain": [
       "'\\nnum_classes = 3 # number of classes\\ntrain_labels = keras.utils.to_categorical(train_labels, num_classes)\\nval_labels = keras.utils.to_categorical(val_labels, num_classes)\\ntest_labels = keras.utils.to_categorical(test_labels, num_classes)\\n'"
      ]
     },
     "execution_count": 8,
     "metadata": {},
     "output_type": "execute_result"
    }
   ],
   "source": [
    "from sklearn.preprocessing import RobustScaler\n",
    "\n",
    "\n",
    "\n",
    "# save for scaling test data\n",
    "mu_train = np.mean(train_images)\n",
    "sigma_train = np.std(train_images)\n",
    "\n",
    "\n",
    "\n",
    "scaler = RobustScaler()\n",
    "\n",
    "scaler.fit(train_images.reshape(-1, 1))\n",
    "train_images = scaler.transform(train_images.reshape(-1, 1)).reshape(train_images.shape)\n",
    "val_images = scaler.transform(val_images.reshape(-1, 1)).reshape(val_images.shape)\n",
    "#test_images = scaler.transform(test_images.reshape(-1, 1)).reshape(test_images.shape)\n",
    "\n",
    "plt.hist(train_images.flatten(), bins=100, range=(0.01, 1))\n",
    "plt.yscale('log')\n",
    "plt.show()\n",
    "\n",
    "\n",
    "\n",
    "# adapt to format required by tensorflow; Using channels_last --> (n_samples, img_rows, img_cols, n_channels)\n",
    "img_rows, img_cols = 64, 64 # input image dimensions\n",
    "train_images = train_images.reshape(train_images.shape[0], img_rows, img_cols, 1)\n",
    "val_images = val_images.reshape(val_images.shape[0], img_rows, img_cols, 1)\n",
    "#test_images = val_images.reshape(test_images.shape[0], img_rows, img_cols, 1)\n",
    "\n",
    "# convert class vectors to binary class matrices - one hot encoding\n",
    "\"\"\"\n",
    "num_classes = 3 # number of classes\n",
    "train_labels = keras.utils.to_categorical(train_labels, num_classes)\n",
    "val_labels = keras.utils.to_categorical(val_labels, num_classes)\n",
    "test_labels = keras.utils.to_categorical(test_labels, num_classes)\n",
    "\"\"\"\n"
   ]
  },
  {
   "cell_type": "markdown",
   "metadata": {},
   "source": [
    "# Chosse device"
   ]
  },
  {
   "cell_type": "code",
   "execution_count": 9,
   "metadata": {},
   "outputs": [
    {
     "data": {
      "text/plain": [
       "device(type='cuda', index=0)"
      ]
     },
     "execution_count": 9,
     "metadata": {},
     "output_type": "execute_result"
    }
   ],
   "source": [
    "device = torch.device(\"cuda:0\" if torch.cuda.is_available() else \"cpu\")\n",
    "device"
   ]
  },
  {
   "cell_type": "markdown",
   "metadata": {},
   "source": [
    "# Create Model"
   ]
  },
  {
   "cell_type": "code",
   "execution_count": null,
   "metadata": {},
   "outputs": [],
   "source": [
    "def create_tf_model_CNN(trial):\n",
    "    N_conv_layers = trial.suggest_int('N_conv_layers', 1, 3)\n",
    "    N_dense_layers = trial.suggest_int('N_dense_layers', 1, 3)\n",
    "    dropout_rate = trial.suggest_float('dropout_rate', 0.0, 0.5)\n",
    "    model = Sequential()  # Network type is Sequential\n",
    "    for i in range(N_conv_layers):\n",
    "        model.add(Conv2D(filters=2**trial.suggest_int('conv_filter_exp'+str(i), 3, 7),\n",
    "                         kernel_size=trial.suggest_int('conv_kernel_size'+str(i), 2, 5),\n",
    "                         strides=1,\n",
    "                         padding='same',\n",
    "                         activation='relu'))\n",
    "        model.add(MaxPooling2D(pool_size=2, strides=None))\n",
    "    model.add(Dropout(rate=dropout_rate))\n",
    "    model.add(Flatten())\n",
    "    for i in range(N_dense_layers - 1):\n",
    "        model.add(Dense(units=2**trial.suggest_int('dense_units_exp'+str(i), 3, 5), activation='relu'))\n",
    "    model.add(Dense(units=num_classes, activation='softmax'))\n",
    "    #model.summary()\n",
    "    return model\n",
    "\n",
    "\n",
    "def create_torch_model_CNN(trial):\n",
    "    N_conv_layers = trial.suggest_int('N_conv_layers', 1, 3)\n",
    "    N_dense_layers = trial.suggest_int('N_dense_layers', 1, 3)\n",
    "    dropout_rate = trial.suggest_float('dropout_rate', 0.0, 0.5)\n",
    "    dropout_rate = 0.5\n",
    "    num_classes = 3\n",
    "    class torch_CNN(nn.Module):\n",
    "        def __init__(self, output_size):\n",
    "            super().__init()\n",
    "\n",
    "            ### Convolutional section:\n",
    "            self.cnn_layer = nn.Sequential(\n",
    "                nn.Conv2d(1, 32, 3, stride=1, padding=1),  # 1x64x64 -> 32x64x64\n",
    "                nn.ReLU(True),\n",
    "                nn.Conv2d(32, 64, 3, stride=1, padding=1),  # 32x128x128 -> 64x64x64\n",
    "                nn.ReLU(True),\n",
    "                nn.MaxPool2d(2)  # 64x64x64 -> 64x32x32\n",
    "            )\n",
    "\n",
    "            ### Flattening:\n",
    "            self.flatten = nn.Flatten(start_dim=0)\n",
    "\n",
    "            ### Linerar section\n",
    "            self.linerar_layer = nn.Sequential(\n",
    "                nn.Linear(65536, 128),\n",
    "                nn.ReLU(True)\n",
    "            )\n",
    "\n",
    "            ### output layer\n",
    "            self.output_layer = nn.Sequential(\n",
    "                nn.linear(128, output_size),\n",
    "                nn.Softmax()\n",
    "            )\n",
    "\n",
    "            ### dropout\n",
    "            self.dropout = nn.Dropout(dropout_rate, inplace=True)\n",
    "        \n",
    "        def create_CNN_layer(self, filters_in, filters_out):\n",
    "            #filters_out = 32\n",
    "            filter_size = 3\n",
    "            stride_cnn = 1\n",
    "            padding = 1\n",
    "            pool_size = 2\n",
    "            pool_stride = 1\n",
    "            cnn_layer = nn.Sequential(\n",
    "                nn.Conv2d(filters_in, filters_out, filter_size, stride=stride_cnn, padding=padding),  # 1x256x256 -> 32x128x128\n",
    "                nn.ReLU(True),\n",
    "                nn.MaxPool2d(pool_size, stride=pool_stride)  # 64x64x64 -> 64x32x32\n",
    "            )\n",
    "            return cnn_layer, filters_out\n",
    "        \n",
    "        def create_liniar_layer(self, input_size, output_size):\n",
    "            liniar_layer = nn.Sequential(\n",
    "                nn.Linear(input_size, output_size),\n",
    "                nn.ReLU(True)\n",
    "            )\n",
    "            return liniar_layer, output_size\n",
    "        \n",
    "        def create_output_layer(self, input_size, output_size):\n",
    "            output_layer = nn.Sequential(\n",
    "                nn.linear(input_size, output_size),\n",
    "                nn.Softmax()\n",
    "            )\n",
    "            return output_layer\n",
    "        \n",
    "\n",
    "\n",
    "        def forward(self, x):\n",
    "\n",
    "            cnn_layer0, filters_out0 = self.create_CNN_layer(1, 32)\n",
    "            x = cnn_layer0(x)\n",
    "            cnn_layer1, filters_out1 = self.create_CNN_layer(filters_out0, 64)\n",
    "            x = cnn_layer1(x)\n",
    "\n",
    "            x = self.flatten(x)\n",
    "            x = self.dropout(x)\n",
    "\n",
    "            liniar_layer0, output_size0 = self.create_liniar_layer(65536, 128)\n",
    "            x = liniar_layer0(x)\n",
    "            liniar_layer1, output_size1 = self.create_liniar_layer(output_size0, 64)\n",
    "            x = liniar_layer1(x)\n",
    "\n",
    "            output_layer = self.create_output_layer(output_size1, num_classes)\n",
    "            x = output_layer(x)\n",
    "           \n",
    "            return x\n",
    "    return torch_CNN(num_classes).to(device)\n",
    "\n",
    "\n",
    "def create_tf_optimizer(trial):\n",
    "    # We optimize the choice of optimizers as well as their parameters.\n",
    "    kwargs = {}\n",
    "    \n",
    "    optimizer_selected = \"Adam\"\n",
    "    \n",
    "    kwargs[\"learning_rate\"] = trial.suggest_float(\"adam_learning_rate\", 1e-7, 1e-1, log=True)\n",
    "\n",
    "    optimizer = getattr(tf.optimizers, optimizer_selected)(**kwargs)\n",
    "    return optimizer\n",
    "\n",
    "def objective(trial, X_train, Y_train, X_test, Y_test):\n",
    "    # Build model and optimizer.\n",
    "    model = create_tf_model_CNN(trial)\n",
    "    optimizer = create_tf_optimizer(trial)\n",
    "    model.compile(optimizer, loss=CategoricalCrossentropy())\n",
    "    # Fit the model to the data\n",
    "    model.fit(x=X_train, y = Y_train, epochs=30, validation_data=(X_test, Y_test), verbose=0)\n",
    "    # Find the accuracy\n",
    "    cce = CategoricalCrossentropy()\n",
    "    accuracy = cce(Y_test, model(X_test))\n",
    "    # Return accuracy\n",
    "    return accuracy\n"
   ]
  }
 ],
 "metadata": {
  "kernelspec": {
   "display_name": "base",
   "language": "python",
   "name": "python3"
  },
  "language_info": {
   "codemirror_mode": {
    "name": "ipython",
    "version": 3
   },
   "file_extension": ".py",
   "mimetype": "text/x-python",
   "name": "python",
   "nbconvert_exporter": "python",
   "pygments_lexer": "ipython3",
   "version": "3.11.7"
  }
 },
 "nbformat": 4,
 "nbformat_minor": 2
}
