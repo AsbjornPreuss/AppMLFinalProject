{
 "cells": [
  {
   "cell_type": "code",
   "execution_count": 1,
   "id": "1236d898-c76e-4a67-a908-770b3ae98552",
   "metadata": {},
   "outputs": [],
   "source": [
    "import numpy as np\n",
    "import os\n",
    "import matplotlib.pyplot as plt"
   ]
  },
  {
   "cell_type": "code",
   "execution_count": 6,
   "id": "0b6749c8-94ab-4759-8108-7c71c6581797",
   "metadata": {},
   "outputs": [],
   "source": [
    "letters = \"ABCDEFGH\"\n",
    "\n",
    "\n",
    "def duplicate_folder(path:str):\n",
    "    new_path = path+\"_rotations\"\n",
    "    for filename in os.listdir(path)[4:]:\n",
    "        if filename == \".ipynb_checkpoints\" or filename==\"metadata.csv\":\n",
    "            continue\n",
    "        data = np.genfromtxt(os.path.join(path,filename), delimiter=\",\")\n",
    "        #plt.imshow(data)\n",
    "        #plt.show()\n",
    "        try:\n",
    "            for i in range(4):\n",
    "                new_file = filename[:-4]+\"_\"+letters[i]+filename[-4:]\n",
    "                data = np.rot90(data)\n",
    "                np.savetxt(os.path.join(new_path,new_file), data, delimiter=\",\")\n",
    "            data = np.flip(data,axis=0)\n",
    "            for i in range(4,8):\n",
    "                new_file = filename[:-4]+\"_\"+letters[i]+filename[-4:]\n",
    "                data = np.rot90(data)\n",
    "                np.savetxt(os.path.join(new_path,new_file), data, delimiter=\",\")\n",
    "        except:\n",
    "            data = data.reshape(1, -1)\n",
    "            for i in range(4):\n",
    "                new_file = filename[:-4]+\"_\"+letters[i]+filename[-4:]\n",
    "                data = np.rot90(data)\n",
    "                np.savetxt(os.path.join(new_path,new_file), data, delimiter=\",\")\n",
    "            data = np.flip(data,axis=0)\n",
    "            for i in range(4,8):\n",
    "                new_file = filename[:-4]+\"_\"+letters[i]+filename[-4:]\n",
    "                data = np.rot90(data)\n",
    "                np.savetxt(os.path.join(new_path,new_file), data, delimiter=\",\")\n",
    "\n",
    "    return\n",
    "        \n",
    "\n",
    "duplicate_folder(\"new_data\")"
   ]
  }
 ],
 "metadata": {
  "kernelspec": {
   "display_name": "Python 3 (ipykernel)",
   "language": "python",
   "name": "python3"
  },
  "language_info": {
   "codemirror_mode": {
    "name": "ipython",
    "version": 3
   },
   "file_extension": ".py",
   "mimetype": "text/x-python",
   "name": "python",
   "nbconvert_exporter": "python",
   "pygments_lexer": "ipython3",
   "version": "3.11.9"
  }
 },
 "nbformat": 4,
 "nbformat_minor": 5
}
