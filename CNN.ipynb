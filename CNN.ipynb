{
 "cells": [
  {
   "cell_type": "code",
   "execution_count": 1,
   "metadata": {},
   "outputs": [],
   "source": []
  },
  {
   "cell_type": "markdown",
   "metadata": {},
   "source": [
    "# Convolutional neural network framework"
   ]
  },
  {
   "cell_type": "code",
   "execution_count": 122,
   "metadata": {},
   "outputs": [],
   "source": [
    "# Import standard libraries:\n",
    "import numpy as np\n",
    "import matplotlib.pyplot as plt\n",
    "%matplotlib inline\n",
    "import seaborn as sns\n",
    "import os\n",
    "import pandas as pd\n",
    "sns.set_style(\"darkgrid\")\n",
    "\n",
    "\n",
    "# Keras documentation can be found on keras.io:\n",
    "import keras\n",
    "# manual link to data:  http://yann.lecun.com/exdb/mnist/\n",
    "from keras.models import Sequential\n",
    "from keras.layers import Conv2D, MaxPooling2D, Flatten, Dense, Dropout\n",
    "from keras.losses import categorical_crossentropy\n",
    "from keras.optimizers import Adadelta\n",
    "from sklearn.model_selection import train_test_split\n",
    "from sklearn.preprocessing import quantile_transform\n",
    "\n",
    "import tensorflow as tf\n",
    "tf.compat.v1.logging.set_verbosity(tf.compat.v1.logging.ERROR)"
   ]
  },
  {
   "cell_type": "markdown",
   "metadata": {},
   "source": [
    "# Jens csv kode"
   ]
  },
  {
   "cell_type": "code",
   "execution_count": 123,
   "metadata": {},
   "outputs": [],
   "source": [
    "def import_and_pad_csvs(folder_path):\n",
    "    # List all CSV files in the given folder\n",
    "    csv_files = [f for f in os.listdir(folder_path) if f.endswith('.csv')]\n",
    "    \n",
    "    # Initialize an empty list to store the data arrays\n",
    "    data_arrays = []\n",
    "    \n",
    "    # Iterate over the CSV files and read them into numpy arrays\n",
    "    for file in csv_files:\n",
    "        file_path = os.path.join(folder_path, file)\n",
    "        data = pd.read_csv(file_path).values\n",
    "        data_arrays.append(data)\n",
    "    \n",
    "    # Find the maximum number of rows and columns among all CSV files\n",
    "    max_rows = max(array.shape[0] for array in data_arrays)\n",
    "    max_cols = max(array.shape[1] for array in data_arrays)\n",
    "    \n",
    "    # Find the index of the largest array (by number of elements)\n",
    "    largest_array_index = max(range(len(data_arrays)), key=lambda i: data_arrays[i].shape[0] * data_arrays[i].shape[1])\n",
    "    \n",
    "    print(f\"Index of the largest initial array: {largest_array_index}\")\n",
    "    \n",
    "    # Initialize a list to store padded arrays\n",
    "    padded_arrays = []\n",
    "    \n",
    "    # Pad each array with zeros to match the maximum size\n",
    "    for array in data_arrays:\n",
    "        padded_array = np.zeros((max_rows, max_cols)) + 4000\n",
    "        padded_array[:array.shape[0], :array.shape[1]] = array\n",
    "        padded_arrays.append(padded_array)\n",
    "    \n",
    "    # Stack all padded arrays along a new dimension to create the final array\n",
    "    combined_array = np.stack(padded_arrays, axis=0)\n",
    "    \n",
    "    return combined_array"
   ]
  },
  {
   "cell_type": "markdown",
   "metadata": {},
   "source": [
    "# Import Data"
   ]
  },
  {
   "cell_type": "code",
   "execution_count": 124,
   "metadata": {},
   "outputs": [
    {
     "data": {
      "text/plain": [
       "(393, 184, 209)"
      ]
     },
     "execution_count": 124,
     "metadata": {},
     "output_type": "execute_result"
    }
   ],
   "source": [
    "np.shape(data_raw)"
   ]
  },
  {
   "cell_type": "code",
   "execution_count": 135,
   "metadata": {},
   "outputs": [
    {
     "name": "stdout",
     "output_type": "stream",
     "text": [
      "Index of the largest initial array: 151\n",
      "(393, 184, 209)\n",
      "0\n"
     ]
    },
    {
     "data": {
      "image/png": "[encoded data removed]",
      "text/plain": [
       "<Figure size 640x480 with 2 Axes>"
      ]
     },
     "metadata": {},
     "output_type": "display_data"
    }
   ],
   "source": [
    "data_raw = import_and_pad_csvs('clusters_colour/')\n",
    "labels_raw = [np.load('./labels/'+x) for x in os.listdir('./labels/') if x.endswith('.npy')]\n",
    "label = []\n",
    "for value in labels_raw:\n",
    "    label.append(value[1].tolist())\n",
    "label = [item for sublist in label for item in sublist]\n",
    "label = np.array(label)\n",
    "# Remove all reading erros, multiple objects, and others.\n",
    "data_raw = data_raw[(label != 4) & (label != 0)]\n",
    "label = label[(label != 4) & (label != 0)] - 1\n",
    "\n",
    "print(data_raw.shape)\n",
    "# the data, split between train and testval sets\n",
    "train_images, testval_images, train_labels, testval_labels = train_test_split(data_raw, label, test_size=0.3, random_state=13052020)\n",
    "\n",
    "# further split testval set into specific test and validation set\n",
    "# the test set is NOT used during any part but inference\n",
    "val_images, test_images, val_labels, test_labels = train_test_split(testval_images, testval_labels, test_size=0.2, random_state=13052020)\n",
    "\n",
    "plt.imshow(val_images[0])\n",
    "plt.colorbar()\n",
    "print(val_labels[0])"
   ]
  },
  {
   "cell_type": "markdown",
   "metadata": {},
   "source": [
    "\n"
   ]
  },
  {
   "cell_type": "markdown",
   "metadata": {},
   "source": [
    "# Normelize Data"
   ]
  },
  {
   "cell_type": "code",
   "execution_count": 136,
   "metadata": {},
   "outputs": [],
   "source": [
    "# explicitly illustrating standardization\n",
    "def standardizeimg(img, mu, sigma):\n",
    "    return (img-mu)/(sigma).astype(np.float32)\n",
    "\n",
    "# save for scaling test data\n",
    "mu_train = np.mean(train_images)\n",
    "sigma_train = np.std(train_images)\n",
    "\n",
    "# Standardize pixel distribution to have zero mean and unit variance\n",
    "train_images = standardizeimg(img=train_images, mu=mu_train, sigma=sigma_train)\n",
    "val_images = standardizeimg(img=val_images, mu=np.mean(val_images), sigma=np.std(val_images))\n",
    "# Alternative: quantile normalization\n",
    "# train_images = quantile_transform(train_images, output_distribution='normal', copy=True)\n",
    "# val_images = quantile_transform(val_images, output_distribution='normal', copy=True)\n",
    "\n",
    "\n",
    "\n",
    "\n",
    "# adapt to format required by tensorflow; Using channels_last --> (n_samples, img_rows, img_cols, n_channels)\n",
    "img_rows, img_cols = 184, 209 # input image dimensions\n",
    "train_images = train_images.reshape(train_images.shape[0], img_rows, img_cols, 1)\n",
    "val_images = val_images.reshape(val_images.shape[0], img_rows, img_cols, 1)\n",
    "\n",
    "# convert class vectors to binary class matrices - one hot encoding\n",
    "num_classes = 3 # number of classes\n",
    "train_labels = keras.utils.to_categorical(train_labels, num_classes)\n",
    "val_labels = keras.utils.to_categorical(val_labels, num_classes)\n",
    "\n",
    "# avoid using statistics intrinsic to test data to ensure unbiased estimate of real model performance\n",
    "test_images = standardizeimg(img=test_images, mu=mu_train, sigma=sigma_train)\n",
    "# test_images = quantile_transform(test_images, output_distribution='normal', copy=True)\n",
    "test_images = test_images.reshape(test_images.shape[0], img_rows, img_cols, 1)\n",
    "test_labels = keras.utils.to_categorical(test_labels, num_classes)"
   ]
  },
  {
   "cell_type": "markdown",
   "metadata": {},
   "source": [
    "# Setup CNN"
   ]
  },
  {
   "cell_type": "code",
   "execution_count": 137,
   "metadata": {},
   "outputs": [
    {
     "name": "stderr",
     "output_type": "stream",
     "text": [
      "/home/sk0rt3/anaconda3/lib/python3.11/site-packages/keras/src/layers/convolutional/base_conv.py:99: UserWarning: Do not pass an `input_shape`/`input_dim` argument to a layer. When using Sequential models, prefer using an `Input(shape)` object as the first layer in the model instead.\n",
      "  super().__init__(\n"
     ]
    },
    {
     "data": {
      "text/html": [
       "<pre style=\"white-space:pre;overflow-x:auto;line-height:normal;font-family:Menlo,'DejaVu Sans Mono',consolas,'Courier New',monospace\"><span style=\"font-weight: bold\">Model: \"sequential_15\"</span>\n",
       "</pre>\n"
      ],
      "text/plain": [
       "\u001b[1mModel: \"sequential_15\"\u001b[0m\n"
      ]
     },
     "metadata": {},
     "output_type": "display_data"
    },
    {
     "data": {
      "text/html": [
       "<pre style=\"white-space:pre;overflow-x:auto;line-height:normal;font-family:Menlo,'DejaVu Sans Mono',consolas,'Courier New',monospace\">┏━━━━━━━━━━━━━━━━━━━━━━━━━━━━━━━━━┳━━━━━━━━━━━━━━━━━━━━━━━━┳━━━━━━━━━━━━━━━┓\n",
       "┃<span style=\"font-weight: bold\"> Layer (type)                    </span>┃<span style=\"font-weight: bold\"> Output Shape           </span>┃<span style=\"font-weight: bold\">       Param # </span>┃\n",
       "┡━━━━━━━━━━━━━━━━━━━━━━━━━━━━━━━━━╇━━━━━━━━━━━━━━━━━━━━━━━━╇━━━━━━━━━━━━━━━┩\n",
       "│ conv2d_14 (<span style=\"color: #0087ff; text-decoration-color: #0087ff\">Conv2D</span>)              │ (<span style=\"color: #00d7ff; text-decoration-color: #00d7ff\">None</span>, <span style=\"color: #00af00; text-decoration-color: #00af00\">184</span>, <span style=\"color: #00af00; text-decoration-color: #00af00\">209</span>, <span style=\"color: #00af00; text-decoration-color: #00af00\">32</span>)   │           <span style=\"color: #00af00; text-decoration-color: #00af00\">320</span> │\n",
       "├─────────────────────────────────┼────────────────────────┼───────────────┤\n",
       "│ max_pooling2d_14 (<span style=\"color: #0087ff; text-decoration-color: #0087ff\">MaxPooling2D</span>) │ (<span style=\"color: #00d7ff; text-decoration-color: #00d7ff\">None</span>, <span style=\"color: #00af00; text-decoration-color: #00af00\">92</span>, <span style=\"color: #00af00; text-decoration-color: #00af00\">104</span>, <span style=\"color: #00af00; text-decoration-color: #00af00\">32</span>)    │             <span style=\"color: #00af00; text-decoration-color: #00af00\">0</span> │\n",
       "├─────────────────────────────────┼────────────────────────┼───────────────┤\n",
       "│ conv2d_15 (<span style=\"color: #0087ff; text-decoration-color: #0087ff\">Conv2D</span>)              │ (<span style=\"color: #00d7ff; text-decoration-color: #00d7ff\">None</span>, <span style=\"color: #00af00; text-decoration-color: #00af00\">92</span>, <span style=\"color: #00af00; text-decoration-color: #00af00\">104</span>, <span style=\"color: #00af00; text-decoration-color: #00af00\">64</span>)    │        <span style=\"color: #00af00; text-decoration-color: #00af00\">18,496</span> │\n",
       "├─────────────────────────────────┼────────────────────────┼───────────────┤\n",
       "│ max_pooling2d_15 (<span style=\"color: #0087ff; text-decoration-color: #0087ff\">MaxPooling2D</span>) │ (<span style=\"color: #00d7ff; text-decoration-color: #00d7ff\">None</span>, <span style=\"color: #00af00; text-decoration-color: #00af00\">46</span>, <span style=\"color: #00af00; text-decoration-color: #00af00\">52</span>, <span style=\"color: #00af00; text-decoration-color: #00af00\">64</span>)     │             <span style=\"color: #00af00; text-decoration-color: #00af00\">0</span> │\n",
       "├─────────────────────────────────┼────────────────────────┼───────────────┤\n",
       "│ dropout_7 (<span style=\"color: #0087ff; text-decoration-color: #0087ff\">Dropout</span>)             │ (<span style=\"color: #00d7ff; text-decoration-color: #00d7ff\">None</span>, <span style=\"color: #00af00; text-decoration-color: #00af00\">46</span>, <span style=\"color: #00af00; text-decoration-color: #00af00\">52</span>, <span style=\"color: #00af00; text-decoration-color: #00af00\">64</span>)     │             <span style=\"color: #00af00; text-decoration-color: #00af00\">0</span> │\n",
       "├─────────────────────────────────┼────────────────────────┼───────────────┤\n",
       "│ flatten_7 (<span style=\"color: #0087ff; text-decoration-color: #0087ff\">Flatten</span>)             │ (<span style=\"color: #00d7ff; text-decoration-color: #00d7ff\">None</span>, <span style=\"color: #00af00; text-decoration-color: #00af00\">153088</span>)         │             <span style=\"color: #00af00; text-decoration-color: #00af00\">0</span> │\n",
       "├─────────────────────────────────┼────────────────────────┼───────────────┤\n",
       "│ dense_14 (<span style=\"color: #0087ff; text-decoration-color: #0087ff\">Dense</span>)                │ (<span style=\"color: #00d7ff; text-decoration-color: #00d7ff\">None</span>, <span style=\"color: #00af00; text-decoration-color: #00af00\">128</span>)            │    <span style=\"color: #00af00; text-decoration-color: #00af00\">19,595,392</span> │\n",
       "├─────────────────────────────────┼────────────────────────┼───────────────┤\n",
       "│ dense_15 (<span style=\"color: #0087ff; text-decoration-color: #0087ff\">Dense</span>)                │ (<span style=\"color: #00d7ff; text-decoration-color: #00d7ff\">None</span>, <span style=\"color: #00af00; text-decoration-color: #00af00\">3</span>)              │           <span style=\"color: #00af00; text-decoration-color: #00af00\">387</span> │\n",
       "└─────────────────────────────────┴────────────────────────┴───────────────┘\n",
       "</pre>\n"
      ],
      "text/plain": [
       "┏━━━━━━━━━━━━━━━━━━━━━━━━━━━━━━━━━┳━━━━━━━━━━━━━━━━━━━━━━━━┳━━━━━━━━━━━━━━━┓\n",
       "┃\u001b[1m \u001b[0m\u001b[1mLayer (type)                   \u001b[0m\u001b[1m \u001b[0m┃\u001b[1m \u001b[0m\u001b[1mOutput Shape          \u001b[0m\u001b[1m \u001b[0m┃\u001b[1m \u001b[0m\u001b[1m      Param #\u001b[0m\u001b[1m \u001b[0m┃\n",
       "┡━━━━━━━━━━━━━━━━━━━━━━━━━━━━━━━━━╇━━━━━━━━━━━━━━━━━━━━━━━━╇━━━━━━━━━━━━━━━┩\n",
       "│ conv2d_14 (\u001b[38;5;33mConv2D\u001b[0m)              │ (\u001b[38;5;45mNone\u001b[0m, \u001b[38;5;34m184\u001b[0m, \u001b[38;5;34m209\u001b[0m, \u001b[38;5;34m32\u001b[0m)   │           \u001b[38;5;34m320\u001b[0m │\n",
       "├─────────────────────────────────┼────────────────────────┼───────────────┤\n",
       "│ max_pooling2d_14 (\u001b[38;5;33mMaxPooling2D\u001b[0m) │ (\u001b[38;5;45mNone\u001b[0m, \u001b[38;5;34m92\u001b[0m, \u001b[38;5;34m104\u001b[0m, \u001b[38;5;34m32\u001b[0m)    │             \u001b[38;5;34m0\u001b[0m │\n",
       "├─────────────────────────────────┼────────────────────────┼───────────────┤\n",
       "│ conv2d_15 (\u001b[38;5;33mConv2D\u001b[0m)              │ (\u001b[38;5;45mNone\u001b[0m, \u001b[38;5;34m92\u001b[0m, \u001b[38;5;34m104\u001b[0m, \u001b[38;5;34m64\u001b[0m)    │        \u001b[38;5;34m18,496\u001b[0m │\n",
       "├─────────────────────────────────┼────────────────────────┼───────────────┤\n",
       "│ max_pooling2d_15 (\u001b[38;5;33mMaxPooling2D\u001b[0m) │ (\u001b[38;5;45mNone\u001b[0m, \u001b[38;5;34m46\u001b[0m, \u001b[38;5;34m52\u001b[0m, \u001b[38;5;34m64\u001b[0m)     │             \u001b[38;5;34m0\u001b[0m │\n",
       "├─────────────────────────────────┼────────────────────────┼───────────────┤\n",
       "│ dropout_7 (\u001b[38;5;33mDropout\u001b[0m)             │ (\u001b[38;5;45mNone\u001b[0m, \u001b[38;5;34m46\u001b[0m, \u001b[38;5;34m52\u001b[0m, \u001b[38;5;34m64\u001b[0m)     │             \u001b[38;5;34m0\u001b[0m │\n",
       "├─────────────────────────────────┼────────────────────────┼───────────────┤\n",
       "│ flatten_7 (\u001b[38;5;33mFlatten\u001b[0m)             │ (\u001b[38;5;45mNone\u001b[0m, \u001b[38;5;34m153088\u001b[0m)         │             \u001b[38;5;34m0\u001b[0m │\n",
       "├─────────────────────────────────┼────────────────────────┼───────────────┤\n",
       "│ dense_14 (\u001b[38;5;33mDense\u001b[0m)                │ (\u001b[38;5;45mNone\u001b[0m, \u001b[38;5;34m128\u001b[0m)            │    \u001b[38;5;34m19,595,392\u001b[0m │\n",
       "├─────────────────────────────────┼────────────────────────┼───────────────┤\n",
       "│ dense_15 (\u001b[38;5;33mDense\u001b[0m)                │ (\u001b[38;5;45mNone\u001b[0m, \u001b[38;5;34m3\u001b[0m)              │           \u001b[38;5;34m387\u001b[0m │\n",
       "└─────────────────────────────────┴────────────────────────┴───────────────┘\n"
      ]
     },
     "metadata": {},
     "output_type": "display_data"
    },
    {
     "data": {
      "text/html": [
       "<pre style=\"white-space:pre;overflow-x:auto;line-height:normal;font-family:Menlo,'DejaVu Sans Mono',consolas,'Courier New',monospace\"><span style=\"font-weight: bold\"> Total params: </span><span style=\"color: #00af00; text-decoration-color: #00af00\">19,614,595</span> (74.82 MB)\n",
       "</pre>\n"
      ],
      "text/plain": [
       "\u001b[1m Total params: \u001b[0m\u001b[38;5;34m19,614,595\u001b[0m (74.82 MB)\n"
      ]
     },
     "metadata": {},
     "output_type": "display_data"
    },
    {
     "data": {
      "text/html": [
       "<pre style=\"white-space:pre;overflow-x:auto;line-height:normal;font-family:Menlo,'DejaVu Sans Mono',consolas,'Courier New',monospace\"><span style=\"font-weight: bold\"> Trainable params: </span><span style=\"color: #00af00; text-decoration-color: #00af00\">19,614,595</span> (74.82 MB)\n",
       "</pre>\n"
      ],
      "text/plain": [
       "\u001b[1m Trainable params: \u001b[0m\u001b[38;5;34m19,614,595\u001b[0m (74.82 MB)\n"
      ]
     },
     "metadata": {},
     "output_type": "display_data"
    },
    {
     "data": {
      "text/html": [
       "<pre style=\"white-space:pre;overflow-x:auto;line-height:normal;font-family:Menlo,'DejaVu Sans Mono',consolas,'Courier New',monospace\"><span style=\"font-weight: bold\"> Non-trainable params: </span><span style=\"color: #00af00; text-decoration-color: #00af00\">0</span> (0.00 B)\n",
       "</pre>\n"
      ],
      "text/plain": [
       "\u001b[1m Non-trainable params: \u001b[0m\u001b[38;5;34m0\u001b[0m (0.00 B)\n"
      ]
     },
     "metadata": {},
     "output_type": "display_data"
    }
   ],
   "source": [
    "def compile_CNN_model(model_type=Sequential(), layer_types=[Conv2D, MaxPooling2D, Flatten, Dropout, Dense], hyperperams_list=np.zeros((7,3)), img_rows=28, img_cols=28, num_classes=10):\n",
    "    model = model_type  # Network model type\n",
    "\n",
    "    N_layers = len(layer_types)\n",
    "    layers = np.array([])\n",
    "    for i in range(layer_types):\n",
    "        if layer_types[i] == 0:\n",
    "            layers = np.append(layers, Conv2D)\n",
    "            hyp_peram = {'filters': hyperperams_list[i, 0], 'kernel_size': hyperperams_list[i, 1], 'strides': hyperperams_list[i, 2], 'activation': 'relu', 'input_shape': (img_rows, img_cols, 1)}\n",
    "            hyperperams = np.append(hyperperams, hyp_peram)\n",
    "\n",
    "        if layer_types[i] == 1:\n",
    "            layers = np.append(layers, MaxPooling2D)\n",
    "            hyp_peram = {'pool_size': hyperperams_list[i, 0], 'strides': hyperperams_list[i, 1]}\n",
    "            hyperperams = np.append(hyperperams, hyp_peram)\n",
    "        if layer_types[i] == 2:\n",
    "            layers = np.append(layers, Flatten)\n",
    "            hyp_peram = {}\n",
    "            hyperperams = np.append(hyperperams, hyp_peram)\n",
    "        if layer_types[i] == 3:\n",
    "            layers = np.append(layers, Dropout)\n",
    "            hyp_peram = {'rate': hyperperams_list[i, 0]}\n",
    "            hyperperams = np.append(hyperperams, hyp_peram)\n",
    "\n",
    "        if layer_types[i] == 4:\n",
    "            layers = np.append(layers, Dense)\n",
    "            hyp_peram = {'units': hyperperams_list[i, 0], 'activation': 'relu'}\n",
    "            \n",
    "    \n",
    "    for i in range(N_layers):\n",
    "        model.add(layers[i](**layer_hyperperams[i]))\n",
    "\n",
    "    \n",
    "    # specify optimization strategy and metric used for monitoring during training\n",
    "    model.compile(loss=categorical_crossentropy,\n",
    "              optimizer=Adadelta(),\n",
    "              metrics=['categorical_accuracy'])\n",
    "\n",
    "    return model\n",
    "\n",
    "\n",
    "\n",
    "model = Sequential()  # Network type is Sequential\n",
    "\n",
    "model.add(Conv2D(filters=32,\n",
    "                 kernel_size=3,\n",
    "                 strides=1,\n",
    "                 padding='same',\n",
    "                 activation='relu',\n",
    "                 input_shape=(img_rows, img_cols, 1)))\n",
    "\n",
    "model.add(MaxPooling2D(pool_size=2, strides=None))\n",
    "\n",
    "model.add(Conv2D(filters=64,\n",
    "                 kernel_size=3,\n",
    "                 strides=1,\n",
    "                 padding='same',\n",
    "                 activation='relu'))\n",
    "\n",
    "model.add(MaxPooling2D(pool_size=2, strides=None))\n",
    "\n",
    "model.add(Dropout(rate=0.40))\n",
    "\n",
    "model.add(Flatten())\n",
    "\n",
    "model.add(Dense(units=128, activation='relu'))\n",
    "\n",
    "model.add(Dense(units=num_classes, activation='softmax'))\n",
    "\n",
    "model.summary()\n",
    "\n",
    "# specify optimization strategy and metric used for monitoring during training\n",
    "model.compile(loss=categorical_crossentropy,\n",
    "              optimizer=Adadelta(),\n",
    "              metrics=['categorical_accuracy'])"
   ]
  },
  {
   "cell_type": "markdown",
   "metadata": {},
   "source": [
    "# Train CNN"
   ]
  },
  {
   "cell_type": "code",
   "execution_count": 138,
   "metadata": {},
   "outputs": [
    {
     "name": "stdout",
     "output_type": "stream",
     "text": [
      "Epoch 1/100\n",
      "\u001b[1m2/2\u001b[0m \u001b[32m━━━━━━━━━━━━━━━━━━━━\u001b[0m\u001b[37m\u001b[0m \u001b[1m4s\u001b[0m 721ms/step - categorical_accuracy: 0.3253 - loss: 1.1100 - val_categorical_accuracy: 0.3404 - val_loss: 1.1229\n",
      "Epoch 2/100\n",
      "\u001b[1m2/2\u001b[0m \u001b[32m━━━━━━━━━━━━━━━━━━━━\u001b[0m\u001b[37m\u001b[0m \u001b[1m3s\u001b[0m 574ms/step - categorical_accuracy: 0.3199 - loss: 1.1272 - val_categorical_accuracy: 0.3298 - val_loss: 1.1216\n",
      "Epoch 3/100\n",
      "\u001b[1m2/2\u001b[0m \u001b[32m━━━━━━━━━━━━━━━━━━━━\u001b[0m\u001b[37m\u001b[0m \u001b[1m3s\u001b[0m 567ms/step - categorical_accuracy: 0.3378 - loss: 1.1025 - val_categorical_accuracy: 0.3511 - val_loss: 1.1203\n",
      "Epoch 4/100\n",
      "\u001b[1m2/2\u001b[0m \u001b[32m━━━━━━━━━━━━━━━━━━━━\u001b[0m\u001b[37m\u001b[0m \u001b[1m3s\u001b[0m 572ms/step - categorical_accuracy: 0.3352 - loss: 1.1139 - val_categorical_accuracy: 0.3617 - val_loss: 1.1185\n",
      "Epoch 5/100\n",
      "\u001b[1m2/2\u001b[0m \u001b[32m━━━━━━━━━━━━━━━━━━━━\u001b[0m\u001b[37m\u001b[0m \u001b[1m3s\u001b[0m 569ms/step - categorical_accuracy: 0.3387 - loss: 1.1146 - val_categorical_accuracy: 0.3617 - val_loss: 1.1168\n",
      "Epoch 6/100\n",
      "\u001b[1m2/2\u001b[0m \u001b[32m━━━━━━━━━━━━━━━━━━━━\u001b[0m\u001b[37m\u001b[0m \u001b[1m3s\u001b[0m 565ms/step - categorical_accuracy: 0.3313 - loss: 1.1194 - val_categorical_accuracy: 0.3723 - val_loss: 1.1153\n",
      "Epoch 7/100\n",
      "\u001b[1m2/2\u001b[0m \u001b[32m━━━━━━━━━━━━━━━━━━━━\u001b[0m\u001b[37m\u001b[0m \u001b[1m3s\u001b[0m 596ms/step - categorical_accuracy: 0.4008 - loss: 1.0892 - val_categorical_accuracy: 0.3617 - val_loss: 1.1152\n",
      "Epoch 8/100\n",
      "\u001b[1m2/2\u001b[0m \u001b[32m━━━━━━━━━━━━━━━━━━━━\u001b[0m\u001b[37m\u001b[0m \u001b[1m3s\u001b[0m 596ms/step - categorical_accuracy: 0.3525 - loss: 1.0972 - val_categorical_accuracy: 0.3617 - val_loss: 1.1150\n",
      "Epoch 9/100\n",
      "\u001b[1m2/2\u001b[0m \u001b[32m━━━━━━━━━━━━━━━━━━━━\u001b[0m\u001b[37m\u001b[0m \u001b[1m3s\u001b[0m 579ms/step - categorical_accuracy: 0.3685 - loss: 1.0974 - val_categorical_accuracy: 0.3511 - val_loss: 1.1134\n",
      "Epoch 10/100\n",
      "\u001b[1m2/2\u001b[0m \u001b[32m━━━━━━━━━━━━━━━━━━━━\u001b[0m\u001b[37m\u001b[0m \u001b[1m3s\u001b[0m 574ms/step - categorical_accuracy: 0.3782 - loss: 1.0956 - val_categorical_accuracy: 0.3298 - val_loss: 1.1136\n",
      "Epoch 11/100\n",
      "\u001b[1m2/2\u001b[0m \u001b[32m━━━━━━━━━━━━━━━━━━━━\u001b[0m\u001b[37m\u001b[0m \u001b[1m3s\u001b[0m 593ms/step - categorical_accuracy: 0.3587 - loss: 1.0989 - val_categorical_accuracy: 0.3404 - val_loss: 1.1136\n",
      "Epoch 12/100\n",
      "\u001b[1m2/2\u001b[0m \u001b[32m━━━━━━━━━━━━━━━━━━━━\u001b[0m\u001b[37m\u001b[0m \u001b[1m3s\u001b[0m 575ms/step - categorical_accuracy: 0.3710 - loss: 1.0931 - val_categorical_accuracy: 0.3404 - val_loss: 1.1125\n",
      "Epoch 13/100\n",
      "\u001b[1m2/2\u001b[0m \u001b[32m━━━━━━━━━━━━━━━━━━━━\u001b[0m\u001b[37m\u001b[0m \u001b[1m3s\u001b[0m 587ms/step - categorical_accuracy: 0.3510 - loss: 1.0984 - val_categorical_accuracy: 0.3511 - val_loss: 1.1112\n",
      "Epoch 14/100\n",
      "\u001b[1m2/2\u001b[0m \u001b[32m━━━━━━━━━━━━━━━━━━━━\u001b[0m\u001b[37m\u001b[0m \u001b[1m3s\u001b[0m 590ms/step - categorical_accuracy: 0.3984 - loss: 1.0857 - val_categorical_accuracy: 0.3511 - val_loss: 1.1094\n",
      "Epoch 15/100\n",
      "\u001b[1m2/2\u001b[0m \u001b[32m━━━━━━━━━━━━━━━━━━━━\u001b[0m\u001b[37m\u001b[0m \u001b[1m3s\u001b[0m 597ms/step - categorical_accuracy: 0.4147 - loss: 1.0909 - val_categorical_accuracy: 0.3723 - val_loss: 1.1091\n",
      "Epoch 16/100\n",
      "\u001b[1m2/2\u001b[0m \u001b[32m━━━━━━━━━━━━━━━━━━━━\u001b[0m\u001b[37m\u001b[0m \u001b[1m3s\u001b[0m 611ms/step - categorical_accuracy: 0.3361 - loss: 1.0845 - val_categorical_accuracy: 0.3830 - val_loss: 1.1074\n",
      "Epoch 17/100\n",
      "\u001b[1m2/2\u001b[0m \u001b[32m━━━━━━━━━━━━━━━━━━━━\u001b[0m\u001b[37m\u001b[0m \u001b[1m3s\u001b[0m 592ms/step - categorical_accuracy: 0.3549 - loss: 1.0881 - val_categorical_accuracy: 0.3830 - val_loss: 1.1063\n",
      "Epoch 18/100\n",
      "\u001b[1m2/2\u001b[0m \u001b[32m━━━━━━━━━━━━━━━━━━━━\u001b[0m\u001b[37m\u001b[0m \u001b[1m3s\u001b[0m 607ms/step - categorical_accuracy: 0.4280 - loss: 1.0817 - val_categorical_accuracy: 0.3936 - val_loss: 1.1057\n",
      "Epoch 19/100\n",
      "\u001b[1m2/2\u001b[0m \u001b[32m━━━━━━━━━━━━━━━━━━━━\u001b[0m\u001b[37m\u001b[0m \u001b[1m3s\u001b[0m 597ms/step - categorical_accuracy: 0.3995 - loss: 1.0835 - val_categorical_accuracy: 0.4043 - val_loss: 1.1040\n",
      "Epoch 20/100\n",
      "\u001b[1m2/2\u001b[0m \u001b[32m━━━━━━━━━━━━━━━━━━━━\u001b[0m\u001b[37m\u001b[0m \u001b[1m3s\u001b[0m 575ms/step - categorical_accuracy: 0.3684 - loss: 1.0908 - val_categorical_accuracy: 0.4043 - val_loss: 1.1031\n",
      "Epoch 21/100\n",
      "\u001b[1m2/2\u001b[0m \u001b[32m━━━━━━━━━━━━━━━━━━━━\u001b[0m\u001b[37m\u001b[0m \u001b[1m3s\u001b[0m 601ms/step - categorical_accuracy: 0.3449 - loss: 1.0888 - val_categorical_accuracy: 0.4043 - val_loss: 1.1022\n",
      "Epoch 22/100\n",
      "\u001b[1m2/2\u001b[0m \u001b[32m━━━━━━━━━━━━━━━━━━━━\u001b[0m\u001b[37m\u001b[0m \u001b[1m3s\u001b[0m 611ms/step - categorical_accuracy: 0.4140 - loss: 1.0799 - val_categorical_accuracy: 0.3936 - val_loss: 1.1011\n",
      "Epoch 23/100\n",
      "\u001b[1m2/2\u001b[0m \u001b[32m━━━━━━━━━━━━━━━━━━━━\u001b[0m\u001b[37m\u001b[0m \u001b[1m3s\u001b[0m 590ms/step - categorical_accuracy: 0.3922 - loss: 1.0858 - val_categorical_accuracy: 0.3936 - val_loss: 1.0999\n",
      "Epoch 24/100\n",
      "\u001b[1m2/2\u001b[0m \u001b[32m━━━━━━━━━━━━━━━━━━━━\u001b[0m\u001b[37m\u001b[0m \u001b[1m3s\u001b[0m 588ms/step - categorical_accuracy: 0.3682 - loss: 1.0840 - val_categorical_accuracy: 0.4043 - val_loss: 1.0986\n",
      "Epoch 25/100\n",
      "\u001b[1m2/2\u001b[0m \u001b[32m━━━━━━━━━━━━━━━━━━━━\u001b[0m\u001b[37m\u001b[0m \u001b[1m3s\u001b[0m 594ms/step - categorical_accuracy: 0.3823 - loss: 1.0742 - val_categorical_accuracy: 0.4043 - val_loss: 1.0988\n",
      "Epoch 26/100\n",
      "\u001b[1m2/2\u001b[0m \u001b[32m━━━━━━━━━━━━━━━━━━━━\u001b[0m\u001b[37m\u001b[0m \u001b[1m3s\u001b[0m 574ms/step - categorical_accuracy: 0.4105 - loss: 1.0639 - val_categorical_accuracy: 0.4149 - val_loss: 1.0977\n",
      "Epoch 27/100\n",
      "\u001b[1m2/2\u001b[0m \u001b[32m━━━━━━━━━━━━━━━━━━━━\u001b[0m\u001b[37m\u001b[0m \u001b[1m3s\u001b[0m 584ms/step - categorical_accuracy: 0.4366 - loss: 1.0750 - val_categorical_accuracy: 0.4149 - val_loss: 1.0967\n",
      "Epoch 28/100\n",
      "\u001b[1m2/2\u001b[0m \u001b[32m━━━━━━━━━━━━━━━━━━━━\u001b[0m\u001b[37m\u001b[0m \u001b[1m3s\u001b[0m 593ms/step - categorical_accuracy: 0.3959 - loss: 1.0713 - val_categorical_accuracy: 0.4043 - val_loss: 1.0966\n",
      "Epoch 29/100\n",
      "\u001b[1m2/2\u001b[0m \u001b[32m━━━━━━━━━━━━━━━━━━━━\u001b[0m\u001b[37m\u001b[0m \u001b[1m3s\u001b[0m 581ms/step - categorical_accuracy: 0.4353 - loss: 1.0636 - val_categorical_accuracy: 0.4043 - val_loss: 1.0957\n",
      "Epoch 30/100\n",
      "\u001b[1m2/2\u001b[0m \u001b[32m━━━━━━━━━━━━━━━━━━━━\u001b[0m\u001b[37m\u001b[0m \u001b[1m3s\u001b[0m 584ms/step - categorical_accuracy: 0.4043 - loss: 1.0747 - val_categorical_accuracy: 0.3936 - val_loss: 1.0956\n",
      "Epoch 31/100\n",
      "\u001b[1m2/2\u001b[0m \u001b[32m━━━━━━━━━━━━━━━━━━━━\u001b[0m\u001b[37m\u001b[0m \u001b[1m5s\u001b[0m 566ms/step - categorical_accuracy: 0.4181 - loss: 1.0614 - val_categorical_accuracy: 0.4043 - val_loss: 1.0951\n",
      "Epoch 32/100\n",
      "\u001b[1m2/2\u001b[0m \u001b[32m━━━━━━━━━━━━━━━━━━━━\u001b[0m\u001b[37m\u001b[0m \u001b[1m3s\u001b[0m 569ms/step - categorical_accuracy: 0.4231 - loss: 1.0721 - val_categorical_accuracy: 0.4149 - val_loss: 1.0941\n",
      "Epoch 33/100\n",
      "\u001b[1m2/2\u001b[0m \u001b[32m━━━━━━━━━━━━━━━━━━━━\u001b[0m\u001b[37m\u001b[0m \u001b[1m3s\u001b[0m 575ms/step - categorical_accuracy: 0.4118 - loss: 1.0735 - val_categorical_accuracy: 0.4043 - val_loss: 1.0936\n",
      "Epoch 34/100\n",
      "\u001b[1m2/2\u001b[0m \u001b[32m━━━━━━━━━━━━━━━━━━━━\u001b[0m\u001b[37m\u001b[0m \u001b[1m3s\u001b[0m 596ms/step - categorical_accuracy: 0.4282 - loss: 1.0705 - val_categorical_accuracy: 0.4043 - val_loss: 1.0928\n",
      "Epoch 35/100\n",
      "\u001b[1m2/2\u001b[0m \u001b[32m━━━━━━━━━━━━━━━━━━━━\u001b[0m\u001b[37m\u001b[0m \u001b[1m3s\u001b[0m 580ms/step - categorical_accuracy: 0.4591 - loss: 1.0659 - val_categorical_accuracy: 0.4149 - val_loss: 1.0925\n",
      "Epoch 36/100\n",
      "\u001b[1m2/2\u001b[0m \u001b[32m━━━━━━━━━━━━━━━━━━━━\u001b[0m\u001b[37m\u001b[0m \u001b[1m3s\u001b[0m 578ms/step - categorical_accuracy: 0.4021 - loss: 1.0604 - val_categorical_accuracy: 0.4043 - val_loss: 1.0925\n",
      "Epoch 37/100\n",
      "\u001b[1m2/2\u001b[0m \u001b[32m━━━━━━━━━━━━━━━━━━━━\u001b[0m\u001b[37m\u001b[0m \u001b[1m3s\u001b[0m 594ms/step - categorical_accuracy: 0.4058 - loss: 1.0667 - val_categorical_accuracy: 0.4043 - val_loss: 1.0918\n",
      "Epoch 38/100\n",
      "\u001b[1m2/2\u001b[0m \u001b[32m━━━━━━━━━━━━━━━━━━━━\u001b[0m\u001b[37m\u001b[0m \u001b[1m3s\u001b[0m 590ms/step - categorical_accuracy: 0.3958 - loss: 1.0759 - val_categorical_accuracy: 0.4149 - val_loss: 1.0911\n",
      "Epoch 39/100\n",
      "\u001b[1m2/2\u001b[0m \u001b[32m━━━━━━━━━━━━━━━━━━━━\u001b[0m\u001b[37m\u001b[0m \u001b[1m3s\u001b[0m 577ms/step - categorical_accuracy: 0.3946 - loss: 1.0637 - val_categorical_accuracy: 0.4149 - val_loss: 1.0903\n",
      "Epoch 40/100\n",
      "\u001b[1m2/2\u001b[0m \u001b[32m━━━━━━━━━━━━━━━━━━━━\u001b[0m\u001b[37m\u001b[0m \u001b[1m3s\u001b[0m 596ms/step - categorical_accuracy: 0.4431 - loss: 1.0606 - val_categorical_accuracy: 0.4149 - val_loss: 1.0903\n",
      "Epoch 41/100\n",
      "\u001b[1m2/2\u001b[0m \u001b[32m━━━━━━━━━━━━━━━━━━━━\u001b[0m\u001b[37m\u001b[0m \u001b[1m3s\u001b[0m 578ms/step - categorical_accuracy: 0.4120 - loss: 1.0754 - val_categorical_accuracy: 0.4149 - val_loss: 1.0899\n",
      "Epoch 42/100\n",
      "\u001b[1m2/2\u001b[0m \u001b[32m━━━━━━━━━━━━━━━━━━━━\u001b[0m\u001b[37m\u001b[0m \u001b[1m3s\u001b[0m 590ms/step - categorical_accuracy: 0.4168 - loss: 1.0594 - val_categorical_accuracy: 0.4149 - val_loss: 1.0886\n",
      "Epoch 43/100\n",
      "\u001b[1m2/2\u001b[0m \u001b[32m━━━━━━━━━━━━━━━━━━━━\u001b[0m\u001b[37m\u001b[0m \u001b[1m3s\u001b[0m 568ms/step - categorical_accuracy: 0.3548 - loss: 1.0900 - val_categorical_accuracy: 0.4149 - val_loss: 1.0888\n",
      "Epoch 44/100\n",
      "\u001b[1m2/2\u001b[0m \u001b[32m━━━━━━━━━━━━━━━━━━━━\u001b[0m\u001b[37m\u001b[0m \u001b[1m3s\u001b[0m 595ms/step - categorical_accuracy: 0.4453 - loss: 1.0764 - val_categorical_accuracy: 0.4149 - val_loss: 1.0888\n",
      "Epoch 45/100\n",
      "\u001b[1m2/2\u001b[0m \u001b[32m━━━━━━━━━━━━━━━━━━━━\u001b[0m\u001b[37m\u001b[0m \u001b[1m3s\u001b[0m 588ms/step - categorical_accuracy: 0.4429 - loss: 1.0627 - val_categorical_accuracy: 0.4255 - val_loss: 1.0877\n",
      "Epoch 46/100\n",
      "\u001b[1m2/2\u001b[0m \u001b[32m━━━━━━━━━━━━━━━━━━━━\u001b[0m\u001b[37m\u001b[0m \u001b[1m3s\u001b[0m 607ms/step - categorical_accuracy: 0.4317 - loss: 1.0453 - val_categorical_accuracy: 0.4149 - val_loss: 1.0869\n",
      "Epoch 47/100\n",
      "\u001b[1m2/2\u001b[0m \u001b[32m━━━━━━━━━━━━━━━━━━━━\u001b[0m\u001b[37m\u001b[0m \u001b[1m3s\u001b[0m 569ms/step - categorical_accuracy: 0.4714 - loss: 1.0574 - val_categorical_accuracy: 0.4043 - val_loss: 1.0863\n",
      "Epoch 48/100\n",
      "\u001b[1m2/2\u001b[0m \u001b[32m━━━━━━━━━━━━━━━━━━━━\u001b[0m\u001b[37m\u001b[0m \u001b[1m3s\u001b[0m 572ms/step - categorical_accuracy: 0.4144 - loss: 1.0571 - val_categorical_accuracy: 0.4255 - val_loss: 1.0866\n",
      "Epoch 49/100\n",
      "\u001b[1m2/2\u001b[0m \u001b[32m━━━━━━━━━━━━━━━━━━━━\u001b[0m\u001b[37m\u001b[0m \u001b[1m3s\u001b[0m 575ms/step - categorical_accuracy: 0.4677 - loss: 1.0662 - val_categorical_accuracy: 0.4149 - val_loss: 1.0856\n",
      "Epoch 50/100\n",
      "\u001b[1m2/2\u001b[0m \u001b[32m━━━━━━━━━━━━━━━━━━━━\u001b[0m\u001b[37m\u001b[0m \u001b[1m3s\u001b[0m 595ms/step - categorical_accuracy: 0.3946 - loss: 1.0519 - val_categorical_accuracy: 0.4149 - val_loss: 1.0851\n",
      "Epoch 51/100\n",
      "\u001b[1m2/2\u001b[0m \u001b[32m━━━━━━━━━━━━━━━━━━━━\u001b[0m\u001b[37m\u001b[0m \u001b[1m3s\u001b[0m 574ms/step - categorical_accuracy: 0.4766 - loss: 1.0563 - val_categorical_accuracy: 0.4149 - val_loss: 1.0843\n",
      "Epoch 52/100\n",
      "\u001b[1m2/2\u001b[0m \u001b[32m━━━━━━━━━━━━━━━━━━━━\u001b[0m\u001b[37m\u001b[0m \u001b[1m3s\u001b[0m 644ms/step - categorical_accuracy: 0.4179 - loss: 1.0548 - val_categorical_accuracy: 0.4149 - val_loss: 1.0843\n",
      "Epoch 53/100\n",
      "\u001b[1m2/2\u001b[0m \u001b[32m━━━━━━━━━━━━━━━━━━━━\u001b[0m\u001b[37m\u001b[0m \u001b[1m3s\u001b[0m 603ms/step - categorical_accuracy: 0.4578 - loss: 1.0586 - val_categorical_accuracy: 0.4149 - val_loss: 1.0839\n",
      "Epoch 54/100\n",
      "\u001b[1m2/2\u001b[0m \u001b[32m━━━━━━━━━━━━━━━━━━━━\u001b[0m\u001b[37m\u001b[0m \u001b[1m3s\u001b[0m 592ms/step - categorical_accuracy: 0.4353 - loss: 1.0477 - val_categorical_accuracy: 0.4149 - val_loss: 1.0832\n",
      "Epoch 55/100\n",
      "\u001b[1m2/2\u001b[0m \u001b[32m━━━━━━━━━━━━━━━━━━━━\u001b[0m\u001b[37m\u001b[0m \u001b[1m3s\u001b[0m 583ms/step - categorical_accuracy: 0.4466 - loss: 1.0430 - val_categorical_accuracy: 0.4043 - val_loss: 1.0827\n",
      "Epoch 56/100\n",
      "\u001b[1m2/2\u001b[0m \u001b[32m━━━━━━━━━━━━━━━━━━━━\u001b[0m\u001b[37m\u001b[0m \u001b[1m3s\u001b[0m 562ms/step - categorical_accuracy: 0.4615 - loss: 1.0331 - val_categorical_accuracy: 0.4043 - val_loss: 1.0827\n",
      "Epoch 57/100\n",
      "\u001b[1m2/2\u001b[0m \u001b[32m━━━━━━━━━━━━━━━━━━━━\u001b[0m\u001b[37m\u001b[0m \u001b[1m3s\u001b[0m 556ms/step - categorical_accuracy: 0.4688 - loss: 1.0499 - val_categorical_accuracy: 0.4043 - val_loss: 1.0822\n",
      "Epoch 58/100\n",
      "\u001b[1m2/2\u001b[0m \u001b[32m━━━━━━━━━━━━━━━━━━━━\u001b[0m\u001b[37m\u001b[0m \u001b[1m3s\u001b[0m 627ms/step - categorical_accuracy: 0.4405 - loss: 1.0498 - val_categorical_accuracy: 0.4043 - val_loss: 1.0815\n",
      "Epoch 59/100\n",
      "\u001b[1m2/2\u001b[0m \u001b[32m━━━━━━━━━━━━━━━━━━━━\u001b[0m\u001b[37m\u001b[0m \u001b[1m3s\u001b[0m 587ms/step - categorical_accuracy: 0.4714 - loss: 1.0368 - val_categorical_accuracy: 0.3936 - val_loss: 1.0809\n",
      "Epoch 60/100\n",
      "\u001b[1m2/2\u001b[0m \u001b[32m━━━━━━━━━━━━━━━━━━━━\u001b[0m\u001b[37m\u001b[0m \u001b[1m3s\u001b[0m 595ms/step - categorical_accuracy: 0.4764 - loss: 1.0522 - val_categorical_accuracy: 0.4043 - val_loss: 1.0805\n",
      "Epoch 61/100\n",
      "\u001b[1m2/2\u001b[0m \u001b[32m━━━━━━━━━━━━━━━━━━━━\u001b[0m\u001b[37m\u001b[0m \u001b[1m3s\u001b[0m 598ms/step - categorical_accuracy: 0.4516 - loss: 1.0455 - val_categorical_accuracy: 0.3936 - val_loss: 1.0802\n",
      "Epoch 62/100\n",
      "\u001b[1m2/2\u001b[0m \u001b[32m━━━━━━━━━━━━━━━━━━━━\u001b[0m\u001b[37m\u001b[0m \u001b[1m3s\u001b[0m 670ms/step - categorical_accuracy: 0.4889 - loss: 1.0427 - val_categorical_accuracy: 0.3936 - val_loss: 1.0795\n",
      "Epoch 63/100\n",
      "\u001b[1m2/2\u001b[0m \u001b[32m━━━━━━━━━━━━━━━━━━━━\u001b[0m\u001b[37m\u001b[0m \u001b[1m3s\u001b[0m 577ms/step - categorical_accuracy: 0.4580 - loss: 1.0456 - val_categorical_accuracy: 0.3936 - val_loss: 1.0792\n",
      "Epoch 64/100\n",
      "\u001b[1m2/2\u001b[0m \u001b[32m━━━━━━━━━━━━━━━━━━━━\u001b[0m\u001b[37m\u001b[0m \u001b[1m3s\u001b[0m 581ms/step - categorical_accuracy: 0.4900 - loss: 1.0334 - val_categorical_accuracy: 0.3936 - val_loss: 1.0793\n",
      "Epoch 65/100\n",
      "\u001b[1m2/2\u001b[0m \u001b[32m━━━━━━━━━━━━━━━━━━━━\u001b[0m\u001b[37m\u001b[0m \u001b[1m3s\u001b[0m 597ms/step - categorical_accuracy: 0.4440 - loss: 1.0520 - val_categorical_accuracy: 0.4043 - val_loss: 1.0792\n",
      "Epoch 66/100\n",
      "\u001b[1m2/2\u001b[0m \u001b[32m━━━━━━━━━━━━━━━━━━━━\u001b[0m\u001b[37m\u001b[0m \u001b[1m3s\u001b[0m 600ms/step - categorical_accuracy: 0.4539 - loss: 1.0529 - val_categorical_accuracy: 0.4043 - val_loss: 1.0789\n",
      "Epoch 67/100\n",
      "\u001b[1m2/2\u001b[0m \u001b[32m━━━━━━━━━━━━━━━━━━━━\u001b[0m\u001b[37m\u001b[0m \u001b[1m3s\u001b[0m 579ms/step - categorical_accuracy: 0.4826 - loss: 1.0244 - val_categorical_accuracy: 0.4043 - val_loss: 1.0781\n",
      "Epoch 68/100\n",
      "\u001b[1m2/2\u001b[0m \u001b[32m━━━━━━━━━━━━━━━━━━━━\u001b[0m\u001b[37m\u001b[0m \u001b[1m3s\u001b[0m 580ms/step - categorical_accuracy: 0.4703 - loss: 1.0363 - val_categorical_accuracy: 0.4043 - val_loss: 1.0778\n",
      "Epoch 69/100\n",
      "\u001b[1m2/2\u001b[0m \u001b[32m━━━━━━━━━━━━━━━━━━━━\u001b[0m\u001b[37m\u001b[0m \u001b[1m3s\u001b[0m 573ms/step - categorical_accuracy: 0.4779 - loss: 1.0243 - val_categorical_accuracy: 0.4043 - val_loss: 1.0783\n",
      "Epoch 70/100\n",
      "\u001b[1m2/2\u001b[0m \u001b[32m━━━━━━━━━━━━━━━━━━━━\u001b[0m\u001b[37m\u001b[0m \u001b[1m3s\u001b[0m 609ms/step - categorical_accuracy: 0.4554 - loss: 1.0458 - val_categorical_accuracy: 0.4149 - val_loss: 1.0781\n",
      "Epoch 71/100\n",
      "\u001b[1m2/2\u001b[0m \u001b[32m━━━━━━━━━━━━━━━━━━━━\u001b[0m\u001b[37m\u001b[0m \u001b[1m3s\u001b[0m 595ms/step - categorical_accuracy: 0.5074 - loss: 1.0268 - val_categorical_accuracy: 0.4149 - val_loss: 1.0779\n",
      "Epoch 72/100\n",
      "\u001b[1m2/2\u001b[0m \u001b[32m━━━━━━━━━━━━━━━━━━━━\u001b[0m\u001b[37m\u001b[0m \u001b[1m3s\u001b[0m 584ms/step - categorical_accuracy: 0.4949 - loss: 1.0294 - val_categorical_accuracy: 0.4149 - val_loss: 1.0778\n",
      "Epoch 73/100\n",
      "\u001b[1m2/2\u001b[0m \u001b[32m━━━━━━━━━━━━━━━━━━━━\u001b[0m\u001b[37m\u001b[0m \u001b[1m3s\u001b[0m 573ms/step - categorical_accuracy: 0.4716 - loss: 1.0397 - val_categorical_accuracy: 0.4043 - val_loss: 1.0775\n",
      "Epoch 74/100\n",
      "\u001b[1m2/2\u001b[0m \u001b[32m━━━━━━━━━━━━━━━━━━━━\u001b[0m\u001b[37m\u001b[0m \u001b[1m3s\u001b[0m 583ms/step - categorical_accuracy: 0.4494 - loss: 1.0499 - val_categorical_accuracy: 0.4149 - val_loss: 1.0769\n",
      "Epoch 75/100\n",
      "\u001b[1m2/2\u001b[0m \u001b[32m━━━━━━━━━━━━━━━━━━━━\u001b[0m\u001b[37m\u001b[0m \u001b[1m3s\u001b[0m 589ms/step - categorical_accuracy: 0.4589 - loss: 1.0466 - val_categorical_accuracy: 0.4149 - val_loss: 1.0764\n",
      "Epoch 76/100\n",
      "\u001b[1m2/2\u001b[0m \u001b[32m━━━━━━━━━━━━━━━━━━━━\u001b[0m\u001b[37m\u001b[0m \u001b[1m3s\u001b[0m 582ms/step - categorical_accuracy: 0.4742 - loss: 1.0232 - val_categorical_accuracy: 0.4043 - val_loss: 1.0763\n",
      "Epoch 77/100\n",
      "\u001b[1m2/2\u001b[0m \u001b[32m━━━━━━━━━━━━━━━━━━━━\u001b[0m\u001b[37m\u001b[0m \u001b[1m3s\u001b[0m 576ms/step - categorical_accuracy: 0.4690 - loss: 1.0288 - val_categorical_accuracy: 0.4043 - val_loss: 1.0762\n",
      "Epoch 78/100\n",
      "\u001b[1m2/2\u001b[0m \u001b[32m━━━━━━━━━━━━━━━━━━━━\u001b[0m\u001b[37m\u001b[0m \u001b[1m3s\u001b[0m 580ms/step - categorical_accuracy: 0.4565 - loss: 1.0593 - val_categorical_accuracy: 0.3936 - val_loss: 1.0761\n",
      "Epoch 79/100\n",
      "\u001b[1m2/2\u001b[0m \u001b[32m━━━━━━━━━━━━━━━━━━━━\u001b[0m\u001b[37m\u001b[0m \u001b[1m3s\u001b[0m 583ms/step - categorical_accuracy: 0.4516 - loss: 1.0324 - val_categorical_accuracy: 0.4043 - val_loss: 1.0756\n",
      "Epoch 80/100\n",
      "\u001b[1m2/2\u001b[0m \u001b[32m━━━━━━━━━━━━━━━━━━━━\u001b[0m\u001b[37m\u001b[0m \u001b[1m3s\u001b[0m 599ms/step - categorical_accuracy: 0.4725 - loss: 1.0416 - val_categorical_accuracy: 0.3936 - val_loss: 1.0750\n",
      "Epoch 81/100\n",
      "\u001b[1m2/2\u001b[0m \u001b[32m━━━━━━━━━━━━━━━━━━━━\u001b[0m\u001b[37m\u001b[0m \u001b[1m3s\u001b[0m 622ms/step - categorical_accuracy: 0.4742 - loss: 1.0429 - val_categorical_accuracy: 0.4043 - val_loss: 1.0748\n",
      "Epoch 82/100\n",
      "\u001b[1m2/2\u001b[0m \u001b[32m━━━━━━━━━━━━━━━━━━━━\u001b[0m\u001b[37m\u001b[0m \u001b[1m3s\u001b[0m 607ms/step - categorical_accuracy: 0.4802 - loss: 1.0390 - val_categorical_accuracy: 0.3936 - val_loss: 1.0745\n",
      "Epoch 83/100\n",
      "\u001b[1m2/2\u001b[0m \u001b[32m━━━━━━━━━━━━━━━━━━━━\u001b[0m\u001b[37m\u001b[0m \u001b[1m3s\u001b[0m 587ms/step - categorical_accuracy: 0.4826 - loss: 1.0348 - val_categorical_accuracy: 0.4043 - val_loss: 1.0742\n",
      "Epoch 84/100\n",
      "\u001b[1m2/2\u001b[0m \u001b[32m━━━━━━━━━━━━━━━━━━━━\u001b[0m\u001b[37m\u001b[0m \u001b[1m3s\u001b[0m 577ms/step - categorical_accuracy: 0.4716 - loss: 1.0500 - val_categorical_accuracy: 0.4149 - val_loss: 1.0734\n",
      "Epoch 85/100\n",
      "\u001b[1m2/2\u001b[0m \u001b[32m━━━━━━━━━━━━━━━━━━━━\u001b[0m\u001b[37m\u001b[0m \u001b[1m3s\u001b[0m 586ms/step - categorical_accuracy: 0.4850 - loss: 1.0310 - val_categorical_accuracy: 0.4149 - val_loss: 1.0734\n",
      "Epoch 86/100\n",
      "\u001b[1m2/2\u001b[0m \u001b[32m━━━━━━━━━━━━━━━━━━━━\u001b[0m\u001b[37m\u001b[0m \u001b[1m3s\u001b[0m 583ms/step - categorical_accuracy: 0.5135 - loss: 1.0226 - val_categorical_accuracy: 0.4149 - val_loss: 1.0730\n",
      "Epoch 87/100\n",
      "\u001b[1m2/2\u001b[0m \u001b[32m━━━━━━━━━━━━━━━━━━━━\u001b[0m\u001b[37m\u001b[0m \u001b[1m3s\u001b[0m 598ms/step - categorical_accuracy: 0.4515 - loss: 1.0342 - val_categorical_accuracy: 0.4149 - val_loss: 1.0730\n",
      "Epoch 88/100\n",
      "\u001b[1m2/2\u001b[0m \u001b[32m━━━━━━━━━━━━━━━━━━━━\u001b[0m\u001b[37m\u001b[0m \u001b[1m3s\u001b[0m 581ms/step - categorical_accuracy: 0.4591 - loss: 1.0409 - val_categorical_accuracy: 0.4149 - val_loss: 1.0725\n",
      "Epoch 89/100\n",
      "\u001b[1m2/2\u001b[0m \u001b[32m━━━━━━━━━━━━━━━━━━━━\u001b[0m\u001b[37m\u001b[0m \u001b[1m3s\u001b[0m 575ms/step - categorical_accuracy: 0.4749 - loss: 1.0256 - val_categorical_accuracy: 0.4043 - val_loss: 1.0723\n",
      "Epoch 90/100\n",
      "\u001b[1m2/2\u001b[0m \u001b[32m━━━━━━━━━━━━━━━━━━━━\u001b[0m\u001b[37m\u001b[0m \u001b[1m3s\u001b[0m 594ms/step - categorical_accuracy: 0.4865 - loss: 1.0168 - val_categorical_accuracy: 0.4043 - val_loss: 1.0724\n",
      "Epoch 91/100\n",
      "\u001b[1m2/2\u001b[0m \u001b[32m━━━━━━━━━━━━━━━━━━━━\u001b[0m\u001b[37m\u001b[0m \u001b[1m3s\u001b[0m 574ms/step - categorical_accuracy: 0.4427 - loss: 1.0471 - val_categorical_accuracy: 0.4043 - val_loss: 1.0719\n",
      "Epoch 92/100\n",
      "\u001b[1m2/2\u001b[0m \u001b[32m━━━━━━━━━━━━━━━━━━━━\u001b[0m\u001b[37m\u001b[0m \u001b[1m3s\u001b[0m 600ms/step - categorical_accuracy: 0.4690 - loss: 1.0264 - val_categorical_accuracy: 0.4043 - val_loss: 1.0713\n",
      "Epoch 93/100\n",
      "\u001b[1m2/2\u001b[0m \u001b[32m━━━━━━━━━━━━━━━━━━━━\u001b[0m\u001b[37m\u001b[0m \u001b[1m3s\u001b[0m 590ms/step - categorical_accuracy: 0.4192 - loss: 1.0452 - val_categorical_accuracy: 0.3936 - val_loss: 1.0711\n",
      "Epoch 94/100\n",
      "\u001b[1m2/2\u001b[0m \u001b[32m━━━━━━━━━━━━━━━━━━━━\u001b[0m\u001b[37m\u001b[0m \u001b[1m3s\u001b[0m 595ms/step - categorical_accuracy: 0.4703 - loss: 1.0229 - val_categorical_accuracy: 0.3936 - val_loss: 1.0703\n",
      "Epoch 95/100\n",
      "\u001b[1m2/2\u001b[0m \u001b[32m━━━━━━━━━━━━━━━━━━━━\u001b[0m\u001b[37m\u001b[0m \u001b[1m3s\u001b[0m 583ms/step - categorical_accuracy: 0.4824 - loss: 1.0177 - val_categorical_accuracy: 0.3936 - val_loss: 1.0704\n",
      "Epoch 96/100\n",
      "\u001b[1m2/2\u001b[0m \u001b[32m━━━━━━━━━━━━━━━━━━━━\u001b[0m\u001b[37m\u001b[0m \u001b[1m3s\u001b[0m 581ms/step - categorical_accuracy: 0.4418 - loss: 1.0379 - val_categorical_accuracy: 0.3936 - val_loss: 1.0701\n",
      "Epoch 97/100\n",
      "\u001b[1m2/2\u001b[0m \u001b[32m━━━━━━━━━━━━━━━━━━━━\u001b[0m\u001b[37m\u001b[0m \u001b[1m3s\u001b[0m 589ms/step - categorical_accuracy: 0.4280 - loss: 1.0398 - val_categorical_accuracy: 0.3936 - val_loss: 1.0693\n",
      "Epoch 98/100\n",
      "\u001b[1m2/2\u001b[0m \u001b[32m━━━━━━━━━━━━━━━━━━━━\u001b[0m\u001b[37m\u001b[0m \u001b[1m3s\u001b[0m 577ms/step - categorical_accuracy: 0.4975 - loss: 1.0331 - val_categorical_accuracy: 0.4043 - val_loss: 1.0687\n",
      "Epoch 99/100\n",
      "\u001b[1m2/2\u001b[0m \u001b[32m━━━━━━━━━━━━━━━━━━━━\u001b[0m\u001b[37m\u001b[0m \u001b[1m3s\u001b[0m 579ms/step - categorical_accuracy: 0.5087 - loss: 1.0169 - val_categorical_accuracy: 0.3936 - val_loss: 1.0686\n",
      "Epoch 100/100\n",
      "\u001b[1m2/2\u001b[0m \u001b[32m━━━━━━━━━━━━━━━━━━━━\u001b[0m\u001b[37m\u001b[0m \u001b[1m3s\u001b[0m 568ms/step - categorical_accuracy: 0.4764 - loss: 1.0341 - val_categorical_accuracy: 0.3936 - val_loss: 1.0687\n"
     ]
    }
   ],
   "source": [
    "# the history object will contain a record of loss and metric values during training\n",
    "history = model.fit(train_images, train_labels,\n",
    "                    batch_size=256,\n",
    "                    epochs=100,\n",
    "                    verbose=1,\n",
    "                    validation_data=(val_images, val_labels))"
   ]
  },
  {
   "cell_type": "code",
   "execution_count": 144,
   "metadata": {},
   "outputs": [
    {
     "name": "stdout",
     "output_type": "stream",
     "text": [
      "\u001b[1m1/1\u001b[0m \u001b[32m━━━━━━━━━━━━━━━━━━━━\u001b[0m\u001b[37m\u001b[0m \u001b[1m0s\u001b[0m 27ms/step\n",
      "[[0.50016767 0.12039484 0.3794375 ]]\n"
     ]
    },
    {
     "data": {
      "image/png": "[encoded data removed]",
      "text/plain": [
       "<Figure size 640x480 with 1 Axes>"
      ]
     },
     "metadata": {},
     "output_type": "display_data"
    }
   ],
   "source": [
    "index = 6\n",
    "plt.imshow(val_images[index])\n",
    "print(model.predict(np.array([val_images[index]])))"
   ]
  },
  {
   "cell_type": "markdown",
   "metadata": {},
   "source": [
    "# Hyperperameter optimization"
   ]
  },
  {
   "cell_type": "code",
   "execution_count": null,
   "metadata": {},
   "outputs": [],
   "source": [
    "import optuna\n",
    "\n",
    "\n",
    "def objective(trial):\n",
    "    layer_numbers = trial.suggest_int('layer_numbers', 1, 10)\n",
    "    peram = {'model_type': Sequential(),\n",
    "                'layer_types': [trail.sugeest_int('layer_types', 0, 4, layer_numbers) for i in range(layer_numbers)],\n",
    "                'hyperperams_list': np.zeros((7,3)),\n",
    "                'img_rows': 28,\n",
    "                'img_cols': 28,\n",
    "                'num_classes': 10\n",
    "                }\n",
    "        \n",
    "    \n",
    "\n",
    "def objective_exmaple(trial):\n",
    "    param = {\n",
    "        'n_estimators': trial.suggest_int('n_estimators', 1, 100),\n",
    "        'max_depth': trial.suggest_int('max_depth', 1, 100),\n",
    "        'learning_rate': trial.suggest_float('learning_rate', 0.01, 1),\n",
    "        'subsample': trial.suggest_float('subsample', 0.1, 1),\n",
    "        'colsample_bytree': trial.suggest_float('colsample_bytree', 0.1, 1),\n",
    "        'gamma': trial.suggest_float('gamma', 0.1, 1),\n",
    "        'reg_alpha': trial.suggest_float('reg_alpha', 0.1, 1),\n",
    "        'reg_lambda': trial.suggest_float('reg_lambda', 0.1, 1),\n",
    "        'objective': 'binary:logistic'\n",
    "    }\n",
    "    bst = XGBClassifier(**param)\n",
    "    bst.fit(df_train_X_clf_final, df_train_Y_clf_final)\n",
    "    preds = bst.predict_proba(df_valid_X_clf_final)\n",
    "    log_log_clf_XGB = log_loss(df_valid_Y_clf_final, preds)\n",
    "    return log_log_clf_XGB\n",
    "\n",
    "study_example = optuna.create_study(direction='minimize')\n",
    "study_example.optimize(objective_example, n_trials=20, show_progress_bar=True)"
   ]
  },
  {
   "cell_type": "markdown",
   "metadata": {},
   "source": []
  }
 ],
 "metadata": {
  "kernelspec": {
   "display_name": "base",
   "language": "python",
   "name": "python3"
  },
  "language_info": {
   "codemirror_mode": {
    "name": "ipython",
    "version": 3
   },
   "file_extension": ".py",
   "mimetype": "text/x-python",
   "name": "python",
   "nbconvert_exporter": "python",
   "pygments_lexer": "ipython3",
   "version": "3.11.7"
  }
 },
 "nbformat": 4,
 "nbformat_minor": 2
}
