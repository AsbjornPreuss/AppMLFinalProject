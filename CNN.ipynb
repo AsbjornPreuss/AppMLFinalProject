{
 "cells": [
  {
   "cell_type": "code",
   "execution_count": null,
   "metadata": {},
   "outputs": [],
   "source": []
  },
  {
   "cell_type": "markdown",
   "metadata": {},
   "source": [
    "# Convolutional neural network framework"
   ]
  },
  {
   "cell_type": "code",
   "execution_count": 108,
   "metadata": {},
   "outputs": [],
   "source": [
    "# Import standard libraries:\n",
    "import numpy as np\n",
    "import matplotlib.pyplot as plt\n",
    "%matplotlib inline\n",
    "import seaborn as sns\n",
    "import os\n",
    "import pandas as pd\n",
    "sns.set_style(\"darkgrid\")\n",
    "\n",
    "\n",
    "\n",
    "# Keras documentation can be found on keras.io:\n",
    "import keras\n",
    "# manual link to data:  http://yann.lecun.com/exdb/mnist/\n",
    "from keras.models import Sequential\n",
    "from keras.layers import Conv2D, MaxPooling2D, Flatten, Dense, Dropout\n",
    "from keras.losses import categorical_crossentropy\n",
    "from keras.optimizers import Adadelta\n",
    "from sklearn.model_selection import train_test_split\n",
    "from sklearn.preprocessing import quantile_transform\n",
    "\n",
    "import tensorflow as tf\n",
    "tf.compat.v1.logging.set_verbosity(tf.compat.v1.logging.ERROR)"
   ]
  },
  {
   "cell_type": "markdown",
   "metadata": {},
   "source": [
    "# Jens csv kode"
   ]
  },
  {
   "cell_type": "code",
   "execution_count": 109,
   "metadata": {},
   "outputs": [],
   "source": [
    "def import_and_pad_csvs(folder_path):\n",
    "    # List all CSV files in the given folder\n",
    "    csv_files = [f for f in os.listdir(folder_path) if f.endswith('.csv')]\n",
    "    csv_files_sorted = np.sort(np.array(csv_files))\n",
    "    #print(csv_files_sorted)\n",
    "    # Initialize an empty list to store the data arrays\n",
    "    data_arrays = []\n",
    "\n",
    "    indecies = np.zeros_like(csv_files_sorted, dtype=int)\n",
    "    for i in range(len(csv_files_sorted)):\n",
    "        indecies[i] = int(csv_files_sorted[i][:-6])\n",
    "        #print(type(indecies[i]))\n",
    "    #print(csv_files_sorted, indecies)\n",
    "        \n",
    "    \n",
    "    # Iterate over the CSV files and read them into numpy arrays\n",
    "    for file in csv_files_sorted:\n",
    "        file_path = os.path.join(folder_path, file)\n",
    "        data = pd.read_csv(file_path).values\n",
    "        data_arrays.append(data)\n",
    "    \n",
    "    # Find the maximum number of rows and columns among all CSV files\n",
    "    max_rows = max(array.shape[0] for array in data_arrays)\n",
    "    max_cols = max(array.shape[1] for array in data_arrays)\n",
    "    \n",
    "    # Find the index of the largest array (by number of elements)\n",
    "    largest_array_index = max(range(len(data_arrays)), key=lambda i: data_arrays[i].shape[0] * data_arrays[i].shape[1])\n",
    "    \n",
    "    print(f\"Index of the largest initial array: {largest_array_index}\")\n",
    "    \n",
    "    # Initialize a list to store padded arrays\n",
    "    padded_arrays = np.zeros((max_rows, max_cols))\n",
    "    center = max(int(max_rows / 2), int(max_cols / 2))\n",
    "    max_size = 64\n",
    "    combined_array = np.zeros((len(data_arrays), max_size, max_size))\n",
    "    # Pad each array with zeros to match the maximum size\n",
    "    nr = 0\n",
    "    for array in data_arrays:\n",
    "        #print(array.shape)\n",
    "        #print(center - int(np.floor(array.shape[0] / 2)), center + int(np.ceil(array.shape[1] / 2)))\n",
    "        padded_array = np.zeros((max_rows, max_cols)) + 4000\n",
    "        #print(padded_array[center - int(np.floor(array.shape[0] / 2)) :center + int(np.ceil(array.shape[0]/2)),\n",
    "                     #center - int(np.floor(array.shape[1] / 2)) :center + int(np.ceil(array.shape[1]/2))])\n",
    "        padded_array[center - int(np.floor(array.shape[0] / 2)) :center + int(np.ceil(array.shape[0]/2)),\n",
    "                     center - int(np.floor(array.shape[1] / 2)) :center + int(np.ceil(array.shape[1]/2))] = array\n",
    "        combined_array[nr] = padded_array[center - int(max_size/2): center + int(max_size/2), center - int(max_size/2): center + int(max_size/2)]\n",
    "        #combined_array = np.concatenate((combined_array, np.array([padded_arrays])), axis=0)\n",
    "        #padded_arrays.append(padded_array)\n",
    "        nr += 1\n",
    "    \n",
    "\n",
    "    # Stack all padded arrays along a new dimension to create the final array\n",
    "    #combined_array = np.stack(padded_arrays, axis=0)\n",
    "    \n",
    "    \n",
    "    return combined_array, indecies"
   ]
  },
  {
   "cell_type": "markdown",
   "metadata": {},
   "source": [
    "# Import Data"
   ]
  },
  {
   "cell_type": "code",
   "execution_count": 110,
   "metadata": {},
   "outputs": [],
   "source": [
    "a = np.array(['123456', '12345', '1235312'])\n",
    "\n"
   ]
  },
  {
   "cell_type": "code",
   "execution_count": 111,
   "metadata": {},
   "outputs": [
    {
     "name": "stdout",
     "output_type": "stream",
     "text": [
      "Index of the largest initial array: 3929\n",
      "31 31\n"
     ]
    }
   ],
   "source": [
    "data_raw, index = import_and_pad_csvs('clusters_colour_rotations/')\n",
    "labels_raw = [np.load('./labels/'+x) for x in os.listdir('./labels/') if x.endswith('.npy')]\n",
    "print(len(labels_raw[8][0]), len(labels_raw[8][1]))\n",
    "\n",
    "#labels_raw_sorted = np.sort(np.array(labels_raw))\n",
    "label = []\n",
    "ind = []\n",
    "for value in labels_raw:\n",
    "    label.append(value[1].tolist())\n",
    "    ind.append(value[0].tolist())\n",
    "    #print(len(value[1].tolist()), len(value[0].tolist()))\n",
    "label = [item for sublist in label for item in sublist]\n",
    "ind = [item for sublist in ind for item in sublist]\n",
    "ind_sort_arg = np.argsort(np.repeat(ind, 8))\n",
    "#mask = [index != ind]\n",
    "#print(print(index, ind))\n",
    "#plt.plot(index - ind)\n",
    "#plt.show()\n",
    "\n",
    "#index_remove = np.array([31, 74, 116, 165, 170, 193, 214, 280, 314, 401, 413, 470, 499])\n",
    "#label = np.delete(label, index_remove)\n",
    "\n",
    "label = np.repeat(label, 8)\n",
    "#print(len(label)*8)\n",
    "#print(data_raw.shape)\n",
    "\n",
    "\n",
    "label_sorted = label[ind_sort_arg]\n",
    "\n",
    "# Remove all reading erros, multiple objects, and others.\n",
    "data_raw = data_raw[(label_sorted != 4) & (label_sorted != 0)]\n",
    "label_sorted = label_sorted[(label_sorted != 4) & (label_sorted != 0)] - 1\n",
    "\n",
    "#print(data_raw.shape)\n",
    "# the data, split between train and testval sets\n",
    "train_images, testval_images, train_labels, testval_labels = train_test_split(data_raw, label_sorted, test_size=0.3, random_state=13052020)\n",
    "\n",
    "# further split testval set into specific test and validation set\n",
    "# the test set is NOT used during any part but inference\n",
    "val_images, test_images, val_labels, test_labels = train_test_split(testval_images, testval_labels, test_size=0.2, random_state=13052020)\n",
    "\n"
   ]
  },
  {
   "cell_type": "markdown",
   "metadata": {},
   "source": [
    "\n"
   ]
  },
  {
   "cell_type": "markdown",
   "metadata": {},
   "source": [
    "# Normelize Data"
   ]
  },
  {
   "cell_type": "code",
   "execution_count": 112,
   "metadata": {},
   "outputs": [
    {
     "data": {
      "image/png": "[encoded data removed]",
      "text/plain": [
       "<Figure size 640x480 with 1 Axes>"
      ]
     },
     "metadata": {},
     "output_type": "display_data"
    }
   ],
   "source": [
    "from sklearn.preprocessing import QuantileTransformer, MinMaxScaler, RobustScaler\n",
    "\n",
    "# explicitly illustrating standardization\n",
    "def standardizeimg(img, mu, sigma):\n",
    "    return (img-mu)/(sigma).astype(np.float32)\n",
    "\n",
    "# save for scaling test data\n",
    "mu_train = np.mean(train_images)\n",
    "sigma_train = np.std(train_images)\n",
    "\n",
    "\n",
    "#scaler = MinMaxScaler()\n",
    "#scaler = QuantileTransformer()\n",
    "scaler = RobustScaler()\n",
    "#sorted_images = np.sort(train_images.reshape(-1, 1))\n",
    "#scaler.fit(sorted_images)\n",
    "scaler.fit(train_images.reshape(-1, 1))\n",
    "train_images = scaler.transform(train_images.reshape(-1, 1)).reshape(train_images.shape)\n",
    "val_images = scaler.transform(val_images.reshape(-1, 1)).reshape(val_images.shape)\n",
    "\n",
    "plt.hist(train_images.flatten(), bins=100, range=(0.01, 1))\n",
    "plt.show()\n",
    "# Standardize pixel distribution to have zero mean and unit variance\n",
    "#train_images = standardizeimg(img=train_images, mu=mu_train, sigma=sigma_train)\n",
    "#val_images = standardizeimg(img=val_images, mu=np.mean(val_images), sigma=np.std(val_images))\n",
    "# Alternative: quantile normalization\n",
    "# train_images = quantile_transform(train_images, output_distribution='normal', copy=True)\n",
    "# val_images = quantile_transform(val_images, output_distribution='normal', copy=True)\n",
    "\n",
    "\n",
    "\n",
    "\n",
    "# adapt to format required by tensorflow; Using channels_last --> (n_samples, img_rows, img_cols, n_channels)\n",
    "img_rows, img_cols = 64, 64 # input image dimensions\n",
    "train_images = train_images.reshape(train_images.shape[0], img_rows, img_cols, 1)\n",
    "val_images = val_images.reshape(val_images.shape[0], img_rows, img_cols, 1)\n",
    "\n",
    "# convert class vectors to binary class matrices - one hot encoding\n",
    "num_classes = 3 # number of classes\n",
    "train_labels = keras.utils.to_categorical(train_labels, num_classes)\n",
    "val_labels = keras.utils.to_categorical(val_labels, num_classes)\n",
    "\n",
    "# avoid using statistics intrinsic to test data to ensure unbiased estimate of real model performance\n",
    "test_images = standardizeimg(img=test_images, mu=mu_train, sigma=sigma_train)\n",
    "# test_images = quantile_transform(test_images, output_distribution='normal', copy=True)\n",
    "test_images = test_images.reshape(test_images.shape[0], img_rows, img_cols, 1)\n",
    "test_labels = keras.utils.to_categorical(test_labels, num_classes)"
   ]
  },
  {
   "cell_type": "markdown",
   "metadata": {},
   "source": [
    "# Setup CNN"
   ]
  },
  {
   "cell_type": "code",
   "execution_count": 113,
   "metadata": {},
   "outputs": [
    {
     "name": "stderr",
     "output_type": "stream",
     "text": [
      "/home/sk0rt3/anaconda3/lib/python3.11/site-packages/keras/src/layers/convolutional/base_conv.py:99: UserWarning: Do not pass an `input_shape`/`input_dim` argument to a layer. When using Sequential models, prefer using an `Input(shape)` object as the first layer in the model instead.\n",
      "  super().__init__(\n"
     ]
    },
    {
     "data": {
      "text/html": [
       "<pre style=\"white-space:pre;overflow-x:auto;line-height:normal;font-family:Menlo,'DejaVu Sans Mono',consolas,'Courier New',monospace\"><span style=\"font-weight: bold\">Model: \"sequential_11\"</span>\n",
       "</pre>\n"
      ],
      "text/plain": [
       "\u001b[1mModel: \"sequential_11\"\u001b[0m\n"
      ]
     },
     "metadata": {},
     "output_type": "display_data"
    },
    {
     "data": {
      "text/html": [
       "<pre style=\"white-space:pre;overflow-x:auto;line-height:normal;font-family:Menlo,'DejaVu Sans Mono',consolas,'Courier New',monospace\">┏━━━━━━━━━━━━━━━━━━━━━━━━━━━━━━━━━┳━━━━━━━━━━━━━━━━━━━━━━━━┳━━━━━━━━━━━━━━━┓\n",
       "┃<span style=\"font-weight: bold\"> Layer (type)                    </span>┃<span style=\"font-weight: bold\"> Output Shape           </span>┃<span style=\"font-weight: bold\">       Param # </span>┃\n",
       "┡━━━━━━━━━━━━━━━━━━━━━━━━━━━━━━━━━╇━━━━━━━━━━━━━━━━━━━━━━━━╇━━━━━━━━━━━━━━━┩\n",
       "│ conv2d_10 (<span style=\"color: #0087ff; text-decoration-color: #0087ff\">Conv2D</span>)              │ (<span style=\"color: #00d7ff; text-decoration-color: #00d7ff\">None</span>, <span style=\"color: #00af00; text-decoration-color: #00af00\">64</span>, <span style=\"color: #00af00; text-decoration-color: #00af00\">64</span>, <span style=\"color: #00af00; text-decoration-color: #00af00\">32</span>)     │           <span style=\"color: #00af00; text-decoration-color: #00af00\">320</span> │\n",
       "├─────────────────────────────────┼────────────────────────┼───────────────┤\n",
       "│ max_pooling2d_10 (<span style=\"color: #0087ff; text-decoration-color: #0087ff\">MaxPooling2D</span>) │ (<span style=\"color: #00d7ff; text-decoration-color: #00d7ff\">None</span>, <span style=\"color: #00af00; text-decoration-color: #00af00\">32</span>, <span style=\"color: #00af00; text-decoration-color: #00af00\">32</span>, <span style=\"color: #00af00; text-decoration-color: #00af00\">32</span>)     │             <span style=\"color: #00af00; text-decoration-color: #00af00\">0</span> │\n",
       "├─────────────────────────────────┼────────────────────────┼───────────────┤\n",
       "│ conv2d_11 (<span style=\"color: #0087ff; text-decoration-color: #0087ff\">Conv2D</span>)              │ (<span style=\"color: #00d7ff; text-decoration-color: #00d7ff\">None</span>, <span style=\"color: #00af00; text-decoration-color: #00af00\">32</span>, <span style=\"color: #00af00; text-decoration-color: #00af00\">32</span>, <span style=\"color: #00af00; text-decoration-color: #00af00\">64</span>)     │        <span style=\"color: #00af00; text-decoration-color: #00af00\">18,496</span> │\n",
       "├─────────────────────────────────┼────────────────────────┼───────────────┤\n",
       "│ max_pooling2d_11 (<span style=\"color: #0087ff; text-decoration-color: #0087ff\">MaxPooling2D</span>) │ (<span style=\"color: #00d7ff; text-decoration-color: #00d7ff\">None</span>, <span style=\"color: #00af00; text-decoration-color: #00af00\">16</span>, <span style=\"color: #00af00; text-decoration-color: #00af00\">16</span>, <span style=\"color: #00af00; text-decoration-color: #00af00\">64</span>)     │             <span style=\"color: #00af00; text-decoration-color: #00af00\">0</span> │\n",
       "├─────────────────────────────────┼────────────────────────┼───────────────┤\n",
       "│ dropout_5 (<span style=\"color: #0087ff; text-decoration-color: #0087ff\">Dropout</span>)             │ (<span style=\"color: #00d7ff; text-decoration-color: #00d7ff\">None</span>, <span style=\"color: #00af00; text-decoration-color: #00af00\">16</span>, <span style=\"color: #00af00; text-decoration-color: #00af00\">16</span>, <span style=\"color: #00af00; text-decoration-color: #00af00\">64</span>)     │             <span style=\"color: #00af00; text-decoration-color: #00af00\">0</span> │\n",
       "├─────────────────────────────────┼────────────────────────┼───────────────┤\n",
       "│ flatten_5 (<span style=\"color: #0087ff; text-decoration-color: #0087ff\">Flatten</span>)             │ (<span style=\"color: #00d7ff; text-decoration-color: #00d7ff\">None</span>, <span style=\"color: #00af00; text-decoration-color: #00af00\">16384</span>)          │             <span style=\"color: #00af00; text-decoration-color: #00af00\">0</span> │\n",
       "├─────────────────────────────────┼────────────────────────┼───────────────┤\n",
       "│ dense_10 (<span style=\"color: #0087ff; text-decoration-color: #0087ff\">Dense</span>)                │ (<span style=\"color: #00d7ff; text-decoration-color: #00d7ff\">None</span>, <span style=\"color: #00af00; text-decoration-color: #00af00\">128</span>)            │     <span style=\"color: #00af00; text-decoration-color: #00af00\">2,097,280</span> │\n",
       "├─────────────────────────────────┼────────────────────────┼───────────────┤\n",
       "│ dense_11 (<span style=\"color: #0087ff; text-decoration-color: #0087ff\">Dense</span>)                │ (<span style=\"color: #00d7ff; text-decoration-color: #00d7ff\">None</span>, <span style=\"color: #00af00; text-decoration-color: #00af00\">3</span>)              │           <span style=\"color: #00af00; text-decoration-color: #00af00\">387</span> │\n",
       "└─────────────────────────────────┴────────────────────────┴───────────────┘\n",
       "</pre>\n"
      ],
      "text/plain": [
       "┏━━━━━━━━━━━━━━━━━━━━━━━━━━━━━━━━━┳━━━━━━━━━━━━━━━━━━━━━━━━┳━━━━━━━━━━━━━━━┓\n",
       "┃\u001b[1m \u001b[0m\u001b[1mLayer (type)                   \u001b[0m\u001b[1m \u001b[0m┃\u001b[1m \u001b[0m\u001b[1mOutput Shape          \u001b[0m\u001b[1m \u001b[0m┃\u001b[1m \u001b[0m\u001b[1m      Param #\u001b[0m\u001b[1m \u001b[0m┃\n",
       "┡━━━━━━━━━━━━━━━━━━━━━━━━━━━━━━━━━╇━━━━━━━━━━━━━━━━━━━━━━━━╇━━━━━━━━━━━━━━━┩\n",
       "│ conv2d_10 (\u001b[38;5;33mConv2D\u001b[0m)              │ (\u001b[38;5;45mNone\u001b[0m, \u001b[38;5;34m64\u001b[0m, \u001b[38;5;34m64\u001b[0m, \u001b[38;5;34m32\u001b[0m)     │           \u001b[38;5;34m320\u001b[0m │\n",
       "├─────────────────────────────────┼────────────────────────┼───────────────┤\n",
       "│ max_pooling2d_10 (\u001b[38;5;33mMaxPooling2D\u001b[0m) │ (\u001b[38;5;45mNone\u001b[0m, \u001b[38;5;34m32\u001b[0m, \u001b[38;5;34m32\u001b[0m, \u001b[38;5;34m32\u001b[0m)     │             \u001b[38;5;34m0\u001b[0m │\n",
       "├─────────────────────────────────┼────────────────────────┼───────────────┤\n",
       "│ conv2d_11 (\u001b[38;5;33mConv2D\u001b[0m)              │ (\u001b[38;5;45mNone\u001b[0m, \u001b[38;5;34m32\u001b[0m, \u001b[38;5;34m32\u001b[0m, \u001b[38;5;34m64\u001b[0m)     │        \u001b[38;5;34m18,496\u001b[0m │\n",
       "├─────────────────────────────────┼────────────────────────┼───────────────┤\n",
       "│ max_pooling2d_11 (\u001b[38;5;33mMaxPooling2D\u001b[0m) │ (\u001b[38;5;45mNone\u001b[0m, \u001b[38;5;34m16\u001b[0m, \u001b[38;5;34m16\u001b[0m, \u001b[38;5;34m64\u001b[0m)     │             \u001b[38;5;34m0\u001b[0m │\n",
       "├─────────────────────────────────┼────────────────────────┼───────────────┤\n",
       "│ dropout_5 (\u001b[38;5;33mDropout\u001b[0m)             │ (\u001b[38;5;45mNone\u001b[0m, \u001b[38;5;34m16\u001b[0m, \u001b[38;5;34m16\u001b[0m, \u001b[38;5;34m64\u001b[0m)     │             \u001b[38;5;34m0\u001b[0m │\n",
       "├─────────────────────────────────┼────────────────────────┼───────────────┤\n",
       "│ flatten_5 (\u001b[38;5;33mFlatten\u001b[0m)             │ (\u001b[38;5;45mNone\u001b[0m, \u001b[38;5;34m16384\u001b[0m)          │             \u001b[38;5;34m0\u001b[0m │\n",
       "├─────────────────────────────────┼────────────────────────┼───────────────┤\n",
       "│ dense_10 (\u001b[38;5;33mDense\u001b[0m)                │ (\u001b[38;5;45mNone\u001b[0m, \u001b[38;5;34m128\u001b[0m)            │     \u001b[38;5;34m2,097,280\u001b[0m │\n",
       "├─────────────────────────────────┼────────────────────────┼───────────────┤\n",
       "│ dense_11 (\u001b[38;5;33mDense\u001b[0m)                │ (\u001b[38;5;45mNone\u001b[0m, \u001b[38;5;34m3\u001b[0m)              │           \u001b[38;5;34m387\u001b[0m │\n",
       "└─────────────────────────────────┴────────────────────────┴───────────────┘\n"
      ]
     },
     "metadata": {},
     "output_type": "display_data"
    },
    {
     "data": {
      "text/html": [
       "<pre style=\"white-space:pre;overflow-x:auto;line-height:normal;font-family:Menlo,'DejaVu Sans Mono',consolas,'Courier New',monospace\"><span style=\"font-weight: bold\"> Total params: </span><span style=\"color: #00af00; text-decoration-color: #00af00\">2,116,483</span> (8.07 MB)\n",
       "</pre>\n"
      ],
      "text/plain": [
       "\u001b[1m Total params: \u001b[0m\u001b[38;5;34m2,116,483\u001b[0m (8.07 MB)\n"
      ]
     },
     "metadata": {},
     "output_type": "display_data"
    },
    {
     "data": {
      "text/html": [
       "<pre style=\"white-space:pre;overflow-x:auto;line-height:normal;font-family:Menlo,'DejaVu Sans Mono',consolas,'Courier New',monospace\"><span style=\"font-weight: bold\"> Trainable params: </span><span style=\"color: #00af00; text-decoration-color: #00af00\">2,116,483</span> (8.07 MB)\n",
       "</pre>\n"
      ],
      "text/plain": [
       "\u001b[1m Trainable params: \u001b[0m\u001b[38;5;34m2,116,483\u001b[0m (8.07 MB)\n"
      ]
     },
     "metadata": {},
     "output_type": "display_data"
    },
    {
     "data": {
      "text/html": [
       "<pre style=\"white-space:pre;overflow-x:auto;line-height:normal;font-family:Menlo,'DejaVu Sans Mono',consolas,'Courier New',monospace\"><span style=\"font-weight: bold\"> Non-trainable params: </span><span style=\"color: #00af00; text-decoration-color: #00af00\">0</span> (0.00 B)\n",
       "</pre>\n"
      ],
      "text/plain": [
       "\u001b[1m Non-trainable params: \u001b[0m\u001b[38;5;34m0\u001b[0m (0.00 B)\n"
      ]
     },
     "metadata": {},
     "output_type": "display_data"
    }
   ],
   "source": [
    "def compile_CNN_model(model_type=Sequential(), layer_types=[Conv2D, MaxPooling2D, Flatten, Dropout, Dense], hyperperams_list=np.zeros((7,3)), img_rows=28, img_cols=28, num_classes=10):\n",
    "    model = model_type  # Network model type\n",
    "\n",
    "    N_layers = len(layer_types)\n",
    "    layers = np.array([])\n",
    "    for i in range(layer_types):\n",
    "        if layer_types[i] == 0:\n",
    "            layers = np.append(layers, Conv2D)\n",
    "            hyp_peram = {'filters': hyperperams_list[i, 0], 'kernel_size': hyperperams_list[i, 1], 'strides': hyperperams_list[i, 2], 'activation': 'relu', 'input_shape': (img_rows, img_cols, 1)}\n",
    "            hyperperams = np.append(hyperperams, hyp_peram)\n",
    "\n",
    "        if layer_types[i] == 1:\n",
    "            layers = np.append(layers, MaxPooling2D)\n",
    "            hyp_peram = {'pool_size': hyperperams_list[i, 0], 'strides': hyperperams_list[i, 1]}\n",
    "            hyperperams = np.append(hyperperams, hyp_peram)\n",
    "        if layer_types[i] == 2:\n",
    "            layers = np.append(layers, Flatten)\n",
    "            hyp_peram = {}\n",
    "            hyperperams = np.append(hyperperams, hyp_peram)\n",
    "        if layer_types[i] == 3:\n",
    "            layers = np.append(layers, Dropout)\n",
    "            hyp_peram = {'rate': hyperperams_list[i, 0]}\n",
    "            hyperperams = np.append(hyperperams, hyp_peram)\n",
    "\n",
    "        if layer_types[i] == 4:\n",
    "            layers = np.append(layers, Dense)\n",
    "            hyp_peram = {'units': hyperperams_list[i, 0], 'activation': 'relu'}\n",
    "            \n",
    "    \n",
    "    for i in range(N_layers):\n",
    "        model.add(layers[i](**layer_hyperperams[i]))\n",
    "\n",
    "    \n",
    "    # specify optimization strategy and metric used for monitoring during training\n",
    "    model.compile(loss=categorical_crossentropy,\n",
    "              optimizer=Adadelta(),\n",
    "              metrics=['categorical_accuracy'])\n",
    "\n",
    "    return model\n",
    "\n",
    "\n",
    "\n",
    "model = Sequential()  # Network type is Sequential\n",
    "\n",
    "model.add(Conv2D(filters=32,\n",
    "                 kernel_size=3,\n",
    "                 strides=1,\n",
    "                 padding='same',\n",
    "                 activation='relu',\n",
    "                 input_shape=(img_rows, img_cols, 1)))\n",
    "\n",
    "model.add(MaxPooling2D(pool_size=2, strides=None))\n",
    "\n",
    "model.add(Conv2D(filters=64,\n",
    "                 kernel_size=3,\n",
    "                 strides=1,\n",
    "                 padding='same',\n",
    "                 activation='relu'))\n",
    "\n",
    "model.add(MaxPooling2D(pool_size=2, strides=None))\n",
    "\n",
    "model.add(Dropout(rate=0.40))\n",
    "\n",
    "model.add(Flatten())\n",
    "\n",
    "model.add(Dense(units=128, activation='relu'))\n",
    "\n",
    "model.add(Dense(units=num_classes, activation='softmax'))\n",
    "\n",
    "model.summary()\n",
    "\n",
    "# specify optimization strategy and metric used for monitoring during training\n",
    "model.compile(loss=categorical_crossentropy,\n",
    "              optimizer=Adadelta(),\n",
    "              metrics=['categorical_accuracy'])"
   ]
  },
  {
   "cell_type": "markdown",
   "metadata": {},
   "source": [
    "# Train CNN"
   ]
  },
  {
   "cell_type": "code",
   "execution_count": 114,
   "metadata": {},
   "outputs": [
    {
     "name": "stdout",
     "output_type": "stream",
     "text": [
      "Epoch 1/100\n",
      "\u001b[1m9/9\u001b[0m \u001b[32m━━━━━━━━━━━━━━━━━━━━\u001b[0m\u001b[37m\u001b[0m \u001b[1m3s\u001b[0m 283ms/step - categorical_accuracy: 0.2591 - loss: 161.3145 - val_categorical_accuracy: 0.2106 - val_loss: 109.1379\n",
      "Epoch 2/100\n",
      "\u001b[1m9/9\u001b[0m \u001b[32m━━━━━━━━━━━━━━━━━━━━\u001b[0m\u001b[37m\u001b[0m \u001b[1m2s\u001b[0m 245ms/step - categorical_accuracy: 0.2677 - loss: 146.7508 - val_categorical_accuracy: 0.2291 - val_loss: 99.2579\n",
      "Epoch 3/100\n",
      "\u001b[1m9/9\u001b[0m \u001b[32m━━━━━━━━━━━━━━━━━━━━\u001b[0m\u001b[37m\u001b[0m \u001b[1m2s\u001b[0m 246ms/step - categorical_accuracy: 0.2901 - loss: 136.8194 - val_categorical_accuracy: 0.2556 - val_loss: 91.0016\n",
      "Epoch 4/100\n",
      "\u001b[1m9/9\u001b[0m \u001b[32m━━━━━━━━━━━━━━━━━━━━\u001b[0m\u001b[37m\u001b[0m \u001b[1m2s\u001b[0m 241ms/step - categorical_accuracy: 0.2955 - loss: 127.0667 - val_categorical_accuracy: 0.2927 - val_loss: 83.8409\n",
      "Epoch 5/100\n",
      "\u001b[1m9/9\u001b[0m \u001b[32m━━━━━━━━━━━━━━━━━━━━\u001b[0m\u001b[37m\u001b[0m \u001b[1m2s\u001b[0m 242ms/step - categorical_accuracy: 0.3229 - loss: 120.7425 - val_categorical_accuracy: 0.3179 - val_loss: 77.9708\n",
      "Epoch 6/100\n",
      "\u001b[1m9/9\u001b[0m \u001b[32m━━━━━━━━━━━━━━━━━━━━\u001b[0m\u001b[37m\u001b[0m \u001b[1m2s\u001b[0m 252ms/step - categorical_accuracy: 0.3323 - loss: 119.0967 - val_categorical_accuracy: 0.3364 - val_loss: 72.6828\n",
      "Epoch 7/100\n",
      "\u001b[1m9/9\u001b[0m \u001b[32m━━━━━━━━━━━━━━━━━━━━\u001b[0m\u001b[37m\u001b[0m \u001b[1m2s\u001b[0m 250ms/step - categorical_accuracy: 0.3572 - loss: 112.2582 - val_categorical_accuracy: 0.3563 - val_loss: 67.9186\n",
      "Epoch 8/100\n",
      "\u001b[1m9/9\u001b[0m \u001b[32m━━━━━━━━━━━━━━━━━━━━\u001b[0m\u001b[37m\u001b[0m \u001b[1m2s\u001b[0m 247ms/step - categorical_accuracy: 0.3852 - loss: 96.9364 - val_categorical_accuracy: 0.3801 - val_loss: 63.9057\n",
      "Epoch 9/100\n",
      "\u001b[1m9/9\u001b[0m \u001b[32m━━━━━━━━━━━━━━━━━━━━\u001b[0m\u001b[37m\u001b[0m \u001b[1m2s\u001b[0m 250ms/step - categorical_accuracy: 0.3772 - loss: 96.7874 - val_categorical_accuracy: 0.4093 - val_loss: 60.4066\n",
      "Epoch 10/100\n",
      "\u001b[1m9/9\u001b[0m \u001b[32m━━━━━━━━━━━━━━━━━━━━\u001b[0m\u001b[37m\u001b[0m \u001b[1m2s\u001b[0m 250ms/step - categorical_accuracy: 0.4109 - loss: 85.6321 - val_categorical_accuracy: 0.4238 - val_loss: 57.3989\n",
      "Epoch 11/100\n",
      "\u001b[1m9/9\u001b[0m \u001b[32m━━━━━━━━━━━━━━━━━━━━\u001b[0m\u001b[37m\u001b[0m \u001b[1m2s\u001b[0m 260ms/step - categorical_accuracy: 0.4168 - loss: 88.3916 - val_categorical_accuracy: 0.4543 - val_loss: 54.6076\n",
      "Epoch 12/100\n",
      "\u001b[1m9/9\u001b[0m \u001b[32m━━━━━━━━━━━━━━━━━━━━\u001b[0m\u001b[37m\u001b[0m \u001b[1m2s\u001b[0m 258ms/step - categorical_accuracy: 0.4251 - loss: 91.2895 - val_categorical_accuracy: 0.4702 - val_loss: 52.3232\n",
      "Epoch 13/100\n",
      "\u001b[1m9/9\u001b[0m \u001b[32m━━━━━━━━━━━━━━━━━━━━\u001b[0m\u001b[37m\u001b[0m \u001b[1m2s\u001b[0m 257ms/step - categorical_accuracy: 0.4650 - loss: 80.9936 - val_categorical_accuracy: 0.4887 - val_loss: 50.3997\n",
      "Epoch 14/100\n",
      "\u001b[1m9/9\u001b[0m \u001b[32m━━━━━━━━━━━━━━━━━━━━\u001b[0m\u001b[37m\u001b[0m \u001b[1m2s\u001b[0m 253ms/step - categorical_accuracy: 0.4920 - loss: 76.9603 - val_categorical_accuracy: 0.5099 - val_loss: 48.7264\n",
      "Epoch 15/100\n",
      "\u001b[1m9/9\u001b[0m \u001b[32m━━━━━━━━━━━━━━━━━━━━\u001b[0m\u001b[37m\u001b[0m \u001b[1m2s\u001b[0m 253ms/step - categorical_accuracy: 0.4970 - loss: 71.9447 - val_categorical_accuracy: 0.5364 - val_loss: 47.2277\n",
      "Epoch 16/100\n",
      "\u001b[1m9/9\u001b[0m \u001b[32m━━━━━━━━━━━━━━━━━━━━\u001b[0m\u001b[37m\u001b[0m \u001b[1m2s\u001b[0m 263ms/step - categorical_accuracy: 0.4928 - loss: 77.3567 - val_categorical_accuracy: 0.5563 - val_loss: 45.9220\n",
      "Epoch 17/100\n",
      "\u001b[1m9/9\u001b[0m \u001b[32m━━━━━━━━━━━━━━━━━━━━\u001b[0m\u001b[37m\u001b[0m \u001b[1m2s\u001b[0m 257ms/step - categorical_accuracy: 0.5025 - loss: 72.3798 - val_categorical_accuracy: 0.5841 - val_loss: 44.8090\n",
      "Epoch 18/100\n",
      "\u001b[1m9/9\u001b[0m \u001b[32m━━━━━━━━━━━━━━━━━━━━\u001b[0m\u001b[37m\u001b[0m \u001b[1m2s\u001b[0m 265ms/step - categorical_accuracy: 0.5300 - loss: 66.1995 - val_categorical_accuracy: 0.6040 - val_loss: 43.8046\n",
      "Epoch 19/100\n",
      "\u001b[1m9/9\u001b[0m \u001b[32m━━━━━━━━━━━━━━━━━━━━\u001b[0m\u001b[37m\u001b[0m \u001b[1m2s\u001b[0m 250ms/step - categorical_accuracy: 0.5514 - loss: 68.3436 - val_categorical_accuracy: 0.6318 - val_loss: 43.0831\n",
      "Epoch 20/100\n",
      "\u001b[1m9/9\u001b[0m \u001b[32m━━━━━━━━━━━━━━━━━━━━\u001b[0m\u001b[37m\u001b[0m \u001b[1m2s\u001b[0m 258ms/step - categorical_accuracy: 0.5464 - loss: 66.1600 - val_categorical_accuracy: 0.6437 - val_loss: 42.3999\n",
      "Epoch 21/100\n",
      "\u001b[1m9/9\u001b[0m \u001b[32m━━━━━━━━━━━━━━━━━━━━\u001b[0m\u001b[37m\u001b[0m \u001b[1m2s\u001b[0m 253ms/step - categorical_accuracy: 0.5408 - loss: 65.3187 - val_categorical_accuracy: 0.6583 - val_loss: 41.7580\n",
      "Epoch 22/100\n",
      "\u001b[1m9/9\u001b[0m \u001b[32m━━━━━━━━━━━━━━━━━━━━\u001b[0m\u001b[37m\u001b[0m \u001b[1m2s\u001b[0m 252ms/step - categorical_accuracy: 0.5850 - loss: 60.5887 - val_categorical_accuracy: 0.6808 - val_loss: 41.1169\n",
      "Epoch 23/100\n",
      "\u001b[1m9/9\u001b[0m \u001b[32m━━━━━━━━━━━━━━━━━━━━\u001b[0m\u001b[37m\u001b[0m \u001b[1m2s\u001b[0m 251ms/step - categorical_accuracy: 0.5834 - loss: 60.1535 - val_categorical_accuracy: 0.6967 - val_loss: 40.5404\n",
      "Epoch 24/100\n",
      "\u001b[1m9/9\u001b[0m \u001b[32m━━━━━━━━━━━━━━━━━━━━\u001b[0m\u001b[37m\u001b[0m \u001b[1m2s\u001b[0m 252ms/step - categorical_accuracy: 0.5847 - loss: 62.4757 - val_categorical_accuracy: 0.7113 - val_loss: 40.0818\n",
      "Epoch 25/100\n",
      "\u001b[1m9/9\u001b[0m \u001b[32m━━━━━━━━━━━━━━━━━━━━\u001b[0m\u001b[37m\u001b[0m \u001b[1m2s\u001b[0m 256ms/step - categorical_accuracy: 0.5839 - loss: 59.7595 - val_categorical_accuracy: 0.7219 - val_loss: 39.6839\n",
      "Epoch 26/100\n",
      "\u001b[1m9/9\u001b[0m \u001b[32m━━━━━━━━━━━━━━━━━━━━\u001b[0m\u001b[37m\u001b[0m \u001b[1m2s\u001b[0m 250ms/step - categorical_accuracy: 0.5856 - loss: 55.6822 - val_categorical_accuracy: 0.7351 - val_loss: 39.2077\n",
      "Epoch 27/100\n",
      "\u001b[1m9/9\u001b[0m \u001b[32m━━━━━━━━━━━━━━━━━━━━\u001b[0m\u001b[37m\u001b[0m \u001b[1m3s\u001b[0m 247ms/step - categorical_accuracy: 0.6122 - loss: 53.3637 - val_categorical_accuracy: 0.7483 - val_loss: 38.8412\n",
      "Epoch 28/100\n",
      "\u001b[1m9/9\u001b[0m \u001b[32m━━━━━━━━━━━━━━━━━━━━\u001b[0m\u001b[37m\u001b[0m \u001b[1m2s\u001b[0m 253ms/step - categorical_accuracy: 0.5884 - loss: 58.2404 - val_categorical_accuracy: 0.7563 - val_loss: 38.4710\n",
      "Epoch 29/100\n",
      "\u001b[1m9/9\u001b[0m \u001b[32m━━━━━━━━━━━━━━━━━━━━\u001b[0m\u001b[37m\u001b[0m \u001b[1m2s\u001b[0m 254ms/step - categorical_accuracy: 0.6314 - loss: 47.5821 - val_categorical_accuracy: 0.7642 - val_loss: 38.0454\n",
      "Epoch 30/100\n",
      "\u001b[1m9/9\u001b[0m \u001b[32m━━━━━━━━━━━━━━━━━━━━\u001b[0m\u001b[37m\u001b[0m \u001b[1m2s\u001b[0m 248ms/step - categorical_accuracy: 0.6141 - loss: 57.1389 - val_categorical_accuracy: 0.7656 - val_loss: 37.8556\n",
      "Epoch 31/100\n",
      "\u001b[1m9/9\u001b[0m \u001b[32m━━━━━━━━━━━━━━━━━━━━\u001b[0m\u001b[37m\u001b[0m \u001b[1m2s\u001b[0m 247ms/step - categorical_accuracy: 0.6432 - loss: 50.2543 - val_categorical_accuracy: 0.7722 - val_loss: 37.6920\n",
      "Epoch 32/100\n",
      "\u001b[1m9/9\u001b[0m \u001b[32m━━━━━━━━━━━━━━━━━━━━\u001b[0m\u001b[37m\u001b[0m \u001b[1m2s\u001b[0m 246ms/step - categorical_accuracy: 0.6422 - loss: 50.8421 - val_categorical_accuracy: 0.7762 - val_loss: 37.3128\n",
      "Epoch 33/100\n",
      "\u001b[1m9/9\u001b[0m \u001b[32m━━━━━━━━━━━━━━━━━━━━\u001b[0m\u001b[37m\u001b[0m \u001b[1m2s\u001b[0m 246ms/step - categorical_accuracy: 0.6519 - loss: 55.4619 - val_categorical_accuracy: 0.7748 - val_loss: 37.0344\n",
      "Epoch 34/100\n",
      "\u001b[1m9/9\u001b[0m \u001b[32m━━━━━━━━━━━━━━━━━━━━\u001b[0m\u001b[37m\u001b[0m \u001b[1m3s\u001b[0m 243ms/step - categorical_accuracy: 0.6522 - loss: 53.2703 - val_categorical_accuracy: 0.7762 - val_loss: 36.7956\n",
      "Epoch 35/100\n",
      "\u001b[1m9/9\u001b[0m \u001b[32m━━━━━━━━━━━━━━━━━━━━\u001b[0m\u001b[37m\u001b[0m \u001b[1m2s\u001b[0m 245ms/step - categorical_accuracy: 0.6306 - loss: 55.3450 - val_categorical_accuracy: 0.7841 - val_loss: 36.6381\n",
      "Epoch 36/100\n",
      "\u001b[1m9/9\u001b[0m \u001b[32m━━━━━━━━━━━━━━━━━━━━\u001b[0m\u001b[37m\u001b[0m \u001b[1m2s\u001b[0m 245ms/step - categorical_accuracy: 0.6462 - loss: 53.2723 - val_categorical_accuracy: 0.7854 - val_loss: 36.3304\n",
      "Epoch 37/100\n",
      "\u001b[1m9/9\u001b[0m \u001b[32m━━━━━━━━━━━━━━━━━━━━\u001b[0m\u001b[37m\u001b[0m \u001b[1m2s\u001b[0m 245ms/step - categorical_accuracy: 0.6482 - loss: 47.6534 - val_categorical_accuracy: 0.7881 - val_loss: 36.2236\n",
      "Epoch 38/100\n",
      "\u001b[1m9/9\u001b[0m \u001b[32m━━━━━━━━━━━━━━━━━━━━\u001b[0m\u001b[37m\u001b[0m \u001b[1m2s\u001b[0m 255ms/step - categorical_accuracy: 0.6552 - loss: 47.6317 - val_categorical_accuracy: 0.7907 - val_loss: 35.9761\n",
      "Epoch 39/100\n",
      "\u001b[1m9/9\u001b[0m \u001b[32m━━━━━━━━━━━━━━━━━━━━\u001b[0m\u001b[37m\u001b[0m \u001b[1m2s\u001b[0m 246ms/step - categorical_accuracy: 0.6836 - loss: 44.8195 - val_categorical_accuracy: 0.7921 - val_loss: 35.7021\n",
      "Epoch 40/100\n",
      "\u001b[1m9/9\u001b[0m \u001b[32m━━━━━━━━━━━━━━━━━━━━\u001b[0m\u001b[37m\u001b[0m \u001b[1m2s\u001b[0m 247ms/step - categorical_accuracy: 0.6677 - loss: 51.3818 - val_categorical_accuracy: 0.7947 - val_loss: 35.4392\n",
      "Epoch 41/100\n",
      "\u001b[1m9/9\u001b[0m \u001b[32m━━━━━━━━━━━━━━━━━━━━\u001b[0m\u001b[37m\u001b[0m \u001b[1m2s\u001b[0m 248ms/step - categorical_accuracy: 0.6625 - loss: 44.7833 - val_categorical_accuracy: 0.7987 - val_loss: 35.3360\n",
      "Epoch 42/100\n",
      "\u001b[1m9/9\u001b[0m \u001b[32m━━━━━━━━━━━━━━━━━━━━\u001b[0m\u001b[37m\u001b[0m \u001b[1m2s\u001b[0m 254ms/step - categorical_accuracy: 0.6789 - loss: 48.9320 - val_categorical_accuracy: 0.8026 - val_loss: 35.0312\n",
      "Epoch 43/100\n",
      "\u001b[1m9/9\u001b[0m \u001b[32m━━━━━━━━━━━━━━━━━━━━\u001b[0m\u001b[37m\u001b[0m \u001b[1m2s\u001b[0m 249ms/step - categorical_accuracy: 0.6711 - loss: 50.3542 - val_categorical_accuracy: 0.8026 - val_loss: 34.8371\n",
      "Epoch 44/100\n",
      "\u001b[1m9/9\u001b[0m \u001b[32m━━━━━━━━━━━━━━━━━━━━\u001b[0m\u001b[37m\u001b[0m \u001b[1m2s\u001b[0m 247ms/step - categorical_accuracy: 0.6758 - loss: 48.7329 - val_categorical_accuracy: 0.8040 - val_loss: 34.7002\n",
      "Epoch 45/100\n",
      "\u001b[1m9/9\u001b[0m \u001b[32m━━━━━━━━━━━━━━━━━━━━\u001b[0m\u001b[37m\u001b[0m \u001b[1m2s\u001b[0m 248ms/step - categorical_accuracy: 0.6701 - loss: 47.6477 - val_categorical_accuracy: 0.8066 - val_loss: 34.6558\n",
      "Epoch 46/100\n",
      "\u001b[1m9/9\u001b[0m \u001b[32m━━━━━━━━━━━━━━━━━━━━\u001b[0m\u001b[37m\u001b[0m \u001b[1m2s\u001b[0m 253ms/step - categorical_accuracy: 0.6933 - loss: 44.5916 - val_categorical_accuracy: 0.8106 - val_loss: 34.5986\n",
      "Epoch 47/100\n",
      "\u001b[1m9/9\u001b[0m \u001b[32m━━━━━━━━━━━━━━━━━━━━\u001b[0m\u001b[37m\u001b[0m \u001b[1m2s\u001b[0m 248ms/step - categorical_accuracy: 0.6984 - loss: 42.3240 - val_categorical_accuracy: 0.8106 - val_loss: 34.3587\n",
      "Epoch 48/100\n",
      "\u001b[1m9/9\u001b[0m \u001b[32m━━━━━━━━━━━━━━━━━━━━\u001b[0m\u001b[37m\u001b[0m \u001b[1m2s\u001b[0m 246ms/step - categorical_accuracy: 0.6986 - loss: 42.9655 - val_categorical_accuracy: 0.8106 - val_loss: 34.0891\n",
      "Epoch 49/100\n",
      "\u001b[1m9/9\u001b[0m \u001b[32m━━━━━━━━━━━━━━━━━━━━\u001b[0m\u001b[37m\u001b[0m \u001b[1m2s\u001b[0m 246ms/step - categorical_accuracy: 0.7122 - loss: 41.3694 - val_categorical_accuracy: 0.8119 - val_loss: 33.7310\n",
      "Epoch 50/100\n",
      "\u001b[1m9/9\u001b[0m \u001b[32m━━━━━━━━━━━━━━━━━━━━\u001b[0m\u001b[37m\u001b[0m \u001b[1m2s\u001b[0m 254ms/step - categorical_accuracy: 0.6984 - loss: 42.6554 - val_categorical_accuracy: 0.8119 - val_loss: 33.7253\n",
      "Epoch 51/100\n",
      "\u001b[1m9/9\u001b[0m \u001b[32m━━━━━━━━━━━━━━━━━━━━\u001b[0m\u001b[37m\u001b[0m \u001b[1m2s\u001b[0m 249ms/step - categorical_accuracy: 0.7135 - loss: 46.3336 - val_categorical_accuracy: 0.8159 - val_loss: 33.6023\n",
      "Epoch 52/100\n",
      "\u001b[1m9/9\u001b[0m \u001b[32m━━━━━━━━━━━━━━━━━━━━\u001b[0m\u001b[37m\u001b[0m \u001b[1m2s\u001b[0m 249ms/step - categorical_accuracy: 0.7267 - loss: 42.1717 - val_categorical_accuracy: 0.8172 - val_loss: 33.4793\n",
      "Epoch 53/100\n",
      "\u001b[1m9/9\u001b[0m \u001b[32m━━━━━━━━━━━━━━━━━━━━\u001b[0m\u001b[37m\u001b[0m \u001b[1m2s\u001b[0m 248ms/step - categorical_accuracy: 0.7024 - loss: 45.8003 - val_categorical_accuracy: 0.8199 - val_loss: 33.2464\n",
      "Epoch 54/100\n",
      "\u001b[1m9/9\u001b[0m \u001b[32m━━━━━━━━━━━━━━━━━━━━\u001b[0m\u001b[37m\u001b[0m \u001b[1m3s\u001b[0m 249ms/step - categorical_accuracy: 0.7154 - loss: 40.4791 - val_categorical_accuracy: 0.8199 - val_loss: 32.8478\n",
      "Epoch 55/100\n",
      "\u001b[1m9/9\u001b[0m \u001b[32m━━━━━━━━━━━━━━━━━━━━\u001b[0m\u001b[37m\u001b[0m \u001b[1m2s\u001b[0m 250ms/step - categorical_accuracy: 0.7078 - loss: 44.2049 - val_categorical_accuracy: 0.8212 - val_loss: 32.7439\n",
      "Epoch 56/100\n",
      "\u001b[1m9/9\u001b[0m \u001b[32m━━━━━━━━━━━━━━━━━━━━\u001b[0m\u001b[37m\u001b[0m \u001b[1m2s\u001b[0m 250ms/step - categorical_accuracy: 0.7112 - loss: 39.7329 - val_categorical_accuracy: 0.8238 - val_loss: 32.6413\n",
      "Epoch 57/100\n",
      "\u001b[1m9/9\u001b[0m \u001b[32m━━━━━━━━━━━━━━━━━━━━\u001b[0m\u001b[37m\u001b[0m \u001b[1m2s\u001b[0m 246ms/step - categorical_accuracy: 0.7249 - loss: 37.8602 - val_categorical_accuracy: 0.8252 - val_loss: 32.4734\n",
      "Epoch 58/100\n",
      "\u001b[1m9/9\u001b[0m \u001b[32m━━━━━━━━━━━━━━━━━━━━\u001b[0m\u001b[37m\u001b[0m \u001b[1m2s\u001b[0m 245ms/step - categorical_accuracy: 0.7349 - loss: 41.6436 - val_categorical_accuracy: 0.8278 - val_loss: 32.1636\n",
      "Epoch 59/100\n",
      "\u001b[1m9/9\u001b[0m \u001b[32m━━━━━━━━━━━━━━━━━━━━\u001b[0m\u001b[37m\u001b[0m \u001b[1m3s\u001b[0m 248ms/step - categorical_accuracy: 0.7296 - loss: 38.4101 - val_categorical_accuracy: 0.8278 - val_loss: 31.9415\n",
      "Epoch 60/100\n",
      "\u001b[1m9/9\u001b[0m \u001b[32m━━━━━━━━━━━━━━━━━━━━\u001b[0m\u001b[37m\u001b[0m \u001b[1m2s\u001b[0m 244ms/step - categorical_accuracy: 0.7100 - loss: 43.6563 - val_categorical_accuracy: 0.8278 - val_loss: 31.8916\n",
      "Epoch 61/100\n",
      "\u001b[1m9/9\u001b[0m \u001b[32m━━━━━━━━━━━━━━━━━━━━\u001b[0m\u001b[37m\u001b[0m \u001b[1m2s\u001b[0m 247ms/step - categorical_accuracy: 0.7335 - loss: 36.7923 - val_categorical_accuracy: 0.8265 - val_loss: 31.6404\n",
      "Epoch 62/100\n",
      "\u001b[1m9/9\u001b[0m \u001b[32m━━━━━━━━━━━━━━━━━━━━\u001b[0m\u001b[37m\u001b[0m \u001b[1m2s\u001b[0m 251ms/step - categorical_accuracy: 0.7264 - loss: 38.4171 - val_categorical_accuracy: 0.8305 - val_loss: 31.3717\n",
      "Epoch 63/100\n",
      "\u001b[1m9/9\u001b[0m \u001b[32m━━━━━━━━━━━━━━━━━━━━\u001b[0m\u001b[37m\u001b[0m \u001b[1m2s\u001b[0m 247ms/step - categorical_accuracy: 0.7289 - loss: 39.7369 - val_categorical_accuracy: 0.8305 - val_loss: 31.0390\n",
      "Epoch 64/100\n",
      "\u001b[1m9/9\u001b[0m \u001b[32m━━━━━━━━━━━━━━━━━━━━\u001b[0m\u001b[37m\u001b[0m \u001b[1m2s\u001b[0m 250ms/step - categorical_accuracy: 0.7342 - loss: 39.4930 - val_categorical_accuracy: 0.8305 - val_loss: 30.6910\n",
      "Epoch 65/100\n",
      "\u001b[1m9/9\u001b[0m \u001b[32m━━━━━━━━━━━━━━━━━━━━\u001b[0m\u001b[37m\u001b[0m \u001b[1m2s\u001b[0m 247ms/step - categorical_accuracy: 0.7516 - loss: 37.4201 - val_categorical_accuracy: 0.8318 - val_loss: 30.4478\n",
      "Epoch 66/100\n",
      "\u001b[1m9/9\u001b[0m \u001b[32m━━━━━━━━━━━━━━━━━━━━\u001b[0m\u001b[37m\u001b[0m \u001b[1m2s\u001b[0m 250ms/step - categorical_accuracy: 0.7519 - loss: 34.0612 - val_categorical_accuracy: 0.8318 - val_loss: 30.3817\n",
      "Epoch 67/100\n",
      "\u001b[1m9/9\u001b[0m \u001b[32m━━━━━━━━━━━━━━━━━━━━\u001b[0m\u001b[37m\u001b[0m \u001b[1m2s\u001b[0m 249ms/step - categorical_accuracy: 0.7534 - loss: 37.5642 - val_categorical_accuracy: 0.8318 - val_loss: 30.3331\n",
      "Epoch 68/100\n",
      "\u001b[1m9/9\u001b[0m \u001b[32m━━━━━━━━━━━━━━━━━━━━\u001b[0m\u001b[37m\u001b[0m \u001b[1m2s\u001b[0m 250ms/step - categorical_accuracy: 0.7527 - loss: 36.0536 - val_categorical_accuracy: 0.8331 - val_loss: 29.9381\n",
      "Epoch 69/100\n",
      "\u001b[1m9/9\u001b[0m \u001b[32m━━━━━━━━━━━━━━━━━━━━\u001b[0m\u001b[37m\u001b[0m \u001b[1m3s\u001b[0m 248ms/step - categorical_accuracy: 0.7374 - loss: 40.5318 - val_categorical_accuracy: 0.8331 - val_loss: 30.0228\n",
      "Epoch 70/100\n",
      "\u001b[1m9/9\u001b[0m \u001b[32m━━━━━━━━━━━━━━━━━━━━\u001b[0m\u001b[37m\u001b[0m \u001b[1m2s\u001b[0m 267ms/step - categorical_accuracy: 0.7528 - loss: 35.2445 - val_categorical_accuracy: 0.8331 - val_loss: 29.8535\n",
      "Epoch 71/100\n",
      "\u001b[1m9/9\u001b[0m \u001b[32m━━━━━━━━━━━━━━━━━━━━\u001b[0m\u001b[37m\u001b[0m \u001b[1m2s\u001b[0m 269ms/step - categorical_accuracy: 0.7480 - loss: 34.3485 - val_categorical_accuracy: 0.8318 - val_loss: 29.5692\n",
      "Epoch 72/100\n",
      "\u001b[1m9/9\u001b[0m \u001b[32m━━━━━━━━━━━━━━━━━━━━\u001b[0m\u001b[37m\u001b[0m \u001b[1m2s\u001b[0m 254ms/step - categorical_accuracy: 0.7490 - loss: 36.8963 - val_categorical_accuracy: 0.8344 - val_loss: 29.3740\n",
      "Epoch 73/100\n",
      "\u001b[1m9/9\u001b[0m \u001b[32m━━━━━━━━━━━━━━━━━━━━\u001b[0m\u001b[37m\u001b[0m \u001b[1m2s\u001b[0m 254ms/step - categorical_accuracy: 0.7712 - loss: 34.2286 - val_categorical_accuracy: 0.8331 - val_loss: 29.2438\n",
      "Epoch 74/100\n",
      "\u001b[1m9/9\u001b[0m \u001b[32m━━━━━━━━━━━━━━━━━━━━\u001b[0m\u001b[37m\u001b[0m \u001b[1m2s\u001b[0m 249ms/step - categorical_accuracy: 0.7665 - loss: 33.5251 - val_categorical_accuracy: 0.8331 - val_loss: 29.1007\n",
      "Epoch 75/100\n",
      "\u001b[1m9/9\u001b[0m \u001b[32m━━━━━━━━━━━━━━━━━━━━\u001b[0m\u001b[37m\u001b[0m \u001b[1m2s\u001b[0m 249ms/step - categorical_accuracy: 0.7405 - loss: 37.8277 - val_categorical_accuracy: 0.8344 - val_loss: 28.9953\n",
      "Epoch 76/100\n",
      "\u001b[1m9/9\u001b[0m \u001b[32m━━━━━━━━━━━━━━━━━━━━\u001b[0m\u001b[37m\u001b[0m \u001b[1m2s\u001b[0m 254ms/step - categorical_accuracy: 0.7650 - loss: 36.9292 - val_categorical_accuracy: 0.8384 - val_loss: 29.0110\n",
      "Epoch 77/100\n",
      "\u001b[1m9/9\u001b[0m \u001b[32m━━━━━━━━━━━━━━━━━━━━\u001b[0m\u001b[37m\u001b[0m \u001b[1m2s\u001b[0m 247ms/step - categorical_accuracy: 0.7405 - loss: 37.4605 - val_categorical_accuracy: 0.8384 - val_loss: 28.9481\n",
      "Epoch 78/100\n",
      "\u001b[1m9/9\u001b[0m \u001b[32m━━━━━━━━━━━━━━━━━━━━\u001b[0m\u001b[37m\u001b[0m \u001b[1m2s\u001b[0m 248ms/step - categorical_accuracy: 0.7641 - loss: 35.8517 - val_categorical_accuracy: 0.8384 - val_loss: 28.7812\n",
      "Epoch 79/100\n",
      "\u001b[1m9/9\u001b[0m \u001b[32m━━━━━━━━━━━━━━━━━━━━\u001b[0m\u001b[37m\u001b[0m \u001b[1m2s\u001b[0m 251ms/step - categorical_accuracy: 0.7615 - loss: 34.9336 - val_categorical_accuracy: 0.8384 - val_loss: 28.6791\n",
      "Epoch 80/100\n",
      "\u001b[1m9/9\u001b[0m \u001b[32m━━━━━━━━━━━━━━━━━━━━\u001b[0m\u001b[37m\u001b[0m \u001b[1m2s\u001b[0m 254ms/step - categorical_accuracy: 0.7503 - loss: 36.7387 - val_categorical_accuracy: 0.8384 - val_loss: 28.6134\n",
      "Epoch 81/100\n",
      "\u001b[1m9/9\u001b[0m \u001b[32m━━━━━━━━━━━━━━━━━━━━\u001b[0m\u001b[37m\u001b[0m \u001b[1m2s\u001b[0m 247ms/step - categorical_accuracy: 0.7565 - loss: 36.9230 - val_categorical_accuracy: 0.8384 - val_loss: 28.4183\n",
      "Epoch 82/100\n",
      "\u001b[1m9/9\u001b[0m \u001b[32m━━━━━━━━━━━━━━━━━━━━\u001b[0m\u001b[37m\u001b[0m \u001b[1m2s\u001b[0m 246ms/step - categorical_accuracy: 0.7660 - loss: 34.5790 - val_categorical_accuracy: 0.8384 - val_loss: 28.2851\n",
      "Epoch 83/100\n",
      "\u001b[1m9/9\u001b[0m \u001b[32m━━━━━━━━━━━━━━━━━━━━\u001b[0m\u001b[37m\u001b[0m \u001b[1m3s\u001b[0m 247ms/step - categorical_accuracy: 0.7465 - loss: 32.6949 - val_categorical_accuracy: 0.8397 - val_loss: 28.2959\n",
      "Epoch 84/100\n",
      "\u001b[1m9/9\u001b[0m \u001b[32m━━━━━━━━━━━━━━━━━━━━\u001b[0m\u001b[37m\u001b[0m \u001b[1m3s\u001b[0m 248ms/step - categorical_accuracy: 0.7555 - loss: 33.0669 - val_categorical_accuracy: 0.8397 - val_loss: 28.0854\n",
      "Epoch 85/100\n",
      "\u001b[1m9/9\u001b[0m \u001b[32m━━━━━━━━━━━━━━━━━━━━\u001b[0m\u001b[37m\u001b[0m \u001b[1m3s\u001b[0m 246ms/step - categorical_accuracy: 0.7600 - loss: 34.5742 - val_categorical_accuracy: 0.8397 - val_loss: 28.0581\n",
      "Epoch 86/100\n",
      "\u001b[1m9/9\u001b[0m \u001b[32m━━━━━━━━━━━━━━━━━━━━\u001b[0m\u001b[37m\u001b[0m \u001b[1m2s\u001b[0m 243ms/step - categorical_accuracy: 0.7580 - loss: 33.6325 - val_categorical_accuracy: 0.8397 - val_loss: 28.0146\n",
      "Epoch 87/100\n",
      "\u001b[1m9/9\u001b[0m \u001b[32m━━━━━━━━━━━━━━━━━━━━\u001b[0m\u001b[37m\u001b[0m \u001b[1m2s\u001b[0m 249ms/step - categorical_accuracy: 0.7838 - loss: 30.8828 - val_categorical_accuracy: 0.8384 - val_loss: 27.6678\n",
      "Epoch 88/100\n",
      "\u001b[1m9/9\u001b[0m \u001b[32m━━━━━━━━━━━━━━━━━━━━\u001b[0m\u001b[37m\u001b[0m \u001b[1m2s\u001b[0m 246ms/step - categorical_accuracy: 0.7627 - loss: 37.0922 - val_categorical_accuracy: 0.8384 - val_loss: 27.4690\n",
      "Epoch 89/100\n",
      "\u001b[1m9/9\u001b[0m \u001b[32m━━━━━━━━━━━━━━━━━━━━\u001b[0m\u001b[37m\u001b[0m \u001b[1m2s\u001b[0m 248ms/step - categorical_accuracy: 0.7912 - loss: 28.4449 - val_categorical_accuracy: 0.8397 - val_loss: 27.2645\n",
      "Epoch 90/100\n",
      "\u001b[1m9/9\u001b[0m \u001b[32m━━━━━━━━━━━━━━━━━━━━\u001b[0m\u001b[37m\u001b[0m \u001b[1m2s\u001b[0m 248ms/step - categorical_accuracy: 0.7747 - loss: 31.6008 - val_categorical_accuracy: 0.8397 - val_loss: 27.3011\n",
      "Epoch 91/100\n",
      "\u001b[1m9/9\u001b[0m \u001b[32m━━━━━━━━━━━━━━━━━━━━\u001b[0m\u001b[37m\u001b[0m \u001b[1m3s\u001b[0m 247ms/step - categorical_accuracy: 0.7613 - loss: 31.8811 - val_categorical_accuracy: 0.8397 - val_loss: 27.2637\n",
      "Epoch 92/100\n",
      "\u001b[1m9/9\u001b[0m \u001b[32m━━━━━━━━━━━━━━━━━━━━\u001b[0m\u001b[37m\u001b[0m \u001b[1m2s\u001b[0m 247ms/step - categorical_accuracy: 0.7787 - loss: 35.3371 - val_categorical_accuracy: 0.8411 - val_loss: 27.0014\n",
      "Epoch 93/100\n",
      "\u001b[1m9/9\u001b[0m \u001b[32m━━━━━━━━━━━━━━━━━━━━\u001b[0m\u001b[37m\u001b[0m \u001b[1m2s\u001b[0m 249ms/step - categorical_accuracy: 0.7795 - loss: 32.6903 - val_categorical_accuracy: 0.8411 - val_loss: 26.8979\n",
      "Epoch 94/100\n",
      "\u001b[1m9/9\u001b[0m \u001b[32m━━━━━━━━━━━━━━━━━━━━\u001b[0m\u001b[37m\u001b[0m \u001b[1m2s\u001b[0m 249ms/step - categorical_accuracy: 0.7821 - loss: 29.2504 - val_categorical_accuracy: 0.8411 - val_loss: 26.6618\n",
      "Epoch 95/100\n",
      "\u001b[1m9/9\u001b[0m \u001b[32m━━━━━━━━━━━━━━━━━━━━\u001b[0m\u001b[37m\u001b[0m \u001b[1m2s\u001b[0m 247ms/step - categorical_accuracy: 0.7815 - loss: 30.5363 - val_categorical_accuracy: 0.8411 - val_loss: 26.3017\n",
      "Epoch 96/100\n",
      "\u001b[1m9/9\u001b[0m \u001b[32m━━━━━━━━━━━━━━━━━━━━\u001b[0m\u001b[37m\u001b[0m \u001b[1m2s\u001b[0m 245ms/step - categorical_accuracy: 0.7946 - loss: 29.0860 - val_categorical_accuracy: 0.8411 - val_loss: 26.2763\n",
      "Epoch 97/100\n",
      "\u001b[1m9/9\u001b[0m \u001b[32m━━━━━━━━━━━━━━━━━━━━\u001b[0m\u001b[37m\u001b[0m \u001b[1m2s\u001b[0m 258ms/step - categorical_accuracy: 0.7867 - loss: 31.5258 - val_categorical_accuracy: 0.8424 - val_loss: 26.0740\n",
      "Epoch 98/100\n",
      "\u001b[1m9/9\u001b[0m \u001b[32m━━━━━━━━━━━━━━━━━━━━\u001b[0m\u001b[37m\u001b[0m \u001b[1m2s\u001b[0m 250ms/step - categorical_accuracy: 0.7654 - loss: 36.4806 - val_categorical_accuracy: 0.8437 - val_loss: 25.9378\n",
      "Epoch 99/100\n",
      "\u001b[1m9/9\u001b[0m \u001b[32m━━━━━━━━━━━━━━━━━━━━\u001b[0m\u001b[37m\u001b[0m \u001b[1m3s\u001b[0m 249ms/step - categorical_accuracy: 0.7762 - loss: 33.0119 - val_categorical_accuracy: 0.8411 - val_loss: 25.7155\n",
      "Epoch 100/100\n",
      "\u001b[1m9/9\u001b[0m \u001b[32m━━━━━━━━━━━━━━━━━━━━\u001b[0m\u001b[37m\u001b[0m \u001b[1m2s\u001b[0m 249ms/step - categorical_accuracy: 0.7779 - loss: 33.7196 - val_categorical_accuracy: 0.8424 - val_loss: 25.5174\n"
     ]
    }
   ],
   "source": [
    "# the history object will contain a record of loss and metric values during training\n",
    "history = model.fit(train_images, train_labels,\n",
    "                    batch_size=256,\n",
    "                    epochs=100,\n",
    "                    verbose=1,\n",
    "                    validation_data=(val_images, val_labels))"
   ]
  },
  {
   "cell_type": "code",
   "execution_count": 144,
   "metadata": {},
   "outputs": [
    {
     "name": "stdout",
     "output_type": "stream",
     "text": [
      "\u001b[1m1/1\u001b[0m \u001b[32m━━━━━━━━━━━━━━━━━━━━\u001b[0m\u001b[37m\u001b[0m \u001b[1m0s\u001b[0m 27ms/step\n",
      "[[0.50016767 0.12039484 0.3794375 ]]\n"
     ]
    },
    {
     "data": {
      "image/png": "[encoded data removed]",
      "text/plain": [
       "<Figure size 640x480 with 1 Axes>"
      ]
     },
     "metadata": {},
     "output_type": "display_data"
    }
   ],
   "source": [
    "plt.plot(history.history['loss'], label='train')\n",
    "plt.plot(history.history['val_loss'], label='validation')\n",
    "\n",
    "plt.show()"
   ]
  },
  {
   "cell_type": "markdown",
   "metadata": {},
   "source": [
    "# Hyperperameter optimization"
   ]
  },
  {
   "cell_type": "code",
   "execution_count": null,
   "metadata": {},
   "outputs": [],
   "source": [
    "import optuna\n",
    "\n",
    "\n",
    "def objective(trial):\n",
    "    layer_numbers = trial.suggest_int('layer_numbers', 1, 10)\n",
    "    peram = {'model_type': Sequential(),\n",
    "                'layer_types': [trail.sugeest_int('layer_types', 0, 4, layer_numbers) for i in range(layer_numbers)],\n",
    "                'hyperperams_list': np.zeros((7,3)),\n",
    "                'img_rows': 28,\n",
    "                'img_cols': 28,\n",
    "                'num_classes': 10\n",
    "                }\n",
    "        \n",
    "    \n",
    "\n",
    "def objective_exmaple(trial):\n",
    "    param = {\n",
    "        'n_estimators': trial.suggest_int('n_estimators', 1, 100),\n",
    "        'max_depth': trial.suggest_int('max_depth', 1, 100),\n",
    "        'learning_rate': trial.suggest_float('learning_rate', 0.01, 1),\n",
    "        'subsample': trial.suggest_float('subsample', 0.1, 1),\n",
    "        'colsample_bytree': trial.suggest_float('colsample_bytree', 0.1, 1),\n",
    "        'gamma': trial.suggest_float('gamma', 0.1, 1),\n",
    "        'reg_alpha': trial.suggest_float('reg_alpha', 0.1, 1),\n",
    "        'reg_lambda': trial.suggest_float('reg_lambda', 0.1, 1),\n",
    "        'objective': 'binary:logistic'\n",
    "    }\n",
    "    bst = XGBClassifier(**param)\n",
    "    bst.fit(df_train_X_clf_final, df_train_Y_clf_final)\n",
    "    preds = bst.predict_proba(df_valid_X_clf_final)\n",
    "    log_log_clf_XGB = log_loss(df_valid_Y_clf_final, preds)\n",
    "    return log_log_clf_XGB\n",
    "\n",
    "study_example = optuna.create_study(direction='minimize')\n",
    "study_example.optimize(objective_example, n_trials=20, show_progress_bar=True)"
   ]
  },
  {
   "cell_type": "markdown",
   "metadata": {},
   "source": []
  }
 ],
 "metadata": {
  "kernelspec": {
   "display_name": "base",
   "language": "python",
   "name": "python3"
  },
  "language_info": {
   "codemirror_mode": {
    "name": "ipython",
    "version": 3
   },
   "file_extension": ".py",
   "mimetype": "text/x-python",
   "name": "python",
   "nbconvert_exporter": "python",
   "pygments_lexer": "ipython3",
   "version": "3.11.7"
  }
 },
 "nbformat": 4,
 "nbformat_minor": 2
}
