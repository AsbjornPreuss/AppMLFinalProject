{
  "cells": [
    {
      "cell_type": "markdown",
      "metadata": {
        "id": "view-in-github",
        "colab_type": "text"
      },
      "source": [
        "<a href=\"https://colab.research.google.com/github/AsbjornPreuss/AppMLFinalProject/blob/main/CNN_on_Colab_GPU.ipynb\" target=\"_parent\"><img src=\"https://colab.research.google.com/assets/colab-badge.svg\" alt=\"Open In Colab\"/></a>"
      ]
    },
    {
      "cell_type": "markdown",
      "metadata": {
        "id": "H8pavEPhld4o"
      },
      "source": [
        "# Convolutional neural network framework"
      ]
    },
    {
      "cell_type": "code",
      "execution_count": 2,
      "metadata": {
        "id": "oGhKo-dfld4q",
        "outputId": "39c61771-cb12-47aa-9487-f60759408fe5",
        "colab": {
          "base_uri": "https://localhost:8080/"
        }
      },
      "outputs": [
        {
          "output_type": "stream",
          "name": "stdout",
          "text": [
            "Mounted at /content/drive\n"
          ]
        }
      ],
      "source": [
        "# Import standard libraries:\n",
        "import numpy as np\n",
        "import matplotlib.pyplot as plt\n",
        "%matplotlib inline\n",
        "import seaborn as sns\n",
        "import os\n",
        "import pandas as pd\n",
        "sns.set_style(\"darkgrid\")\n",
        "from google.colab import drive\n",
        "drive.mount('/content/drive')\n",
        "\n",
        "\n",
        "# Keras documentation can be found on keras.io:\n",
        "import keras\n",
        "# manual link to data:  http://yann.lecun.com/exdb/mnist/\n",
        "from keras.models import Sequential\n",
        "from keras.layers import Conv2D, MaxPooling2D, Flatten, Dense, Dropout\n",
        "from keras.losses import categorical_crossentropy\n",
        "from keras.optimizers import Adadelta\n",
        "from sklearn.model_selection import train_test_split\n",
        "from sklearn.preprocessing import quantile_transform\n",
        "\n",
        "import tensorflow as tf\n",
        "tf.compat.v1.logging.set_verbosity(tf.compat.v1.logging.ERROR)"
      ]
    },
    {
      "cell_type": "markdown",
      "metadata": {
        "id": "wsXgVLoYld4r"
      },
      "source": [
        "# Jens csv kode"
      ]
    },
    {
      "cell_type": "code",
      "execution_count": 3,
      "metadata": {
        "id": "paHVaypXld4r"
      },
      "outputs": [],
      "source": [
        "\n",
        "def import_and_pad_csvs(folder_path):\n",
        "    # List all CSV files in the given folder\n",
        "    csv_files = [f for f in os.listdir(folder_path) if f.endswith('.csv')]\n",
        "\n",
        "    # Initialize an empty list to store the data arrays\n",
        "    data_arrays = []\n",
        "\n",
        "    # Iterate over the CSV files and read them into numpy arrays\n",
        "    for file in csv_files:\n",
        "        file_path = os.path.join(folder_path, file)\n",
        "        data = pd.read_csv(file_path).values\n",
        "        data_arrays.append(data)\n",
        "\n",
        "    # Find the maximum number of rows and columns among all CSV files\n",
        "    max_rows = max(array.shape[0] for array in data_arrays)\n",
        "    max_cols = max(array.shape[1] for array in data_arrays)\n",
        "\n",
        "    # Find the index of the largest array (by number of elements)\n",
        "    largest_array_index = max(range(len(data_arrays)), key=lambda i: data_arrays[i].shape[0] * data_arrays[i].shape[1])\n",
        "\n",
        "    print(f\"Index of the largest initial array: {largest_array_index}\")\n",
        "\n",
        "    # Initialize a list to store padded arrays\n",
        "    padded_arrays = []\n",
        "\n",
        "    # Pad each array with zeros to match the maximum size\n",
        "    for array in data_arrays:\n",
        "        padded_array = np.zeros((max_rows, max_cols)) + 4000\n",
        "        padded_array[:array.shape[0], :array.shape[1]] = array\n",
        "        padded_arrays.append(padded_array) #dimension to create the final array\n",
        "    combined_array = np.stack(padded_arrays, axis=0)\n",
        "\n",
        "    return combined_array"
      ]
    },
    {
      "cell_type": "markdown",
      "metadata": {
        "id": "EXQOq7nuld4s"
      },
      "source": [
        "# Import Data"
      ]
    },
    {
      "cell_type": "code",
      "source": [
        "path = \"drive/MyDrive/\"\n",
        "import tarfile\n",
        "tar = tarfile.open(f\"{path}clusters_colour_rotations.tar\")\n",
        "tar.extractall(f\"{path}\")"
      ],
      "metadata": {
        "id": "mfK2-ScNZNBJ"
      },
      "execution_count": 15,
      "outputs": []
    },
    {
      "cell_type": "code",
      "source": [
        "rm -r drive/MyDrive/clusters_colour_rotations"
      ],
      "metadata": {
        "id": "pM2gmSJPgIzN"
      },
      "execution_count": 14,
      "outputs": []
    },
    {
      "cell_type": "code",
      "source": [
        "os.listdir(f\"{path}clusters_colour_rotations/\")\n",
        "labels_raw = [np.load(f'{path}labels/'+x) for x in os.listdir(f'{path}labels/') if x.endswith('.npy')]\n",
        "label = []\n",
        "for value in labels_raw:\n",
        "    label.append(value[1].tolist())\n",
        "label = [item for sublist in label for item in sublist]\n",
        "label = np.repeat(label, 8)"
      ],
      "metadata": {
        "id": "YHgwlladcBej"
      },
      "execution_count": 19,
      "outputs": []
    },
    {
      "cell_type": "code",
      "execution_count": 22,
      "metadata": {
        "id": "eelZxaSZld4t",
        "outputId": "89b3ad99-75cb-4fac-a091-19bea11472f1",
        "colab": {
          "base_uri": "https://localhost:8080/",
          "height": 486
        }
      },
      "outputs": [
        {
          "output_type": "stream",
          "name": "stdout",
          "text": [
            "Index of the largest initial array: 487\n",
            "(3144, 208, 209)\n",
            "0\n"
          ]
        },
        {
          "output_type": "display_data",
          "data": {
            "text/plain": [
              "<Figure size 640x480 with 2 Axes>"
            ],
            "image/png": "[encoded data removed]"
          },
          "metadata": {}
        }
      ],
      "source": [
        "path = \"drive/MyDrive/\"\n",
        "data_raw = import_and_pad_csvs(f'{path}clusters_colour_rotations/')\n",
        "#print(len(label)*8)\n",
        "#print(data_raw.shape)\n",
        "\n",
        "# Remove all reading erros, multiple objects, and others.\n",
        "data_raw = data_raw[(label != 4) & (label != 0)]\n",
        "label = label[(label != 4) & (label != 0)] - 1\n",
        "\n",
        "print(data_raw.shape)\n",
        "# the data, split between train and testval sets\n",
        "train_images, testval_images, train_labels, testval_labels = train_test_split(data_raw, label, test_size=0.3, random_state=13052020)\n",
        "\n",
        "# further split testval set into specific test and validation set\n",
        "# the test set is NOT used during any part but inference\n",
        "val_images, test_images, val_labels, test_labels = train_test_split(testval_images, testval_labels, test_size=0.2, random_state=13052020)\n",
        "\n",
        "plt.imshow(val_images[0])\n",
        "plt.colorbar()\n",
        "print(val_labels[0])"
      ]
    },
    {
      "cell_type": "markdown",
      "metadata": {
        "id": "JQK6-83ild4v"
      },
      "source": [
        "# Normelize Data"
      ]
    },
    {
      "cell_type": "code",
      "execution_count": 23,
      "metadata": {
        "id": "XmJ4EiDNld4v"
      },
      "outputs": [],
      "source": [
        "# explicitly illustrating standardization\n",
        "def standardizeimg(img, mu, sigma):\n",
        "    return (img-mu)/(sigma).astype(np.float32)\n",
        "\n",
        "# save for scaling test data\n",
        "mu_train = np.mean(train_images)\n",
        "sigma_train = np.std(train_images)\n",
        "\n",
        "# Standardize pixel distribution to have zero mean and unit variance\n",
        "train_images = standardizeimg(img=train_images, mu=mu_train, sigma=sigma_train)\n",
        "val_images = standardizeimg(img=val_images, mu=np.mean(val_images), sigma=np.std(val_images))\n",
        "# Alternative: quantile normalization\n",
        "# train_images = quantile_transform(train_images, output_distribution='normal', copy=True)\n",
        "# val_images = quantile_transform(val_images, output_distribution='normal', copy=True)\n",
        "\n",
        "\n",
        "\n",
        "\n",
        "# adapt to format required by tensorflow; Using channels_last --> (n_samples, img_rows, img_cols, n_channels)\n",
        "img_rows, img_cols = 208, 209 # input image dimensions\n",
        "train_images = train_images.reshape(train_images.shape[0], img_rows, img_cols, 1)\n",
        "val_images = val_images.reshape(val_images.shape[0], img_rows, img_cols, 1)\n",
        "\n",
        "# convert class vectors to binary class matrices - one hot encoding\n",
        "num_classes = 3 # number of classes\n",
        "train_labels = keras.utils.to_categorical(train_labels, num_classes)\n",
        "val_labels = keras.utils.to_categorical(val_labels, num_classes)\n",
        "\n",
        "# avoid using statistics intrinsic to test data to ensure unbiased estimate of real model performance\n",
        "test_images = standardizeimg(img=test_images, mu=mu_train, sigma=sigma_train)\n",
        "# test_images = quantile_transform(test_images, output_distribution='normal', copy=True)\n",
        "test_images = test_images.reshape(test_images.shape[0], img_rows, img_cols, 1)\n",
        "test_labels = keras.utils.to_categorical(test_labels, num_classes)"
      ]
    },
    {
      "cell_type": "markdown",
      "metadata": {
        "id": "YwpFph5Sld4v"
      },
      "source": [
        "# Setup CNN"
      ]
    },
    {
      "cell_type": "code",
      "execution_count": 24,
      "metadata": {
        "id": "ICIvOhrQld4v",
        "outputId": "09542178-9b09-4404-b4c7-bfe2a5a69d43",
        "colab": {
          "base_uri": "https://localhost:8080/"
        }
      },
      "outputs": [
        {
          "output_type": "stream",
          "name": "stdout",
          "text": [
            "Model: \"sequential_1\"\n",
            "_________________________________________________________________\n",
            " Layer (type)                Output Shape              Param #   \n",
            "=================================================================\n",
            " conv2d (Conv2D)             (None, 208, 209, 32)      320       \n",
            "                                                                 \n",
            " max_pooling2d (MaxPooling2  (None, 104, 104, 32)      0         \n",
            " D)                                                              \n",
            "                                                                 \n",
            " conv2d_1 (Conv2D)           (None, 104, 104, 64)      18496     \n",
            "                                                                 \n",
            " max_pooling2d_1 (MaxPoolin  (None, 52, 52, 64)        0         \n",
            " g2D)                                                            \n",
            "                                                                 \n",
            " dropout (Dropout)           (None, 52, 52, 64)        0         \n",
            "                                                                 \n",
            " flatten (Flatten)           (None, 173056)            0         \n",
            "                                                                 \n",
            " dense (Dense)               (None, 128)               22151296  \n",
            "                                                                 \n",
            " dense_1 (Dense)             (None, 3)                 387       \n",
            "                                                                 \n",
            "=================================================================\n",
            "Total params: 22170499 (84.57 MB)\n",
            "Trainable params: 22170499 (84.57 MB)\n",
            "Non-trainable params: 0 (0.00 Byte)\n",
            "_________________________________________________________________\n"
          ]
        }
      ],
      "source": [
        "def compile_CNN_model(model_type=Sequential(), layer_types=[Conv2D, MaxPooling2D, Flatten, Dropout, Dense], hyperperams_list=np.zeros((7,3)), img_rows=28, img_cols=28, num_classes=10):\n",
        "    model = model_type  # Network model type\n",
        "\n",
        "    N_layers = len(layer_types)\n",
        "    layers = np.array([])\n",
        "    for i in range(layer_types):\n",
        "        if layer_types[i] == 0:\n",
        "            layers = np.append(layers, Conv2D)\n",
        "            hyp_peram = {'filters': hyperperams_list[i, 0], 'kernel_size': hyperperams_list[i, 1], 'strides': hyperperams_list[i, 2], 'activation': 'relu', 'input_shape': (img_rows, img_cols, 1)}\n",
        "            hyperperams = np.append(hyperperams, hyp_peram)\n",
        "\n",
        "        if layer_types[i] == 1:\n",
        "            layers = np.append(layers, MaxPooling2D)\n",
        "            hyp_peram = {'pool_size': hyperperams_list[i, 0], 'strides': hyperperams_list[i, 1]}\n",
        "            hyperperams = np.append(hyperperams, hyp_peram)\n",
        "        if layer_types[i] == 2:\n",
        "            layers = np.append(layers, Flatten)\n",
        "            hyp_peram = {}\n",
        "            hyperperams = np.append(hyperperams, hyp_peram)\n",
        "        if layer_types[i] == 3:\n",
        "            layers = np.append(layers, Dropout)\n",
        "            hyp_peram = {'rate': hyperperams_list[i, 0]}\n",
        "            hyperperams = np.append(hyperperams, hyp_peram)\n",
        "\n",
        "        if layer_types[i] == 4:\n",
        "            layers = np.append(layers, Dense)\n",
        "            hyp_peram = {'units': hyperperams_list[i, 0], 'activation': 'relu'}\n",
        "\n",
        "\n",
        "    for i in range(N_layers):\n",
        "        model.add(layers[i](**layer_hyperperams[i]))\n",
        "\n",
        "\n",
        "    # specify optimization strategy and metric used for monitoring during training\n",
        "    model.compile(loss=categorical_crossentropy,\n",
        "              optimizer=Adadelta(),\n",
        "              metrics=['categorical_accuracy'])\n",
        "\n",
        "    return model\n",
        "\n",
        "\n",
        "\n",
        "model = Sequential()  # Network type is Sequential\n",
        "\n",
        "model.add(Conv2D(filters=32,\n",
        "                 kernel_size=3,\n",
        "                 strides=1,\n",
        "                 padding='same',\n",
        "                 activation='relu',\n",
        "                 input_shape=(img_rows, img_cols, 1)))\n",
        "\n",
        "model.add(MaxPooling2D(pool_size=2, strides=None))\n",
        "\n",
        "model.add(Conv2D(filters=64,\n",
        "                 kernel_size=3,\n",
        "                 strides=1,\n",
        "                 padding='same',\n",
        "                 activation='relu'))\n",
        "\n",
        "model.add(MaxPooling2D(pool_size=2, strides=None))\n",
        "\n",
        "model.add(Dropout(rate=0.40))\n",
        "\n",
        "model.add(Flatten())\n",
        "\n",
        "model.add(Dense(units=128, activation='relu'))\n",
        "\n",
        "model.add(Dense(units=num_classes, activation='softmax'))\n",
        "\n",
        "model.summary()\n",
        "\n",
        "# specify optimization strategy and metric used for monitoring during training\n",
        "model.compile(loss=categorical_crossentropy,\n",
        "              optimizer=Adadelta(),\n",
        "              metrics=['categorical_accuracy'])"
      ]
    },
    {
      "cell_type": "markdown",
      "metadata": {
        "id": "wiPyLfdild4w"
      },
      "source": [
        "# Train CNN"
      ]
    },
    {
      "cell_type": "code",
      "execution_count": 25,
      "metadata": {
        "id": "g4gd6NSZld4w",
        "outputId": "47c5b960-4b46-469e-a809-ca639b5e7d1a",
        "colab": {
          "base_uri": "https://localhost:8080/"
        }
      },
      "outputs": [
        {
          "output_type": "stream",
          "name": "stdout",
          "text": [
            "Epoch 1/100\n",
            "9/9 [==============================] - 21s 1s/step - loss: 1.1786 - categorical_accuracy: 0.2514 - val_loss: 1.1494 - val_categorical_accuracy: 0.2358\n",
            "Epoch 2/100\n",
            "9/9 [==============================] - 3s 385ms/step - loss: 1.1526 - categorical_accuracy: 0.2891 - val_loss: 1.1314 - val_categorical_accuracy: 0.2861\n",
            "Epoch 3/100\n",
            "9/9 [==============================] - 3s 365ms/step - loss: 1.1396 - categorical_accuracy: 0.3145 - val_loss: 1.1168 - val_categorical_accuracy: 0.3311\n",
            "Epoch 4/100\n",
            "9/9 [==============================] - 3s 364ms/step - loss: 1.1216 - categorical_accuracy: 0.3400 - val_loss: 1.1050 - val_categorical_accuracy: 0.3656\n",
            "Epoch 5/100\n",
            "9/9 [==============================] - 3s 366ms/step - loss: 1.1155 - categorical_accuracy: 0.3668 - val_loss: 1.0947 - val_categorical_accuracy: 0.3894\n",
            "Epoch 6/100\n",
            "9/9 [==============================] - 3s 382ms/step - loss: 1.0976 - categorical_accuracy: 0.3782 - val_loss: 1.0864 - val_categorical_accuracy: 0.3881\n",
            "Epoch 7/100\n",
            "9/9 [==============================] - 3s 371ms/step - loss: 1.0903 - categorical_accuracy: 0.3895 - val_loss: 1.0796 - val_categorical_accuracy: 0.3960\n",
            "Epoch 8/100\n",
            "9/9 [==============================] - 3s 369ms/step - loss: 1.0771 - categorical_accuracy: 0.4041 - val_loss: 1.0739 - val_categorical_accuracy: 0.4106\n",
            "Epoch 9/100\n",
            "9/9 [==============================] - 3s 368ms/step - loss: 1.0631 - categorical_accuracy: 0.4359 - val_loss: 1.0687 - val_categorical_accuracy: 0.4119\n",
            "Epoch 10/100\n",
            "9/9 [==============================] - 3s 388ms/step - loss: 1.0631 - categorical_accuracy: 0.4382 - val_loss: 1.0647 - val_categorical_accuracy: 0.4146\n",
            "Epoch 11/100\n",
            "9/9 [==============================] - 3s 372ms/step - loss: 1.0589 - categorical_accuracy: 0.4341 - val_loss: 1.0611 - val_categorical_accuracy: 0.4172\n",
            "Epoch 12/100\n",
            "9/9 [==============================] - 3s 371ms/step - loss: 1.0595 - categorical_accuracy: 0.4459 - val_loss: 1.0579 - val_categorical_accuracy: 0.4212\n",
            "Epoch 13/100\n",
            "9/9 [==============================] - 3s 370ms/step - loss: 1.0541 - categorical_accuracy: 0.4364 - val_loss: 1.0551 - val_categorical_accuracy: 0.4185\n",
            "Epoch 14/100\n",
            "9/9 [==============================] - 3s 385ms/step - loss: 1.0533 - categorical_accuracy: 0.4386 - val_loss: 1.0527 - val_categorical_accuracy: 0.4185\n",
            "Epoch 15/100\n",
            "9/9 [==============================] - 3s 378ms/step - loss: 1.0390 - categorical_accuracy: 0.4532 - val_loss: 1.0505 - val_categorical_accuracy: 0.4199\n",
            "Epoch 16/100\n",
            "9/9 [==============================] - 3s 385ms/step - loss: 1.0365 - categorical_accuracy: 0.4614 - val_loss: 1.0486 - val_categorical_accuracy: 0.4252\n",
            "Epoch 17/100\n",
            "9/9 [==============================] - 3s 387ms/step - loss: 1.0327 - categorical_accuracy: 0.4595 - val_loss: 1.0468 - val_categorical_accuracy: 0.4291\n",
            "Epoch 18/100\n",
            "9/9 [==============================] - 4s 398ms/step - loss: 1.0402 - categorical_accuracy: 0.4495 - val_loss: 1.0455 - val_categorical_accuracy: 0.4278\n",
            "Epoch 19/100\n",
            "9/9 [==============================] - 4s 393ms/step - loss: 1.0335 - categorical_accuracy: 0.4564 - val_loss: 1.0442 - val_categorical_accuracy: 0.4265\n",
            "Epoch 20/100\n",
            "9/9 [==============================] - 3s 381ms/step - loss: 1.0354 - categorical_accuracy: 0.4545 - val_loss: 1.0431 - val_categorical_accuracy: 0.4252\n",
            "Epoch 21/100\n",
            "9/9 [==============================] - 3s 378ms/step - loss: 1.0287 - categorical_accuracy: 0.4568 - val_loss: 1.0422 - val_categorical_accuracy: 0.4238\n",
            "Epoch 22/100\n",
            "9/9 [==============================] - 3s 385ms/step - loss: 1.0246 - categorical_accuracy: 0.4536 - val_loss: 1.0414 - val_categorical_accuracy: 0.4238\n",
            "Epoch 23/100\n",
            "9/9 [==============================] - 3s 386ms/step - loss: 1.0294 - categorical_accuracy: 0.4682 - val_loss: 1.0405 - val_categorical_accuracy: 0.4265\n",
            "Epoch 24/100\n",
            "9/9 [==============================] - 3s 379ms/step - loss: 1.0220 - categorical_accuracy: 0.4600 - val_loss: 1.0399 - val_categorical_accuracy: 0.4278\n",
            "Epoch 25/100\n",
            "9/9 [==============================] - 3s 381ms/step - loss: 1.0193 - categorical_accuracy: 0.4609 - val_loss: 1.0392 - val_categorical_accuracy: 0.4265\n",
            "Epoch 26/100\n",
            "9/9 [==============================] - 4s 403ms/step - loss: 1.0164 - categorical_accuracy: 0.4641 - val_loss: 1.0386 - val_categorical_accuracy: 0.4265\n",
            "Epoch 27/100\n",
            "9/9 [==============================] - 3s 387ms/step - loss: 1.0181 - categorical_accuracy: 0.4655 - val_loss: 1.0382 - val_categorical_accuracy: 0.4265\n",
            "Epoch 28/100\n",
            "9/9 [==============================] - 3s 383ms/step - loss: 1.0142 - categorical_accuracy: 0.4714 - val_loss: 1.0378 - val_categorical_accuracy: 0.4225\n",
            "Epoch 29/100\n",
            "9/9 [==============================] - 3s 382ms/step - loss: 1.0207 - categorical_accuracy: 0.4618 - val_loss: 1.0374 - val_categorical_accuracy: 0.4212\n",
            "Epoch 30/100\n",
            "9/9 [==============================] - 4s 394ms/step - loss: 1.0109 - categorical_accuracy: 0.4736 - val_loss: 1.0370 - val_categorical_accuracy: 0.4199\n",
            "Epoch 31/100\n",
            "9/9 [==============================] - 4s 394ms/step - loss: 1.0089 - categorical_accuracy: 0.4818 - val_loss: 1.0365 - val_categorical_accuracy: 0.4252\n",
            "Epoch 32/100\n",
            "9/9 [==============================] - 3s 378ms/step - loss: 1.0102 - categorical_accuracy: 0.4650 - val_loss: 1.0363 - val_categorical_accuracy: 0.4265\n",
            "Epoch 33/100\n",
            "9/9 [==============================] - 3s 380ms/step - loss: 1.0138 - categorical_accuracy: 0.4582 - val_loss: 1.0362 - val_categorical_accuracy: 0.4238\n",
            "Epoch 34/100\n",
            "9/9 [==============================] - 4s 398ms/step - loss: 1.0084 - categorical_accuracy: 0.4691 - val_loss: 1.0360 - val_categorical_accuracy: 0.4212\n",
            "Epoch 35/100\n",
            "9/9 [==============================] - 3s 383ms/step - loss: 1.0075 - categorical_accuracy: 0.4705 - val_loss: 1.0359 - val_categorical_accuracy: 0.4225\n",
            "Epoch 36/100\n",
            "9/9 [==============================] - 3s 378ms/step - loss: 1.0077 - categorical_accuracy: 0.4755 - val_loss: 1.0356 - val_categorical_accuracy: 0.4199\n",
            "Epoch 37/100\n",
            "9/9 [==============================] - 3s 391ms/step - loss: 1.0073 - categorical_accuracy: 0.4605 - val_loss: 1.0353 - val_categorical_accuracy: 0.4225\n",
            "Epoch 38/100\n",
            "9/9 [==============================] - 4s 401ms/step - loss: 1.0075 - categorical_accuracy: 0.4555 - val_loss: 1.0353 - val_categorical_accuracy: 0.4225\n",
            "Epoch 39/100\n",
            "9/9 [==============================] - 4s 397ms/step - loss: 1.0032 - categorical_accuracy: 0.4809 - val_loss: 1.0352 - val_categorical_accuracy: 0.4225\n",
            "Epoch 40/100\n",
            "9/9 [==============================] - 3s 379ms/step - loss: 1.0019 - categorical_accuracy: 0.4864 - val_loss: 1.0351 - val_categorical_accuracy: 0.4199\n",
            "Epoch 41/100\n",
            "9/9 [==============================] - 3s 389ms/step - loss: 1.0001 - categorical_accuracy: 0.4805 - val_loss: 1.0350 - val_categorical_accuracy: 0.4199\n",
            "Epoch 42/100\n",
            "9/9 [==============================] - 4s 401ms/step - loss: 1.0016 - categorical_accuracy: 0.4741 - val_loss: 1.0349 - val_categorical_accuracy: 0.4185\n",
            "Epoch 43/100\n",
            "9/9 [==============================] - 4s 396ms/step - loss: 0.9995 - categorical_accuracy: 0.4605 - val_loss: 1.0346 - val_categorical_accuracy: 0.4172\n",
            "Epoch 44/100\n",
            "9/9 [==============================] - 4s 392ms/step - loss: 1.0013 - categorical_accuracy: 0.4668 - val_loss: 1.0344 - val_categorical_accuracy: 0.4185\n",
            "Epoch 45/100\n",
            "9/9 [==============================] - 3s 381ms/step - loss: 0.9930 - categorical_accuracy: 0.4964 - val_loss: 1.0345 - val_categorical_accuracy: 0.4199\n",
            "Epoch 46/100\n",
            "9/9 [==============================] - 4s 401ms/step - loss: 0.9943 - categorical_accuracy: 0.4927 - val_loss: 1.0345 - val_categorical_accuracy: 0.4159\n",
            "Epoch 47/100\n",
            "9/9 [==============================] - 4s 394ms/step - loss: 0.9929 - categorical_accuracy: 0.4909 - val_loss: 1.0347 - val_categorical_accuracy: 0.4146\n",
            "Epoch 48/100\n",
            "9/9 [==============================] - 3s 391ms/step - loss: 0.9940 - categorical_accuracy: 0.4736 - val_loss: 1.0348 - val_categorical_accuracy: 0.4146\n",
            "Epoch 49/100\n",
            "9/9 [==============================] - 4s 392ms/step - loss: 0.9863 - categorical_accuracy: 0.4800 - val_loss: 1.0348 - val_categorical_accuracy: 0.4159\n",
            "Epoch 50/100\n",
            "9/9 [==============================] - 4s 389ms/step - loss: 0.9965 - categorical_accuracy: 0.4736 - val_loss: 1.0349 - val_categorical_accuracy: 0.4146\n",
            "Epoch 51/100\n",
            "9/9 [==============================] - 3s 383ms/step - loss: 0.9925 - categorical_accuracy: 0.4736 - val_loss: 1.0347 - val_categorical_accuracy: 0.4146\n",
            "Epoch 52/100\n",
            "9/9 [==============================] - 3s 382ms/step - loss: 0.9926 - categorical_accuracy: 0.4895 - val_loss: 1.0347 - val_categorical_accuracy: 0.4199\n",
            "Epoch 53/100\n",
            "9/9 [==============================] - 3s 387ms/step - loss: 0.9973 - categorical_accuracy: 0.4877 - val_loss: 1.0348 - val_categorical_accuracy: 0.4146\n",
            "Epoch 54/100\n",
            "9/9 [==============================] - 4s 393ms/step - loss: 0.9944 - categorical_accuracy: 0.4759 - val_loss: 1.0346 - val_categorical_accuracy: 0.4146\n",
            "Epoch 55/100\n",
            "9/9 [==============================] - 3s 380ms/step - loss: 0.9929 - categorical_accuracy: 0.4727 - val_loss: 1.0347 - val_categorical_accuracy: 0.4159\n",
            "Epoch 56/100\n",
            "9/9 [==============================] - 4s 393ms/step - loss: 0.9934 - categorical_accuracy: 0.4809 - val_loss: 1.0346 - val_categorical_accuracy: 0.4172\n",
            "Epoch 57/100\n",
            "9/9 [==============================] - 4s 394ms/step - loss: 0.9896 - categorical_accuracy: 0.4855 - val_loss: 1.0346 - val_categorical_accuracy: 0.4159\n",
            "Epoch 58/100\n",
            "9/9 [==============================] - 4s 397ms/step - loss: 0.9902 - categorical_accuracy: 0.4832 - val_loss: 1.0345 - val_categorical_accuracy: 0.4172\n",
            "Epoch 59/100\n",
            "9/9 [==============================] - 3s 382ms/step - loss: 0.9836 - categorical_accuracy: 0.4832 - val_loss: 1.0345 - val_categorical_accuracy: 0.4159\n",
            "Epoch 60/100\n",
            "9/9 [==============================] - 3s 382ms/step - loss: 0.9879 - categorical_accuracy: 0.4841 - val_loss: 1.0346 - val_categorical_accuracy: 0.4106\n",
            "Epoch 61/100\n",
            "9/9 [==============================] - 3s 391ms/step - loss: 0.9857 - categorical_accuracy: 0.4836 - val_loss: 1.0348 - val_categorical_accuracy: 0.4132\n",
            "Epoch 62/100\n",
            "9/9 [==============================] - 3s 389ms/step - loss: 0.9851 - categorical_accuracy: 0.4900 - val_loss: 1.0347 - val_categorical_accuracy: 0.4146\n",
            "Epoch 63/100\n",
            "9/9 [==============================] - 3s 380ms/step - loss: 0.9809 - categorical_accuracy: 0.4941 - val_loss: 1.0348 - val_categorical_accuracy: 0.4172\n",
            "Epoch 64/100\n",
            "9/9 [==============================] - 4s 392ms/step - loss: 0.9795 - categorical_accuracy: 0.4918 - val_loss: 1.0349 - val_categorical_accuracy: 0.4119\n",
            "Epoch 65/100\n",
            "9/9 [==============================] - 4s 393ms/step - loss: 0.9843 - categorical_accuracy: 0.4918 - val_loss: 1.0350 - val_categorical_accuracy: 0.4079\n",
            "Epoch 66/100\n",
            "9/9 [==============================] - 4s 415ms/step - loss: 0.9805 - categorical_accuracy: 0.4945 - val_loss: 1.0350 - val_categorical_accuracy: 0.4079\n",
            "Epoch 67/100\n",
            "9/9 [==============================] - 4s 455ms/step - loss: 0.9776 - categorical_accuracy: 0.4982 - val_loss: 1.0348 - val_categorical_accuracy: 0.4106\n",
            "Epoch 68/100\n",
            "9/9 [==============================] - 3s 382ms/step - loss: 0.9758 - categorical_accuracy: 0.5050 - val_loss: 1.0349 - val_categorical_accuracy: 0.4119\n",
            "Epoch 69/100\n",
            "9/9 [==============================] - 4s 394ms/step - loss: 0.9774 - categorical_accuracy: 0.4782 - val_loss: 1.0349 - val_categorical_accuracy: 0.4106\n",
            "Epoch 70/100\n",
            "9/9 [==============================] - 3s 385ms/step - loss: 0.9798 - categorical_accuracy: 0.4823 - val_loss: 1.0349 - val_categorical_accuracy: 0.4146\n",
            "Epoch 71/100\n",
            "9/9 [==============================] - 3s 390ms/step - loss: 0.9817 - categorical_accuracy: 0.4959 - val_loss: 1.0349 - val_categorical_accuracy: 0.4159\n",
            "Epoch 72/100\n",
            "9/9 [==============================] - 3s 380ms/step - loss: 0.9764 - categorical_accuracy: 0.4941 - val_loss: 1.0351 - val_categorical_accuracy: 0.4172\n",
            "Epoch 73/100\n",
            "9/9 [==============================] - 3s 391ms/step - loss: 0.9765 - categorical_accuracy: 0.4932 - val_loss: 1.0352 - val_categorical_accuracy: 0.4159\n",
            "Epoch 74/100\n",
            "9/9 [==============================] - 4s 396ms/step - loss: 0.9771 - categorical_accuracy: 0.4995 - val_loss: 1.0350 - val_categorical_accuracy: 0.4159\n",
            "Epoch 75/100\n",
            "9/9 [==============================] - 4s 395ms/step - loss: 0.9755 - categorical_accuracy: 0.4868 - val_loss: 1.0350 - val_categorical_accuracy: 0.4159\n",
            "Epoch 76/100\n",
            "9/9 [==============================] - 4s 390ms/step - loss: 0.9760 - categorical_accuracy: 0.4864 - val_loss: 1.0352 - val_categorical_accuracy: 0.4132\n",
            "Epoch 77/100\n",
            "9/9 [==============================] - 4s 402ms/step - loss: 0.9754 - categorical_accuracy: 0.5136 - val_loss: 1.0354 - val_categorical_accuracy: 0.4132\n",
            "Epoch 78/100\n",
            "9/9 [==============================] - 4s 395ms/step - loss: 0.9784 - categorical_accuracy: 0.4791 - val_loss: 1.0354 - val_categorical_accuracy: 0.4132\n",
            "Epoch 79/100\n",
            "9/9 [==============================] - 3s 381ms/step - loss: 0.9700 - categorical_accuracy: 0.4986 - val_loss: 1.0353 - val_categorical_accuracy: 0.4132\n",
            "Epoch 80/100\n",
            "9/9 [==============================] - 3s 392ms/step - loss: 0.9772 - categorical_accuracy: 0.4955 - val_loss: 1.0355 - val_categorical_accuracy: 0.4172\n",
            "Epoch 81/100\n",
            "9/9 [==============================] - 4s 407ms/step - loss: 0.9738 - categorical_accuracy: 0.4859 - val_loss: 1.0356 - val_categorical_accuracy: 0.4132\n",
            "Epoch 82/100\n",
            "9/9 [==============================] - 3s 380ms/step - loss: 0.9695 - categorical_accuracy: 0.4932 - val_loss: 1.0355 - val_categorical_accuracy: 0.4172\n",
            "Epoch 83/100\n",
            "9/9 [==============================] - 3s 379ms/step - loss: 0.9665 - categorical_accuracy: 0.5005 - val_loss: 1.0355 - val_categorical_accuracy: 0.4172\n",
            "Epoch 84/100\n",
            "9/9 [==============================] - 3s 382ms/step - loss: 0.9704 - categorical_accuracy: 0.4900 - val_loss: 1.0357 - val_categorical_accuracy: 0.4172\n",
            "Epoch 85/100\n",
            "9/9 [==============================] - 4s 398ms/step - loss: 0.9699 - categorical_accuracy: 0.4818 - val_loss: 1.0359 - val_categorical_accuracy: 0.4159\n",
            "Epoch 86/100\n",
            "9/9 [==============================] - 3s 379ms/step - loss: 0.9655 - categorical_accuracy: 0.4955 - val_loss: 1.0360 - val_categorical_accuracy: 0.4185\n",
            "Epoch 87/100\n",
            "9/9 [==============================] - 3s 379ms/step - loss: 0.9659 - categorical_accuracy: 0.5045 - val_loss: 1.0360 - val_categorical_accuracy: 0.4172\n",
            "Epoch 88/100\n",
            "9/9 [==============================] - 3s 382ms/step - loss: 0.9673 - categorical_accuracy: 0.4955 - val_loss: 1.0360 - val_categorical_accuracy: 0.4212\n",
            "Epoch 89/100\n",
            "9/9 [==============================] - 4s 404ms/step - loss: 0.9615 - categorical_accuracy: 0.5073 - val_loss: 1.0362 - val_categorical_accuracy: 0.4199\n",
            "Epoch 90/100\n",
            "9/9 [==============================] - 3s 382ms/step - loss: 0.9645 - categorical_accuracy: 0.5159 - val_loss: 1.0362 - val_categorical_accuracy: 0.4185\n",
            "Epoch 91/100\n",
            "9/9 [==============================] - 3s 380ms/step - loss: 0.9663 - categorical_accuracy: 0.4986 - val_loss: 1.0364 - val_categorical_accuracy: 0.4225\n",
            "Epoch 92/100\n",
            "9/9 [==============================] - 4s 393ms/step - loss: 0.9715 - categorical_accuracy: 0.5018 - val_loss: 1.0366 - val_categorical_accuracy: 0.4265\n",
            "Epoch 93/100\n",
            "9/9 [==============================] - 4s 402ms/step - loss: 0.9578 - categorical_accuracy: 0.5255 - val_loss: 1.0366 - val_categorical_accuracy: 0.4265\n",
            "Epoch 94/100\n",
            "9/9 [==============================] - 3s 382ms/step - loss: 0.9580 - categorical_accuracy: 0.5014 - val_loss: 1.0365 - val_categorical_accuracy: 0.4252\n",
            "Epoch 95/100\n",
            "9/9 [==============================] - 3s 385ms/step - loss: 0.9615 - categorical_accuracy: 0.4986 - val_loss: 1.0367 - val_categorical_accuracy: 0.4225\n",
            "Epoch 96/100\n",
            "9/9 [==============================] - 4s 392ms/step - loss: 0.9620 - categorical_accuracy: 0.5023 - val_loss: 1.0367 - val_categorical_accuracy: 0.4238\n",
            "Epoch 97/100\n",
            "9/9 [==============================] - 4s 392ms/step - loss: 0.9640 - categorical_accuracy: 0.5068 - val_loss: 1.0368 - val_categorical_accuracy: 0.4252\n",
            "Epoch 98/100\n",
            "9/9 [==============================] - 3s 382ms/step - loss: 0.9597 - categorical_accuracy: 0.5168 - val_loss: 1.0367 - val_categorical_accuracy: 0.4265\n",
            "Epoch 99/100\n",
            "9/9 [==============================] - 3s 378ms/step - loss: 0.9621 - categorical_accuracy: 0.4945 - val_loss: 1.0367 - val_categorical_accuracy: 0.4225\n",
            "Epoch 100/100\n",
            "9/9 [==============================] - 3s 385ms/step - loss: 0.9634 - categorical_accuracy: 0.5091 - val_loss: 1.0367 - val_categorical_accuracy: 0.4252\n"
          ]
        }
      ],
      "source": [
        "# the history object will contain a record of loss and metric values during training\n",
        "history = model.fit(train_images, train_labels,\n",
        "                    batch_size=256,\n",
        "                    epochs=100,\n",
        "                    verbose=1,\n",
        "                    validation_data=(val_images, val_labels))"
      ]
    },
    {
      "cell_type": "code",
      "execution_count": 31,
      "metadata": {
        "id": "NWbl2FHHld4w",
        "outputId": "f3eac5e0-4f2b-4030-8f06-0fbfa4748be4",
        "colab": {
          "base_uri": "https://localhost:8080/",
          "height": 469
        }
      },
      "outputs": [
        {
          "output_type": "stream",
          "name": "stdout",
          "text": [
            "1/1 [==============================] - 0s 17ms/step\n",
            "[[0.5332417  0.05793012 0.40882823]] [0. 1. 0.]\n"
          ]
        },
        {
          "output_type": "display_data",
          "data": {
            "text/plain": [
              "<Figure size 640x480 with 1 Axes>"
            ],
            "image/png": "[encoded data removed]"
          },
          "metadata": {}
        }
      ],
      "source": [
        "index = 4\n",
        "plt.imshow(val_images[index])\n",
        "print(model.predict(np.array([val_images[index]])), val_labels[index])"
      ]
    },
    {
      "cell_type": "markdown",
      "metadata": {
        "id": "VrS97mctld4x"
      },
      "source": [
        "# Hyperperameter optimization"
      ]
    },
    {
      "cell_type": "code",
      "execution_count": null,
      "metadata": {
        "id": "nQQtKfkWld4x"
      },
      "outputs": [],
      "source": [
        "import optuna\n",
        "\n",
        "\n",
        "def objective(trial):\n",
        "    layer_numbers = trial.suggest_int('layer_numbers', 1, 10)\n",
        "    peram = {'model_type': Sequential(),\n",
        "                'layer_types': [trail.sugeest_int('layer_types', 0, 4, layer_numbers) for i in range(layer_numbers)],\n",
        "                'hyperperams_list': np.zeros((7,3)),\n",
        "                'img_rows': 28,\n",
        "                'img_cols': 28,\n",
        "                'num_classes': 10\n",
        "                }\n",
        "\n",
        "\n",
        "\n",
        "def objective_example(trial):\n",
        "    param = {\n",
        "        'n_estimators': trial.suggest_int('n_estimators', 1, 100),\n",
        "        'max_depth': trial.suggest_int('max_depth', 1, 100),\n",
        "        'learning_rate': trial.suggest_float('learning_rate', 0.01, 1),\n",
        "        'subsample': trial.suggest_float('subsample', 0.1, 1),\n",
        "        'colsample_bytree': trial.suggest_float('colsample_bytree', 0.1, 1),\n",
        "        'gamma': trial.suggest_float('gamma', 0.1, 1),\n",
        "        'reg_alpha': trial.suggest_float('reg_alpha', 0.1, 1),\n",
        "        'reg_lambda': trial.suggest_float('reg_lambda', 0.1, 1),\n",
        "        'objective': 'binary:logistic'\n",
        "    }\n",
        "    bst = XGBClassifier(**param)\n",
        "    bst.fit(df_train_X_clf_final, df_train_Y_clf_final)\n",
        "    preds = bst.predict_proba(df_valid_X_clf_final)\n",
        "    log_log_clf_XGB = log_loss(df_valid_Y_clf_final, preds)\n",
        "    return log_log_clf_XGB\n",
        "\n",
        "study_example = optuna.create_study(direction='minimize')\n",
        "study_example.optimize(objective_example, n_trials=20, show_progress_bar=True)"
      ]
    },
    {
      "cell_type": "markdown",
      "metadata": {
        "id": "_ANAJmztld4x"
      },
      "source": []
    }
  ],
  "metadata": {
    "kernelspec": {
      "display_name": "Python 3",
      "name": "python3"
    },
    "language_info": {
      "codemirror_mode": {
        "name": "ipython",
        "version": 3
      },
      "file_extension": ".py",
      "mimetype": "text/x-python",
      "name": "python",
      "nbconvert_exporter": "python",
      "pygments_lexer": "ipython3",
      "version": "3.11.7"
    },
    "colab": {
      "provenance": [],
      "gpuType": "T4",
      "include_colab_link": true
    },
    "accelerator": "GPU"
  },
  "nbformat": 4,
  "nbformat_minor": 0
}